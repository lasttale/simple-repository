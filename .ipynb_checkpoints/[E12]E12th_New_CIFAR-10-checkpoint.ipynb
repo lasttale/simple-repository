{
 "cells": [
  {
   "cell_type": "markdown",
   "id": "professional-allah",
   "metadata": {},
   "source": [
    "# 12 CIFAR-10 이미지 생성하기"
   ]
  },
  {
   "cell_type": "markdown",
   "id": "twelve-stable",
   "metadata": {},
   "source": [
    "## 12.1 데이터셋 구성\n",
    "\n",
    "학습에 사용할 train_x의 이미지를 [-1, 1]로 정규화합니다.   \n",
    "로드한 학습 데이터를 시각화를 통해 확인해 봅시다.   \n",
    "tf.data.Dataset 모듈의 fromtensorslices() 함수를 사용하여 미니배치 데이터셋을 구성해 봅시다."
   ]
  },
  {
   "cell_type": "code",
   "execution_count": 2,
   "id": "functional-spare",
   "metadata": {},
   "outputs": [],
   "source": [
    "# 필요모듈 import\n",
    "\n",
    "import os\n",
    "import glob\n",
    "import time\n",
    "\n",
    "import PIL\n",
    "import imageio\n",
    "import numpy as np\n",
    "import tensorflow as tf\n",
    "from tensorflow.keras import layers\n",
    "from IPython import display\n",
    "import matplotlib.pyplot as plt\n",
    "%matplotlib inline\n"
   ]
  },
  {
   "cell_type": "code",
   "execution_count": 3,
   "id": "imperial-belly",
   "metadata": {},
   "outputs": [
    {
     "data": {
      "text/plain": [
       "(50000, 32, 32, 3)"
      ]
     },
     "execution_count": 3,
     "metadata": {},
     "output_type": "execute_result"
    }
   ],
   "source": [
    "\n",
    "\n",
    "cifar10 = tf.keras.datasets.cifar10\n",
    "\n",
    "(train_x, _), (test_x, _) = cifar10.load_data()\n",
    "\n",
    "train_x.shape"
   ]
  },
  {
   "cell_type": "code",
   "execution_count": null,
   "id": "romantic-spell",
   "metadata": {},
   "outputs": [],
   "source": []
  }
 ],
 "metadata": {
  "kernelspec": {
   "display_name": "aiffel",
   "language": "python",
   "name": "aiffel"
  },
  "language_info": {
   "codemirror_mode": {
    "name": "ipython",
    "version": 3
   },
   "file_extension": ".py",
   "mimetype": "text/x-python",
   "name": "python",
   "nbconvert_exporter": "python",
   "pygments_lexer": "ipython3",
   "version": "3.7.9"
  }
 },
 "nbformat": 4,
 "nbformat_minor": 5
}
