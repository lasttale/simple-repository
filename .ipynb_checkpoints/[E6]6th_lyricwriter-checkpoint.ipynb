{
 "cells": [
  {
   "cell_type": "markdown",
   "id": "advisory-demand",
   "metadata": {},
   "source": [
    "# 6. 프로젝트 : 멋진 작사가 만들기"
   ]
  },
  {
   "cell_type": "markdown",
   "id": "athletic-symposium",
   "metadata": {},
   "source": [
    "## 6.1 데이터 읽어오기"
   ]
  },
  {
   "cell_type": "code",
   "execution_count": 1,
   "id": "mysterious-springfield",
   "metadata": {},
   "outputs": [
    {
     "name": "stdout",
     "output_type": "stream",
     "text": [
      "데이터 크기: 187088\n",
      "Examples:\n",
      " ['Well, summer slipped us underneath her tongue', 'Our days and nights are perfumed with obsession', 'Half of my wardrobe is on your bedroom floor']\n"
     ]
    }
   ],
   "source": [
    "import glob\n",
    "import os\n",
    "\n",
    "txt_file_path = os.getenv('HOME')+'/aiffel/lyricist/data/lyrics/*'\n",
    "\n",
    "txt_list = glob.glob(txt_file_path)\n",
    "\n",
    "raw_corpus = []\n",
    "\n",
    "for txt_file in txt_list:\n",
    "    with open(txt_file, \"r\") as f:\n",
    "        raw = f.read().splitlines()\n",
    "        raw_corpus.extend(raw)\n",
    "\n",
    "print(\"데이터 크기:\", len(raw_corpus))\n",
    "print(\"Examples:\\n\", raw_corpus[:3])"
   ]
  },
  {
   "cell_type": "markdown",
   "id": "expected-outdoors",
   "metadata": {},
   "source": [
    "## 6.2 데이터 정제"
   ]
  },
  {
   "cell_type": "code",
   "execution_count": 2,
   "id": "frozen-citation",
   "metadata": {},
   "outputs": [
    {
     "name": "stdout",
     "output_type": "stream",
     "text": [
      "<start> this is sample sentence . <end>\n"
     ]
    }
   ],
   "source": [
    "import re\n",
    "def preprocess_sentence(sentence):\n",
    "    sentence = sentence.lower().strip()       # 소문자로 바꾸고 양쪽 공백을 삭제\n",
    "  \n",
    "    # 아래 3단계를 거쳐 sentence는 스페이스 1개를 delimeter로 하는 소문자 단어 시퀀스로 바뀝니다.\n",
    "    sentence = re.sub(r\"([?.!,¿])\", r\" \\1 \", sentence)        # 패턴의 특수문자를 만나면 특수문자 양쪽에 공백을 추가\n",
    "    sentence = re.sub(r'[\" \"]+', \" \", sentence)                  # 공백 패턴을 만나면 스페이스 1개로 치환\n",
    "    sentence = re.sub(r\"[^a-zA-Z?.!,¿]+\", \" \", sentence)  # a-zA-Z?.!,¿ 패턴을 제외한 모든 문자(공백문자까지도)를 스페이스 1개로 치환\n",
    "\n",
    "    sentence = sentence.strip()\n",
    "\n",
    "    sentence = '<start> ' + sentence + ' <end>'      # 이전 스텝에서 본 것처럼 문장 앞뒤로 <start>와 <end>를 단어처럼 붙여 줍니다\n",
    "    \n",
    "    return sentence\n",
    "\n",
    "print(preprocess_sentence(\"This @_is ;;;sample        sentence.\"))   # 이 문장이 어떻게 필터링되는지 확인해 보세요."
   ]
  },
  {
   "cell_type": "code",
   "execution_count": 3,
   "id": "professional-newcastle",
   "metadata": {},
   "outputs": [
    {
     "data": {
      "text/plain": [
       "['<start> well , summer slipped us underneath her tongue <end>',\n",
       " '<start> our days and nights are perfumed with obsession <end>',\n",
       " '<start> half of my wardrobe is on your bedroom floor <end>',\n",
       " '<start> use our eyes , throw our hands overboard i am your sweetheart psychopathic crush <end>',\n",
       " '<start> drink up your movements , still i can t get enough <end>',\n",
       " '<start> i overthink your p punctuation use <end>',\n",
       " '<start> not my fault , just a thing that my mind do a rush at the beginning <end>',\n",
       " '<start> i get caught up , just for a minute <end>',\n",
       " '<start> but lover , you re the one to blame , all that you re doing <end>',\n",
       " '<start> can you hear the violence ? <end>']"
      ]
     },
     "execution_count": 3,
     "metadata": {},
     "output_type": "execute_result"
    }
   ],
   "source": [
    "corpus = []\n",
    "\n",
    "for sentence in raw_corpus:\n",
    "    if len(sentence) == 0: continue\n",
    "    if sentence[-1] == \":\": continue\n",
    "\n",
    "        \n",
    "    corpus.append(preprocess_sentence(sentence))\n",
    "        \n",
    "corpus[:10]"
   ]
  },
  {
   "cell_type": "code",
   "execution_count": 4,
   "id": "white-intelligence",
   "metadata": {},
   "outputs": [
    {
     "name": "stdout",
     "output_type": "stream",
     "text": [
      "[[   2  136    4 ...    0    0    0]\n",
      " [   2  155  377 ...    0    0    0]\n",
      " [   2  541   19 ...    0    0    0]\n",
      " ...\n",
      " [   5   22  713 ... 4178    4    3]\n",
      " [   5   22  713 ... 4178    4    3]\n",
      " [   5   22  713 ... 4178   20    3]] <keras_preprocessing.text.Tokenizer object at 0x7f4cf1ef66d0>\n"
     ]
    }
   ],
   "source": [
    "import tensorflow as tf\n",
    "def tokenize(corpus):\n",
    "    # 텐서플로우에서 제공하는 Tokenizer 패키지를 생성\n",
    "    tokenizer = tf.keras.preprocessing.text.Tokenizer(\n",
    "        num_words=12000,  # 전체 단어의 개수 \n",
    "        filters=' ',    # 별도로 전처리 로직을 추가할 수 있습니다. 이번에는 사용하지 않겠습니다.\n",
    "        oov_token=\"<unk>\"  # out-of-vocabulary, 사전에 없었던 단어는 어떤 토큰으로 대체할지\n",
    "    )\n",
    "    tokenizer.fit_on_texts(corpus)   # 우리가 구축한 corpus로부터 Tokenizer가 사전을 자동구축하게 됩니다.\n",
    "\n",
    "    # 이후 tokenizer를 활용하여 모델에 입력할 데이터셋을 구축하게 됩니다.\n",
    "    tensor = tokenizer.texts_to_sequences(corpus)   # tokenizer는 구축한 사전으로부터 corpus를 해석해 Tensor로 변환합니다.\n",
    "\n",
    "    # 입력 데이터의 시퀀스 길이를 일정하게 맞추기 위한 padding  메소드를 제공합니다.\n",
    "    # maxlen의 디폴트값은 None입니다. 이 경우 corpus의 가장 긴 문장을 기준으로 시퀀스 길이가 맞춰집니다.\n",
    "    tensor = tf.keras.preprocessing.sequence.pad_sequences(tensor, maxlen=15, padding='post')  \n",
    "\n",
    "    print(tensor,tokenizer)\n",
    "    return tensor, tokenizer\n",
    "\n",
    "tensor, tokenizer = tokenize(corpus)"
   ]
  },
  {
   "cell_type": "code",
   "execution_count": 5,
   "id": "processed-paper",
   "metadata": {},
   "outputs": [
    {
     "name": "stdout",
     "output_type": "stream",
     "text": [
      "[[   2  136    4  584 3121  131 1299   69  969    3    0    0    0    0\n",
      "     0]\n",
      " [   2  155  377    8  858   77 9560   31 8541    3    0    0    0    0\n",
      "     0]\n",
      " [   2  541   19   13 5339   26   18   21 1473  363    3    0    0    0\n",
      "     0]]\n"
     ]
    }
   ],
   "source": [
    "print(tensor[:3, :15])"
   ]
  },
  {
   "cell_type": "markdown",
   "id": "neural-filter",
   "metadata": {},
   "source": [
    "## 6.3 평가 데이터셋 분리"
   ]
  },
  {
   "cell_type": "code",
   "execution_count": 6,
   "id": "patent-collaboration",
   "metadata": {},
   "outputs": [
    {
     "name": "stdout",
     "output_type": "stream",
     "text": [
      "[   2  136    4  584 3121  131 1299   69  969    3    0    0    0    0]\n",
      "[ 136    4  584 3121  131 1299   69  969    3    0    0    0    0    0]\n"
     ]
    }
   ],
   "source": [
    "src_input = tensor[:, :-1]  # tensor에서 마지막 토큰을 잘라내서 소스 문장을 생성합니다. 마지막 토큰은 <end>가 아니라 <pad>일 가능성이 높습니다.\n",
    "tgt_input = tensor[:, 1:]    # tensor에서 <start>를 잘라내서 타겟 문장을 생성합니다.\n",
    "\n",
    "print(src_input[0])\n",
    "print(tgt_input[0])"
   ]
  },
  {
   "cell_type": "code",
   "execution_count": 7,
   "id": "corresponding-liability",
   "metadata": {},
   "outputs": [
    {
     "name": "stdout",
     "output_type": "stream",
     "text": [
      "Source Train: (140599, 14)\n",
      "Target Train: (140599, 14)\n"
     ]
    }
   ],
   "source": [
    "from sklearn.model_selection import train_test_split\n",
    "\n",
    "\n",
    "enc_train, enc_val, dec_train, dec_val = train_test_split(src_input, \n",
    "                                                                tgt_input, \n",
    "                                                                test_size=0.2,\n",
    "                                                                shuffle=True)\n",
    "print(\"Source Train:\", enc_train.shape)\n",
    "print(\"Target Train:\", dec_train.shape)\n",
    "\n"
   ]
  },
  {
   "cell_type": "markdown",
   "id": "incorrect-modern",
   "metadata": {},
   "source": [
    "1. 학습데이터 갯수가 140599로 권장 데이터인 124960개를 초과하였으나 권장사항이기 때문에 일단 진행"
   ]
  },
  {
   "cell_type": "code",
   "execution_count": 8,
   "id": "labeled-history",
   "metadata": {},
   "outputs": [
    {
     "data": {
      "text/plain": [
       "<BatchDataset shapes: ((256, 14), (256, 14)), types: (tf.int32, tf.int32)>"
      ]
     },
     "execution_count": 8,
     "metadata": {},
     "output_type": "execute_result"
    }
   ],
   "source": [
    "BUFFER_SIZE = len(src_input)\n",
    "BATCH_SIZE = 256\n",
    "steps_per_epoch = len(src_input) // BATCH_SIZE\n",
    "\n",
    "VOCAB_SIZE = tokenizer.num_words + 1  \n",
    "\n",
    "dataset = tf.data.Dataset.from_tensor_slices((enc_train, dec_train)).shuffle(BUFFER_SIZE)\n",
    "dataset = dataset.batch(BATCH_SIZE, drop_remainder=True)\n",
    "dataset\n",
    "val_dataset = tf.data.Dataset.from_tensor_slices((enc_val, dec_val)).shuffle(BUFFER_SIZE)\n",
    "val_dataset = val_dataset.batch(BATCH_SIZE, drop_remainder=True)\n",
    "val_dataset"
   ]
  },
  {
   "cell_type": "markdown",
   "id": "narrative-highland",
   "metadata": {},
   "source": [
    "## 6.4 인공지능 만들기"
   ]
  },
  {
   "cell_type": "markdown",
   "id": "exact-accreditation",
   "metadata": {},
   "source": [
    "### 6.4.1 모델생성"
   ]
  },
  {
   "cell_type": "code",
   "execution_count": 9,
   "id": "earned-color",
   "metadata": {},
   "outputs": [],
   "source": [
    "class TextGenerator(tf.keras.Model):\n",
    "    def __init__(self, vocab_size, embedding_size, hidden_size):\n",
    "        super(TextGenerator, self).__init__()\n",
    "        \n",
    "        self.embedding = tf.keras.layers.Embedding(vocab_size, embedding_size)\n",
    "        self.rnn_1 = tf.keras.layers.LSTM(hidden_size, return_sequences=True)\n",
    "        self.rnn_2 = tf.keras.layers.LSTM(hidden_size, return_sequences=True)\n",
    "        self.linear = tf.keras.layers.Dense(vocab_size)\n",
    "        \n",
    "    def call(self, x):\n",
    "        out = self.embedding(x)\n",
    "        out = self.rnn_1(out)\n",
    "        out = self.rnn_2(out)\n",
    "        out = self.linear(out)\n",
    "        \n",
    "        return out\n",
    "    \n",
    "embedding_size = 400\n",
    "hidden_size = 2000\n",
    "model = TextGenerator(tokenizer.num_words + 1, embedding_size , hidden_size)"
   ]
  },
  {
   "cell_type": "code",
   "execution_count": 10,
   "id": "solved-morris",
   "metadata": {},
   "outputs": [
    {
     "data": {
      "text/plain": [
       "<tf.Tensor: shape=(256, 14, 12001), dtype=float32, numpy=\n",
       "array([[[-2.23917639e-04, -1.47915256e-04, -6.85219056e-05, ...,\n",
       "          1.35687907e-04, -5.88454932e-05, -1.44879552e-04],\n",
       "        [-3.05431051e-04, -3.45021166e-04, -1.45037935e-04, ...,\n",
       "         -2.95699847e-05, -1.51243978e-04, -1.81798052e-04],\n",
       "        [-3.40150000e-04, -6.98869757e-04, -1.74721397e-04, ...,\n",
       "         -1.24122555e-04, -1.74761270e-04, -2.08572004e-04],\n",
       "        ...,\n",
       "        [-1.33178092e-03, -1.57857151e-03,  1.90921454e-03, ...,\n",
       "         -3.76732351e-04,  9.37644974e-04,  2.96287908e-04],\n",
       "        [-1.34823169e-03, -1.50194054e-03,  2.16356362e-03, ...,\n",
       "         -2.53513339e-04,  1.25700771e-03,  2.35179570e-04],\n",
       "        [-1.39760098e-03, -1.29951059e-03,  2.16418551e-03, ...,\n",
       "         -4.12391557e-04,  1.18960242e-03,  4.40868229e-04]],\n",
       "\n",
       "       [[-2.23917639e-04, -1.47915256e-04, -6.85219056e-05, ...,\n",
       "          1.35687907e-04, -5.88454932e-05, -1.44879552e-04],\n",
       "        [-3.73902236e-04, -3.85447056e-04, -1.50546985e-04, ...,\n",
       "          2.26150689e-04, -6.18488048e-05, -7.58158203e-05],\n",
       "        [-7.17214716e-04, -4.03590588e-04, -5.87294016e-05, ...,\n",
       "         -1.07269279e-05,  1.62823999e-04,  1.40452597e-04],\n",
       "        ...,\n",
       "        [ 4.07348503e-04, -7.74423766e-04,  9.79126198e-04, ...,\n",
       "          9.00633982e-04,  4.35425201e-04,  1.53119414e-04],\n",
       "        [ 7.70625542e-04, -6.99271681e-04,  1.11918699e-03, ...,\n",
       "          1.00844807e-03,  2.73610145e-04,  8.96325801e-05],\n",
       "        [ 1.09041040e-03, -6.22772786e-04,  1.26909255e-03, ...,\n",
       "          1.04037672e-03,  1.99560527e-04,  6.63781320e-05]],\n",
       "\n",
       "       [[-2.23917639e-04, -1.47915256e-04, -6.85219056e-05, ...,\n",
       "          1.35687907e-04, -5.88454932e-05, -1.44879552e-04],\n",
       "        [-5.39388217e-04, -6.58347053e-05, -5.97672879e-05, ...,\n",
       "         -6.96577481e-05, -2.95350019e-05, -1.78525661e-04],\n",
       "        [-8.36772087e-04,  1.25255523e-04,  1.09813427e-05, ...,\n",
       "         -4.56055684e-04, -8.26640826e-06, -2.27539495e-04],\n",
       "        ...,\n",
       "        [ 9.91734792e-04, -1.95010332e-04,  1.56749028e-03, ...,\n",
       "          1.70443745e-04, -1.56653605e-05, -1.27329933e-03],\n",
       "        [ 1.20649138e-03, -2.15718828e-04,  1.72827113e-03, ...,\n",
       "          3.10080795e-04,  1.04606785e-04, -1.12061528e-03],\n",
       "        [ 1.40023988e-03, -2.38167035e-04,  1.84580334e-03, ...,\n",
       "          3.83343839e-04,  2.40509122e-04, -9.20761318e-04]],\n",
       "\n",
       "       ...,\n",
       "\n",
       "       [[-2.23917639e-04, -1.47915256e-04, -6.85219056e-05, ...,\n",
       "          1.35687907e-04, -5.88454932e-05, -1.44879552e-04],\n",
       "        [-3.41465813e-04, -4.83943004e-04, -1.45214726e-04, ...,\n",
       "          2.03786389e-04, -3.38876089e-05, -1.78921240e-04],\n",
       "        [-4.81504161e-04, -8.45761562e-04,  1.38852247e-05, ...,\n",
       "          1.52779496e-04,  2.68045464e-04, -3.66060936e-04],\n",
       "        ...,\n",
       "        [-8.65460432e-04, -2.44646473e-03,  1.41429354e-03, ...,\n",
       "          1.48919207e-04, -3.74587660e-04, -7.87317520e-04],\n",
       "        [-4.47933155e-04, -2.11211923e-03,  1.48455147e-03, ...,\n",
       "          4.07230400e-04, -3.91757960e-04, -7.31599983e-04],\n",
       "        [-3.66454187e-05, -1.78385968e-03,  1.55920675e-03, ...,\n",
       "          5.98631392e-04, -3.20975116e-04, -6.22524647e-04]],\n",
       "\n",
       "       [[-2.23917639e-04, -1.47915256e-04, -6.85219056e-05, ...,\n",
       "          1.35687907e-04, -5.88454932e-05, -1.44879552e-04],\n",
       "        [ 3.97501026e-06, -2.13597130e-04, -2.61506328e-04, ...,\n",
       "          4.47753300e-05, -2.06181547e-04,  1.91896106e-05],\n",
       "        [ 1.10093941e-04, -3.20005085e-04, -2.41463509e-04, ...,\n",
       "         -1.37250827e-04, -4.58803610e-04,  3.78400691e-05],\n",
       "        ...,\n",
       "        [ 7.08122621e-04, -7.41680968e-04,  5.67207171e-04, ...,\n",
       "          3.52999836e-04, -5.84102469e-04, -2.22064904e-04],\n",
       "        [ 9.42671148e-04, -6.19462400e-04,  7.66484125e-04, ...,\n",
       "          4.67340084e-04, -4.61023476e-04, -2.00528870e-04],\n",
       "        [ 1.16255146e-03, -5.19693654e-04,  9.54022806e-04, ...,\n",
       "          5.19466761e-04, -3.00545915e-04, -1.40072632e-04]],\n",
       "\n",
       "       [[-2.23917639e-04, -1.47915256e-04, -6.85219056e-05, ...,\n",
       "          1.35687907e-04, -5.88454932e-05, -1.44879552e-04],\n",
       "        [-2.60910630e-04, -2.14575892e-04, -1.92478197e-04, ...,\n",
       "         -4.56317830e-05, -1.20625373e-04, -3.25327303e-04],\n",
       "        [ 2.40237379e-04,  3.53141622e-05, -3.18134582e-04, ...,\n",
       "          1.10611079e-04, -3.32984695e-04, -7.63576372e-06],\n",
       "        ...,\n",
       "        [ 1.63816009e-03, -2.83477566e-04,  1.45029218e-03, ...,\n",
       "          8.94387078e-04, -3.73250223e-05,  6.51873343e-05],\n",
       "        [ 1.79282983e-03, -3.14151403e-04,  1.61499076e-03, ...,\n",
       "          8.29011202e-04,  1.41672877e-04,  1.72386353e-04],\n",
       "        [ 1.94147916e-03, -3.36038618e-04,  1.75560813e-03, ...,\n",
       "          7.42323638e-04,  3.11369833e-04,  2.94977101e-04]]],\n",
       "      dtype=float32)>"
      ]
     },
     "execution_count": 10,
     "metadata": {},
     "output_type": "execute_result"
    }
   ],
   "source": [
    "for src_sample, tgt_sample in dataset.take(1): break\n",
    "model(src_sample)"
   ]
  },
  {
   "cell_type": "code",
   "execution_count": 11,
   "id": "numerical-trial",
   "metadata": {},
   "outputs": [
    {
     "name": "stdout",
     "output_type": "stream",
     "text": [
      "Model: \"text_generator\"\n",
      "_________________________________________________________________\n",
      "Layer (type)                 Output Shape              Param #   \n",
      "=================================================================\n",
      "embedding (Embedding)        multiple                  3600300   \n",
      "_________________________________________________________________\n",
      "lstm (LSTM)                  multiple                  16727600  \n",
      "_________________________________________________________________\n",
      "lstm_1 (LSTM)                multiple                  28887600  \n",
      "_________________________________________________________________\n",
      "dense (Dense)                multiple                  22813901  \n",
      "=================================================================\n",
      "Total params: 72,029,401\n",
      "Trainable params: 72,029,401\n",
      "Non-trainable params: 0\n",
      "_________________________________________________________________\n"
     ]
    }
   ],
   "source": [
    "model.summary()"
   ]
  },
  {
   "cell_type": "markdown",
   "id": "allied-douglas",
   "metadata": {},
   "source": [
    "### 6.4.2 모델 학습"
   ]
  },
  {
   "cell_type": "code",
   "execution_count": 12,
   "id": "chubby-finance",
   "metadata": {},
   "outputs": [
    {
     "name": "stdout",
     "output_type": "stream",
     "text": [
      "Epoch 1/10\n",
      "549/549 [==============================] - 184s 336ms/step - loss: 3.6487 - val_loss: 3.2485\n",
      "Epoch 2/10\n",
      "549/549 [==============================] - 185s 337ms/step - loss: 3.0866 - val_loss: 2.9965\n",
      "Epoch 3/10\n",
      "549/549 [==============================] - 186s 338ms/step - loss: 2.8370 - val_loss: 2.8350\n",
      "Epoch 4/10\n",
      "549/549 [==============================] - 185s 337ms/step - loss: 2.6227 - val_loss: 2.7176\n",
      "Epoch 5/10\n",
      "549/549 [==============================] - 185s 337ms/step - loss: 2.4235 - val_loss: 2.6239\n",
      "Epoch 6/10\n",
      "549/549 [==============================] - 187s 341ms/step - loss: 2.2347 - val_loss: 2.5536\n",
      "Epoch 7/10\n",
      "549/549 [==============================] - 186s 338ms/step - loss: 2.0555 - val_loss: 2.4945\n",
      "Epoch 8/10\n",
      "549/549 [==============================] - 188s 343ms/step - loss: 1.8858 - val_loss: 2.4491\n",
      "Epoch 9/10\n",
      "549/549 [==============================] - 186s 338ms/step - loss: 1.7264 - val_loss: 2.4150\n",
      "Epoch 10/10\n",
      "549/549 [==============================] - 185s 337ms/step - loss: 1.5761 - val_loss: 2.3924\n"
     ]
    },
    {
     "data": {
      "text/plain": [
       "<tensorflow.python.keras.callbacks.History at 0x7f4c66984650>"
      ]
     },
     "execution_count": 12,
     "metadata": {},
     "output_type": "execute_result"
    }
   ],
   "source": [
    "optimizer = tf.keras.optimizers.Adam()\n",
    "loss = tf.keras.losses.SparseCategoricalCrossentropy(\n",
    "    from_logits=True,\n",
    "    reduction='none'\n",
    ")\n",
    "\n",
    "model.compile(loss=loss, optimizer=optimizer)\n",
    "model.fit(dataset, validation_data = val_dataset, epochs=10)"
   ]
  },
  {
   "cell_type": "markdown",
   "id": "distributed-hunger",
   "metadata": {},
   "source": [
    "model. fit 에서 기존 train dataset을 지정, 추가적인 validation_data를 지정.\n",
    "사실 이 부분을 tf홈페이지에서 찾아보았으나 찾아내지 못하여 다른 수강생에게 힌트를 얻어 진행하였습니다."
   ]
  },
  {
   "cell_type": "markdown",
   "id": "exposed-stone",
   "metadata": {},
   "source": [
    "1. embedding_size = 256 hidden_size = 1024 --> 2.5204\n",
    "2. embedding_size = 256 hidden_size = 512 --> 2.8122 \n",
    "3. embedding_size = 256 hidden_size = 2048 --> 2.3344\n",
    "4. embedding_size = 512 hidden_size = 2048 --> 2.3661\n",
    "5. embedding_size = 512 hidden_size = 1024 --> 2.5845\n",
    "6. embedding_size = 256 hidden_size = 1500 --> 2.4927\n",
    "7. embedding_size = 400 hidden_size = 1900 --> 2.2943\n",
    "8. embedding_size = 400 hidden_size = 1700 --> 2.4264\n",
    "9. embedding_size = 128 hidden_size = 1900 --> 2.4036\n",
    "10. embedding_size = 300 hidden_size = 1900 --> 2.3924\n",
    "11. embedding_size = 400 hidden_size = 2000"
   ]
  },
  {
   "cell_type": "markdown",
   "id": "sapphire-tomorrow",
   "metadata": {},
   "source": [
    "### 6.4.3 모델 평가"
   ]
  },
  {
   "cell_type": "code",
   "execution_count": 13,
   "id": "decimal-brisbane",
   "metadata": {},
   "outputs": [],
   "source": [
    "def generate_text(model, tokenizer, init_sentence=\"<start>\", max_len=20):\n",
    "    # 테스트를 위해서 입력받은 init_sentence도 일단 텐서로 변환합니다.\n",
    "    test_input = tokenizer.texts_to_sequences([init_sentence])\n",
    "    test_tensor = tf.convert_to_tensor(test_input, dtype=tf.int64)\n",
    "    end_token = tokenizer.word_index[\"<end>\"]\n",
    "\n",
    "    # 텍스트를 실제로 생성할때는 루프를 돌면서 단어 하나씩 생성해야 합니다. \n",
    "    while True:\n",
    "        predict = model(test_tensor)  # 입력받은 문장의 텐서를 입력합니다. \n",
    "        predict_word = tf.argmax(tf.nn.softmax(predict, axis=-1), axis=-1)[:, -1]   # 우리 모델이 예측한 마지막 단어가 바로 새롭게 생성한 단어가 됩니다. \n",
    "\n",
    "        # 우리 모델이 새롭게 예측한 단어를 입력 문장의 뒤에 붙여 줍니다. \n",
    "        test_tensor = tf.concat([test_tensor, \n",
    "                                                                 tf.expand_dims(predict_word, axis=0)], axis=-1)\n",
    "\n",
    "        # 우리 모델이 <end>를 예측했거나, max_len에 도달하지 않았다면  while 루프를 또 돌면서 다음 단어를 예측해야 합니다.\n",
    "        if predict_word.numpy()[0] == end_token: break\n",
    "        if test_tensor.shape[1] >= max_len: break\n",
    "\n",
    "    generated = \"\"\n",
    "    # 생성된 tensor 안에 있는 word index를 tokenizer.index_word 사전을 통해 실제 단어로 하나씩 변환합니다. \n",
    "    for word_index in test_tensor[0].numpy():\n",
    "        generated += tokenizer.index_word[word_index] + \" \"\n",
    "\n",
    "    return generated   # 이것이 최종적으로 모델이 생성한 자연어 문장입니다."
   ]
  },
  {
   "cell_type": "code",
   "execution_count": 14,
   "id": "quiet-squad",
   "metadata": {},
   "outputs": [
    {
     "data": {
      "text/plain": [
       "'<start> i love you , liberian girl <end> '"
      ]
     },
     "execution_count": 14,
     "metadata": {},
     "output_type": "execute_result"
    }
   ],
   "source": [
    "generate_text(model, tokenizer, init_sentence=\"<start> i love\", max_len=20)\n"
   ]
  },
  {
   "cell_type": "code",
   "execution_count": null,
   "id": "wrong-austin",
   "metadata": {},
   "outputs": [],
   "source": []
  }
 ],
 "metadata": {
  "kernelspec": {
   "display_name": "aiffel",
   "language": "python",
   "name": "aiffel"
  },
  "language_info": {
   "codemirror_mode": {
    "name": "ipython",
    "version": 3
   },
   "file_extension": ".py",
   "mimetype": "text/x-python",
   "name": "python",
   "nbconvert_exporter": "python",
   "pygments_lexer": "ipython3",
   "version": "3.7.9"
  }
 },
 "nbformat": 4,
 "nbformat_minor": 5
}
