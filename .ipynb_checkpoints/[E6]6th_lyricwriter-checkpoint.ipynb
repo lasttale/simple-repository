{
 "cells": [
  {
   "cell_type": "markdown",
   "id": "advisory-demand",
   "metadata": {},
   "source": [
    "# 6. 프로젝트 : 멋진 작사가 만들기"
   ]
  },
  {
   "cell_type": "markdown",
   "id": "athletic-symposium",
   "metadata": {},
   "source": [
    "## 6.1 데이터 읽어오기"
   ]
  },
  {
   "cell_type": "code",
   "execution_count": 1,
   "id": "mysterious-springfield",
   "metadata": {},
   "outputs": [
    {
     "name": "stdout",
     "output_type": "stream",
     "text": [
      "데이터 크기: 187088\n",
      "Examples:\n",
      " ['Well, summer slipped us underneath her tongue', 'Our days and nights are perfumed with obsession', 'Half of my wardrobe is on your bedroom floor']\n"
     ]
    }
   ],
   "source": [
    "import glob\n",
    "import os\n",
    "\n",
    "txt_file_path = os.getenv('HOME')+'/aiffel/lyricist/data/lyrics/*'\n",
    "\n",
    "txt_list = glob.glob(txt_file_path)\n",
    "\n",
    "raw_corpus = []\n",
    "\n",
    "for txt_file in txt_list:\n",
    "    with open(txt_file, \"r\") as f:\n",
    "        raw = f.read().splitlines()\n",
    "        raw_corpus.extend(raw)\n",
    "\n",
    "print(\"데이터 크기:\", len(raw_corpus))\n",
    "print(\"Examples:\\n\", raw_corpus[:3])"
   ]
  },
  {
   "cell_type": "markdown",
   "id": "expected-outdoors",
   "metadata": {},
   "source": [
    "## 6.2 데이터 정제"
   ]
  },
  {
   "cell_type": "code",
   "execution_count": 2,
   "id": "frozen-citation",
   "metadata": {},
   "outputs": [
    {
     "name": "stdout",
     "output_type": "stream",
     "text": [
      "<start> this is sample sentence . <end>\n"
     ]
    }
   ],
   "source": [
    "import re\n",
    "def preprocess_sentence(sentence):\n",
    "    sentence = sentence.lower().strip()       # 소문자로 바꾸고 양쪽 공백을 삭제\n",
    "  \n",
    "    # 아래 3단계를 거쳐 sentence는 스페이스 1개를 delimeter로 하는 소문자 단어 시퀀스로 바뀝니다.\n",
    "    sentence = re.sub(r\"([?.!,¿])\", r\" \\1 \", sentence)        # 패턴의 특수문자를 만나면 특수문자 양쪽에 공백을 추가\n",
    "    sentence = re.sub(r'[\" \"]+', \" \", sentence)                  # 공백 패턴을 만나면 스페이스 1개로 치환\n",
    "    sentence = re.sub(r\"[^a-zA-Z?.!,¿]+\", \" \", sentence)  # a-zA-Z?.!,¿ 패턴을 제외한 모든 문자(공백문자까지도)를 스페이스 1개로 치환\n",
    "\n",
    "    sentence = sentence.strip()\n",
    "\n",
    "    sentence = '<start> ' + sentence + ' <end>'      # 이전 스텝에서 본 것처럼 문장 앞뒤로 <start>와 <end>를 단어처럼 붙여 줍니다\n",
    "    \n",
    "    return sentence\n",
    "\n",
    "print(preprocess_sentence(\"This @_is ;;;sample        sentence.\"))   # 이 문장이 어떻게 필터링되는지 확인해 보세요."
   ]
  },
  {
   "cell_type": "code",
   "execution_count": 3,
   "id": "professional-newcastle",
   "metadata": {},
   "outputs": [
    {
     "data": {
      "text/plain": [
       "['<start> well , summer slipped us underneath her tongue <end>',\n",
       " '<start> our days and nights are perfumed with obsession <end>',\n",
       " '<start> half of my wardrobe is on your bedroom floor <end>',\n",
       " '<start> use our eyes , throw our hands overboard i am your sweetheart psychopathic crush <end>',\n",
       " '<start> drink up your movements , still i can t get enough <end>',\n",
       " '<start> i overthink your p punctuation use <end>',\n",
       " '<start> not my fault , just a thing that my mind do a rush at the beginning <end>',\n",
       " '<start> i get caught up , just for a minute <end>',\n",
       " '<start> but lover , you re the one to blame , all that you re doing <end>',\n",
       " '<start> can you hear the violence ? <end>']"
      ]
     },
     "execution_count": 3,
     "metadata": {},
     "output_type": "execute_result"
    }
   ],
   "source": [
    "corpus = []\n",
    "\n",
    "for sentence in raw_corpus:\n",
    "    if len(sentence) == 0: continue\n",
    "    if sentence[-1] == \":\": continue\n",
    "\n",
    "        \n",
    "    corpus.append(preprocess_sentence(sentence))\n",
    "        \n",
    "corpus[:10]"
   ]
  },
  {
   "cell_type": "code",
   "execution_count": 4,
   "id": "white-intelligence",
   "metadata": {},
   "outputs": [
    {
     "name": "stdout",
     "output_type": "stream",
     "text": [
      "[[   2  136    4 ...    0    0    0]\n",
      " [   2  155  377 ...    0    0    0]\n",
      " [   2  541   19 ...    0    0    0]\n",
      " ...\n",
      " [   5   22  713 ... 4178    4    3]\n",
      " [   5   22  713 ... 4178    4    3]\n",
      " [   5   22  713 ... 4178   20    3]] <keras_preprocessing.text.Tokenizer object at 0x7efdec2e1610>\n"
     ]
    }
   ],
   "source": [
    "import tensorflow as tf\n",
    "def tokenize(corpus):\n",
    "    # 텐서플로우에서 제공하는 Tokenizer 패키지를 생성\n",
    "    tokenizer = tf.keras.preprocessing.text.Tokenizer(\n",
    "        num_words=12000,  # 전체 단어의 개수 \n",
    "        filters=' ',    # 별도로 전처리 로직을 추가할 수 있습니다. 이번에는 사용하지 않겠습니다.\n",
    "        oov_token=\"<unk>\"  # out-of-vocabulary, 사전에 없었던 단어는 어떤 토큰으로 대체할지\n",
    "    )\n",
    "    tokenizer.fit_on_texts(corpus)   # 우리가 구축한 corpus로부터 Tokenizer가 사전을 자동구축하게 됩니다.\n",
    "\n",
    "    # 이후 tokenizer를 활용하여 모델에 입력할 데이터셋을 구축하게 됩니다.\n",
    "    tensor = tokenizer.texts_to_sequences(corpus)   # tokenizer는 구축한 사전으로부터 corpus를 해석해 Tensor로 변환합니다.\n",
    "\n",
    "    # 입력 데이터의 시퀀스 길이를 일정하게 맞추기 위한 padding  메소드를 제공합니다.\n",
    "    # maxlen의 디폴트값은 None입니다. 이 경우 corpus의 가장 긴 문장을 기준으로 시퀀스 길이가 맞춰집니다.\n",
    "    tensor = tf.keras.preprocessing.sequence.pad_sequences(tensor, maxlen=15, padding='post')  \n",
    "\n",
    "    print(tensor,tokenizer)\n",
    "    return tensor, tokenizer\n",
    "\n",
    "tensor, tokenizer = tokenize(corpus)"
   ]
  },
  {
   "cell_type": "code",
   "execution_count": 5,
   "id": "processed-paper",
   "metadata": {},
   "outputs": [
    {
     "name": "stdout",
     "output_type": "stream",
     "text": [
      "[[   2  136    4  584 3121  131 1299   69  969    3    0    0    0    0\n",
      "     0]\n",
      " [   2  155  377    8  858   77 9560   31 8541    3    0    0    0    0\n",
      "     0]\n",
      " [   2  541   19   13 5339   26   18   21 1473  363    3    0    0    0\n",
      "     0]]\n"
     ]
    }
   ],
   "source": [
    "print(tensor[:3, :15])"
   ]
  },
  {
   "cell_type": "markdown",
   "id": "neural-filter",
   "metadata": {},
   "source": [
    "## 6.3 평가 데이터셋 분리"
   ]
  },
  {
   "cell_type": "code",
   "execution_count": 6,
   "id": "patent-collaboration",
   "metadata": {},
   "outputs": [
    {
     "name": "stdout",
     "output_type": "stream",
     "text": [
      "[   2  136    4  584 3121  131 1299   69  969    3    0    0    0    0]\n",
      "[ 136    4  584 3121  131 1299   69  969    3    0    0    0    0    0]\n"
     ]
    }
   ],
   "source": [
    "src_input = tensor[:, :-1]  # tensor에서 마지막 토큰을 잘라내서 소스 문장을 생성합니다. 마지막 토큰은 <end>가 아니라 <pad>일 가능성이 높습니다.\n",
    "tgt_input = tensor[:, 1:]    # tensor에서 <start>를 잘라내서 타겟 문장을 생성합니다.\n",
    "\n",
    "print(src_input[0])\n",
    "print(tgt_input[0])"
   ]
  },
  {
   "cell_type": "code",
   "execution_count": 7,
   "id": "corresponding-liability",
   "metadata": {},
   "outputs": [
    {
     "name": "stdout",
     "output_type": "stream",
     "text": [
      "Source Train: (140599, 14)\n",
      "Target Train: (140599, 14)\n"
     ]
    }
   ],
   "source": [
    "from sklearn.model_selection import train_test_split\n",
    "\n",
    "\n",
    "enc_train, enc_val, dec_train, dec_val = train_test_split(src_input, \n",
    "                                                                tgt_input, \n",
    "                                                                test_size=0.2,\n",
    "                                                                shuffle=True)\n",
    "print(\"Source Train:\", enc_train.shape)\n",
    "print(\"Target Train:\", dec_train.shape)\n",
    "\n"
   ]
  },
  {
   "cell_type": "markdown",
   "id": "incorrect-modern",
   "metadata": {},
   "source": [
    "1. 학습데이터 갯수가 140599로 권장 데이터인 124960개를 초과하였으나 권장사항이기 때문에 일단 진행"
   ]
  },
  {
   "cell_type": "code",
   "execution_count": 8,
   "id": "labeled-history",
   "metadata": {},
   "outputs": [
    {
     "data": {
      "text/plain": [
       "<BatchDataset shapes: ((256, 14), (256, 14)), types: (tf.int32, tf.int32)>"
      ]
     },
     "execution_count": 8,
     "metadata": {},
     "output_type": "execute_result"
    }
   ],
   "source": [
    "BUFFER_SIZE = len(src_input)\n",
    "BATCH_SIZE = 256\n",
    "steps_per_epoch = len(src_input) // BATCH_SIZE\n",
    "\n",
    "VOCAB_SIZE = tokenizer.num_words + 1  \n",
    "\n",
    "dataset = tf.data.Dataset.from_tensor_slices((src_input, tgt_input)).shuffle(BUFFER_SIZE)\n",
    "dataset = dataset.batch(BATCH_SIZE, drop_remainder=True)\n",
    "dataset"
   ]
  },
  {
   "cell_type": "markdown",
   "id": "narrative-highland",
   "metadata": {},
   "source": [
    "## 6.4 인공지능 만들기"
   ]
  },
  {
   "cell_type": "markdown",
   "id": "exact-accreditation",
   "metadata": {},
   "source": [
    "### 6.4.1 모델생성"
   ]
  },
  {
   "cell_type": "code",
   "execution_count": 9,
   "id": "earned-color",
   "metadata": {},
   "outputs": [],
   "source": [
    "class TextGenerator(tf.keras.Model):\n",
    "    def __init__(self, vocab_size, embedding_size, hidden_size):\n",
    "        super(TextGenerator, self).__init__()\n",
    "        \n",
    "        self.embedding = tf.keras.layers.Embedding(vocab_size, embedding_size)\n",
    "        self.rnn_1 = tf.keras.layers.LSTM(hidden_size, return_sequences=True)\n",
    "        self.rnn_2 = tf.keras.layers.LSTM(hidden_size, return_sequences=True)\n",
    "        self.linear = tf.keras.layers.Dense(vocab_size)\n",
    "        \n",
    "    def call(self, x):\n",
    "        out = self.embedding(x)\n",
    "        out = self.rnn_1(out)\n",
    "        out = self.rnn_2(out)\n",
    "        out = self.linear(out)\n",
    "        \n",
    "        return out\n",
    "    \n",
    "embedding_size = 256\n",
    "hidden_size = 1024\n",
    "model = TextGenerator(tokenizer.num_words + 1, embedding_size , hidden_size)"
   ]
  },
  {
   "cell_type": "code",
   "execution_count": 10,
   "id": "solved-morris",
   "metadata": {},
   "outputs": [
    {
     "data": {
      "text/plain": [
       "<tf.Tensor: shape=(256, 14, 12001), dtype=float32, numpy=\n",
       "array([[[ 9.59011595e-05, -1.05539439e-04,  3.55202610e-05, ...,\n",
       "          1.84648190e-04, -1.64804587e-04, -1.17222153e-04],\n",
       "        [-1.46106642e-04, -3.68114008e-04,  1.27173771e-04, ...,\n",
       "          5.85624599e-04, -3.43148946e-04, -2.94174679e-04],\n",
       "        [-3.93224589e-04, -3.24480730e-04,  4.26880521e-04, ...,\n",
       "          6.08146074e-04, -3.93372931e-04, -6.56027813e-04],\n",
       "        ...,\n",
       "        [-1.50804059e-03,  3.40753264e-04,  1.52438646e-03, ...,\n",
       "         -1.72748684e-03, -1.39368291e-04, -7.99774367e-04],\n",
       "        [-1.56062108e-03,  2.84115318e-04,  1.40512187e-03, ...,\n",
       "         -2.05111108e-03,  2.14442152e-05, -4.23296413e-04],\n",
       "        [-1.56844908e-03,  2.55782710e-04,  1.26609113e-03, ...,\n",
       "         -2.28154310e-03,  2.11158389e-04,  6.14798819e-06]],\n",
       "\n",
       "       [[ 9.59011595e-05, -1.05539439e-04,  3.55202610e-05, ...,\n",
       "          1.84648190e-04, -1.64804587e-04, -1.17222153e-04],\n",
       "        [ 2.42096075e-06,  1.61264150e-04,  8.86349080e-05, ...,\n",
       "          5.24808653e-04, -4.78538888e-04, -2.23391646e-04],\n",
       "        [-2.54358201e-05,  1.59786461e-04,  1.44788894e-04, ...,\n",
       "          7.34525733e-04, -7.45622267e-04, -3.23663640e-04],\n",
       "        ...,\n",
       "        [-2.87164585e-04, -2.57755921e-04,  8.87076720e-04, ...,\n",
       "         -1.79990393e-03,  8.48732947e-04,  6.83974067e-04],\n",
       "        [-2.82039022e-04, -1.68964427e-04,  9.03099659e-04, ...,\n",
       "         -1.97398034e-03,  1.17355224e-03,  9.29980481e-04],\n",
       "        [-2.69559765e-04, -7.37914161e-05,  8.98939266e-04, ...,\n",
       "         -2.12214631e-03,  1.47560553e-03,  1.12551544e-03]],\n",
       "\n",
       "       [[ 9.59011595e-05, -1.05539439e-04,  3.55202610e-05, ...,\n",
       "          1.84648190e-04, -1.64804587e-04, -1.17222153e-04],\n",
       "        [ 2.42006456e-04, -1.37518844e-04,  1.20440600e-04, ...,\n",
       "          3.89579538e-04, -2.51287740e-04, -1.91798143e-04],\n",
       "        [ 9.06191359e-04, -1.06332081e-04, -2.15090346e-04, ...,\n",
       "          3.19422688e-04, -2.91580131e-04, -2.81153159e-04],\n",
       "        ...,\n",
       "        [ 1.83563767e-04,  8.24149975e-05,  2.17792534e-04, ...,\n",
       "         -2.30594305e-03,  1.39826105e-03,  8.10589816e-04],\n",
       "        [ 1.40304182e-04,  1.42018762e-04,  2.58573069e-04, ...,\n",
       "         -2.40004784e-03,  1.63442467e-03,  1.01123436e-03],\n",
       "        [ 1.14614741e-04,  1.97450456e-04,  2.95108592e-04, ...,\n",
       "         -2.47776904e-03,  1.85514684e-03,  1.16629689e-03]],\n",
       "\n",
       "       ...,\n",
       "\n",
       "       [[ 9.59011595e-05, -1.05539439e-04,  3.55202610e-05, ...,\n",
       "          1.84648190e-04, -1.64804587e-04, -1.17222153e-04],\n",
       "        [ 1.64244469e-04, -2.59574474e-04,  2.93506251e-04, ...,\n",
       "          1.85514131e-04, -1.24731392e-04, -2.12522194e-04],\n",
       "        [ 2.25563752e-04, -4.59815725e-04,  2.65268638e-04, ...,\n",
       "          3.32243071e-04, -1.92211024e-04,  1.65486963e-05],\n",
       "        ...,\n",
       "        [-9.74248862e-04,  1.63184348e-04,  1.00242882e-03, ...,\n",
       "         -1.43765449e-03,  5.48777985e-04,  9.16727186e-06],\n",
       "        [-9.50006244e-04,  2.53013801e-04,  1.02636975e-03, ...,\n",
       "         -1.62785733e-03,  8.64235742e-04,  2.90204043e-04],\n",
       "        [-9.01153428e-04,  3.37056466e-04,  1.02565729e-03, ...,\n",
       "         -1.79460086e-03,  1.16807735e-03,  5.39014232e-04]],\n",
       "\n",
       "       [[ 9.59011595e-05, -1.05539439e-04,  3.55202610e-05, ...,\n",
       "          1.84648190e-04, -1.64804587e-04, -1.17222153e-04],\n",
       "        [-1.76240992e-05,  2.70155550e-04, -4.50539119e-06, ...,\n",
       "          4.15620016e-04, -1.75522378e-04, -3.04893358e-04],\n",
       "        [ 4.42442797e-05,  3.28600465e-04, -3.40468396e-05, ...,\n",
       "          4.92357009e-04,  2.33754108e-04, -3.32727737e-04],\n",
       "        ...,\n",
       "        [-2.09530524e-04,  1.71453314e-04, -1.59651376e-04, ...,\n",
       "         -5.78853251e-05,  9.52256960e-04,  2.43825125e-04],\n",
       "        [-3.08421208e-04,  1.38824675e-04, -9.76664305e-05, ...,\n",
       "         -3.54728807e-04,  1.22723926e-03,  6.14637975e-04],\n",
       "        [-3.78449244e-04,  1.33563430e-04, -3.99636956e-05, ...,\n",
       "         -6.24414068e-04,  1.47900952e-03,  9.56824049e-04]],\n",
       "\n",
       "       [[-1.47654137e-04, -1.42009638e-04, -3.28496135e-05, ...,\n",
       "          8.46299081e-05,  8.38247797e-05, -8.15202729e-05],\n",
       "        [-5.06189419e-04, -2.24485339e-04, -4.80227973e-05, ...,\n",
       "         -1.54794077e-04,  1.75298206e-04, -2.65403156e-04],\n",
       "        [-4.81344701e-04, -3.35245684e-04,  1.44711084e-04, ...,\n",
       "         -5.62999339e-04,  3.01565567e-04, -1.10816491e-05],\n",
       "        ...,\n",
       "        [-7.13442743e-04, -5.23026451e-04,  6.67764281e-04, ...,\n",
       "          4.28673084e-04, -1.93819753e-04,  1.04725485e-04],\n",
       "        [-6.74302806e-04, -4.55897010e-04,  1.04363053e-03, ...,\n",
       "          4.74856904e-04, -1.57738599e-04, -5.10794016e-05],\n",
       "        [-6.55056501e-04, -6.71069603e-04,  1.39518850e-03, ...,\n",
       "          5.74495411e-04, -4.27639970e-05,  1.23910970e-04]]],\n",
       "      dtype=float32)>"
      ]
     },
     "execution_count": 10,
     "metadata": {},
     "output_type": "execute_result"
    }
   ],
   "source": [
    "for src_sample, tgt_sample in dataset.take(1): break\n",
    "model(src_sample)"
   ]
  },
  {
   "cell_type": "code",
   "execution_count": 11,
   "id": "numerical-trial",
   "metadata": {},
   "outputs": [
    {
     "name": "stdout",
     "output_type": "stream",
     "text": [
      "Model: \"text_generator\"\n",
      "_________________________________________________________________\n",
      "Layer (type)                 Output Shape              Param #   \n",
      "=================================================================\n",
      "embedding (Embedding)        multiple                  3072256   \n",
      "_________________________________________________________________\n",
      "lstm (LSTM)                  multiple                  5246976   \n",
      "_________________________________________________________________\n",
      "lstm_1 (LSTM)                multiple                  8392704   \n",
      "_________________________________________________________________\n",
      "dense (Dense)                multiple                  12301025  \n",
      "=================================================================\n",
      "Total params: 29,012,961\n",
      "Trainable params: 29,012,961\n",
      "Non-trainable params: 0\n",
      "_________________________________________________________________\n"
     ]
    }
   ],
   "source": [
    "model.summary()"
   ]
  },
  {
   "cell_type": "markdown",
   "id": "allied-douglas",
   "metadata": {},
   "source": [
    "### 6.4.2 모델 학습"
   ]
  },
  {
   "cell_type": "code",
   "execution_count": 12,
   "id": "chubby-finance",
   "metadata": {},
   "outputs": [
    {
     "name": "stdout",
     "output_type": "stream",
     "text": [
      "Epoch 1/10\n",
      "686/686 [==============================] - 85s 124ms/step - loss: 3.6047\n",
      "Epoch 2/10\n",
      "686/686 [==============================] - 87s 126ms/step - loss: 3.1255\n",
      "Epoch 3/10\n",
      "686/686 [==============================] - 87s 127ms/step - loss: 2.9271\n",
      "Epoch 4/10\n",
      "686/686 [==============================] - 87s 127ms/step - loss: 2.7840\n",
      "Epoch 5/10\n",
      "686/686 [==============================] - 86s 125ms/step - loss: 2.6485\n",
      "Epoch 6/10\n",
      "686/686 [==============================] - 86s 125ms/step - loss: 2.5306\n",
      "Epoch 7/10\n",
      "686/686 [==============================] - 86s 126ms/step - loss: 2.4209\n",
      "Epoch 8/10\n",
      "686/686 [==============================] - 86s 126ms/step - loss: 2.3188\n",
      "Epoch 9/10\n",
      "686/686 [==============================] - 86s 126ms/step - loss: 2.2233\n",
      "Epoch 10/10\n",
      "686/686 [==============================] - 86s 126ms/step - loss: 2.1323\n"
     ]
    },
    {
     "data": {
      "text/plain": [
       "<tensorflow.python.keras.callbacks.History at 0x7efd69aeead0>"
      ]
     },
     "execution_count": 12,
     "metadata": {},
     "output_type": "execute_result"
    }
   ],
   "source": [
    "optimizer = tf.keras.optimizers.Adam()\n",
    "loss = tf.keras.losses.SparseCategoricalCrossentropy(\n",
    "    from_logits=True,\n",
    "    reduction='none'\n",
    ")\n",
    "\n",
    "model.compile(loss=loss, optimizer=optimizer)\n",
    "model.fit(dataset, epochs=10)"
   ]
  },
  {
   "cell_type": "markdown",
   "id": "sapphire-tomorrow",
   "metadata": {},
   "source": [
    "### 6.4.3 모델 평가"
   ]
  },
  {
   "cell_type": "code",
   "execution_count": 13,
   "id": "decimal-brisbane",
   "metadata": {},
   "outputs": [],
   "source": [
    "def generate_text(model, tokenizer, init_sentence=\"<start>\", max_len=20):\n",
    "    # 테스트를 위해서 입력받은 init_sentence도 일단 텐서로 변환합니다.\n",
    "    test_input = tokenizer.texts_to_sequences([init_sentence])\n",
    "    test_tensor = tf.convert_to_tensor(test_input, dtype=tf.int64)\n",
    "    end_token = tokenizer.word_index[\"<end>\"]\n",
    "\n",
    "    # 텍스트를 실제로 생성할때는 루프를 돌면서 단어 하나씩 생성해야 합니다. \n",
    "    while True:\n",
    "        predict = model(test_tensor)  # 입력받은 문장의 텐서를 입력합니다. \n",
    "        predict_word = tf.argmax(tf.nn.softmax(predict, axis=-1), axis=-1)[:, -1]   # 우리 모델이 예측한 마지막 단어가 바로 새롭게 생성한 단어가 됩니다. \n",
    "\n",
    "        # 우리 모델이 새롭게 예측한 단어를 입력 문장의 뒤에 붙여 줍니다. \n",
    "        test_tensor = tf.concat([test_tensor, \n",
    "                                                                 tf.expand_dims(predict_word, axis=0)], axis=-1)\n",
    "\n",
    "        # 우리 모델이 <end>를 예측했거나, max_len에 도달하지 않았다면  while 루프를 또 돌면서 다음 단어를 예측해야 합니다.\n",
    "        if predict_word.numpy()[0] == end_token: break\n",
    "        if test_tensor.shape[1] >= max_len: break\n",
    "\n",
    "    generated = \"\"\n",
    "    # 생성된 tensor 안에 있는 word index를 tokenizer.index_word 사전을 통해 실제 단어로 하나씩 변환합니다. \n",
    "    for word_index in test_tensor[0].numpy():\n",
    "        generated += tokenizer.index_word[word_index] + \" \"\n",
    "\n",
    "    return generated   # 이것이 최종적으로 모델이 생성한 자연어 문장입니다."
   ]
  },
  {
   "cell_type": "code",
   "execution_count": 14,
   "id": "quiet-squad",
   "metadata": {},
   "outputs": [
    {
     "data": {
      "text/plain": [
       "'<start> i love you , i love you <end> '"
      ]
     },
     "execution_count": 14,
     "metadata": {},
     "output_type": "execute_result"
    }
   ],
   "source": [
    "generate_text(model, tokenizer, init_sentence=\"<start> i love\", max_len=20)\n"
   ]
  },
  {
   "cell_type": "code",
   "execution_count": null,
   "id": "wrong-austin",
   "metadata": {},
   "outputs": [],
   "source": []
  }
 ],
 "metadata": {
  "kernelspec": {
   "display_name": "aiffel",
   "language": "python",
   "name": "aiffel"
  },
  "language_info": {
   "codemirror_mode": {
    "name": "ipython",
    "version": 3
   },
   "file_extension": ".py",
   "mimetype": "text/x-python",
   "name": "python",
   "nbconvert_exporter": "python",
   "pygments_lexer": "ipython3",
   "version": "3.7.9"
  }
 },
 "nbformat": 4,
 "nbformat_minor": 5
}
