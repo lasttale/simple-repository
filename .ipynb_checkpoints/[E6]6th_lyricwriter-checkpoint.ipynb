{
 "cells": [
  {
   "cell_type": "markdown",
   "id": "advisory-demand",
   "metadata": {},
   "source": [
    "# 6. 프로젝트 : 멋진 작사가 만들기"
   ]
  },
  {
   "cell_type": "markdown",
   "id": "athletic-symposium",
   "metadata": {},
   "source": [
    "## 6.1 데이터 읽어오기"
   ]
  },
  {
   "cell_type": "code",
   "execution_count": 1,
   "id": "mysterious-springfield",
   "metadata": {},
   "outputs": [
    {
     "name": "stdout",
     "output_type": "stream",
     "text": [
      "데이터 크기: 187088\n",
      "Examples:\n",
      " ['Well, summer slipped us underneath her tongue', 'Our days and nights are perfumed with obsession', 'Half of my wardrobe is on your bedroom floor']\n"
     ]
    }
   ],
   "source": [
    "import glob\n",
    "import os\n",
    "\n",
    "txt_file_path = os.getenv('HOME')+'/aiffel/lyricist/data/lyrics/*'\n",
    "\n",
    "txt_list = glob.glob(txt_file_path)\n",
    "\n",
    "raw_corpus = []\n",
    "\n",
    "for txt_file in txt_list:\n",
    "    with open(txt_file, \"r\") as f:\n",
    "        raw = f.read().splitlines()\n",
    "        raw_corpus.extend(raw)\n",
    "\n",
    "print(\"데이터 크기:\", len(raw_corpus))\n",
    "print(\"Examples:\\n\", raw_corpus[:3])"
   ]
  },
  {
   "cell_type": "markdown",
   "id": "expected-outdoors",
   "metadata": {},
   "source": [
    "## 6.2 데이터 정제"
   ]
  },
  {
   "cell_type": "code",
   "execution_count": 2,
   "id": "frozen-citation",
   "metadata": {},
   "outputs": [
    {
     "name": "stdout",
     "output_type": "stream",
     "text": [
      "<start> this is sample sentence . <end>\n"
     ]
    }
   ],
   "source": [
    "import re\n",
    "def preprocess_sentence(sentence):\n",
    "    sentence = sentence.lower().strip()       # 소문자로 바꾸고 양쪽 공백을 삭제\n",
    "  \n",
    "    # 아래 3단계를 거쳐 sentence는 스페이스 1개를 delimeter로 하는 소문자 단어 시퀀스로 바뀝니다.\n",
    "    sentence = re.sub(r\"([?.!,¿])\", r\" \\1 \", sentence)        # 패턴의 특수문자를 만나면 특수문자 양쪽에 공백을 추가\n",
    "    sentence = re.sub(r'[\" \"]+', \" \", sentence)                  # 공백 패턴을 만나면 스페이스 1개로 치환\n",
    "    sentence = re.sub(r\"[^a-zA-Z?.!,¿]+\", \" \", sentence)  # a-zA-Z?.!,¿ 패턴을 제외한 모든 문자(공백문자까지도)를 스페이스 1개로 치환\n",
    "\n",
    "    sentence = sentence.strip()\n",
    "\n",
    "    sentence = '<start> ' + sentence + ' <end>'      # 이전 스텝에서 본 것처럼 문장 앞뒤로 <start>와 <end>를 단어처럼 붙여 줍니다\n",
    "    \n",
    "    return sentence\n",
    "\n",
    "print(preprocess_sentence(\"This @_is ;;;sample        sentence.\"))   # 이 문장이 어떻게 필터링되는지 확인해 보세요."
   ]
  },
  {
   "cell_type": "code",
   "execution_count": 3,
   "id": "professional-newcastle",
   "metadata": {},
   "outputs": [
    {
     "data": {
      "text/plain": [
       "['<start> well , summer slipped us underneath her tongue <end>',\n",
       " '<start> our days and nights are perfumed with obsession <end>',\n",
       " '<start> half of my wardrobe is on your bedroom floor <end>',\n",
       " '<start> use our eyes , throw our hands overboard i am your sweetheart psychopathic crush <end>',\n",
       " '<start> drink up your movements , still i can t get enough <end>',\n",
       " '<start> i overthink your p punctuation use <end>',\n",
       " '<start> not my fault , just a thing that my mind do a rush at the beginning <end>',\n",
       " '<start> i get caught up , just for a minute <end>',\n",
       " '<start> but lover , you re the one to blame , all that you re doing <end>',\n",
       " '<start> can you hear the violence ? <end>']"
      ]
     },
     "execution_count": 3,
     "metadata": {},
     "output_type": "execute_result"
    }
   ],
   "source": [
    "corpus = []\n",
    "\n",
    "for sentence in raw_corpus:\n",
    "    if len(sentence) == 0: continue\n",
    "    if sentence[-1] == \":\": continue\n",
    "\n",
    "        \n",
    "    corpus.append(preprocess_sentence(sentence))\n",
    "        \n",
    "corpus[:10]"
   ]
  },
  {
   "cell_type": "code",
   "execution_count": 4,
   "id": "white-intelligence",
   "metadata": {},
   "outputs": [
    {
     "name": "stdout",
     "output_type": "stream",
     "text": [
      "[[   2  136    4 ...    0    0    0]\n",
      " [   2  155  377 ...    0    0    0]\n",
      " [   2  541   19 ...    0    0    0]\n",
      " ...\n",
      " [   5   22  713 ... 4178    4    3]\n",
      " [   5   22  713 ... 4178    4    3]\n",
      " [   5   22  713 ... 4178   20    3]] <keras_preprocessing.text.Tokenizer object at 0x7f33f9e42fd0>\n"
     ]
    }
   ],
   "source": [
    "import tensorflow as tf\n",
    "def tokenize(corpus):\n",
    "    # 텐서플로우에서 제공하는 Tokenizer 패키지를 생성\n",
    "    tokenizer = tf.keras.preprocessing.text.Tokenizer(\n",
    "        num_words=12000,  # 전체 단어의 개수 \n",
    "        filters=' ',    # 별도로 전처리 로직을 추가할 수 있습니다. 이번에는 사용하지 않겠습니다.\n",
    "        oov_token=\"<unk>\"  # out-of-vocabulary, 사전에 없었던 단어는 어떤 토큰으로 대체할지\n",
    "    )\n",
    "    tokenizer.fit_on_texts(corpus)   # 우리가 구축한 corpus로부터 Tokenizer가 사전을 자동구축하게 됩니다.\n",
    "\n",
    "    # 이후 tokenizer를 활용하여 모델에 입력할 데이터셋을 구축하게 됩니다.\n",
    "    tensor = tokenizer.texts_to_sequences(corpus)   # tokenizer는 구축한 사전으로부터 corpus를 해석해 Tensor로 변환합니다.\n",
    "\n",
    "    # 입력 데이터의 시퀀스 길이를 일정하게 맞추기 위한 padding  메소드를 제공합니다.\n",
    "    # maxlen의 디폴트값은 None입니다. 이 경우 corpus의 가장 긴 문장을 기준으로 시퀀스 길이가 맞춰집니다.\n",
    "    tensor = tf.keras.preprocessing.sequence.pad_sequences(tensor, maxlen=15, padding='post')  \n",
    "\n",
    "    print(tensor,tokenizer)\n",
    "    return tensor, tokenizer\n",
    "\n",
    "tensor, tokenizer = tokenize(corpus)"
   ]
  },
  {
   "cell_type": "code",
   "execution_count": 5,
   "id": "processed-paper",
   "metadata": {},
   "outputs": [
    {
     "name": "stdout",
     "output_type": "stream",
     "text": [
      "[[   2  136    4  584 3121  131 1299   69  969    3    0    0    0    0\n",
      "     0]\n",
      " [   2  155  377    8  858   77 9560   31 8541    3    0    0    0    0\n",
      "     0]\n",
      " [   2  541   19   13 5339   26   18   21 1473  363    3    0    0    0\n",
      "     0]]\n"
     ]
    }
   ],
   "source": [
    "print(tensor[:3, :15])"
   ]
  },
  {
   "cell_type": "markdown",
   "id": "neural-filter",
   "metadata": {},
   "source": [
    "## 6.3 평가 데이터셋 분리"
   ]
  },
  {
   "cell_type": "code",
   "execution_count": 6,
   "id": "patent-collaboration",
   "metadata": {},
   "outputs": [
    {
     "name": "stdout",
     "output_type": "stream",
     "text": [
      "[   2  136    4  584 3121  131 1299   69  969    3    0    0    0    0]\n",
      "[ 136    4  584 3121  131 1299   69  969    3    0    0    0    0    0]\n"
     ]
    }
   ],
   "source": [
    "src_input = tensor[:, :-1]  # tensor에서 마지막 토큰을 잘라내서 소스 문장을 생성합니다. 마지막 토큰은 <end>가 아니라 <pad>일 가능성이 높습니다.\n",
    "tgt_input = tensor[:, 1:]    # tensor에서 <start>를 잘라내서 타겟 문장을 생성합니다.\n",
    "\n",
    "print(src_input[0])\n",
    "print(tgt_input[0])"
   ]
  },
  {
   "cell_type": "code",
   "execution_count": 7,
   "id": "corresponding-liability",
   "metadata": {},
   "outputs": [
    {
     "name": "stdout",
     "output_type": "stream",
     "text": [
      "Source Train: (140599, 14)\n",
      "Target Train: (140599, 14)\n"
     ]
    }
   ],
   "source": [
    "from sklearn.model_selection import train_test_split\n",
    "\n",
    "\n",
    "enc_train, enc_val, dec_train, dec_val = train_test_split(src_input, \n",
    "                                                                tgt_input, \n",
    "                                                                test_size=0.2,\n",
    "                                                                shuffle=True)\n",
    "print(\"Source Train:\", enc_train.shape)\n",
    "print(\"Target Train:\", dec_train.shape)\n",
    "\n"
   ]
  },
  {
   "cell_type": "markdown",
   "id": "incorrect-modern",
   "metadata": {},
   "source": [
    "1. 학습데이터 갯수가 140599로 권장 데이터인 124960개를 초과하였으나 권장사항이기 때문에 일단 진행"
   ]
  },
  {
   "cell_type": "code",
   "execution_count": 8,
   "id": "labeled-history",
   "metadata": {},
   "outputs": [
    {
     "data": {
      "text/plain": [
       "<BatchDataset shapes: ((256, 14), (256, 14)), types: (tf.int32, tf.int32)>"
      ]
     },
     "execution_count": 8,
     "metadata": {},
     "output_type": "execute_result"
    }
   ],
   "source": [
    "BUFFER_SIZE = len(src_input)\n",
    "BATCH_SIZE = 256\n",
    "steps_per_epoch = len(src_input) // BATCH_SIZE\n",
    "\n",
    "VOCAB_SIZE = tokenizer.num_words + 1  \n",
    "\n",
    "dataset = tf.data.Dataset.from_tensor_slices((src_input, tgt_input)).shuffle(BUFFER_SIZE)\n",
    "dataset = dataset.batch(BATCH_SIZE, drop_remainder=True)\n",
    "dataset"
   ]
  },
  {
   "cell_type": "markdown",
   "id": "narrative-highland",
   "metadata": {},
   "source": [
    "## 6.4 인공지능 만들기"
   ]
  },
  {
   "cell_type": "markdown",
   "id": "exact-accreditation",
   "metadata": {},
   "source": [
    "### 6.4.1 모델생성"
   ]
  },
  {
   "cell_type": "code",
   "execution_count": 9,
   "id": "earned-color",
   "metadata": {},
   "outputs": [],
   "source": [
    "class TextGenerator(tf.keras.Model):\n",
    "    def __init__(self, vocab_size, embedding_size, hidden_size):\n",
    "        super(TextGenerator, self).__init__()\n",
    "        \n",
    "        self.embedding = tf.keras.layers.Embedding(vocab_size, embedding_size)\n",
    "        self.rnn_1 = tf.keras.layers.LSTM(hidden_size, return_sequences=True)\n",
    "        self.rnn_2 = tf.keras.layers.LSTM(hidden_size, return_sequences=True)\n",
    "        self.linear = tf.keras.layers.Dense(vocab_size)\n",
    "        \n",
    "    def call(self, x):\n",
    "        out = self.embedding(x)\n",
    "        out = self.rnn_1(out)\n",
    "        out = self.rnn_2(out)\n",
    "        out = self.linear(out)\n",
    "        \n",
    "        return out\n",
    "    \n",
    "embedding_size = 256\n",
    "hidden_size = 1024\n",
    "model = TextGenerator(tokenizer.num_words + 1, embedding_size , hidden_size)"
   ]
  },
  {
   "cell_type": "code",
   "execution_count": 10,
   "id": "solved-morris",
   "metadata": {},
   "outputs": [
    {
     "data": {
      "text/plain": [
       "<tf.Tensor: shape=(256, 14, 12001), dtype=float32, numpy=\n",
       "array([[[ 7.2118251e-05, -2.7530739e-04, -8.6292268e-05, ...,\n",
       "         -1.9944689e-04,  9.3415438e-05, -9.1837610e-05],\n",
       "        [ 1.7060631e-05, -6.1568600e-04, -3.4925411e-04, ...,\n",
       "          1.3799745e-05,  9.8796751e-05,  2.2974897e-05],\n",
       "        [ 1.9230454e-05, -5.4266228e-04, -3.3300524e-04, ...,\n",
       "          1.4933999e-04,  2.5542529e-04, -9.5513700e-05],\n",
       "        ...,\n",
       "        [-4.3522724e-04, -3.8459752e-04,  7.0573500e-04, ...,\n",
       "         -7.4203922e-06,  2.7799830e-04,  2.0832552e-04],\n",
       "        [-2.4231273e-04, -2.8922461e-04,  5.7175948e-04, ...,\n",
       "         -1.3742191e-04,  2.6910386e-05,  1.2562714e-04],\n",
       "        [-2.9311888e-04, -4.2396448e-05,  5.3375063e-04, ...,\n",
       "         -3.2155539e-04,  2.8133916e-04,  2.1491516e-04]],\n",
       "\n",
       "       [[ 5.6007821e-06, -1.9976705e-04,  6.3700936e-05, ...,\n",
       "         -2.9282997e-04,  3.0434300e-04,  3.2746887e-06],\n",
       "        [ 3.4060809e-05, -2.9650936e-04,  2.6351024e-04, ...,\n",
       "         -4.1952581e-04,  4.0204782e-04,  1.5306994e-04],\n",
       "        [ 4.7351768e-05, -5.0334248e-04,  3.9014313e-04, ...,\n",
       "         -3.3636662e-04,  3.9525665e-04,  2.4120895e-04],\n",
       "        ...,\n",
       "        [ 1.4482168e-04, -8.2710013e-04, -7.7158603e-04, ...,\n",
       "         -6.1244308e-04, -6.3947082e-05,  5.5414758e-04],\n",
       "        [-1.6402844e-05, -1.0041260e-03, -1.2201607e-03, ...,\n",
       "         -8.2933885e-04, -2.7423006e-04,  4.5889092e-04],\n",
       "        [ 1.2674248e-04, -1.2292328e-03, -1.2878894e-03, ...,\n",
       "         -1.0858811e-03, -3.1601757e-04,  4.8562587e-04]],\n",
       "\n",
       "       [[ 5.6007821e-06, -1.9976705e-04,  6.3700936e-05, ...,\n",
       "         -2.9282997e-04,  3.0434300e-04,  3.2746887e-06],\n",
       "        [ 1.5091720e-04, -2.0459658e-04, -2.5099487e-04, ...,\n",
       "         -6.3018739e-04,  4.2797744e-04,  8.6834232e-05],\n",
       "        [ 2.3544329e-04, -9.9237266e-05, -2.6163540e-04, ...,\n",
       "         -9.7511784e-04,  7.3910295e-04,  2.3513151e-04],\n",
       "        ...,\n",
       "        [ 9.8750484e-04, -3.4037308e-04,  1.0563823e-03, ...,\n",
       "         -1.7994498e-03,  6.5716781e-04,  1.1706997e-03],\n",
       "        [ 1.4473025e-03, -6.8322127e-04,  1.3515810e-03, ...,\n",
       "         -1.8244787e-03,  6.7252689e-04,  1.4388229e-03],\n",
       "        [ 1.9143323e-03, -9.8674581e-04,  1.6525906e-03, ...,\n",
       "         -1.8225597e-03,  6.8269979e-04,  1.7197847e-03]],\n",
       "\n",
       "       ...,\n",
       "\n",
       "       [[-1.5335720e-05,  5.1895877e-05,  3.9447677e-05, ...,\n",
       "         -5.4532818e-05, -1.2105865e-04,  8.5745647e-05],\n",
       "        [-2.4128324e-04,  1.6101958e-04,  8.2208302e-05, ...,\n",
       "         -1.3271437e-04, -2.5688362e-04, -1.7305938e-04],\n",
       "        [-1.8502781e-04,  1.6290792e-04,  2.0206588e-05, ...,\n",
       "         -8.7015469e-05, -6.5356219e-04, -2.5279936e-04],\n",
       "        ...,\n",
       "        [-3.1928383e-04, -5.1279512e-05, -9.0487004e-04, ...,\n",
       "         -7.1363727e-04, -5.0679519e-04, -5.7441258e-04],\n",
       "        [-3.2676402e-05, -1.1964577e-04, -8.4997562e-04, ...,\n",
       "         -6.5704773e-04, -6.3257298e-04, -5.2437047e-04],\n",
       "        [ 4.8693884e-05, -4.0875867e-04, -8.9909311e-04, ...,\n",
       "         -2.8806622e-04, -6.8788452e-04, -2.1471262e-04]],\n",
       "\n",
       "       [[ 5.6007821e-06, -1.9976705e-04,  6.3700936e-05, ...,\n",
       "         -2.9282997e-04,  3.0434300e-04,  3.2746887e-06],\n",
       "        [-6.6730128e-05, -3.4374287e-04,  2.9634885e-04, ...,\n",
       "         -4.7657694e-04,  4.2232472e-04,  1.0505726e-04],\n",
       "        [ 1.1623006e-04, -1.3513204e-04,  2.2471491e-04, ...,\n",
       "         -4.0650263e-04,  3.9303256e-04,  1.4668917e-04],\n",
       "        ...,\n",
       "        [ 2.8594900e-03, -1.8403369e-03,  2.3297127e-03, ...,\n",
       "         -1.4127201e-03,  2.7798719e-04,  1.5646154e-03],\n",
       "        [ 3.2224541e-03, -2.0173213e-03,  2.5447619e-03, ...,\n",
       "         -1.5201851e-03,  3.1698373e-04,  1.8469122e-03],\n",
       "        [ 3.5535900e-03, -2.1761900e-03,  2.7103620e-03, ...,\n",
       "         -1.6325109e-03,  3.5374262e-04,  2.1010283e-03]],\n",
       "\n",
       "       [[-1.8781170e-04, -3.5002900e-05, -1.4760424e-04, ...,\n",
       "          2.4091615e-04,  2.4959059e-05,  1.0706957e-05],\n",
       "        [-3.0780237e-04,  1.1684364e-04, -2.0743393e-04, ...,\n",
       "          3.1323128e-04, -2.2539012e-04,  9.1031514e-05],\n",
       "        [-2.6280593e-04,  5.1604549e-04,  9.4782692e-05, ...,\n",
       "          4.0056792e-04, -4.8285583e-04,  4.7174373e-04],\n",
       "        ...,\n",
       "        [-1.2212108e-04,  3.1748766e-04,  1.6250754e-04, ...,\n",
       "          3.9294195e-05, -1.3225072e-04,  7.5114326e-04],\n",
       "        [-5.4822414e-04,  1.1785967e-04,  1.0662772e-05, ...,\n",
       "         -4.6571891e-05,  1.3063884e-04,  6.6345854e-04],\n",
       "        [-7.3776435e-04, -1.2455626e-04,  8.1202415e-05, ...,\n",
       "         -1.0049554e-05,  1.1096348e-05,  4.7246125e-04]]], dtype=float32)>"
      ]
     },
     "execution_count": 10,
     "metadata": {},
     "output_type": "execute_result"
    }
   ],
   "source": [
    "for src_sample, tgt_sample in dataset.take(1): break\n",
    "model(src_sample)"
   ]
  },
  {
   "cell_type": "code",
   "execution_count": 11,
   "id": "numerical-trial",
   "metadata": {},
   "outputs": [
    {
     "name": "stdout",
     "output_type": "stream",
     "text": [
      "Model: \"text_generator\"\n",
      "_________________________________________________________________\n",
      "Layer (type)                 Output Shape              Param #   \n",
      "=================================================================\n",
      "embedding (Embedding)        multiple                  3072256   \n",
      "_________________________________________________________________\n",
      "lstm (LSTM)                  multiple                  5246976   \n",
      "_________________________________________________________________\n",
      "lstm_1 (LSTM)                multiple                  8392704   \n",
      "_________________________________________________________________\n",
      "dense (Dense)                multiple                  12301025  \n",
      "=================================================================\n",
      "Total params: 29,012,961\n",
      "Trainable params: 29,012,961\n",
      "Non-trainable params: 0\n",
      "_________________________________________________________________\n"
     ]
    }
   ],
   "source": [
    "model.summary()"
   ]
  },
  {
   "cell_type": "markdown",
   "id": "allied-douglas",
   "metadata": {},
   "source": [
    "### 6.4.2 모델 학습"
   ]
  },
  {
   "cell_type": "code",
   "execution_count": 12,
   "id": "chubby-finance",
   "metadata": {},
   "outputs": [
    {
     "name": "stdout",
     "output_type": "stream",
     "text": [
      "686/686 [==============================] - 86s 126ms/step - loss: 3.6387\n"
     ]
    },
    {
     "data": {
      "text/plain": [
       "<tensorflow.python.keras.callbacks.History at 0x7f33f9e42b90>"
      ]
     },
     "execution_count": 12,
     "metadata": {},
     "output_type": "execute_result"
    }
   ],
   "source": [
    "optimizer = tf.keras.optimizers.Adam()\n",
    "loss = tf.keras.losses.SparseCategoricalCrossentropy(\n",
    "    from_logits=True,\n",
    "    reduction='none'\n",
    ")\n",
    "\n",
    "model.compile(loss=loss, optimizer=optimizer)\n",
    "model.fit(dataset, epochs=1)"
   ]
  },
  {
   "cell_type": "markdown",
   "id": "sapphire-tomorrow",
   "metadata": {},
   "source": [
    "### 6.4.3 모델 평가"
   ]
  },
  {
   "cell_type": "code",
   "execution_count": 13,
   "id": "decimal-brisbane",
   "metadata": {},
   "outputs": [],
   "source": [
    "def generate_text(model, tokenizer, init_sentence=\"<start>\", max_len=20):\n",
    "    # 테스트를 위해서 입력받은 init_sentence도 일단 텐서로 변환합니다.\n",
    "    test_input = tokenizer.texts_to_sequences([init_sentence])\n",
    "    test_tensor = tf.convert_to_tensor(test_input, dtype=tf.int64)\n",
    "    end_token = tokenizer.word_index[\"<end>\"]\n",
    "\n",
    "    # 텍스트를 실제로 생성할때는 루프를 돌면서 단어 하나씩 생성해야 합니다. \n",
    "    while True:\n",
    "        predict = model(test_tensor)  # 입력받은 문장의 텐서를 입력합니다. \n",
    "        predict_word = tf.argmax(tf.nn.softmax(predict, axis=-1), axis=-1)[:, -1]   # 우리 모델이 예측한 마지막 단어가 바로 새롭게 생성한 단어가 됩니다. \n",
    "\n",
    "        # 우리 모델이 새롭게 예측한 단어를 입력 문장의 뒤에 붙여 줍니다. \n",
    "        test_tensor = tf.concat([test_tensor, \n",
    "                                                                 tf.expand_dims(predict_word, axis=0)], axis=-1)\n",
    "\n",
    "        # 우리 모델이 <end>를 예측했거나, max_len에 도달하지 않았다면  while 루프를 또 돌면서 다음 단어를 예측해야 합니다.\n",
    "        if predict_word.numpy()[0] == end_token: break\n",
    "        if test_tensor.shape[1] >= max_len: break\n",
    "\n",
    "    generated = \"\"\n",
    "    # 생성된 tensor 안에 있는 word index를 tokenizer.index_word 사전을 통해 실제 단어로 하나씩 변환합니다. \n",
    "    for word_index in test_tensor[0].numpy():\n",
    "        generated += tokenizer.index_word[word_index] + \" \"\n",
    "\n",
    "    return generated   # 이것이 최종적으로 모델이 생성한 자연어 문장입니다."
   ]
  },
  {
   "cell_type": "code",
   "execution_count": 14,
   "id": "quiet-squad",
   "metadata": {},
   "outputs": [
    {
     "data": {
      "text/plain": [
       "'<start> i love you , i m a <unk> <end> '"
      ]
     },
     "execution_count": 14,
     "metadata": {},
     "output_type": "execute_result"
    }
   ],
   "source": [
    "generate_text(model, tokenizer, init_sentence=\"<start> i love\", max_len=20)\n"
   ]
  },
  {
   "cell_type": "code",
   "execution_count": null,
   "id": "wrong-austin",
   "metadata": {},
   "outputs": [],
   "source": []
  }
 ],
 "metadata": {
  "kernelspec": {
   "display_name": "aiffel",
   "language": "python",
   "name": "aiffel"
  },
  "language_info": {
   "codemirror_mode": {
    "name": "ipython",
    "version": 3
   },
   "file_extension": ".py",
   "mimetype": "text/x-python",
   "name": "python",
   "nbconvert_exporter": "python",
   "pygments_lexer": "ipython3",
   "version": "3.7.9"
  }
 },
 "nbformat": 4,
 "nbformat_minor": 5
}
