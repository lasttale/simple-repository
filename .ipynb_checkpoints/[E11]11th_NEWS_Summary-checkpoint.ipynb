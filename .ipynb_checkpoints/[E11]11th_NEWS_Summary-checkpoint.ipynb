{
 "cells": [
  {
   "cell_type": "markdown",
   "id": "capital-lancaster",
   "metadata": {},
   "source": [
    "# 11 뉴스기사 요약해보기"
   ]
  },
  {
   "cell_type": "markdown",
   "id": "regular-marketplace",
   "metadata": {},
   "source": [
    "## 11.1 데이터 수집하기"
   ]
  },
  {
   "cell_type": "code",
   "execution_count": 1,
   "id": "wrapped-residence",
   "metadata": {},
   "outputs": [
    {
     "name": "stderr",
     "output_type": "stream",
     "text": [
      "[nltk_data] Downloading package stopwords to /home/aiffel-\n",
      "[nltk_data]     dj48/nltk_data...\n",
      "[nltk_data]   Package stopwords is already up-to-date!\n"
     ]
    }
   ],
   "source": [
    "# 필요한 페키지 불러오기\n",
    "import nltk\n",
    "nltk.download('stopwords')\n",
    "\n",
    "import numpy as np\n",
    "import pandas as pd\n",
    "import os\n",
    "import re\n",
    "import matplotlib.pyplot as plt\n",
    "from nltk.corpus import stopwords\n",
    "from bs4 import BeautifulSoup \n",
    "from tensorflow.keras.preprocessing.text import Tokenizer \n",
    "from tensorflow.keras.preprocessing.sequence import pad_sequences\n",
    "import urllib.request"
   ]
  },
  {
   "cell_type": "code",
   "execution_count": 2,
   "id": "tribal-tract",
   "metadata": {},
   "outputs": [
    {
     "data": {
      "text/html": [
       "<div>\n",
       "<style scoped>\n",
       "    .dataframe tbody tr th:only-of-type {\n",
       "        vertical-align: middle;\n",
       "    }\n",
       "\n",
       "    .dataframe tbody tr th {\n",
       "        vertical-align: top;\n",
       "    }\n",
       "\n",
       "    .dataframe thead th {\n",
       "        text-align: right;\n",
       "    }\n",
       "</style>\n",
       "<table border=\"1\" class=\"dataframe\">\n",
       "  <thead>\n",
       "    <tr style=\"text-align: right;\">\n",
       "      <th></th>\n",
       "      <th>headlines</th>\n",
       "      <th>text</th>\n",
       "    </tr>\n",
       "  </thead>\n",
       "  <tbody>\n",
       "    <tr>\n",
       "      <th>34063</th>\n",
       "      <td>Lady caretaker held for sexually assaulting mi...</td>\n",
       "      <td>A 60-year-old woman caretaker from Mumbai has ...</td>\n",
       "    </tr>\n",
       "    <tr>\n",
       "      <th>66944</th>\n",
       "      <td>Tax rebate scrapped for Mumbai houses followin...</td>\n",
       "      <td>The Brihanmumbai Municipal Corporation (BMC) h...</td>\n",
       "    </tr>\n",
       "    <tr>\n",
       "      <th>29882</th>\n",
       "      <td>Video: French President's effigy burnt at prot...</td>\n",
       "      <td>A giant effigy of French President Emmanuel Ma...</td>\n",
       "    </tr>\n",
       "    <tr>\n",
       "      <th>96527</th>\n",
       "      <td>Girl burnt alive after she protested to save t...</td>\n",
       "      <td>A 20-year-old girl was burnt alive in Rajastha...</td>\n",
       "    </tr>\n",
       "    <tr>\n",
       "      <th>65997</th>\n",
       "      <td>SpaceX successfully launches Falcon 9 rocket, ...</td>\n",
       "      <td>Elon Musk-led space exploration startup SpaceX...</td>\n",
       "    </tr>\n",
       "    <tr>\n",
       "      <th>84158</th>\n",
       "      <td>Firms to lose registration on not giving peopl...</td>\n",
       "      <td>Businesses that fail to pass on benefits from ...</td>\n",
       "    </tr>\n",
       "    <tr>\n",
       "      <th>42701</th>\n",
       "      <td>I keep to myself, so people say I'm arrogant: ...</td>\n",
       "      <td>Actor Ajay Devgn has said he feels misundersto...</td>\n",
       "    </tr>\n",
       "    <tr>\n",
       "      <th>19568</th>\n",
       "      <td>Delhi hospital fined Ã¢ÂÂ¹25L as man dies due...</td>\n",
       "      <td>The Delhi consumer commission has ordered Jaip...</td>\n",
       "    </tr>\n",
       "    <tr>\n",
       "      <th>98276</th>\n",
       "      <td>BJP used money to form govt in Goa, Manipur: R...</td>\n",
       "      <td>Congress Vice-President Rahul Gandhi has said,...</td>\n",
       "    </tr>\n",
       "    <tr>\n",
       "      <th>77602</th>\n",
       "      <td>Saudi Arabia asks US court to end lawsuits ove...</td>\n",
       "      <td>Saudi Arabia on Tuesday asked a US court to di...</td>\n",
       "    </tr>\n",
       "  </tbody>\n",
       "</table>\n",
       "</div>"
      ],
      "text/plain": [
       "                                               headlines  \\\n",
       "34063  Lady caretaker held for sexually assaulting mi...   \n",
       "66944  Tax rebate scrapped for Mumbai houses followin...   \n",
       "29882  Video: French President's effigy burnt at prot...   \n",
       "96527  Girl burnt alive after she protested to save t...   \n",
       "65997  SpaceX successfully launches Falcon 9 rocket, ...   \n",
       "84158  Firms to lose registration on not giving peopl...   \n",
       "42701  I keep to myself, so people say I'm arrogant: ...   \n",
       "19568  Delhi hospital fined Ã¢ÂÂ¹25L as man dies due...   \n",
       "98276  BJP used money to form govt in Goa, Manipur: R...   \n",
       "77602  Saudi Arabia asks US court to end lawsuits ove...   \n",
       "\n",
       "                                                    text  \n",
       "34063  A 60-year-old woman caretaker from Mumbai has ...  \n",
       "66944  The Brihanmumbai Municipal Corporation (BMC) h...  \n",
       "29882  A giant effigy of French President Emmanuel Ma...  \n",
       "96527  A 20-year-old girl was burnt alive in Rajastha...  \n",
       "65997  Elon Musk-led space exploration startup SpaceX...  \n",
       "84158  Businesses that fail to pass on benefits from ...  \n",
       "42701  Actor Ajay Devgn has said he feels misundersto...  \n",
       "19568  The Delhi consumer commission has ordered Jaip...  \n",
       "98276  Congress Vice-President Rahul Gandhi has said,...  \n",
       "77602  Saudi Arabia on Tuesday asked a US court to di...  "
      ]
     },
     "execution_count": 2,
     "metadata": {},
     "output_type": "execute_result"
    }
   ],
   "source": [
    "# 데이터 다운로드\n",
    "\n",
    "urllib.request.urlretrieve(\"https://raw.githubusercontent.com/sunnysai12345/News_Summary/master/news_summary_more.csv\", filename=\"news_summary_more.csv\")\n",
    "data = pd.read_csv('news_summary_more.csv', encoding='iso-8859-1')\n",
    "data.sample(10)"
   ]
  },
  {
   "cell_type": "code",
   "execution_count": 3,
   "id": "japanese-antenna",
   "metadata": {},
   "outputs": [
    {
     "name": "stdout",
     "output_type": "stream",
     "text": [
      "text 열 샘플의 수 : 98401\n",
      "headlines 열 샘플의 수 : 98401\n"
     ]
    }
   ],
   "source": [
    "# 데이터 샘플 수 확인\n",
    "print('text 열 샘플의 수 :', len(data['text']))\n",
    "print('headlines 열 샘플의 수 :', len(data['headlines']))"
   ]
  },
  {
   "cell_type": "markdown",
   "id": "digital-retirement",
   "metadata": {},
   "source": [
    "## 11.2 데이터 전처리하기(추상적 요약)"
   ]
  },
  {
   "cell_type": "code",
   "execution_count": 4,
   "id": "spanish-glance",
   "metadata": {},
   "outputs": [
    {
     "name": "stdout",
     "output_type": "stream",
     "text": [
      "text 열에서 중복을 배제한 유일한 샘플의 수 : 98360\n",
      "headlines 열에서 중복을 배제한 유일한 샘플의 수 : 98280\n"
     ]
    }
   ],
   "source": [
    "# 중복샘플 유무 확인\n",
    "print('text 열에서 중복을 배제한 유일한 샘플의 수 :', data['text'].nunique())\n",
    "print('headlines 열에서 중복을 배제한 유일한 샘플의 수 :', data['headlines'].nunique())"
   ]
  },
  {
   "cell_type": "markdown",
   "id": "later-opposition",
   "metadata": {},
   "source": [
    "total 'text'의 수와 유니크한 'text'의 수가 다르므로 중복데이터 제거 실행"
   ]
  },
  {
   "cell_type": "code",
   "execution_count": 5,
   "id": "passing-partnership",
   "metadata": {},
   "outputs": [
    {
     "name": "stdout",
     "output_type": "stream",
     "text": [
      "전체 샘플수 : 98360\n"
     ]
    }
   ],
   "source": [
    "#중복데이터 제거\n",
    "data.drop_duplicates(subset = ['text'], inplace = True)\n",
    "print('전체 샘플수 :',(len(data)))"
   ]
  },
  {
   "cell_type": "code",
   "execution_count": 6,
   "id": "emerging-administrator",
   "metadata": {},
   "outputs": [
    {
     "name": "stdout",
     "output_type": "stream",
     "text": [
      "headlines    0\n",
      "text         0\n",
      "dtype: int64\n"
     ]
    }
   ],
   "source": [
    "#데이터 내부 Null 유무 확인\n",
    "print(data.isnull().sum())"
   ]
  },
  {
   "cell_type": "markdown",
   "id": "incredible-trading",
   "metadata": {},
   "source": [
    "Null이 없음"
   ]
  },
  {
   "cell_type": "code",
   "execution_count": 7,
   "id": "spatial-particle",
   "metadata": {},
   "outputs": [
    {
     "name": "stdout",
     "output_type": "stream",
     "text": [
      "정규화 사전의 수:  120\n"
     ]
    }
   ],
   "source": [
    "#텍스트 정규화를 위한 사전구성\n",
    "contractions = {\"ain't\": \"is not\", \"aren't\": \"are not\",\"can't\": \"cannot\", \"'cause\": \"because\", \"could've\": \"could have\", \"couldn't\": \"could not\",\n",
    "                           \"didn't\": \"did not\",  \"doesn't\": \"does not\", \"don't\": \"do not\", \"hadn't\": \"had not\", \"hasn't\": \"has not\", \"haven't\": \"have not\",\n",
    "                           \"he'd\": \"he would\",\"he'll\": \"he will\", \"he's\": \"he is\", \"how'd\": \"how did\", \"how'd'y\": \"how do you\", \"how'll\": \"how will\", \"how's\": \"how is\",\n",
    "                           \"I'd\": \"I would\", \"I'd've\": \"I would have\", \"I'll\": \"I will\", \"I'll've\": \"I will have\",\"I'm\": \"I am\", \"I've\": \"I have\", \"i'd\": \"i would\",\n",
    "                           \"i'd've\": \"i would have\", \"i'll\": \"i will\",  \"i'll've\": \"i will have\",\"i'm\": \"i am\", \"i've\": \"i have\", \"isn't\": \"is not\", \"it'd\": \"it would\",\n",
    "                           \"it'd've\": \"it would have\", \"it'll\": \"it will\", \"it'll've\": \"it will have\",\"it's\": \"it is\", \"let's\": \"let us\", \"ma'am\": \"madam\",\n",
    "                           \"mayn't\": \"may not\", \"might've\": \"might have\",\"mightn't\": \"might not\",\"mightn't've\": \"might not have\", \"must've\": \"must have\",\n",
    "                           \"mustn't\": \"must not\", \"mustn't've\": \"must not have\", \"needn't\": \"need not\", \"needn't've\": \"need not have\",\"o'clock\": \"of the clock\",\n",
    "                           \"oughtn't\": \"ought not\", \"oughtn't've\": \"ought not have\", \"shan't\": \"shall not\", \"sha'n't\": \"shall not\", \"shan't've\": \"shall not have\",\n",
    "                           \"she'd\": \"she would\", \"she'd've\": \"she would have\", \"she'll\": \"she will\", \"she'll've\": \"she will have\", \"she's\": \"she is\",\n",
    "                           \"should've\": \"should have\", \"shouldn't\": \"should not\", \"shouldn't've\": \"should not have\", \"so've\": \"so have\",\"so's\": \"so as\",\n",
    "                           \"this's\": \"this is\",\"that'd\": \"that would\", \"that'd've\": \"that would have\", \"that's\": \"that is\", \"there'd\": \"there would\",\n",
    "                           \"there'd've\": \"there would have\", \"there's\": \"there is\", \"here's\": \"here is\",\"they'd\": \"they would\", \"they'd've\": \"they would have\",\n",
    "                           \"they'll\": \"they will\", \"they'll've\": \"they will have\", \"they're\": \"they are\", \"they've\": \"they have\", \"to've\": \"to have\",\n",
    "                           \"wasn't\": \"was not\", \"we'd\": \"we would\", \"we'd've\": \"we would have\", \"we'll\": \"we will\", \"we'll've\": \"we will have\", \"we're\": \"we are\",\n",
    "                           \"we've\": \"we have\", \"weren't\": \"were not\", \"what'll\": \"what will\", \"what'll've\": \"what will have\", \"what're\": \"what are\",\n",
    "                           \"what's\": \"what is\", \"what've\": \"what have\", \"when's\": \"when is\", \"when've\": \"when have\", \"where'd\": \"where did\", \"where's\": \"where is\",\n",
    "                           \"where've\": \"where have\", \"who'll\": \"who will\", \"who'll've\": \"who will have\", \"who's\": \"who is\", \"who've\": \"who have\",\n",
    "                           \"why's\": \"why is\", \"why've\": \"why have\", \"will've\": \"will have\", \"won't\": \"will not\", \"won't've\": \"will not have\",\n",
    "                           \"would've\": \"would have\", \"wouldn't\": \"would not\", \"wouldn't've\": \"would not have\", \"y'all\": \"you all\",\n",
    "                           \"y'all'd\": \"you all would\",\"y'all'd've\": \"you all would have\",\"y'all're\": \"you all are\",\"y'all've\": \"you all have\",\n",
    "                           \"you'd\": \"you would\", \"you'd've\": \"you would have\", \"you'll\": \"you will\", \"you'll've\": \"you will have\",\n",
    "                           \"you're\": \"you are\", \"you've\": \"you have\"}\n",
    "\n",
    "print(\"정규화 사전의 수: \",len(contractions))"
   ]
  },
  {
   "cell_type": "code",
   "execution_count": 8,
   "id": "suburban-attempt",
   "metadata": {},
   "outputs": [],
   "source": [
    "#불용어 제거를 위한 함수 구현\n",
    "\n",
    "#데이터 전처리 함수\n",
    "def preprocess_sentence(sentence, remove_stopwords=True):\n",
    "    sentence = sentence.lower() # 텍스트 소문자화\n",
    "    sentence = BeautifulSoup(sentence, \"lxml\").text # <br />, <a href = ...> 등의 html 태그 제거\n",
    "    sentence = re.sub(r'\\([^)]*\\)', '', sentence) # 괄호로 닫힌 문자열 (...) 제거 Ex) my husband (and myself!) for => my husband for\n",
    "    sentence = re.sub('\"','', sentence) # 쌍따옴표 \" 제거\n",
    "    sentence = ' '.join([contractions[t] if t in contractions else t for t in sentence.split(\" \")]) # 약어 정규화\n",
    "    sentence = re.sub(r\"'s\\b\",\"\",sentence) # 소유격 제거. Ex) roland's -> roland\n",
    "    sentence = re.sub(\"[^a-zA-Z]\", \" \", sentence) # 영어 외 문자(숫자, 특수문자 등) 공백으로 변환\n",
    "    sentence = re.sub('[m]{2,}', 'mm', sentence) # m이 3개 이상이면 2개로 변경. Ex) ummmmmmm yeah -> umm yeah\n",
    "    \n",
    "    # 불용어 제거 (Text)\n",
    "    if remove_stopwords:\n",
    "        tokens = ' '.join(word for word in sentence.split() if not word in stopwords.words('english') if len(word) > 1)\n",
    "    # 불용어 미제거 (headllines)\n",
    "    else:\n",
    "        tokens = ' '.join(word for word in sentence.split() if len(word) > 1)\n",
    "    return tokens"
   ]
  },
  {
   "cell_type": "code",
   "execution_count": 9,
   "id": "extensive-blackberry",
   "metadata": {},
   "outputs": [
    {
     "data": {
      "text/plain": [
       "['saurav kant alumnus upgrad iiit pg program machine learning artificial intelligence sr systems engineer infosys almost years work experience program upgrad degree career support helped transition data scientist tech mahindra salary hike upgrad online power learning powered lakh careers',\n",
       " 'kunal shah credit card bill payment platform cred gave users chance win free food swiggy one year pranav kaushik delhi techie bagged reward spending cred coins users get one cred coin per rupee bill paid used avail rewards brands like ixigo bookmyshow ubereats cult fit',\n",
       " 'new zealand defeated india wickets fourth odi hamilton thursday win first match five match odi series india lost international match rohit sharma captaincy consecutive victories dating back march match witnessed india getting seventh lowest total odi cricket history',\n",
       " 'aegon life iterm insurance plan customers enjoy tax benefits premiums paid save taxes plan provides life cover age years also customers options insure critical illnesses disability accidental death benefit rider life cover age years',\n",
       " 'speaking sexual harassment allegations rajkumar hirani sonam kapoor said known hirani many years true metoo movement get derailed metoo movement always believe woman case need reserve judgment added hirani accused assistant worked sanju']"
      ]
     },
     "execution_count": 9,
     "metadata": {},
     "output_type": "execute_result"
    }
   ],
   "source": [
    "# text데이터 전처리\n",
    "\n",
    "clean_text = []\n",
    "\n",
    "for s in data['text']:\n",
    "    clean_text.append(preprocess_sentence(s))\n",
    "\n",
    "# 전처리 후 출력\n",
    "clean_text[:5]"
   ]
  },
  {
   "cell_type": "code",
   "execution_count": 10,
   "id": "considered-bloom",
   "metadata": {},
   "outputs": [
    {
     "data": {
      "text/plain": [
       "['upgrad learner switches to career in ml al with salary hike',\n",
       " 'delhi techie wins free food from swiggy for one year on cred',\n",
       " 'new zealand end rohit sharma led india match winning streak',\n",
       " 'aegon life iterm insurance plan helps customers save tax',\n",
       " 'have known hirani for yrs what if metoo claims are not true sonam']"
      ]
     },
     "execution_count": 10,
     "metadata": {},
     "output_type": "execute_result"
    }
   ],
   "source": [
    "# headlines데이터 전처리\n",
    "\n",
    "clean_headlines = []\n",
    "\n",
    "\n",
    "for s in data['headlines']:\n",
    "    clean_headlines.append(preprocess_sentence(s, False))\n",
    "                            # 불용어 처리 하지 않으므로 False\n",
    "clean_headlines[:5]"
   ]
  },
  {
   "cell_type": "code",
   "execution_count": 11,
   "id": "suspended-reconstruction",
   "metadata": {},
   "outputs": [],
   "source": [
    "#empty 샘플 확인\n",
    "\n",
    "data['text'] = clean_text\n",
    "data['headlines'] = clean_headlines\n",
    "\n",
    "# 빈 값을 Null 값으로 변환\n",
    "data.replace('', np.nan, inplace=True)"
   ]
  },
  {
   "cell_type": "code",
   "execution_count": 12,
   "id": "south-stomach",
   "metadata": {},
   "outputs": [
    {
     "data": {
      "text/plain": [
       "headlines    0\n",
       "text         0\n",
       "dtype: int64"
      ]
     },
     "execution_count": 12,
     "metadata": {},
     "output_type": "execute_result"
    }
   ],
   "source": [
    "#data 내부 Null 확인\n",
    "\n",
    "data.isnull().sum()"
   ]
  },
  {
   "cell_type": "markdown",
   "id": "ruled-mapping",
   "metadata": {},
   "source": [
    "Null 없음"
   ]
  },
  {
   "cell_type": "code",
   "execution_count": 13,
   "id": "weighted-worst",
   "metadata": {},
   "outputs": [
    {
     "name": "stdout",
     "output_type": "stream",
     "text": [
      "텍스트의 최소 길이 : 1\n",
      "텍스트의 최대 길이 : 60\n",
      "텍스트의 평균 길이 : 35.09968483123221\n",
      "요약의 최소 길이 : 1\n",
      "요약의 최대 길이 : 16\n",
      "요약의 평균 길이 : 9.299532330215534\n"
     ]
    },
    {
     "data": {
      "image/png": "[encoded data removed]",
      "text/plain": [
       "<Figure size 432x288 with 2 Axes>"
      ]
     },
     "metadata": {
      "needs_background": "light"
     },
     "output_type": "display_data"
    },
    {
     "data": {
      "image/png": "[encoded data removed]",
      "text/plain": [
       "<Figure size 432x288 with 1 Axes>"
      ]
     },
     "metadata": {
      "needs_background": "light"
     },
     "output_type": "display_data"
    },
    {
     "data": {
      "image/png": "[encoded data removed]",
      "text/plain": [
       "<Figure size 432x288 with 1 Axes>"
      ]
     },
     "metadata": {
      "needs_background": "light"
     },
     "output_type": "display_data"
    }
   ],
   "source": [
    "# 길이 분포 출력\n",
    "import matplotlib.pyplot as plt\n",
    "\n",
    "text_len = [len(s.split()) for s in data['text']]\n",
    "headlines_len = [len(s.split()) for s in data['headlines']]\n",
    "\n",
    "print('텍스트의 최소 길이 : {}'.format(np.min(text_len)))\n",
    "print('텍스트의 최대 길이 : {}'.format(np.max(text_len)))\n",
    "print('텍스트의 평균 길이 : {}'.format(np.mean(text_len)))\n",
    "print('요약의 최소 길이 : {}'.format(np.min(headlines_len)))\n",
    "print('요약의 최대 길이 : {}'.format(np.max(headlines_len)))\n",
    "print('요약의 평균 길이 : {}'.format(np.mean(headlines_len)))\n",
    "\n",
    "plt.subplot(1,2,1)\n",
    "plt.boxplot(headlines_len)\n",
    "plt.title('headlines')\n",
    "plt.subplot(1,2,2)\n",
    "plt.boxplot(text_len)\n",
    "plt.title('text')\n",
    "plt.tight_layout()\n",
    "plt.show()\n",
    "\n",
    "plt.title('headlines')\n",
    "plt.hist(headlines_len, bins = 40)\n",
    "plt.xlabel('length of samples')\n",
    "plt.ylabel('number of samples')\n",
    "plt.show()\n",
    "\n",
    "plt.title('text')\n",
    "plt.hist(text_len, bins = 40)\n",
    "plt.xlabel('length of samples')\n",
    "plt.ylabel('number of samples')\n",
    "plt.show()"
   ]
  },
  {
   "cell_type": "code",
   "execution_count": 14,
   "id": "fresh-investigation",
   "metadata": {},
   "outputs": [],
   "source": [
    "# 샘플 최대길히 제한\n",
    "\n",
    "text_max_len = 41\n",
    "headlines_max_len = 11"
   ]
  },
  {
   "cell_type": "code",
   "execution_count": 15,
   "id": "outdoor-attachment",
   "metadata": {},
   "outputs": [],
   "source": [
    "def below_threshold_len(max_len, nested_list):\n",
    "  cnt = 0\n",
    "  for s in nested_list:\n",
    "    if(len(s.split()) <= max_len):\n",
    "        cnt = cnt + 1\n",
    "  print('전체 샘플 중 길이가 %s 이하인 샘플의 비율: %s'%(max_len, (cnt / len(nested_list))))"
   ]
  },
  {
   "cell_type": "code",
   "execution_count": 16,
   "id": "breeding-adventure",
   "metadata": {},
   "outputs": [
    {
     "name": "stdout",
     "output_type": "stream",
     "text": [
      "전체 샘플 중 길이가 41 이하인 샘플의 비율: 0.9549613664091094\n",
      "전체 샘플 중 길이가 11 이하인 샘플의 비율: 0.9449877999186661\n"
     ]
    }
   ],
   "source": [
    "below_threshold_len(text_max_len, data['text'])\n",
    "below_threshold_len(headlines_max_len,  data['headlines'])"
   ]
  },
  {
   "cell_type": "code",
   "execution_count": 17,
   "id": "racial-saskatchewan",
   "metadata": {},
   "outputs": [
    {
     "name": "stdout",
     "output_type": "stream",
     "text": [
      "전체 샘플수 : 88749\n"
     ]
    }
   ],
   "source": [
    "# 최대길이보다 긴 데이터 제외\n",
    "\n",
    "data = data[data['text'].apply(lambda x: len(x.split()) <= text_max_len)]\n",
    "data = data[data['headlines'].apply(lambda x: len(x.split()) <= headlines_max_len)]\n",
    "print('전체 샘플수 :',(len(data)))"
   ]
  },
  {
   "cell_type": "code",
   "execution_count": 18,
   "id": "gentle-valuable",
   "metadata": {},
   "outputs": [
    {
     "data": {
      "text/html": [
       "<div>\n",
       "<style scoped>\n",
       "    .dataframe tbody tr th:only-of-type {\n",
       "        vertical-align: middle;\n",
       "    }\n",
       "\n",
       "    .dataframe tbody tr th {\n",
       "        vertical-align: top;\n",
       "    }\n",
       "\n",
       "    .dataframe thead th {\n",
       "        text-align: right;\n",
       "    }\n",
       "</style>\n",
       "<table border=\"1\" class=\"dataframe\">\n",
       "  <thead>\n",
       "    <tr style=\"text-align: right;\">\n",
       "      <th></th>\n",
       "      <th>headlines</th>\n",
       "      <th>text</th>\n",
       "      <th>decoder_input</th>\n",
       "      <th>decoder_target</th>\n",
       "    </tr>\n",
       "  </thead>\n",
       "  <tbody>\n",
       "    <tr>\n",
       "      <th>0</th>\n",
       "      <td>upgrad learner switches to career in ml al wit...</td>\n",
       "      <td>saurav kant alumnus upgrad iiit pg program mac...</td>\n",
       "      <td>sostoken upgrad learner switches to career in ...</td>\n",
       "      <td>upgrad learner switches to career in ml al wit...</td>\n",
       "    </tr>\n",
       "    <tr>\n",
       "      <th>2</th>\n",
       "      <td>new zealand end rohit sharma led india match w...</td>\n",
       "      <td>new zealand defeated india wickets fourth odi ...</td>\n",
       "      <td>sostoken new zealand end rohit sharma led indi...</td>\n",
       "      <td>new zealand end rohit sharma led india match w...</td>\n",
       "    </tr>\n",
       "    <tr>\n",
       "      <th>3</th>\n",
       "      <td>aegon life iterm insurance plan helps customer...</td>\n",
       "      <td>aegon life iterm insurance plan customers enjo...</td>\n",
       "      <td>sostoken aegon life iterm insurance plan helps...</td>\n",
       "      <td>aegon life iterm insurance plan helps customer...</td>\n",
       "    </tr>\n",
       "    <tr>\n",
       "      <th>5</th>\n",
       "      <td>rahat fateh ali khan denies getting notice for...</td>\n",
       "      <td>pakistani singer rahat fateh ali khan denied r...</td>\n",
       "      <td>sostoken rahat fateh ali khan denies getting n...</td>\n",
       "      <td>rahat fateh ali khan denies getting notice for...</td>\n",
       "    </tr>\n",
       "    <tr>\n",
       "      <th>7</th>\n",
       "      <td>govt directs alok verma to join work day befor...</td>\n",
       "      <td>weeks ex cbi director alok verma told departme...</td>\n",
       "      <td>sostoken govt directs alok verma to join work ...</td>\n",
       "      <td>govt directs alok verma to join work day befor...</td>\n",
       "    </tr>\n",
       "  </tbody>\n",
       "</table>\n",
       "</div>"
      ],
      "text/plain": [
       "                                           headlines  \\\n",
       "0  upgrad learner switches to career in ml al wit...   \n",
       "2  new zealand end rohit sharma led india match w...   \n",
       "3  aegon life iterm insurance plan helps customer...   \n",
       "5  rahat fateh ali khan denies getting notice for...   \n",
       "7  govt directs alok verma to join work day befor...   \n",
       "\n",
       "                                                text  \\\n",
       "0  saurav kant alumnus upgrad iiit pg program mac...   \n",
       "2  new zealand defeated india wickets fourth odi ...   \n",
       "3  aegon life iterm insurance plan customers enjo...   \n",
       "5  pakistani singer rahat fateh ali khan denied r...   \n",
       "7  weeks ex cbi director alok verma told departme...   \n",
       "\n",
       "                                       decoder_input  \\\n",
       "0  sostoken upgrad learner switches to career in ...   \n",
       "2  sostoken new zealand end rohit sharma led indi...   \n",
       "3  sostoken aegon life iterm insurance plan helps...   \n",
       "5  sostoken rahat fateh ali khan denies getting n...   \n",
       "7  sostoken govt directs alok verma to join work ...   \n",
       "\n",
       "                                      decoder_target  \n",
       "0  upgrad learner switches to career in ml al wit...  \n",
       "2  new zealand end rohit sharma led india match w...  \n",
       "3  aegon life iterm insurance plan helps customer...  \n",
       "5  rahat fateh ali khan denies getting notice for...  \n",
       "7  govt directs alok verma to join work day befor...  "
      ]
     },
     "execution_count": 18,
     "metadata": {},
     "output_type": "execute_result"
    }
   ],
   "source": [
    "# 시작토큰, 종료토큰 추가\n",
    "\n",
    "data['decoder_input'] = data['headlines'].apply(lambda x : 'sostoken '+ x)\n",
    "data['decoder_target'] = data['headlines'].apply(lambda x : x + ' eostoken')\n",
    "data.head()"
   ]
  },
  {
   "cell_type": "code",
   "execution_count": 19,
   "id": "approved-stewart",
   "metadata": {},
   "outputs": [],
   "source": [
    "# 인코더 입력, 디코더 입력, 레이블 각각 Numpy 타입으로 저장\n",
    "\n",
    "encoder_input = np.array(data['text']) # 인코더의 입력\n",
    "decoder_input = np.array(data['decoder_input']) # 디코더의 입력\n",
    "decoder_target = np.array(data['decoder_target']) # 디코더의 레이블"
   ]
  },
  {
   "cell_type": "code",
   "execution_count": 20,
   "id": "suitable-estimate",
   "metadata": {},
   "outputs": [
    {
     "name": "stdout",
     "output_type": "stream",
     "text": [
      "[  541 83017 63209 ... 88390 30949  8031]\n"
     ]
    }
   ],
   "source": [
    "# 정수 시퀀스 생성\n",
    "\n",
    "indices = np.arange(encoder_input.shape[0])\n",
    "np.random.shuffle(indices)\n",
    "print(indices)"
   ]
  },
  {
   "cell_type": "code",
   "execution_count": 21,
   "id": "solved-cheat",
   "metadata": {},
   "outputs": [],
   "source": [
    "# 정수 시퀀스를 이용하여 데이터 순서 재정의\n",
    "\n",
    "encoder_input = encoder_input[indices]\n",
    "decoder_input = decoder_input[indices]\n",
    "decoder_target = decoder_target[indices]"
   ]
  },
  {
   "cell_type": "code",
   "execution_count": 22,
   "id": "compatible-heading",
   "metadata": {},
   "outputs": [
    {
     "name": "stdout",
     "output_type": "stream",
     "text": [
      "테스트 데이터의 수 : 17749\n"
     ]
    }
   ],
   "source": [
    "#test set 비율 지정\n",
    "\n",
    "n_of_val = int(len(encoder_input)*0.2)\n",
    "print('테스트 데이터의 수 :',n_of_val)"
   ]
  },
  {
   "cell_type": "code",
   "execution_count": 23,
   "id": "comprehensive-annotation",
   "metadata": {},
   "outputs": [
    {
     "name": "stdout",
     "output_type": "stream",
     "text": [
      "훈련 데이터의 개수 : 71000\n",
      "훈련 레이블의 개수 : 71000\n",
      "테스트 데이터의 개수 : 17749\n",
      "테스트 레이블의 개수 : 17749\n"
     ]
    }
   ],
   "source": [
    "# train, test 분리\n",
    "\n",
    "encoder_input_train = encoder_input[:-n_of_val]\n",
    "decoder_input_train = decoder_input[:-n_of_val]\n",
    "decoder_target_train = decoder_target[:-n_of_val]\n",
    "\n",
    "encoder_input_test = encoder_input[-n_of_val:]\n",
    "decoder_input_test = decoder_input[-n_of_val:]\n",
    "decoder_target_test = decoder_target[-n_of_val:]\n",
    "\n",
    "print('훈련 데이터의 개수 :', len(encoder_input_train))\n",
    "print('훈련 레이블의 개수 :',len(decoder_input_train))\n",
    "print('테스트 데이터의 개수 :',len(encoder_input_test))\n",
    "print('테스트 레이블의 개수 :',len(decoder_input_test))"
   ]
  },
  {
   "cell_type": "code",
   "execution_count": 24,
   "id": "cross-wallace",
   "metadata": {},
   "outputs": [],
   "source": [
    "# train 단어집합 생성\n",
    "\n",
    "src_tokenizer = Tokenizer() # 토크나이저 정의\n",
    "src_tokenizer.fit_on_texts(encoder_input_train) # 입력된 데이터로부터 단어 집합 생성"
   ]
  },
  {
   "cell_type": "code",
   "execution_count": 25,
   "id": "musical-forum",
   "metadata": {},
   "outputs": [
    {
     "name": "stdout",
     "output_type": "stream",
     "text": [
      "단어 집합(vocabulary)의 크기 : 66025\n",
      "등장 빈도가 6번 이하인 희귀 단어의 수: 45029\n",
      "단어 집합에서 희귀 단어를 제외시킬 경우의 단어 집합의 크기 20996\n",
      "단어 집합에서 희귀 단어의 비율: 68.19992427110942\n",
      "전체 등장 빈도에서 희귀 단어 등장 빈도 비율: 3.7082497220160078\n"
     ]
    }
   ],
   "source": [
    "#등장 빈도수 탐색\n",
    "\n",
    "threshold = 7\n",
    "total_cnt = len(src_tokenizer.word_index) # 단어의 수\n",
    "rare_cnt = 0 # 등장 빈도수가 threshold보다 작은 단어의 개수를 카운트\n",
    "total_freq = 0 # 훈련 데이터의 전체 단어 빈도수 총 합\n",
    "rare_freq = 0 # 등장 빈도수가 threshold보다 작은 단어의 등장 빈도수의 총 합\n",
    "\n",
    "# 단어와 빈도수의 쌍(pair)을 key와 value로 받는다.\n",
    "for key, value in src_tokenizer.word_counts.items():\n",
    "    total_freq = total_freq + value\n",
    "\n",
    "    # 단어의 등장 빈도수가 threshold보다 작으면\n",
    "    if(value < threshold):\n",
    "        rare_cnt = rare_cnt + 1\n",
    "        rare_freq = rare_freq + value\n",
    "\n",
    "print('단어 집합(vocabulary)의 크기 :',total_cnt)\n",
    "print('등장 빈도가 %s번 이하인 희귀 단어의 수: %s'%(threshold - 1, rare_cnt))\n",
    "print('단어 집합에서 희귀 단어를 제외시킬 경우의 단어 집합의 크기 %s'%(total_cnt - rare_cnt))\n",
    "print(\"단어 집합에서 희귀 단어의 비율:\", (rare_cnt / total_cnt)*100)\n",
    "print(\"전체 등장 빈도에서 희귀 단어 등장 빈도 비율:\", (rare_freq / total_freq)*100)"
   ]
  },
  {
   "cell_type": "code",
   "execution_count": 26,
   "id": "bored-hindu",
   "metadata": {},
   "outputs": [],
   "source": [
    "#단어집합 크기 제한\n",
    "\n",
    "src_vocab = 20000\n",
    "src_tokenizer = Tokenizer(num_words = src_vocab) # 단어 집합의 크기를 20,000으로 제한\n",
    "src_tokenizer.fit_on_texts(encoder_input_train) # 단어 집합 재생성."
   ]
  },
  {
   "cell_type": "code",
   "execution_count": 27,
   "id": "collective-bunch",
   "metadata": {},
   "outputs": [
    {
     "name": "stdout",
     "output_type": "stream",
     "text": [
      "[[76, 7944, 8065, 6024, 327, 916, 2935, 4705, 160, 13, 4221, 213, 4705, 582, 1677, 98, 18331, 140, 2589, 916, 2935, 4705, 37, 14500, 12172, 12963, 13, 6, 866, 2077, 786, 1, 2309, 4705, 2421, 140, 836], [2, 110, 407, 220, 11795, 1085, 552, 400, 131, 1499, 1021, 4292, 248, 3564, 626, 84, 1085, 552, 708, 412, 1984, 23, 1100, 2925, 579, 1063, 85, 220, 1021, 110, 1359, 1201, 6, 2685, 552, 144, 224, 359, 1209], [860, 21, 2022, 66, 8885, 1855, 5088, 7032, 1737, 935, 45, 134, 904, 289, 1076, 2496, 154, 14501, 1548, 4409, 1475, 872, 16541, 78, 1, 33, 5, 134, 40, 1222, 1855, 8, 2128, 4060, 2253]]\n"
     ]
    }
   ],
   "source": [
    "# 텍스트 시퀀스를 정수 시퀀스로 변환\n",
    "encoder_input_train = src_tokenizer.texts_to_sequences(encoder_input_train) \n",
    "encoder_input_test = src_tokenizer.texts_to_sequences(encoder_input_test)\n",
    "\n",
    "#잘 진행되었는지 샘플 출력\n",
    "print(encoder_input_train[:3])"
   ]
  },
  {
   "cell_type": "code",
   "execution_count": 28,
   "id": "beginning-instruction",
   "metadata": {},
   "outputs": [],
   "source": [
    "# test 안어집합 생성\n",
    "\n",
    "tar_tokenizer = Tokenizer()\n",
    "tar_tokenizer.fit_on_texts(decoder_input_train)"
   ]
  },
  {
   "cell_type": "code",
   "execution_count": 29,
   "id": "national-japanese",
   "metadata": {},
   "outputs": [
    {
     "name": "stdout",
     "output_type": "stream",
     "text": [
      "단어 집합(vocabulary)의 크기 : 28893\n",
      "등장 빈도가 5번 이하인 희귀 단어의 수: 19030\n",
      "단어 집합에서 희귀 단어를 제외시킬 경우의 단어 집합의 크기 9863\n",
      "단어 집합에서 희귀 단어의 비율: 65.86370401135223\n",
      "전체 등장 빈도에서 희귀 단어 등장 빈도 비율: 5.083628413354956\n"
     ]
    }
   ],
   "source": [
    "# 빈도수 탐색\n",
    "\n",
    "threshold = 6\n",
    "total_cnt = len(tar_tokenizer.word_index) # 단어의 수\n",
    "rare_cnt = 0 # 등장 빈도수가 threshold보다 작은 단어의 개수를 카운트\n",
    "total_freq = 0 # 훈련 데이터의 전체 단어 빈도수 총 합\n",
    "rare_freq = 0 # 등장 빈도수가 threshold보다 작은 단어의 등장 빈도수의 총 합\n",
    "\n",
    "# 단어와 빈도수의 쌍(pair)을 key와 value로 받는다.\n",
    "for key, value in tar_tokenizer.word_counts.items():\n",
    "    total_freq = total_freq + value\n",
    "\n",
    "    # 단어의 등장 빈도수가 threshold보다 작으면\n",
    "    if(value < threshold):\n",
    "        rare_cnt = rare_cnt + 1\n",
    "        rare_freq = rare_freq + value\n",
    "\n",
    "print('단어 집합(vocabulary)의 크기 :',total_cnt)\n",
    "print('등장 빈도가 %s번 이하인 희귀 단어의 수: %s'%(threshold - 1, rare_cnt))\n",
    "print('단어 집합에서 희귀 단어를 제외시킬 경우의 단어 집합의 크기 %s'%(total_cnt - rare_cnt))\n",
    "print(\"단어 집합에서 희귀 단어의 비율:\", (rare_cnt / total_cnt)*100)\n",
    "print(\"전체 등장 빈도에서 희귀 단어 등장 빈도 비율:\", (rare_freq / total_freq)*100)"
   ]
  },
  {
   "cell_type": "code",
   "execution_count": 30,
   "id": "fifth-alabama",
   "metadata": {},
   "outputs": [
    {
     "name": "stdout",
     "output_type": "stream",
     "text": [
      "input\n",
      "input  [[1, 908, 9, 5280, 19, 100, 103, 9, 5281], [1, 466, 104, 1059, 248, 1476, 5, 855], [1, 378, 1338, 6092, 1582, 3518, 33], [1, 166, 225, 516, 790, 3743, 2286, 5280, 531], [1, 157, 3744, 1076, 138, 763, 461, 2674, 5, 1537]]\n",
      "target\n",
      "decoder  [[908, 9, 5280, 19, 100, 103, 9, 5281, 2], [466, 104, 1059, 248, 1476, 5, 855, 2], [378, 1338, 6092, 1582, 3518, 33, 2], [166, 225, 516, 790, 3743, 2286, 5280, 531, 2], [157, 3744, 1076, 138, 763, 461, 2674, 5, 1537, 2]]\n"
     ]
    }
   ],
   "source": [
    "# 단어집합 크기 제한\n",
    "\n",
    "tar_vocab = 9500\n",
    "tar_tokenizer = Tokenizer(num_words = tar_vocab) \n",
    "tar_tokenizer.fit_on_texts(decoder_input_train)\n",
    "tar_tokenizer.fit_on_texts(decoder_target_train)\n",
    "\n",
    "# 텍스트 시퀀스를 정수 시퀀스로 변환\n",
    "decoder_input_train = tar_tokenizer.texts_to_sequences(decoder_input_train) \n",
    "decoder_target_train = tar_tokenizer.texts_to_sequences(decoder_target_train)\n",
    "decoder_input_test = tar_tokenizer.texts_to_sequences(decoder_input_test)\n",
    "decoder_target_test = tar_tokenizer.texts_to_sequences(decoder_target_test)\n",
    "\n",
    "#잘 변환되었는지 확인\n",
    "print('input')\n",
    "print('input ',decoder_input_train[:5])\n",
    "print('target')\n",
    "print('decoder ',decoder_target_train[:5])"
   ]
  },
  {
   "cell_type": "code",
   "execution_count": 31,
   "id": "owned-theme",
   "metadata": {},
   "outputs": [
    {
     "name": "stdout",
     "output_type": "stream",
     "text": [
      "삭제할 훈련 데이터의 개수 : 1\n",
      "삭제할 테스트 데이터의 개수 : 0\n",
      "훈련 데이터의 개수 : 70999\n",
      "훈련 레이블의 개수 : 70999\n",
      "테스트 데이터의 개수 : 17749\n",
      "테스트 레이블의 개수 : 17749\n"
     ]
    },
    {
     "name": "stderr",
     "output_type": "stream",
     "text": [
      "/home/aiffel-dj48/Downloads/aiffel/envs/aiffel/lib/python3.7/site-packages/numpy/core/_asarray.py:83: VisibleDeprecationWarning: Creating an ndarray from ragged nested sequences (which is a list-or-tuple of lists-or-tuples-or ndarrays with different lengths or shapes) is deprecated. If you meant to do this, you must specify 'dtype=object' when creating the ndarray\n",
      "  return array(a, dtype, copy=False, order=order)\n"
     ]
    }
   ],
   "source": [
    "# 길이가 1인 인덱스 탐색\n",
    "\n",
    "drop_train = [index for index, sentence in enumerate(decoder_input_train) if len(sentence) == 1]\n",
    "drop_test = [index for index, sentence in enumerate(decoder_input_test) if len(sentence) == 1]\n",
    "\n",
    "print('삭제할 훈련 데이터의 개수 :',len(drop_train))\n",
    "print('삭제할 테스트 데이터의 개수 :',len(drop_test))\n",
    "\n",
    "encoder_input_train = np.delete(encoder_input_train, drop_train, axis=0)\n",
    "decoder_input_train = np.delete(decoder_input_train, drop_train, axis=0)\n",
    "decoder_target_train = np.delete(decoder_target_train, drop_train, axis=0)\n",
    "\n",
    "encoder_input_test = np.delete(encoder_input_test, drop_test, axis=0)\n",
    "decoder_input_test = np.delete(decoder_input_test, drop_test, axis=0)\n",
    "decoder_target_test = np.delete(decoder_target_test, drop_test, axis=0)\n",
    "\n",
    "print('훈련 데이터의 개수 :', len(encoder_input_train))\n",
    "print('훈련 레이블의 개수 :',len(decoder_input_train))\n",
    "print('테스트 데이터의 개수 :',len(encoder_input_test))\n",
    "print('테스트 레이블의 개수 :',len(decoder_input_test))"
   ]
  },
  {
   "cell_type": "code",
   "execution_count": 32,
   "id": "aging-safety",
   "metadata": {},
   "outputs": [],
   "source": [
    "# 최대 길이에 맞게 패딩\n",
    "\n",
    "encoder_input_train = pad_sequences(encoder_input_train, maxlen = text_max_len, padding='post')\n",
    "encoder_input_test = pad_sequences(encoder_input_test, maxlen = text_max_len, padding='post')\n",
    "decoder_input_train = pad_sequences(decoder_input_train, maxlen = headlines_max_len, padding='post')\n",
    "decoder_target_train = pad_sequences(decoder_target_train, maxlen = headlines_max_len, padding='post')\n",
    "decoder_input_test = pad_sequences(decoder_input_test, maxlen = headlines_max_len, padding='post')\n",
    "decoder_target_test = pad_sequences(decoder_target_test, maxlen = headlines_max_len, padding='post')"
   ]
  },
  {
   "cell_type": "markdown",
   "id": "emotional-filling",
   "metadata": {},
   "source": [
    "## 11.3 모델 생성(추상적 요약)"
   ]
  },
  {
   "cell_type": "code",
   "execution_count": 33,
   "id": "historic-dominant",
   "metadata": {},
   "outputs": [
    {
     "name": "stdout",
     "output_type": "stream",
     "text": [
      "WARNING:tensorflow:Layer lstm will not use cuDNN kernel since it doesn't meet the cuDNN kernel criteria. It will use generic GPU kernel as fallback when running on GPU\n",
      "WARNING:tensorflow:Layer lstm_1 will not use cuDNN kernel since it doesn't meet the cuDNN kernel criteria. It will use generic GPU kernel as fallback when running on GPU\n",
      "WARNING:tensorflow:Layer lstm_2 will not use cuDNN kernel since it doesn't meet the cuDNN kernel criteria. It will use generic GPU kernel as fallback when running on GPU\n"
     ]
    }
   ],
   "source": [
    "# 인코더 설계\n",
    "\n",
    "from tensorflow.keras.layers import Input, LSTM, Embedding, Dense, Concatenate\n",
    "from tensorflow.keras.models import Model\n",
    "from tensorflow.keras.callbacks import EarlyStopping, ModelCheckpoint\n",
    "\n",
    "\n",
    "# 인코더 설계 시작\n",
    "embedding_dim = 128\n",
    "hidden_size = 256\n",
    "\n",
    "# 인코더\n",
    "encoder_inputs = Input(shape=(text_max_len,))\n",
    "\n",
    "# 인코더의 임베딩 층\n",
    "enc_emb = Embedding(src_vocab, embedding_dim)(encoder_inputs)\n",
    "\n",
    "# 인코더의 LSTM 1\n",
    "encoder_lstm1 = LSTM(hidden_size, return_sequences=True, return_state=True ,dropout = 0.4, recurrent_dropout = 0.4)\n",
    "encoder_output1, state_h1, state_c1 = encoder_lstm1(enc_emb)\n",
    "\n",
    "# 인코더의 LSTM 2\n",
    "encoder_lstm2 = LSTM(hidden_size, return_sequences=True, return_state=True, dropout=0.4, recurrent_dropout=0.4)\n",
    "encoder_output2, state_h2, state_c2 = encoder_lstm2(encoder_output1)\n",
    "\n",
    "# 인코더의 LSTM 3\n",
    "encoder_lstm3 = LSTM(hidden_size, return_state=True, return_sequences=True, dropout=0.4, recurrent_dropout=0.4)\n",
    "encoder_outputs, state_h, state_c= encoder_lstm3(encoder_output2)"
   ]
  },
  {
   "cell_type": "code",
   "execution_count": 34,
   "id": "supreme-batch",
   "metadata": {},
   "outputs": [
    {
     "name": "stdout",
     "output_type": "stream",
     "text": [
      "WARNING:tensorflow:Layer lstm_3 will not use cuDNN kernel since it doesn't meet the cuDNN kernel criteria. It will use generic GPU kernel as fallback when running on GPU\n"
     ]
    }
   ],
   "source": [
    "# 디코더 설계\n",
    "\n",
    "decoder_inputs = Input(shape=(None,))\n",
    "\n",
    "# 디코더의 임베딩 층\n",
    "dec_emb_layer = Embedding(tar_vocab, embedding_dim)\n",
    "dec_emb = dec_emb_layer(decoder_inputs)\n",
    "\n",
    "# 디코더의 LSTM\n",
    "decoder_lstm = LSTM(hidden_size, return_sequences = True, return_state = True, dropout = 0.4, recurrent_dropout=0.2)\n",
    "decoder_outputs, _, _ = decoder_lstm(dec_emb, initial_state = [state_h, state_c])"
   ]
  },
  {
   "cell_type": "code",
   "execution_count": 35,
   "id": "median-thesaurus",
   "metadata": {},
   "outputs": [
    {
     "name": "stdout",
     "output_type": "stream",
     "text": [
      "Model: \"model\"\n",
      "__________________________________________________________________________________________________\n",
      "Layer (type)                    Output Shape         Param #     Connected to                     \n",
      "==================================================================================================\n",
      "input_1 (InputLayer)            [(None, 41)]         0                                            \n",
      "__________________________________________________________________________________________________\n",
      "embedding (Embedding)           (None, 41, 128)      2560000     input_1[0][0]                    \n",
      "__________________________________________________________________________________________________\n",
      "lstm (LSTM)                     [(None, 41, 256), (N 394240      embedding[0][0]                  \n",
      "__________________________________________________________________________________________________\n",
      "input_2 (InputLayer)            [(None, None)]       0                                            \n",
      "__________________________________________________________________________________________________\n",
      "lstm_1 (LSTM)                   [(None, 41, 256), (N 525312      lstm[0][0]                       \n",
      "__________________________________________________________________________________________________\n",
      "embedding_1 (Embedding)         (None, None, 128)    1216000     input_2[0][0]                    \n",
      "__________________________________________________________________________________________________\n",
      "lstm_2 (LSTM)                   [(None, 41, 256), (N 525312      lstm_1[0][0]                     \n",
      "__________________________________________________________________________________________________\n",
      "lstm_3 (LSTM)                   [(None, None, 256),  394240      embedding_1[0][0]                \n",
      "                                                                 lstm_2[0][1]                     \n",
      "                                                                 lstm_2[0][2]                     \n",
      "__________________________________________________________________________________________________\n",
      "dense (Dense)                   (None, None, 9500)   2441500     lstm_3[0][0]                     \n",
      "==================================================================================================\n",
      "Total params: 8,056,604\n",
      "Trainable params: 8,056,604\n",
      "Non-trainable params: 0\n",
      "__________________________________________________________________________________________________\n"
     ]
    }
   ],
   "source": [
    "# 디코더의 출력층\n",
    "decoder_softmax_layer = Dense(tar_vocab, activation = 'softmax')\n",
    "decoder_softmax_outputs = decoder_softmax_layer(decoder_outputs) \n",
    "\n",
    "# 모델 정의\n",
    "model = Model([encoder_inputs, decoder_inputs], decoder_softmax_outputs)\n",
    "model.summary()"
   ]
  },
  {
   "cell_type": "code",
   "execution_count": 36,
   "id": "suited-organic",
   "metadata": {},
   "outputs": [],
   "source": [
    "#어텐션 함수 다운로드\n",
    "\n",
    "urllib.request.urlretrieve(\"https://raw.githubusercontent.com/thushv89/attention_keras/master/src/layers/attention.py\", filename=\"attention.py\")\n",
    "from attention import AttentionLayer"
   ]
  },
  {
   "cell_type": "code",
   "execution_count": 37,
   "id": "interior-novelty",
   "metadata": {},
   "outputs": [
    {
     "name": "stdout",
     "output_type": "stream",
     "text": [
      "Model: \"model_1\"\n",
      "__________________________________________________________________________________________________\n",
      "Layer (type)                    Output Shape         Param #     Connected to                     \n",
      "==================================================================================================\n",
      "input_1 (InputLayer)            [(None, 41)]         0                                            \n",
      "__________________________________________________________________________________________________\n",
      "embedding (Embedding)           (None, 41, 128)      2560000     input_1[0][0]                    \n",
      "__________________________________________________________________________________________________\n",
      "lstm (LSTM)                     [(None, 41, 256), (N 394240      embedding[0][0]                  \n",
      "__________________________________________________________________________________________________\n",
      "input_2 (InputLayer)            [(None, None)]       0                                            \n",
      "__________________________________________________________________________________________________\n",
      "lstm_1 (LSTM)                   [(None, 41, 256), (N 525312      lstm[0][0]                       \n",
      "__________________________________________________________________________________________________\n",
      "embedding_1 (Embedding)         (None, None, 128)    1216000     input_2[0][0]                    \n",
      "__________________________________________________________________________________________________\n",
      "lstm_2 (LSTM)                   [(None, 41, 256), (N 525312      lstm_1[0][0]                     \n",
      "__________________________________________________________________________________________________\n",
      "lstm_3 (LSTM)                   [(None, None, 256),  394240      embedding_1[0][0]                \n",
      "                                                                 lstm_2[0][1]                     \n",
      "                                                                 lstm_2[0][2]                     \n",
      "__________________________________________________________________________________________________\n",
      "attention_layer (AttentionLayer ((None, None, 256),  131328      lstm_2[0][0]                     \n",
      "                                                                 lstm_3[0][0]                     \n",
      "__________________________________________________________________________________________________\n",
      "concat_layer (Concatenate)      (None, None, 512)    0           lstm_3[0][0]                     \n",
      "                                                                 attention_layer[0][0]            \n",
      "__________________________________________________________________________________________________\n",
      "dense_1 (Dense)                 (None, None, 9500)   4873500     concat_layer[0][0]               \n",
      "==================================================================================================\n",
      "Total params: 10,619,932\n",
      "Trainable params: 10,619,932\n",
      "Non-trainable params: 0\n",
      "__________________________________________________________________________________________________\n"
     ]
    }
   ],
   "source": [
    "#어텐션 적용\n",
    "\n",
    "# 어텐션 층(어텐션 함수)\n",
    "attn_layer = AttentionLayer(name='attention_layer')\n",
    "# 인코더와 디코더의 모든 time step의 hidden state를 어텐션 층에 전달하고 결과를 리턴\n",
    "attn_out, attn_states = attn_layer([encoder_outputs, decoder_outputs])\n",
    "\n",
    "# 어텐션의 결과와 디코더의 hidden state들을 연결\n",
    "decoder_concat_input = Concatenate(axis = -1, name='concat_layer')([decoder_outputs, attn_out])\n",
    "\n",
    "# 디코더의 출력층\n",
    "decoder_softmax_layer = Dense(tar_vocab, activation='softmax')\n",
    "decoder_softmax_outputs = decoder_softmax_layer(decoder_concat_input)\n",
    "\n",
    "# 모델 정의\n",
    "model = Model([encoder_inputs, decoder_inputs], decoder_softmax_outputs)\n",
    "model.summary()"
   ]
  },
  {
   "cell_type": "markdown",
   "id": "viral-intranet",
   "metadata": {},
   "source": [
    "## 11.4 모델 훈련(추상적 요약)"
   ]
  },
  {
   "cell_type": "code",
   "execution_count": 38,
   "id": "connected-career",
   "metadata": {},
   "outputs": [
    {
     "name": "stdout",
     "output_type": "stream",
     "text": [
      "Epoch 1/50\n",
      "278/278 [==============================] - 90s 325ms/step - loss: 5.9921 - val_loss: 5.5868\n",
      "Epoch 2/50\n",
      "278/278 [==============================] - 90s 323ms/step - loss: 5.4560 - val_loss: 5.2089\n",
      "Epoch 3/50\n",
      "278/278 [==============================] - 90s 325ms/step - loss: 5.0939 - val_loss: 4.9079\n",
      "Epoch 4/50\n",
      "278/278 [==============================] - 90s 323ms/step - loss: 4.7926 - val_loss: 4.6970\n",
      "Epoch 5/50\n",
      "278/278 [==============================] - 90s 325ms/step - loss: 4.5639 - val_loss: 4.5483\n",
      "Epoch 6/50\n",
      "278/278 [==============================] - 90s 324ms/step - loss: 4.3777 - val_loss: 4.4329\n",
      "Epoch 7/50\n",
      "278/278 [==============================] - 90s 324ms/step - loss: 4.2152 - val_loss: 4.3211\n",
      "Epoch 8/50\n",
      "278/278 [==============================] - 90s 325ms/step - loss: 4.0734 - val_loss: 4.2326\n",
      "Epoch 9/50\n",
      "278/278 [==============================] - 90s 324ms/step - loss: 3.9452 - val_loss: 4.1533\n",
      "Epoch 10/50\n",
      "278/278 [==============================] - 90s 324ms/step - loss: 3.8318 - val_loss: 4.0996\n",
      "Epoch 11/50\n",
      "278/278 [==============================] - 90s 323ms/step - loss: 3.7273 - val_loss: 4.0671\n",
      "Epoch 12/50\n",
      "278/278 [==============================] - 90s 325ms/step - loss: 3.6353 - val_loss: 4.0163\n",
      "Epoch 13/50\n",
      "278/278 [==============================] - 90s 325ms/step - loss: 3.5498 - val_loss: 3.9882\n",
      "Epoch 14/50\n",
      "278/278 [==============================] - 90s 323ms/step - loss: 3.4750 - val_loss: 3.9376\n",
      "Epoch 15/50\n",
      "278/278 [==============================] - 90s 325ms/step - loss: 3.4047 - val_loss: 3.9188\n",
      "Epoch 16/50\n",
      "278/278 [==============================] - 90s 324ms/step - loss: 3.3399 - val_loss: 3.9041\n",
      "Epoch 17/50\n",
      "278/278 [==============================] - 90s 324ms/step - loss: 3.2799 - val_loss: 3.8776\n",
      "Epoch 18/50\n",
      "278/278 [==============================] - 90s 324ms/step - loss: 3.2256 - val_loss: 3.8776\n",
      "Epoch 19/50\n",
      "278/278 [==============================] - 90s 324ms/step - loss: 3.1715 - val_loss: 3.8429\n",
      "Epoch 20/50\n",
      "278/278 [==============================] - 90s 324ms/step - loss: 3.1180 - val_loss: 3.8424\n",
      "Epoch 21/50\n",
      "278/278 [==============================] - 90s 324ms/step - loss: 3.0683 - val_loss: 3.8271\n",
      "Epoch 22/50\n",
      "278/278 [==============================] - 90s 324ms/step - loss: 3.0254 - val_loss: 3.8177\n",
      "Epoch 23/50\n",
      "278/278 [==============================] - 90s 323ms/step - loss: 2.9875 - val_loss: 3.8144\n",
      "Epoch 24/50\n",
      "278/278 [==============================] - 90s 324ms/step - loss: 2.9515 - val_loss: 3.8154\n",
      "Epoch 25/50\n",
      "278/278 [==============================] - 90s 325ms/step - loss: 2.9152 - val_loss: 3.8094\n",
      "Epoch 26/50\n",
      "278/278 [==============================] - 90s 324ms/step - loss: 2.8783 - val_loss: 3.8127\n",
      "Epoch 27/50\n",
      "278/278 [==============================] - 90s 325ms/step - loss: 2.8427 - val_loss: 3.8153\n",
      "Epoch 00027: early stopping\n"
     ]
    }
   ],
   "source": [
    "#훈련 진행\n",
    "\n",
    "model.compile(optimizer='rmsprop', loss='sparse_categorical_crossentropy')\n",
    "es = EarlyStopping(monitor='val_loss', mode='min', verbose=1, patience = 2)\n",
    "history = model.fit(x = [encoder_input_train, decoder_input_train], y = decoder_target_train, \\\n",
    "          validation_data = ([encoder_input_test, decoder_input_test], decoder_target_test),\n",
    "          batch_size = 256, callbacks=[es], epochs = 50)"
   ]
  },
  {
   "cell_type": "code",
   "execution_count": 39,
   "id": "educational-confidentiality",
   "metadata": {},
   "outputs": [
    {
     "data": {
      "image/png": "[encoded data removed]",
      "text/plain": [
       "<Figure size 432x288 with 1 Axes>"
      ]
     },
     "metadata": {
      "needs_background": "light"
     },
     "output_type": "display_data"
    }
   ],
   "source": [
    "# loss 변화율 시각화\n",
    "\n",
    "plt.plot(history.history['loss'], label='train')\n",
    "plt.plot(history.history['val_loss'], label='test')\n",
    "plt.legend()\n",
    "plt.show()"
   ]
  },
  {
   "cell_type": "markdown",
   "id": "enormous-precipitation",
   "metadata": {},
   "source": [
    "## 11.5 인퍼런스 모델 구현"
   ]
  },
  {
   "cell_type": "code",
   "execution_count": 40,
   "id": "sitting-trinidad",
   "metadata": {},
   "outputs": [],
   "source": [
    "#정수데이터 복원을 위한 사전 구성\n",
    "\n",
    "src_index_to_word = src_tokenizer.index_word # 원문 단어 집합에서 정수 -> 단어를 얻음\n",
    "tar_word_to_index = tar_tokenizer.word_index # 요약 단어 집합에서 단어 -> 정수를 얻음\n",
    "tar_index_to_word = tar_tokenizer.index_word # 요약 단어 집합에서 정수 -> 단어를 얻음"
   ]
  },
  {
   "cell_type": "code",
   "execution_count": 41,
   "id": "tender-donor",
   "metadata": {},
   "outputs": [],
   "source": [
    "# 인코더 설계\n",
    "encoder_model = Model(inputs=encoder_inputs, outputs=[encoder_outputs, state_h, state_c])\n",
    "\n",
    "# 이전 시점의 상태들을 저장하는 텐서\n",
    "decoder_state_input_h = Input(shape=(hidden_size,))\n",
    "decoder_state_input_c = Input(shape=(hidden_size,))\n",
    "\n",
    "dec_emb2 = dec_emb_layer(decoder_inputs)\n",
    "# 문장의 다음 단어를 예측하기 위해서 초기 상태(initial_state)를 이전 시점의 상태로 사용. 이는 뒤의 함수 decode_sequence()에 구현\n",
    "# 훈련 과정에서와 달리 LSTM의 리턴하는 은닉 상태와 셀 상태인 state_h와 state_c를 버리지 않음.\n",
    "decoder_outputs2, state_h2, state_c2 = decoder_lstm(dec_emb2, initial_state=[decoder_state_input_h, decoder_state_input_c])"
   ]
  },
  {
   "cell_type": "code",
   "execution_count": 42,
   "id": "better-douglas",
   "metadata": {},
   "outputs": [],
   "source": [
    "# 출력층 생성\n",
    "\n",
    "# 어텐션 함수\n",
    "decoder_hidden_state_input = Input(shape=(text_max_len, hidden_size))\n",
    "attn_out_inf, attn_states_inf = attn_layer([decoder_hidden_state_input, decoder_outputs2])\n",
    "decoder_inf_concat = Concatenate(axis=-1, name='concat')([decoder_outputs2, attn_out_inf])\n",
    "\n",
    "# 디코더의 출력층\n",
    "decoder_outputs2 = decoder_softmax_layer(decoder_inf_concat) \n",
    "\n",
    "# 최종 디코더 모델\n",
    "decoder_model = Model(\n",
    "    [decoder_inputs] + [decoder_hidden_state_input,decoder_state_input_h, decoder_state_input_c],\n",
    "    [decoder_outputs2] + [state_h2, state_c2])"
   ]
  },
  {
   "cell_type": "code",
   "execution_count": 43,
   "id": "express-commercial",
   "metadata": {},
   "outputs": [],
   "source": [
    "#단어시퀀스 함수 생성\n",
    "\n",
    "def decode_sequence(input_seq):\n",
    "    # 입력으로부터 인코더의 상태를 얻음\n",
    "    e_out, e_h, e_c = encoder_model.predict(input_seq)\n",
    "\n",
    "     # <SOS>에 해당하는 토큰 생성\n",
    "    target_seq = np.zeros((1,1))\n",
    "    target_seq[0, 0] = tar_word_to_index['sostoken']\n",
    "\n",
    "    stop_condition = False\n",
    "    decoded_sentence = ''\n",
    "    while not stop_condition: # stop_condition이 True가 될 때까지 루프 반복\n",
    "\n",
    "        output_tokens, h, c = decoder_model.predict([target_seq] + [e_out, e_h, e_c])\n",
    "        sampled_token_index = np.argmax(output_tokens[0, -1, :])\n",
    "        sampled_token = tar_index_to_word[sampled_token_index]\n",
    "\n",
    "        if(sampled_token!='eostoken'):\n",
    "            decoded_sentence += ' '+sampled_token\n",
    "\n",
    "        #  <eos>에 도달하거나 최대 길이를 넘으면 중단.\n",
    "        if (sampled_token == 'eostoken'  or len(decoded_sentence.split()) >= (headlines_max_len-1)):\n",
    "            stop_condition = True\n",
    "\n",
    "        # 길이가 1인 타겟 시퀀스를 업데이트\n",
    "        target_seq = np.zeros((1,1))\n",
    "        target_seq[0, 0] = sampled_token_index\n",
    "\n",
    "        # 상태를 업데이트 합니다.\n",
    "        e_h, e_c = h, c\n",
    "\n",
    "    return decoded_sentence"
   ]
  },
  {
   "cell_type": "markdown",
   "id": "extensive-albuquerque",
   "metadata": {},
   "source": [
    "## 11.6 모델 테스트"
   ]
  },
  {
   "cell_type": "code",
   "execution_count": 44,
   "id": "unusual-trigger",
   "metadata": {},
   "outputs": [],
   "source": [
    "# 원문의 정수 시퀀스를 텍스트 시퀀스로 변환\n",
    "def seq2text(input_seq):\n",
    "    temp=''\n",
    "    for i in input_seq:\n",
    "        if(i!=0):\n",
    "            temp = temp + src_index_to_word[i]+' '\n",
    "    return temp\n",
    "\n",
    "# 요약문의 정수 시퀀스를 텍스트 시퀀스로 변환\n",
    "def seq2summary(input_seq):\n",
    "    temp=''\n",
    "    for i in input_seq:\n",
    "        if((i!=0 and i!=tar_word_to_index['sostoken']) and i!=tar_word_to_index['eostoken']):\n",
    "            temp = temp + tar_index_to_word[i] + ' '\n",
    "    return temp"
   ]
  },
  {
   "cell_type": "code",
   "execution_count": 45,
   "id": "improving-killer",
   "metadata": {},
   "outputs": [
    {
     "name": "stdout",
     "output_type": "stream",
     "text": [
      "원문 : banning maids entering society following protests allegedly missing maid noida society reportedly allowed resume work earlier decided maids participated protest allowed resume work many maids reportedly hired residents took responsibility \n",
      "실제 요약 : noida housing society allows banned to resume work \n",
      "예측 요약 :  bans public in public for women\n",
      "\n",
      "\n",
      "원문 : supreme court tuesday stayed construction activities taking place unauthorised colonies delhi ordered constitution special task force remove encroachments public roads within two weeks earlier apex court slammed central delhi governments inability stop illegal constructions city \n",
      "실제 요약 : sc stays construction work in unauthorised in delhi \n",
      "예측 요약 :  sc stays sealing guidelines for firecrackers in delhi\n",
      "\n",
      "\n",
      "원문 : qatar announced financial aid million flood hit kerala aid would help provide shelter displaced worst floods hit state nearly century houses kerala completely destroyed partially damaged officials said \n",
      "실제 요약 : qatar pledges crore in aid for flood hit kerala \n",
      "예측 요약 :  qatar announces crore for flood hit kerala\n",
      "\n",
      "\n",
      "원문 : white house wednesday said longer answer questions ongoing investigation president donald trump alleged ties russia questions investigation referred trump long time lawyer marc represented trump property deals divorce cases fraud allegations white house press secretary sean spicer said \n",
      "실제 요약 : white house to no longer take questions on trump russia ties \n",
      "예측 요약 :  white house is not going to trump trump wh aide\n",
      "\n",
      "\n",
      "원문 : around junior doctors turned wearing helmets work delhi aiims wednesday express solidarity maharashtra doctors doctors maharashtra stayed away work four days protesting rise violence patients relatives however maharashtra doctors asked return work lose six months salary \n",
      "실제 요약 : aiims doctors wear helmets to work over maha doctors strike \n",
      "예측 요약 :  doctors protest after doctors protest in maharashtra\n",
      "\n",
      "\n",
      "원문 : sunrisers hyderabad bowling coach muttiah muralitharan said current sri lankan cricketers capable enough play ipl australia new zealand south africa england lot good players tournament international players guys fit great players retired said muralitharan \n",
      "실제 요약 : sri lankan players not capable enough to play in ipl murali \n",
      "예측 요약 :  india should not be in cricket cricket coach\n",
      "\n",
      "\n",
      "원문 : new song titled amitabh bachchan rishi kapoor starrer released amitabh rishi sung song amitabh also song composed amitabh bachchan lyrics amitabh bhattacharya directed umesh shukla film scheduled release may \n",
      "실제 요약 : big raps in song from not out \n",
      "예측 요약 :  song from rishi kapoor starrer harry met sejal released\n",
      "\n",
      "\n",
      "원문 : tennis star serena williams wrote personal essay demanded equal pay black women essay williams said every dollar earned men united states black women earn cents cycles poverty discrimination sexism much much harder break grand slam titles record williams wrote \n",
      "실제 요약 : serena calls for equal pay for black women in personal \n",
      "예측 요약 :  serena williams pays engaged to leave for women report\n",
      "\n",
      "\n",
      "원문 : mumbai double decker buses phased october result shrinking space city roads high operating costs brihanmumbai electric supply transport official said currently double decker buses fleet buses operate seven routes across mumbai first introduced \n",
      "실제 요약 : double buses in mumbai to be out by \n",
      "예측 요약 :  mumbai buses to get buses to reduce buses\n",
      "\n",
      "\n",
      "원문 : bronze figure young girl facing famous charging bull statue wall street remain announced fearless girl installed state street global advisors honour international women day encourage companies increase number women directors originally supposed stay month \n",
      "실제 요약 : young girl statue facing wall street bull to stay till \n",
      "예측 요약 :  world girl builds year old girl in canada\n",
      "\n",
      "\n",
      "원문 : russia china monday began second stage joint sea naval drills waters near korean peninsula week long drills include submarine rescue anti submarine exercises chinese state media said comes amid increased tensions korean peninsula north korea nuclear weapons programme \n",
      "실제 요약 : russia china hold joint naval drills near korean peninsula \n",
      "예측 요약 :  russia successfully test fires naval drill in japan\n",
      "\n",
      "\n",
      "원문 : indian fast bowler ishant sharma picked five wickets county debut sussex playing warwickshire birmingham ishant picked three wickets first innings dismissed veteran english batsmen ian bell jonathan second innings register match figures year old also hit match \n",
      "실제 요약 : ishant sharma takes wickets on county debut for \n",
      "예측 요약 :  ishant picks wickets in balls in balls in county debut\n",
      "\n",
      "\n",
      "원문 : black bear myanmar swollen tongue weighed around kg emergency surgery remove dragged along floor due weight bear rescued monks taken away mother traffickers send china \n",
      "실제 요약 : bear in myanmar has kg tongue removed \n",
      "예측 요약 :  hitler ice cream surgery in france\n",
      "\n",
      "\n",
      "원문 : mizoram chief minister lal said congress would retain power state getting full majority winning least seats asserted congress would get votes apart cm said voter turnout recorded till pm state \n",
      "실제 요약 : congress will get full majority in mizoram cm lal \n",
      "예측 요약 :  congress has no power in meghalaya meghalaya cm\n",
      "\n",
      "\n",
      "원문 : actress priyanka chopra fianc singer nick jonas recently appeared tonight show revealed priyanka likes couple possible celebrity nickname likes like one added jonas talking couple roka ceremony india jonas said parents blown away love shared among people \n",
      "실제 요약 : priyanka likes as our celebrity nick jonas \n",
      "예측 요약 :  priyanka nick rumoured priyanka in priyanka wedding\n",
      "\n",
      "\n",
      "원문 : global debt hit time high trillion third quarter three times global economy according institute international finance debt level marks trillion increase end united nations calculates global population billion suggesting world per capita debt \n",
      "실제 요약 : global debt over times the size of world economy study \n",
      "예측 요약 :  india jumps record billion in market value in days\n",
      "\n",
      "\n",
      "원문 : apple shipped around lakh apple watches globally second quarter year according data analytics firm company shipped units apple watches asia lte variant accounting total sale apple sold watches year compared period last year \n",
      "실제 요약 : apple ships lakh apple watches globally in \n",
      "예측 요약 :  apple iphone apple loses in the first quarter of iphone\n",
      "\n",
      "\n",
      "원문 : least people killed others injured monday suicide bomb blast lahore near office pakistan pm nawaz sharif brother punjab cm shehbaz attack reportedly targeted police personnel deployed site buildings near blast site evacuated group claimed responsibility blast yet \n",
      "실제 요약 : killed in suicide blast near office of pak pm brother \n",
      "예측 요약 :  suicide bombing in pakistan kills injures in pakistan\n",
      "\n",
      "\n",
      "원문 : pictures saif ali khan kareena kapoor khan first child taimur ali khan surfaced online one photographs shows taimur mother kareena actor tusshar kapoor son laksshya recently held first birthday celebrations notably taimur born december \n",
      "실제 요약 : pictures of saif kareena son taimur surface online \n",
      "예측 요약 :  kareena kareena taimur kareena taimur taimur pic with kareena\n",
      "\n",
      "\n",
      "원문 : former australia captain michael clarke said spinners ravichandran ashwin ravindra jadeja india key weapons champions trophy england depending weather getting good summer wickets dry think spin play part clarke added champions trophy scheduled start june \n",
      "실제 요약 : ashwin jadeja weapons for india in champions trophy clarke \n",
      "예측 요약 :  bumrah should not be part of champions trophy aus pacer\n",
      "\n",
      "\n",
      "원문 : pooja hegde talking metoo movement said think much bigger one person would appeal men also help added movement men versus women making safe environment hope industry takes stand helps make safer women pooja said \n",
      "실제 요약 : would appeal to men to help pooja hegde on metoo movement \n",
      "예측 요약 :  wood is bad movement on wood metoo row\n",
      "\n",
      "\n",
      "원문 : polish cops decided fine drivers caught breaking traffic rules protest poor wages working conditions however police officials said serious offences would still punished fines hit country budget traffic fines assigned small offences police officials added \n",
      "실제 요약 : polish cops to not fine offenders in protest over poor wages \n",
      "예측 요약 :  uae fined lakh for drivers over fake bank\n",
      "\n",
      "\n",
      "원문 : chinese embassy official new delhi said ongoing standoff armies india china impact economic cultural ties two nations india china enjoyed historical cultural connections thousands years border issue temporary official said \n",
      "실제 요약 : standoff temporary will not hit economic cultural ties china \n"
     ]
    },
    {
     "name": "stdout",
     "output_type": "stream",
     "text": [
      "예측 요약 :  china to deploy china in south asia pacific sea\n",
      "\n",
      "\n",
      "원문 : us based developer developed smart jewellery alerts friends police case emergency double pressing accessory priced device shares user location fed companion app battery life designed last one year also features bluetooth connectivity feet away user smartphone \n",
      "실제 요약 : smart jewellery alerts friends police during an emergency \n",
      "예측 요약 :  phone which tracks smartphone made in delhi made made\n",
      "\n",
      "\n",
      "원문 : former formula one boss called racing league new owners decision end use grid girls formula one races typically grid girls formula one display team placards stand umbrella shields drivers waiting cars weather start grand prix \n",
      "실제 요약 : former boss terms ban on girls as \n",
      "예측 요약 :  nba player to open school for free friendly\n",
      "\n",
      "\n",
      "원문 : man rajasthan booked police friday trying register aadhaar card slain al qaeda founder osama bin laden name saddam runs aadhaar registration centre also uploaded blurred picture osama entered address upload documents \n",
      "실제 요약 : man booked for trying to osama bin laden for aadhaar \n",
      "예측 요약 :  man who aadhaar card gets aadhaar card in mp\n",
      "\n",
      "\n",
      "원문 : vidya balan said name shame people sexually harassing others women talking talk fault added vidya earlier said women never courage talk sexual harassment finger would pointed back \n",
      "실제 요약 : we should name and shame sexual vidya balan \n",
      "예측 요약 :  sexual assault women are not sexual harassment vidya balan\n",
      "\n",
      "\n",
      "원문 : asked thought facebook monopoly testimony company ceo mark zuckerberg said certainly feel like asked social media giant competitors zuckerberg mentioned technology companies like google apple amazon microsoft twitter said different ways \n",
      "실제 요약 : facebook does not feel like monopoly to me mark zuckerberg \n",
      "예측 요약 :  you are not fb ceo on fb ceo\n",
      "\n",
      "\n",
      "원문 : iranian president hassan rouhani said country used living us sanctions continue develop defensive capabilities take step necessary line interests country rouhani added comes us approved new sanctions iran ballistic missile program \n",
      "실제 요약 : iran prez vows to post us sanctions \n",
      "예측 요약 :  iran threatens to stop nuke deal iran prez rouhani\n",
      "\n",
      "\n",
      "원문 : myanmar military put un blacklist government rebel groups suspected carrying acts sexual violence conflict rohingyas sexual violence used strategy military rohingya community calculated tool force flee un secretary general ant nio guterres said \n",
      "실제 요약 : un blacklists myanmar military over sexual violence \n",
      "예측 요약 :  myanmar to myanmar un to return to rohingya violence\n",
      "\n",
      "\n",
      "원문 : cbse issued circular announcing levels mathematics class students cbse board examinations introduced basic standard mathematics students levels would imply difference students would assessed board examinations true difference instruction circular read \n",
      "실제 요약 : cbse introduces levels for class students \n",
      "예측 요약 :  cbse class board exams for cbse class exams\n",
      "\n",
      "\n",
      "원문 : actress gal gadot referring actor ryan reynolds crossing arms trailer deadpool wrote social media dude stole look gadot referring character strikes similar pose film wonder woman ryan responded tweeting form \n",
      "실제 요약 : stole my look wonder woman actress on deadpool actor \n",
      "예측 요약 :  gal gadot takes dig at spider man in deadpool trailer\n",
      "\n",
      "\n",
      "원문 : malaysia willing provide temporary shelter rohingya muslims fleeing ongoing violence myanmar officials said friday comes conflict myanmar security forces rohingya militants rakhine state claimed least lives since began last month malaysia already home lakh rohingya refugees \n",
      "실제 요약 : malaysia ready to provide temporary shelter to rohingyas \n",
      "예측 요약 :  malaysia to grant rohingya muslims to myanmar\n",
      "\n",
      "\n",
      "원문 : us hotel giant marriott friday said guest reservation system unit hacked potentially exposing personal information around million guests marriott said attacker able access network since breach could potentially second largest history behind hacking billion yahoo accounts \n",
      "실제 요약 : hotel chain reveals hack affecting half billion guests \n",
      "예측 요약 :  airline lets users detect messages in messages\n",
      "\n",
      "\n",
      "원문 : ayushmann khurrana tweeting occasion chauth wrote let us celebrate equality change patriarchal tradition join cannot fasting get slow fast easy tweeted ayushmann also shared pictures palm wife tahira initials written hindi mehendi \n",
      "실제 요약 : join your wife in ayushmann on chauth \n",
      "예측 요약 :  ayushmann khurrana wishes his own white house\n",
      "\n",
      "\n",
      "원문 : world largest propeller plane antonov landed manchester airport england friday heavy military transport aircraft drew large crowd aviation enthusiasts witness landing aircraft foot wingspan capable carrying cargo weighing kilograms \n",
      "실제 요약 : world largest plane lands at uk airport \n",
      "예측 요약 :  world longest aircraft dies after crash\n",
      "\n",
      "\n",
      "원문 : india captain virat kohli criticised ecb new ball format saying hurts commercial aspect taking real quality cricket cannot think one format want testing sort cricketer new format added leagues experiment said \n",
      "실제 요약 : commercial hurting cricket kohli on ball format \n",
      "예측 요약 :  kohli should be shut into number of cricket virat kohli\n",
      "\n",
      "\n",
      "원문 : official working french aircraft manufacturer dassault reportedly said anil ambani reliance defence picked rafale deal registered ministry corporate affairs land nagpur provided access runway comes former french president fran claimed indian government proposed reliance partner india \n",
      "실제 요약 : dassault chose reliance as it had land connecting runway report \n",
      "예측 요약 :  tata sons to be rafale deal with india ceo\n",
      "\n",
      "\n",
      "원문 : workers seen electric poles philadelphia us make fans climb celebration following championship match american football clubs philadelphia minnesota philadelphia match earn place super bowl play new england patriots \n",
      "실제 요약 : us city poles to stop fans from climbing them \n",
      "예측 요약 :  us fans stop stadium in football match after fans\n",
      "\n",
      "\n",
      "원문 : reddit post man resting portable airport gone viral man tied one end pillar end table reddit user commented someone spent hours sydney airport today wish taken one \n",
      "실제 요약 : man brings own to rest at airport post goes viral \n",
      "예측 요약 :  man who bit man who was arrested in mumbai\n",
      "\n",
      "\n",
      "원문 : nirav modi accused billion pnb fraud longer billionaire according forbes nirav wealth fell less million compared billion forbes billionaires list papa john pizza founder john saudi prince alwaleed bin also fell billionaire ranks \n",
      "실제 요약 : nirav modi loses billionaire title wealth falls \n",
      "예측 요약 :  nirav modi richest woman to hit bn fortune fortune\n",
      "\n",
      "\n",
      "원문 : pakistani batsman shahid afridi took matches cricketer history score maiden century natwest blast tuesday playing hampshire year old took balls reach landmark joint fastest effort overall afridi knock consisted seven sixes taking career tally \n",
      "실제 요약 : shahid afridi scores his first century after games \n",
      "예측 요약 :  afridi hit his st century century in st century\n",
      "\n",
      "\n",
      "원문 : ranveer singh took social media share picture amitabh bachchan occasion th birthday today wrote happy amitabh bachchan day one iconic dynamic personalities ever met tweeted sonam kapoor sourav ganguly wrote happy birthday superstar \n",
      "실제 요약 : happy amitabh bachchan day ranveer on big th birthday \n",
      "예측 요약 :  ranveer singh shares pic with amitabh bachchan\n",
      "\n",
      "\n",
      "원문 : truck driver maharashtra pune booked police sunday stealing truck full cigarette boxes worth crore truck owner filed complaint police gps installed truck revealed truck reach destination thane given time instead travelled pune \n",
      "실제 요약 : cigarettes worth cr stolen by pune truck driver \n",
      "예측 요약 :  bengaluru driver caught stealing from truck to steal theft\n",
      "\n",
      "\n",
      "원문 : former rbi governor raghuram rajan said single biggest challenge cleaning balance sheets public sector banks bringing change public sector banking system rajan said extremely important banks get back business lending clearly holding economy point \n",
      "실제 요약 : cleaning balance sheets of public banks biggest task rajan \n",
      "예측 요약 :  rbi should not be to save farmers raghuram rajan\n",
      "\n",
      "\n",
      "원문 : india olympic silver medal winning badminton player pv sindhu met bollywood actor ranveer singh posted photo instagram finally meet pleasure meeting absolute fan moment would rather call rock star part sindhu caption accompanying post read \n",
      "실제 요약 : would call you rock star pv sindhu on meeting ranveer \n"
     ]
    },
    {
     "name": "stdout",
     "output_type": "stream",
     "text": [
      "예측 요약 :  sindhu saina nehwal shares pic of ranveer singh\n",
      "\n",
      "\n",
      "원문 : turkish mayor ek claimed monday magnitude earthquake hit country killing one person artificial caused seismic research ships foreign country calling investigation matter mayor posted videos us funded atmosphere research program ek made similar comments tremors struck turkish province february \n",
      "실제 요약 : foreign powers caused artificial earthquake in turkey mayor \n",
      "예측 요약 :  syrian nuclear attack hit by japan\n",
      "\n",
      "\n",
      "원문 : supermarket giant tesco facing uk largest ever equal pay claim billion law firm day started taking initial legal steps employees said lakh tesco employees may underpaid lawyers claimed average pay women whereas men could reach high \n",
      "실제 요약 : supermarket faces uk largest equal pay claim of bn \n",
      "예측 요약 :  uk firm pays cr to settle taxes\n",
      "\n",
      "\n",
      "원문 : real madrid footballer cristiano ronaldo private yacht stopped searched armed customs officers coast near tuesday ronaldo vacation reportedly rented yacht onboard girlfriend rodriguez relatives inspection apparently routine check performed vessels area \n",
      "실제 요약 : ronaldo yacht stopped at sea searched by tax officials \n",
      "예측 요약 :  ronaldo catches ronaldo mid strike saves him\n",
      "\n",
      "\n",
      "원문 : viral fever ceo arunabh kumar granted anticipatory bail mumbai sessions court monday considering cooperating police investigation kumar booked sexual harassment two different cases filed former employee another woman kumar interrogated least eight times since cases registered \n",
      "실제 요약 : tvf ceo gets anticipatory bail in molestation case \n",
      "예측 요약 :  tvf ceo granted bail in sexual harassment case\n",
      "\n",
      "\n"
     ]
    }
   ],
   "source": [
    "for i in range(50, 100):\n",
    "    print(\"원문 :\", seq2text(encoder_input_test[i]))\n",
    "    print(\"실제 요약 :\", seq2summary(decoder_input_test[i]))\n",
    "    print(\"예측 요약 :\", decode_sequence(encoder_input_test[i].reshape(1, text_max_len)))\n",
    "    print(\"\\n\")"
   ]
  },
  {
   "cell_type": "markdown",
   "id": "weird-savannah",
   "metadata": {},
   "source": [
    "## 11.7 데이터 준비(추출적 요약)"
   ]
  },
  {
   "cell_type": "code",
   "execution_count": 46,
   "id": "divine-constant",
   "metadata": {},
   "outputs": [],
   "source": [
    "# 필요 모듈 import\n",
    "\n",
    "import requests\n",
    "from summa.summarizer import summarize"
   ]
  },
  {
   "cell_type": "code",
   "execution_count": 47,
   "id": "empirical-lemon",
   "metadata": {},
   "outputs": [
    {
     "data": {
      "text/html": [
       "<div>\n",
       "<style scoped>\n",
       "    .dataframe tbody tr th:only-of-type {\n",
       "        vertical-align: middle;\n",
       "    }\n",
       "\n",
       "    .dataframe tbody tr th {\n",
       "        vertical-align: top;\n",
       "    }\n",
       "\n",
       "    .dataframe thead th {\n",
       "        text-align: right;\n",
       "    }\n",
       "</style>\n",
       "<table border=\"1\" class=\"dataframe\">\n",
       "  <thead>\n",
       "    <tr style=\"text-align: right;\">\n",
       "      <th></th>\n",
       "      <th>headlines</th>\n",
       "      <th>text</th>\n",
       "    </tr>\n",
       "  </thead>\n",
       "  <tbody>\n",
       "    <tr>\n",
       "      <th>4863</th>\n",
       "      <td>Nigerian national held with heroin worth Ã¢ÂÂ...</td>\n",
       "      <td>The Haryana Police on Monday arrested a Nigeri...</td>\n",
       "    </tr>\n",
       "    <tr>\n",
       "      <th>34628</th>\n",
       "      <td>Swedish DJ Avicii passes away at 28</td>\n",
       "      <td>Swedish DJ Avicii, born as Tim Bergling, has p...</td>\n",
       "    </tr>\n",
       "    <tr>\n",
       "      <th>66029</th>\n",
       "      <td>Wasp named after Harry Potter character Lucius...</td>\n",
       "      <td>An entomologist in New Zealand has named a was...</td>\n",
       "    </tr>\n",
       "    <tr>\n",
       "      <th>74529</th>\n",
       "      <td>China launches 1st digital court for internet ...</td>\n",
       "      <td>China launched its first digital \"cyber-court\"...</td>\n",
       "    </tr>\n",
       "    <tr>\n",
       "      <th>42729</th>\n",
       "      <td>Urmila to make Bollywood comeback with a song ...</td>\n",
       "      <td>Urmila Matondkar will be making her comeback i...</td>\n",
       "    </tr>\n",
       "    <tr>\n",
       "      <th>4850</th>\n",
       "      <td>Death toll in Indonesia tsunami reaches 373, o...</td>\n",
       "      <td>The death toll in Indonesia tsunami triggered ...</td>\n",
       "    </tr>\n",
       "    <tr>\n",
       "      <th>46666</th>\n",
       "      <td>Canadian MP apologises for inviting Khalistani...</td>\n",
       "      <td>Canadian MP Randeep Sarai has apologised for i...</td>\n",
       "    </tr>\n",
       "    <tr>\n",
       "      <th>34908</th>\n",
       "      <td>Will walk out if talks with Kim Jong-un not fr...</td>\n",
       "      <td>US President Donald Trump has said he will \"wa...</td>\n",
       "    </tr>\n",
       "    <tr>\n",
       "      <th>66594</th>\n",
       "      <td>Unapologetic about being my dad's daughter: Al...</td>\n",
       "      <td>Actress Alia Bhatt, while speaking about nepot...</td>\n",
       "    </tr>\n",
       "    <tr>\n",
       "      <th>13105</th>\n",
       "      <td>Child sneaks into X-ray machine at China train...</td>\n",
       "      <td>A video of a child emerging out of an X-ray ma...</td>\n",
       "    </tr>\n",
       "  </tbody>\n",
       "</table>\n",
       "</div>"
      ],
      "text/plain": [
       "                                               headlines  \\\n",
       "4863   Nigerian national held with heroin worth Ã¢ÂÂ...   \n",
       "34628          Swedish DJ Avicii passes away at 28         \n",
       "66029  Wasp named after Harry Potter character Lucius...   \n",
       "74529  China launches 1st digital court for internet ...   \n",
       "42729  Urmila to make Bollywood comeback with a song ...   \n",
       "4850   Death toll in Indonesia tsunami reaches 373, o...   \n",
       "46666  Canadian MP apologises for inviting Khalistani...   \n",
       "34908  Will walk out if talks with Kim Jong-un not fr...   \n",
       "66594  Unapologetic about being my dad's daughter: Al...   \n",
       "13105  Child sneaks into X-ray machine at China train...   \n",
       "\n",
       "                                                    text  \n",
       "4863   The Haryana Police on Monday arrested a Nigeri...  \n",
       "34628  Swedish DJ Avicii, born as Tim Bergling, has p...  \n",
       "66029  An entomologist in New Zealand has named a was...  \n",
       "74529  China launched its first digital \"cyber-court\"...  \n",
       "42729  Urmila Matondkar will be making her comeback i...  \n",
       "4850   The death toll in Indonesia tsunami triggered ...  \n",
       "46666  Canadian MP Randeep Sarai has apologised for i...  \n",
       "34908  US President Donald Trump has said he will \"wa...  \n",
       "66594  Actress Alia Bhatt, while speaking about nepot...  \n",
       "13105  A video of a child emerging out of an X-ray ma...  "
      ]
     },
     "execution_count": 47,
     "metadata": {},
     "output_type": "execute_result"
    }
   ],
   "source": [
    "# 데이터 다운로드\n",
    "\n",
    "urllib.request.urlretrieve(\"https://raw.githubusercontent.com/sunnysai12345/News_Summary/master/news_summary_more.csv\", filename=\"news_summary_more.csv\")\n",
    "data = pd.read_csv('news_summary_more.csv', encoding='iso-8859-1')\n",
    "data.sample(10)"
   ]
  },
  {
   "cell_type": "code",
   "execution_count": 48,
   "id": "governmental-branch",
   "metadata": {},
   "outputs": [
    {
     "name": "stdout",
     "output_type": "stream",
     "text": [
      "0        Saurav Kant, an alumnus of upGrad and IIIT-B's...\n",
      "1        Kunal Shah's credit card bill payment platform...\n",
      "2        New Zealand defeated India by 8 wickets in the...\n",
      "3        With Aegon Life iTerm Insurance plan, customer...\n",
      "4        Speaking about the sexual harassment allegatio...\n",
      "                               ...                        \n",
      "98396    A CRPF jawan was on Tuesday axed to death with...\n",
      "98397    'Uff Yeh', the first song from the Sonakshi Si...\n",
      "98398    According to reports, a new version of the 199...\n",
      "98399    A new music video shows rapper Snoop Dogg aimi...\n",
      "98400    Madhesi Morcha, an alliance of seven political...\n",
      "Name: text, Length: 98401, dtype: object\n"
     ]
    }
   ],
   "source": [
    "text = data['text']\n",
    "print(text)"
   ]
  },
  {
   "cell_type": "code",
   "execution_count": 67,
   "id": "macro-limit",
   "metadata": {},
   "outputs": [
    {
     "name": "stdout",
     "output_type": "stream",
     "text": [
      "0        upGrad learner switches to career in ML & Al w...\n",
      "1        Delhi techie wins free food from Swiggy for on...\n",
      "2        New Zealand end Rohit Sharma-led India's 12-ma...\n",
      "3        Aegon life iTerm insurance plan helps customer...\n",
      "4        Have known Hirani for yrs, what if MeToo claim...\n",
      "                               ...                        \n",
      "98396    CRPF jawan axed to death by Maoists in Chhatti...\n",
      "98397    First song from Sonakshi Sinha's 'Noor' titled...\n",
      "98398           'The Matrix' film to get a reboot: Reports\n",
      "98399    Snoop Dogg aims gun at clown dressed as Trump ...\n",
      "98400    Madhesi Morcha withdraws support to Nepalese g...\n",
      "Name: headlines, Length: 98401, dtype: object\n"
     ]
    }
   ],
   "source": [
    "newshead = data['headlines']\n",
    "print(newshead)"
   ]
  },
  {
   "cell_type": "code",
   "execution_count": 49,
   "id": "lyric-watts",
   "metadata": {},
   "outputs": [
    {
     "name": "stdout",
     "output_type": "stream",
     "text": [
      "Summary:\n",
      "upGrad's Online Power Learning has powered 3 lakh+ careers.\n"
     ]
    }
   ],
   "source": [
    "#summarize 활용 문장 줄이기\n",
    "# 문장 퍼센티지로 요약\n",
    "print('Summary:')\n",
    "print(summarize(text[0], ratio=0.5))"
   ]
  },
  {
   "cell_type": "code",
   "execution_count": 50,
   "id": "worthy-carbon",
   "metadata": {},
   "outputs": [
    {
     "name": "stdout",
     "output_type": "stream",
     "text": [
      "Summary:\n",
      "[\"upGrad's Online Power Learning has powered 3 lakh+ careers.\"]\n"
     ]
    }
   ],
   "source": [
    "# 출려결과 리스트로 받기\n",
    "print('Summary:')\n",
    "print(summarize(text[0], ratio=0.5, split=True))"
   ]
  },
  {
   "cell_type": "code",
   "execution_count": 53,
   "id": "original-lighter",
   "metadata": {},
   "outputs": [
    {
     "name": "stdout",
     "output_type": "stream",
     "text": [
      "Summary:\n",
      "Saurav Kant, an alumnus of upGrad and IIIT-B's PG Program in Machine learning and Artificial Intelligence, was a Sr Systems Engineer at Infosys with almost 5 years of work experience.\n",
      "The program and upGrad's 360-degree career support helped him transition to a Data Scientist at Tech Mahindra with 90% salary hike.\n",
      "upGrad's Online Power Learning has powered 3 lakh+ careers.\n"
     ]
    }
   ],
   "source": [
    "# 단어 개수로 요약\n",
    "\n",
    "print('Summary:')\n",
    "print(summarize(text[0], words=50))"
   ]
  },
  {
   "cell_type": "code",
   "execution_count": 66,
   "id": "defined-injection",
   "metadata": {},
   "outputs": [
    {
     "name": "stdout",
     "output_type": "stream",
     "text": [
      "[\"upGrad's Online Power Learning has powered 3 lakh+ careers.\", 'Users get one CRED coin per rupee of bill paid, which can be used to avail rewards from brands like Ixigo, BookMyShow, UberEats, Cult.Fit and more.', 'The match witnessed India getting all out for 92, their seventh lowest total in ODI cricket history.', 'Also, customers have options to insure against Critical Illnesses, Disability and Accidental Death Benefit Rider with a life cover up to the age of 80 years.', 'Speaking about the sexual harassment allegations against Rajkumar Hirani, Sonam Kapoor said, \"I\\'ve known Hirani for many years...What if it\\'s not true, the [#MeToo] movement will get derailed.\" \"In the #MeToo movement, I always believe a woman.', 'Pakistani singer Rahat Fateh Ali Khan has denied receiving any notice from the Enforcement Directorate over allegedly smuggling foreign currency out of India.', \"India's previous lowest ODI total in New Zealand was 108.\", 'Weeks after ex-CBI Director Alok Verma told the Department of Personnel and Training to consider him retired, the Home Ministry asked him to join work on the last day of his fixed tenure as Director on Thursday.', 'Andhra Pradesh CM N Chandrababu Naidu has said, \"When I met then US President Bill Clinton, I addressed him as Mr Clinton, not as \\'sir\\'.', \"Congress candidate Shafia Zubair won the Ramgarh Assembly seat in Rajasthan, by defeating BJP's Sukhwant Singh with a margin of 12,228 votes in the bypoll.\"]\n"
     ]
    }
   ],
   "source": [
    "# 리스트에 요약문 담아내기\n",
    "# 문장길이의 0.5로 요약\n",
    "\n",
    "headlines = []\n",
    "for i in range(len(text)) :\n",
    "    headlines.append(summarize(text[i], ratio=0.5))\n",
    "\n",
    "print(headlines[:10])"
   ]
  },
  {
   "cell_type": "code",
   "execution_count": 71,
   "id": "competent-cooperative",
   "metadata": {},
   "outputs": [
    {
     "name": "stdout",
     "output_type": "stream",
     "text": [
      "원문 : Two minor cousins in Uttar Pradesh's Gorakhpur were allegedly repeatedly burnt with tongs and forced to eat human excreta by their family for being friends with two boys from the same school. The cousins revealed their ordeal to the police and Child Welfare Committee after being brought back to Gorakhpur from Nepal, where they had fled to escape the torture.\n",
      "실제 요약 : UP cousins fed human excreta for friendship with boys\n",
      "예측 요약 : Two minor cousins in Uttar Pradesh's Gorakhpur were allegedly repeatedly burnt with tongs and forced to eat human excreta by their family for being friends with two boys from the same school.\n",
      "\n",
      "\n",
      "원문 : Isha Ghosh, an 81-year-old member of Bharat Scouts and Guides (BSG), has been imparting physical and mental training to schoolchildren in Jharkhand for several decades. Chaibasa-based Ghosh reportedly walks seven kilometres daily and spends eight hours conducting physical training, apart from climbing and yoga sessions. She says, \"One should do something for society till one's last breath.\"\n",
      "실제 요약 : 81-yr-old woman conducts physical training in J'khand schools\n",
      "예측 요약 : Isha Ghosh, an 81-year-old member of Bharat Scouts and Guides (BSG), has been imparting physical and mental training to schoolchildren in Jharkhand for several decades.\n",
      "\n",
      "\n",
      "원문 : Urging saints and seers at the Kumbh Mela to quit smoking, Yoga guru Ramdev said, \"We follow Ram and Krishna who never smoked in their life then why should we?\" Making them take a pledge to quit tobacco, he collected chillum (clay pipe) from several sadhus. He said he will deposit the chillums for display at a museum he'll build.\n",
      "실제 요약 : Ram, Krishna didn't smoke, why should we: Ramdev to sadhus at Kumbh\n",
      "예측 요약 : Urging saints and seers at the Kumbh Mela to quit smoking, Yoga guru Ramdev said, \"We follow Ram and Krishna who never smoked in their life then why should we?\" Making them take a pledge to quit tobacco, he collected chillum (clay pipe) from several sadhus.\n",
      "\n",
      "\n",
      "원문 : Former stripper and regional sales director of a pharmaceutical company, Sunrise Lee, gave a doctor a lap dance in a nightclub to persuade him to prescribe an addictive fentanyl spray in 2012, the company's sales representative told a US court. She said she saw Lee \"sitting on [doctor's] lap, kind of bouncing around.\" Lee has been accused of bribing doctors.\n",
      "실제 요약 : Pharma exec gave doctor a lap dance to sell medicine in US: Witness\n",
      "예측 요약 : Former stripper and regional sales director of a pharmaceutical company, Sunrise Lee, gave a doctor a lap dance in a nightclub to persuade him to prescribe an addictive fentanyl spray in 2012, the company's sales representative told a US court.\n",
      "\n",
      "\n",
      "원문 : Reliance Industries' Chairman Mukesh Ambani's daughter Isha Ambani, who got married last month, said she only cried at her 'bidaai' because she felt peer pressure as everyone was crying, especially her parents. \"I was emotional too but everyone around me would cry all the time,\" she added. \"It was a very emotional affair for everyone in my family,\" said Isha.\n",
      "실제 요약 :  I only cried at my 'bidaai' as I felt peer pressure: Isha Ambani\n",
      "예측 요약 : \"It was a very emotional affair for everyone in my family,\" said Isha.\n",
      "\n",
      "\n",
      "원문 : Louis Vuitton owner LVMH, which makes high-end beverages like MoÃÂ«t & Chandon champagne and Hennessy cognac, said it's stockpiling four months' worth of wine and spirits in UK in preparation for Brexit. \"We're ready for worst case scenario if there are difficulties with deliveries,\" the French luxury giant said. The UK is scheduled to leave the EU on March 29.\n",
      "실제 요약 : Louis Vuitton owner to stockpile 4 months of wine, spirits in UK\n",
      "예측 요약 : Louis Vuitton owner LVMH, which makes high-end beverages like MoÃÂ«t & Chandon champagne and Hennessy cognac, said it's stockpiling four months' worth of wine and spirits in UK in preparation for Brexit.\n",
      "\n",
      "\n",
      "원문 : Filmmaker Karan Johar and actress Tabu turned showstoppers for Gaurav Gupta on the opening night of LakmÃÂ© Fashion Week Summer/ Resort 2019. While Johar wore a red sequinned jacket with black pants, Tabu walked the ramp in a grey embellished gown. The fashion show, which began on January 29, will continue till February 3.\n",
      "실제 요약 : Karan Johar, Tabu turn showstoppers on opening night of LFW\n",
      "예측 요약 : Filmmaker Karan Johar and actress Tabu turned showstoppers for Gaurav Gupta on the opening night of LakmÃÂ© Fashion Week Summer/ Resort 2019.\n",
      "\n",
      "\n",
      "원문 : In a jibe at Congress President Rahul Gandhi, PM Narendra Modi on Wednesday said those on \"bail will have to go to jail.\" PM Modi added, \"He is out on bail and his associates too are facing charges...I know they will be convicted one day.\" The PM claimed he'd waged a war on corruption because he's from a common household. \n",
      "실제 요약 : Those on bail will go to jail: PM Modi takes jibe at Rahul\n",
      "예측 요약 : \n",
      "\n",
      "\n",
      "원문 : Days after he threatened to step down from his post if Congress MLAs continue \"crossing the line,\" Karnataka Chief Minister HD Kumaraswamy accused them of taking potshots and asked, \"How many more days can I tolerate such stuff?\" Kumaraswamy, who made the statements after a Congress MLA demanded that Siddaramaiah be made CM again, said, \"Power is ephemeral.\"\n",
      "실제 요약 : How long can I tolerate Congress leaders' potshots: K'taka CM\n",
      "예측 요약 : \n",
      "\n",
      "\n",
      "원문 : Union Minister Dharmendra Pradhan on Wednesday claimed the illegal mining mafia in Odisha operates under the control of CM Naveen Patnaik and state Congress chief Niranjan Patnaik. He added, \"The time has come for the people of Odisha to put a full stop to their activities...The time has come for us to ask for an explanation from this corrupt government.\"\n",
      "실제 요약 : Odisha CM Patnaik controls mining mafia: Union Minister\n",
      "예측 요약 : Union Minister Dharmendra Pradhan on Wednesday claimed the illegal mining mafia in Odisha operates under the control of CM Naveen Patnaik and state Congress chief Niranjan Patnaik.\n",
      "\n",
      "\n",
      "원문 : Claiming there is a dearth of ideas among opposition parties, Prime Minister Narendra Modi on Wednesday said, \"The opposition talks only about Modi the whole day, I suspect they even dream about me.\" PM Modi, who was addressing the New India Youth Conclave inÃ¢ÂÂ Surat, added that the opposition parties have only one agenda which is \"Modi\". \n",
      "실제 요약 : I think the opposition even dreams about me: PM Modi\n",
      "예측 요약 : \n",
      "\n",
      "\n",
      "원문 : The Indian Space Research Organisation on Wednesday unveiled Human Space Flight Centre in Bengaluru for its Ã¢ÂÂ¹10,000-crore manned space mission 'Gaganyaan' scheduled for 2021. ISRO said the centre will be responsible for development of engineering systems for crew survival in space and crew selection and training. It'll also pursue activities for sustained human space flight missions, ISRO added.\n",
      "실제 요약 : ISRO unveils Bengaluru centre for manned space mission \n",
      "예측 요약 : It'll also pursue activities for sustained human space flight missions, ISRO added.\n",
      "\n",
      "\n",
      "원문 : At least 12 people have been killed and 170 others have been injured in Saudi Arabia this week due to flooding from heavy rain. The emergency services rescued 271 people from the flooded areas, more than half of them in Tabuk. Heavy rains hit mainly western and northwestern parts of Saudi Arabia, near its border with Jordan.\n",
      "실제 요약 : 12 killed, 170 injured in Saudi Arabia floods\n",
      "예측 요약 : At least 12 people have been killed and 170 others have been injured in Saudi Arabia this week due to flooding from heavy rain.\n",
      "\n",
      "\n",
      "원문 : Reliance Industries' Chairman Mukesh Ambani's daughter Isha Ambani has featured on the cover of the February edition of Vogue India. She's dressed in a white shirt dress and black ruffled skirt by Australian designer Toni Maticevski, while accessorising her look with a Misho ring. In the cover story on her, Isha has spoken about her work and life after marriage.\n",
      " \n",
      "실제 요약 : Isha Ambani features on February cover of Vogue magazine\n",
      "예측 요약 : Reliance Industries' Chairman Mukesh Ambani's daughter Isha Ambani has featured on the cover of the February edition of Vogue India.\n",
      "\n",
      "\n",
      "원문 : Indian Oil Corporation on Wednesday said it's looking for an annual deal to buy US crude as it seeks to broaden oil purchasing options. This comes amid uncertainties over Iran imports. The US had in November granted a six-month waiver to India from sanctions against Iran and restricted the country's monthly intake of Iranian oil to 3,00,000 barrels per day.\n",
      "\n",
      "\n",
      "실제 요약 : Indian Oil looking for annual deal to buy crude from US\n",
      "예측 요약 : The US had in November granted a six-month waiver to India from sanctions against Iran and restricted the country's monthly intake of Iranian oil to 3,00,000 barrels per day.\n",
      "\n",
      "\n",
      "원문 : Former Windies fast bowler Curtly Ambrose dismissed seven Australian batsmen within a span of 32 balls giving away just one run, in a Test match on January 30, 1993. Ambrose's spell helped his team bowl out Australia for 119 in the first innings, after being 85 for 2 at one point. Ambrose ended with first-innings figures of 18-9-25-7.\n",
      "실제 요약 : Pacer once took 7 wickets for just 1 run in 32 balls in a Test\n",
      "예측 요약 : Ambrose ended with first-innings figures of 18-9-25-7.\n",
      "\n",
      "\n",
      "원문 : A London zoo is offering people to name a cockroach after their exes on Valentine's Day for ÃÂ£1.50 (nearly Ã¢ÂÂ¹140). \"For those that don't quite require revenge, there's another way to make you feel better about getting back at your ex,\" the zoo said in a statement. The names will appear on zoo's 'roach board' on February 14. \n",
      "실제 요약 : UK zoo offers people to name cockroach after their ex on Valentine's\n",
      "예측 요약 : The names will appear on zoo's 'roach board' on February 14.\n",
      "\n",
      "\n",
      "원문 : Stand-in captain Rohit Sharma has become the 14th Indian cricketer to play 200 ODIs, achieving the feat after taking the field against New Zealand in fourth ODI at Hamilton on Thursday. The 31-year-old had made his ODI debut on June 23, 2007, against Ireland in Belfast. Rohit scored 7,799 runs in his first 199 ODIs at an average of 48.14.\n",
      "실제 요약 : Rohit Sharma becomes 14th Indian cricketer to play 200 ODIs\n",
      "예측 요약 : Rohit scored 7,799 runs in his first 199 ODIs at an average of 48.14.\n",
      "\n",
      "\n",
      "원문 : Batsman Shubman Gill has become the 227th cricketer to represent India in ODI cricket, achieving the feat against New Zealand in the fourth ODI at Hamilton on Thursday. The 19-year-old received his maiden ODI cap from former captain MS Dhoni. Notably, Shubman was named Player of the Under-19 World Cup in New Zealand last year.\n",
      "실제 요약 : 19-year-old Shubman Gill becomes India's 227th ODI cricketer\n",
      "예측 요약 : Notably, Shubman was named Player of the Under-19 World Cup in New Zealand last year.\n",
      "\n",
      "\n",
      "원문 : Investigators searching for a lost plane carrying Argentine forward Emiliano Sala found two seat cushions on French coast that \"likely\" belonged to the aircraft. The investigators said they'll now launch an underwater seabed search for aircraft wreckage. The Cardiff City footballer was travelling from France's Nantes to Wales' Cardiff when his plane disappeared over English Channel on January 21.\n",
      "실제 요약 : 2 seat cushions from 'missing plane carrying footballer' found\n",
      "예측 요약 : Investigators searching for a lost plane carrying Argentine forward Emiliano Sala found two seat cushions on French coast that \"likely\" belonged to the aircraft.\n",
      "\n",
      "\n",
      "원문 : Italian third division football side Lucchese's head coach Giancarlo Favarin has been banned for five months for headbutting Alessandria's assistant coach Gaetano Mancino during a brawl following the teams' 2-2 draw on Sunday. Mancino was caught off-balance and knocked to the ground after the headbutt. Earlier in the match, Favarin had told his own player to break an opponent's legs.\n",
      "실제 요약 : Italian coach knocks rival down with headbutt, banned for 5 months\n",
      "예측 요약 : Italian third division football side Lucchese's head coach Giancarlo Favarin has been banned for five months for headbutting Alessandria's assistant coach Gaetano Mancino during a brawl following the teams' 2-2 draw on Sunday.\n",
      "\n",
      "\n",
      "원문 : Cyclists taking part in National Track Cycling Championship in Jaipur opted to sleep on the floor inside the stadium instead of hotels over expensive cycles. The organisers had booked hotels but they didn't have the provision for cyclists to keep their bikes inside. A national gold medallist said their cycles cost between Ã¢ÂÂ¹5-9 lakh and once damaged, they become non-repairable. \n",
      "실제 요약 : Cyclists sleep on stadium floor instead of hotel over costly cycles\n",
      "예측 요약 : Cyclists taking part in National Track Cycling Championship in Jaipur opted to sleep on the floor inside the stadium instead of hotels over expensive cycles.\n",
      "\n",
      "\n",
      "원문 : Silvia Grecco, a 56-year-old Brazilian mother narrates her local football team Palmeiras' matches live to her 12-year-old blind and autistic son Nickollas from the stands. \"I describe details: this player is wearing short sleeves...colour of...football boots, hair colour...Everything I see and feel, I tell him, even when I need to curse the referee!\" Grecco said after a recent match.\n",
      "실제 요약 : Brazilian mother narrates football matches to blind son from stands\n",
      "예측 요약 : Silvia Grecco, a 56-year-old Brazilian mother narrates her local football team Palmeiras' matches live to her 12-year-old blind and autistic son Nickollas from the stands.\n",
      "\n",
      "\n",
      "원문 : A TechCrunch report has claimed that IndiaÃ¢ÂÂs largest bank SBI secured a passwordless server \"overnight\" on being alerted it allowed anyone to access phone numbers, bank balances, and transactions of millions of its customers. The Mumbai-based server was containing two months of data from SBI Quick, an SMS and call-based system used to request basic information about accounts, TechCrunch revealed.\n",
      "실제 요약 : SBI left account data of millions of users unprotected: Report\n",
      "예측 요약 : A TechCrunch report has claimed that IndiaÃ¢ÂÂs largest bank SBI secured a passwordless server \"overnight\" on being alerted it allowed anyone to access phone numbers, bank balances, and transactions of millions of its customers.\n",
      "\n",
      "\n",
      "원문 : Rahul Gandhi has replied to Goa CM Manohar Parrikar's letter, which accused the Congress President of using his \"visit to an ailing man for political gains\". \"He's under immense pressure from the PM after our meeting and needs to demonstrate his loyalty by attacking me,\" Gandhi wrote in his letter. Parrikar had clarified he didn't discuss Rafale deal with Rahul.\n",
      "실제 요약 : CM Parrikar under pressure from PM after our Goa meet: Rahul\n",
      "예측 요약 : Rahul Gandhi has replied to Goa CM Manohar Parrikar's letter, which accused the Congress President of using his \"visit to an ailing man for political gains\".\n",
      "\n",
      "\n",
      "원문 : Twenty-seven-year-old Mohammed Mahuwala was arrested in Indore on Wednesday for allegedly cheating e-commerce giant Amazon of nearly Ã¢ÂÂ¹30 lakh. Mahuwala was a member of a gang who ordered costly gadgets from Amazon. \"[They] used to get refund of the amount paid...by saying the parcel...was empty. In reality, these devices were taken out from parcel and sold...to local shopkeepers,\" said police.\n",
      "실제 요약 : Man arrested for cheating Amazon of Ã¢ÂÂ¹30 lakh by taking refunds\n",
      "예측 요약 : Twenty-seven-year-old Mohammed Mahuwala was arrested in Indore on Wednesday for allegedly cheating e-commerce giant Amazon of nearly Ã¢ÂÂ¹30 lakh.\n",
      "Mahuwala was a member of a gang who ordered costly gadgets from Amazon.\n",
      "\n",
      "\n",
      "원문 : AgustaWestland chopper scam co-accused Rajiv Saxena was extradited to India from UAE on Wednesday. He had been evading the Enforcement Directorate's summons claiming he was suffering from leukaemia but had moved an anti-money laundering court for anticipatory bail in December, stating he had never been summoned at his Dubai address. Saxena's lawyers alleged he had been \"illegally extradited\". \n",
      "실제 요약 : AgustaWestland scam accused Rajiv Saxena extradited to India\n",
      "예측 요약 : AgustaWestland chopper scam co-accused Rajiv Saxena was extradited to India from UAE on Wednesday.\n",
      "\n",
      "\n",
      "원문 : Afghan President Ashraf Ghani has said the \"keys to war\" are in Pakistan's Islamabad, Quetta and Rawalpindi, accusing the country of providing safe havens to militants, including those belonging to the Taliban. Ghani added the \"key to peace was in Afghanistan\". His comments came amid the talks between the US and the Taliban to end the 17-year war in Afghanistan.\n",
      "실제 요약 : Pakistan holds 'keys to war': Afghanistan\n",
      "예측 요약 : Afghan President Ashraf Ghani has said the \"keys to war\" are in Pakistan's Islamabad, Quetta and Rawalpindi, accusing the country of providing safe havens to militants, including those belonging to the Taliban.\n",
      "\n",
      "\n",
      "원문 : A Singapore-based insurance agent has been jailed for two years and five months for threatening to harm his clients unless they paid him in bitcoins. The 36-year-old set up an email account, and signed the messages as 'Lord Voldemort', a fictional character from the Harry Potter series. Ye Lin Myint targeted about 33 people, including those who cancelled insurance policies.\n",
      "실제 요약 : Insurance agent 'Lord Voldemort' jailed for threatening clients\n",
      "예측 요약 : A Singapore-based insurance agent has been jailed for two years and five months for threatening to harm his clients unless they paid him in bitcoins.\n",
      "\n",
      "\n",
      "원문 : Gabrielle Reilly, a 22-year-old US woman, created earrings for her Apple AirPods and put it up for sale online for $20 (about Ã¢ÂÂ¹1,500). \"I absolutely refuse to lose them (AirPods)...So I made earrings,\" she explained. The earrings, which took her over an hour to make, debuted in a video on Twitter that has since garnered over three million views.\n",
      "실제 요약 : Woman turns Apple AirPods into earrings to avoid losing them\n",
      "예측 요약 : \"I absolutely refuse to lose them (AirPods)...So I made earrings,\" she explained.\n",
      "\n",
      "\n",
      "원문 : Ex-ICICI Bank CEO Chanda Kochhar said she's \"utterly disappointed, hurt and shocked\" by the bank's decision to terminate her. Kochhar said she served ICICI for 34 years with utmost honesty and integrity and that ultimately truth will prevail. Adding that she hasn't been given a copy of the independent probe report, Kochhar said none of ICICI's credit decisions are unilateral\n",
      "실제 요약 : Shocked, hurt by ICICI's decision, truth will prevail: Kochhar\n",
      "예측 요약 : Adding that she hasn't been given a copy of the independent probe report, Kochhar said none of ICICI's credit decisions are unilateral\n",
      "\n",
      "\n",
      "원문 : Swedish multinational fast-fashion brand Hennes & Mauritz AB (H&M) has hired Christopher Wylie, the whistleblower who exposed Facebook's Cambridge Analytica data scandal. WylieÃ¢ÂÂs focus will be to help get better insights on customers, products and markets and support work on sustainable and ethical artificial intelligence, H&M spokesperson said. Wylie is a former employee of Cambridge Analytica.\n",
      "실제 요약 : Fashion brand H&M hires Facebook data scandal whistleblower\n",
      "예측 요약 : Swedish multinational fast-fashion brand Hennes & Mauritz AB (H&M) has hired Christopher Wylie, the whistleblower who exposed Facebook's Cambridge Analytica data scandal.\n",
      "\n",
      "\n",
      "원문 : Micro-blogging platform Twitter is testing a new feature on Android to put news on the top of a user's timeline. \"With this update, weÃ¢ÂÂre making it easier for people to see news and stories their followers have been discussing,\" Product Manager Walter Gurzynski said. The feature comes alongside a prompt saying, \"Catch up on what's happened while you were away.\"\n",
      "실제 요약 : Twitter testing news-first timeline feature on Android\n",
      "예측 요약 : Micro-blogging platform Twitter is testing a new feature on Android to put news on the top of a user's timeline.\n",
      "\n",
      "\n",
      "원문 : Samsung has started mass producing its one terabyte 'embedded Universal Flash Storage (eUFS) 2.1' technology for \"use in next-generation mobile applications\", which it claims is the industry's first such eUFS. The company added the new eUFS will let smartphones store 260 10-minute videos shot in 4K UHD format. It'll be sized the same as the previous 512GB version, Samsung said.\n",
      "실제 요약 : Samsung builds world's first 1TB storage chip for smartphones \n",
      "예측 요약 : Samsung has started mass producing its one terabyte 'embedded Universal Flash Storage (eUFS) 2.1' technology for \"use in next-generation mobile applications\", which it claims is the industry's first such eUFS.\n",
      "\n",
      "\n",
      "원문 : Prime Minister Narendra Modi on Wednesday said the people with 'negative mindset' are questioning him and his government for floating pro-poor schemes. He added negative mindset people are raising doubts about schemes such as building toilets and providing free gas connections to the poor. He further said that negative mentality laced with a vested interest still exists in the country.\n",
      "실제 요약 : People with 'negative mindset' quizzing pro-poor schemes: PM\n",
      "예측 요약 : Prime Minister Narendra Modi on Wednesday said the people with 'negative mindset' are questioning him and his government for floating pro-poor schemes.\n",
      "\n",
      "\n",
      "원문 : Union Minister Anantkumar Hegde took a dig at Congress President Rahul Gandhi by calling him a \"hybrid specimen\" who has no clue about religion. \"A father who's...Muslim, a mother who's...Christian and the son is supposed to be...Brahmin. How is that even possible?\" he said. He added such \"hybrid specimen\" cannot be found in any laboratory in the world.\n",
      "실제 요약 : Rahul is hybrid specimen, has no clue about religion: Hegde\n",
      "예측 요약 : Union Minister Anantkumar Hegde took a dig at Congress President Rahul Gandhi by calling him a \"hybrid specimen\" who has no clue about religion.\n",
      "He added such \"hybrid specimen\" cannot be found in any laboratory in the world.\n",
      "\n",
      "\n",
      "원문 : Several parts of the US are set to experience record low temperatures as the polar vortex hit the Upper Midwest, with more than 200 million people expected to experience below-freezing temperatures this week. Temperatures throughout the Upper Midwest are expected to be at least 20-40Ã¢ÂÂ below zero. Government offices and schools have been closed in several areas.\n",
      "실제 요약 : Extreme cold to affect 200 million people as polar vortex hits US\n",
      "예측 요약 : Several parts of the US are set to experience record low temperatures as the polar vortex hit the Upper Midwest, with more than 200 million people expected to experience below-freezing temperatures this week.\n",
      "\n",
      "\n",
      "원문 : The police on Wednesday registered cases against 13 persons, including a woman leader of Hindu Mahasabha, in Aligarh for firing at an effigy of Mahatma Gandhi with an air pistol. \"The incident took place in a house in Naurangabad locality of the city,\" Senior Superintendent of Police said. The video of the event went viral on social media, he added.\n",
      "실제 요약 : 13 booked for firing air shots at Mahatma Gandhi's effigy\n",
      "예측 요약 : The police on Wednesday registered cases against 13 persons, including a woman leader of Hindu Mahasabha, in Aligarh for firing at an effigy of Mahatma Gandhi with an air pistol.\n",
      "\n",
      "\n",
      "원문 : Railway police has rescued a woman travelling on a train in Chennai who got her leg stuck inside the commode of a toilet. After being caught inside the commode hole, she struggled to remove her leg and following failed attempts, she shouted for help, reports said. Railway police used a cutter to pry open the commode and freed her leg.\n",
      "실제 요약 : Railway police rescues woman with leg stuck in train toilet\n",
      "예측 요약 : Railway police has rescued a woman travelling on a train in Chennai who got her leg stuck inside the commode of a toilet.\n",
      "\n",
      "\n",
      "원문 : The US on Tuesday began returning asylum seekers to Mexico, sending back a migrant from a Central American nation and called the move a \"response to the illegal migration crisis\" faced by it. Under its Migrant Protection Protocols policy, the US will return certain migrants who cross into the country illegally back to Mexico while their asylum requests are processed.\n",
      "실제 요약 : US begins sending back asylum seekers to Mexico\n",
      "예측 요약 : The US on Tuesday began returning asylum seekers to Mexico, sending back a migrant from a Central American nation and called the move a \"response to the illegal migration crisis\" faced by it.\n",
      "\n",
      "\n"
     ]
    }
   ],
   "source": [
    "#원문과 비교해보기\n",
    "\n",
    "\n",
    "for i in range(10, 50):\n",
    "    print(\"원문 :\", text[i])\n",
    "    print(\"실제 요약 :\", newshead[i])\n",
    "    print(\"예측 요약 :\", headlines[i])\n",
    "    print(\"\\n\")"
   ]
  },
  {
   "cell_type": "markdown",
   "id": "great-cloud",
   "metadata": {},
   "source": [
    "적당히 나온것 같다"
   ]
  },
  {
   "cell_type": "markdown",
   "id": "reasonable-description",
   "metadata": {},
   "source": [
    "# 느낀점\n",
    "프로젝트 진행 자체는 비교적 원활하게 진행되었으나 전체 개념을 이해하는데 어려움을 겪었다.\n",
    "요약결과물이 잘 나온건지는 영어울렁증으로 인해 직접 비교해보지 못하여 그저 비슷한 단어가 있는것으로 보아 대충 어느정도 나왔구나 하고 있다.\n",
    "\n",
    "갈수록 프로젝트에서 제시하는 코드는 직관적이지만 거기에 적용되는 개념이 심화되어 학습에 어려움이 있다. 조금 더 개념이해에 투자하는 시간을 늘릴필요가 있어보인다."
   ]
  }
 ],
 "metadata": {
  "kernelspec": {
   "display_name": "aiffel",
   "language": "python",
   "name": "aiffel"
  },
  "language_info": {
   "codemirror_mode": {
    "name": "ipython",
    "version": 3
   },
   "file_extension": ".py",
   "mimetype": "text/x-python",
   "name": "python",
   "nbconvert_exporter": "python",
   "pygments_lexer": "ipython3",
   "version": "3.7.9"
  }
 },
 "nbformat": 4,
 "nbformat_minor": 5
}
