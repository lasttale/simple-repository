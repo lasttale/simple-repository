{
 "cells": [
  {
   "cell_type": "markdown",
   "id": "together-tooth",
   "metadata": {},
   "source": [
    "# 8. 프로젝트 - Movielens 영화 추천 실습"
   ]
  },
  {
   "cell_type": "markdown",
   "id": "sunset-pitch",
   "metadata": {},
   "source": [
    "## 8-1. 데이터 준비와 전처리"
   ]
  },
  {
   "cell_type": "code",
   "execution_count": 1,
   "id": "separated-morrison",
   "metadata": {},
   "outputs": [
    {
     "data": {
      "text/html": [
       "<div>\n",
       "<style scoped>\n",
       "    .dataframe tbody tr th:only-of-type {\n",
       "        vertical-align: middle;\n",
       "    }\n",
       "\n",
       "    .dataframe tbody tr th {\n",
       "        vertical-align: top;\n",
       "    }\n",
       "\n",
       "    .dataframe thead th {\n",
       "        text-align: right;\n",
       "    }\n",
       "</style>\n",
       "<table border=\"1\" class=\"dataframe\">\n",
       "  <thead>\n",
       "    <tr style=\"text-align: right;\">\n",
       "      <th></th>\n",
       "      <th>user_id</th>\n",
       "      <th>movie_id</th>\n",
       "      <th>rating</th>\n",
       "      <th>timestamp</th>\n",
       "    </tr>\n",
       "  </thead>\n",
       "  <tbody>\n",
       "    <tr>\n",
       "      <th>0</th>\n",
       "      <td>1</td>\n",
       "      <td>1193</td>\n",
       "      <td>5</td>\n",
       "      <td>978300760</td>\n",
       "    </tr>\n",
       "    <tr>\n",
       "      <th>1</th>\n",
       "      <td>1</td>\n",
       "      <td>661</td>\n",
       "      <td>3</td>\n",
       "      <td>978302109</td>\n",
       "    </tr>\n",
       "    <tr>\n",
       "      <th>2</th>\n",
       "      <td>1</td>\n",
       "      <td>914</td>\n",
       "      <td>3</td>\n",
       "      <td>978301968</td>\n",
       "    </tr>\n",
       "    <tr>\n",
       "      <th>3</th>\n",
       "      <td>1</td>\n",
       "      <td>3408</td>\n",
       "      <td>4</td>\n",
       "      <td>978300275</td>\n",
       "    </tr>\n",
       "    <tr>\n",
       "      <th>4</th>\n",
       "      <td>1</td>\n",
       "      <td>2355</td>\n",
       "      <td>5</td>\n",
       "      <td>978824291</td>\n",
       "    </tr>\n",
       "  </tbody>\n",
       "</table>\n",
       "</div>"
      ],
      "text/plain": [
       "   user_id  movie_id  rating  timestamp\n",
       "0        1      1193       5  978300760\n",
       "1        1       661       3  978302109\n",
       "2        1       914       3  978301968\n",
       "3        1      3408       4  978300275\n",
       "4        1      2355       5  978824291"
      ]
     },
     "execution_count": 1,
     "metadata": {},
     "output_type": "execute_result"
    }
   ],
   "source": [
    "import pandas as pd\n",
    "import os\n",
    "rating_file_path=os.getenv('HOME') + '/aiffel/recommendata_iu/data/ml-1m/ratings.dat'\n",
    "ratings_cols = ['user_id', 'movie_id', 'rating', 'timestamp']\n",
    "ratings = pd.read_csv(rating_file_path, sep='::', names=ratings_cols, engine='python')\n",
    "orginal_data_size = len(ratings)\n",
    "ratings.head()"
   ]
  },
  {
   "cell_type": "code",
   "execution_count": 2,
   "id": "weekly-expense",
   "metadata": {},
   "outputs": [
    {
     "name": "stdout",
     "output_type": "stream",
     "text": [
      "orginal_data_size: 1000209, filtered_data_size: 836478\n",
      "Ratio of Remaining Data is 83.63%\n"
     ]
    }
   ],
   "source": [
    "# 3점 이상만 남깁니다.\n",
    "ratings = ratings[ratings['rating']>=3]\n",
    "filtered_data_size = len(ratings)\n",
    "\n",
    "print(f'orginal_data_size: {orginal_data_size}, filtered_data_size: {filtered_data_size}')\n",
    "print(f'Ratio of Remaining Data is {filtered_data_size / orginal_data_size:.2%}')"
   ]
  },
  {
   "cell_type": "code",
   "execution_count": 3,
   "id": "centered-siemens",
   "metadata": {},
   "outputs": [],
   "source": [
    "# rating 컬럼의 이름을 count로 바꿉니다.\n",
    "ratings.rename(columns={'rating':'count'}, inplace=True)"
   ]
  },
  {
   "cell_type": "code",
   "execution_count": 4,
   "id": "guilty-picking",
   "metadata": {},
   "outputs": [
    {
     "data": {
      "text/plain": [
       "0          5\n",
       "1          3\n",
       "2          3\n",
       "3          4\n",
       "4          5\n",
       "          ..\n",
       "1000203    3\n",
       "1000205    5\n",
       "1000206    5\n",
       "1000207    4\n",
       "1000208    4\n",
       "Name: count, Length: 836478, dtype: int64"
      ]
     },
     "execution_count": 4,
     "metadata": {},
     "output_type": "execute_result"
    }
   ],
   "source": [
    "ratings['count']"
   ]
  },
  {
   "cell_type": "code",
   "execution_count": 5,
   "id": "gorgeous-diploma",
   "metadata": {},
   "outputs": [
    {
     "data": {
      "text/html": [
       "<div>\n",
       "<style scoped>\n",
       "    .dataframe tbody tr th:only-of-type {\n",
       "        vertical-align: middle;\n",
       "    }\n",
       "\n",
       "    .dataframe tbody tr th {\n",
       "        vertical-align: top;\n",
       "    }\n",
       "\n",
       "    .dataframe thead th {\n",
       "        text-align: right;\n",
       "    }\n",
       "</style>\n",
       "<table border=\"1\" class=\"dataframe\">\n",
       "  <thead>\n",
       "    <tr style=\"text-align: right;\">\n",
       "      <th></th>\n",
       "      <th>movie_id</th>\n",
       "      <th>title</th>\n",
       "      <th>genre</th>\n",
       "    </tr>\n",
       "  </thead>\n",
       "  <tbody>\n",
       "    <tr>\n",
       "      <th>0</th>\n",
       "      <td>1</td>\n",
       "      <td>Toy Story (1995)</td>\n",
       "      <td>Animation|Children's|Comedy</td>\n",
       "    </tr>\n",
       "    <tr>\n",
       "      <th>1</th>\n",
       "      <td>2</td>\n",
       "      <td>Jumanji (1995)</td>\n",
       "      <td>Adventure|Children's|Fantasy</td>\n",
       "    </tr>\n",
       "    <tr>\n",
       "      <th>2</th>\n",
       "      <td>3</td>\n",
       "      <td>Grumpier Old Men (1995)</td>\n",
       "      <td>Comedy|Romance</td>\n",
       "    </tr>\n",
       "    <tr>\n",
       "      <th>3</th>\n",
       "      <td>4</td>\n",
       "      <td>Waiting to Exhale (1995)</td>\n",
       "      <td>Comedy|Drama</td>\n",
       "    </tr>\n",
       "    <tr>\n",
       "      <th>4</th>\n",
       "      <td>5</td>\n",
       "      <td>Father of the Bride Part II (1995)</td>\n",
       "      <td>Comedy</td>\n",
       "    </tr>\n",
       "  </tbody>\n",
       "</table>\n",
       "</div>"
      ],
      "text/plain": [
       "   movie_id                               title                         genre\n",
       "0         1                    Toy Story (1995)   Animation|Children's|Comedy\n",
       "1         2                      Jumanji (1995)  Adventure|Children's|Fantasy\n",
       "2         3             Grumpier Old Men (1995)                Comedy|Romance\n",
       "3         4            Waiting to Exhale (1995)                  Comedy|Drama\n",
       "4         5  Father of the Bride Part II (1995)                        Comedy"
      ]
     },
     "execution_count": 5,
     "metadata": {},
     "output_type": "execute_result"
    }
   ],
   "source": [
    "# 영화 제목을 보기 위해 메타 데이터를 읽어옵니다.\n",
    "movie_file_path=os.getenv('HOME') + '/aiffel/recommendata_iu/data/ml-1m/movies.dat'\n",
    "cols = ['movie_id', 'title', 'genre'] \n",
    "movies = pd.read_csv(movie_file_path, sep='::', names=cols, engine='python')\n",
    "movies.head()"
   ]
  },
  {
   "cell_type": "code",
   "execution_count": 6,
   "id": "reflected-disability",
   "metadata": {},
   "outputs": [
    {
     "name": "stdout",
     "output_type": "stream",
     "text": [
      "836478\n"
     ]
    },
    {
     "data": {
      "text/html": [
       "<div>\n",
       "<style scoped>\n",
       "    .dataframe tbody tr th:only-of-type {\n",
       "        vertical-align: middle;\n",
       "    }\n",
       "\n",
       "    .dataframe tbody tr th {\n",
       "        vertical-align: top;\n",
       "    }\n",
       "\n",
       "    .dataframe thead th {\n",
       "        text-align: right;\n",
       "    }\n",
       "</style>\n",
       "<table border=\"1\" class=\"dataframe\">\n",
       "  <thead>\n",
       "    <tr style=\"text-align: right;\">\n",
       "      <th></th>\n",
       "      <th>user_id</th>\n",
       "      <th>movie_id</th>\n",
       "      <th>rating</th>\n",
       "      <th>timestamp</th>\n",
       "      <th>title</th>\n",
       "      <th>genre</th>\n",
       "    </tr>\n",
       "  </thead>\n",
       "  <tbody>\n",
       "    <tr>\n",
       "      <th>0</th>\n",
       "      <td>1</td>\n",
       "      <td>1193</td>\n",
       "      <td>5</td>\n",
       "      <td>978300760</td>\n",
       "      <td>One Flew Over the Cuckoo's Nest (1975)</td>\n",
       "      <td>Drama</td>\n",
       "    </tr>\n",
       "    <tr>\n",
       "      <th>1</th>\n",
       "      <td>2</td>\n",
       "      <td>1193</td>\n",
       "      <td>5</td>\n",
       "      <td>978298413</td>\n",
       "      <td>One Flew Over the Cuckoo's Nest (1975)</td>\n",
       "      <td>Drama</td>\n",
       "    </tr>\n",
       "    <tr>\n",
       "      <th>2</th>\n",
       "      <td>12</td>\n",
       "      <td>1193</td>\n",
       "      <td>4</td>\n",
       "      <td>978220179</td>\n",
       "      <td>One Flew Over the Cuckoo's Nest (1975)</td>\n",
       "      <td>Drama</td>\n",
       "    </tr>\n",
       "    <tr>\n",
       "      <th>3</th>\n",
       "      <td>15</td>\n",
       "      <td>1193</td>\n",
       "      <td>4</td>\n",
       "      <td>978199279</td>\n",
       "      <td>One Flew Over the Cuckoo's Nest (1975)</td>\n",
       "      <td>Drama</td>\n",
       "    </tr>\n",
       "    <tr>\n",
       "      <th>4</th>\n",
       "      <td>17</td>\n",
       "      <td>1193</td>\n",
       "      <td>5</td>\n",
       "      <td>978158471</td>\n",
       "      <td>One Flew Over the Cuckoo's Nest (1975)</td>\n",
       "      <td>Drama</td>\n",
       "    </tr>\n",
       "    <tr>\n",
       "      <th>...</th>\n",
       "      <td>...</td>\n",
       "      <td>...</td>\n",
       "      <td>...</td>\n",
       "      <td>...</td>\n",
       "      <td>...</td>\n",
       "      <td>...</td>\n",
       "    </tr>\n",
       "    <tr>\n",
       "      <th>836473</th>\n",
       "      <td>5851</td>\n",
       "      <td>3607</td>\n",
       "      <td>5</td>\n",
       "      <td>957756608</td>\n",
       "      <td>One Little Indian (1973)</td>\n",
       "      <td>Comedy|Drama|Western</td>\n",
       "    </tr>\n",
       "    <tr>\n",
       "      <th>836474</th>\n",
       "      <td>5854</td>\n",
       "      <td>3026</td>\n",
       "      <td>4</td>\n",
       "      <td>958346883</td>\n",
       "      <td>Slaughterhouse (1987)</td>\n",
       "      <td>Horror</td>\n",
       "    </tr>\n",
       "    <tr>\n",
       "      <th>836475</th>\n",
       "      <td>5854</td>\n",
       "      <td>690</td>\n",
       "      <td>3</td>\n",
       "      <td>957744257</td>\n",
       "      <td>Promise, The (Versprechen, Das) (1994)</td>\n",
       "      <td>Romance</td>\n",
       "    </tr>\n",
       "    <tr>\n",
       "      <th>836476</th>\n",
       "      <td>5938</td>\n",
       "      <td>2909</td>\n",
       "      <td>4</td>\n",
       "      <td>957273353</td>\n",
       "      <td>Five Wives, Three Secretaries and Me (1998)</td>\n",
       "      <td>Documentary</td>\n",
       "    </tr>\n",
       "    <tr>\n",
       "      <th>836477</th>\n",
       "      <td>5948</td>\n",
       "      <td>1360</td>\n",
       "      <td>5</td>\n",
       "      <td>1016563709</td>\n",
       "      <td>Identification of a Woman (Identificazione di ...</td>\n",
       "      <td>Drama</td>\n",
       "    </tr>\n",
       "  </tbody>\n",
       "</table>\n",
       "<p>836478 rows × 6 columns</p>\n",
       "</div>"
      ],
      "text/plain": [
       "        user_id  movie_id  rating   timestamp  \\\n",
       "0             1      1193       5   978300760   \n",
       "1             2      1193       5   978298413   \n",
       "2            12      1193       4   978220179   \n",
       "3            15      1193       4   978199279   \n",
       "4            17      1193       5   978158471   \n",
       "...         ...       ...     ...         ...   \n",
       "836473     5851      3607       5   957756608   \n",
       "836474     5854      3026       4   958346883   \n",
       "836475     5854       690       3   957744257   \n",
       "836476     5938      2909       4   957273353   \n",
       "836477     5948      1360       5  1016563709   \n",
       "\n",
       "                                                    title  \\\n",
       "0                  One Flew Over the Cuckoo's Nest (1975)   \n",
       "1                  One Flew Over the Cuckoo's Nest (1975)   \n",
       "2                  One Flew Over the Cuckoo's Nest (1975)   \n",
       "3                  One Flew Over the Cuckoo's Nest (1975)   \n",
       "4                  One Flew Over the Cuckoo's Nest (1975)   \n",
       "...                                                   ...   \n",
       "836473                           One Little Indian (1973)   \n",
       "836474                              Slaughterhouse (1987)   \n",
       "836475             Promise, The (Versprechen, Das) (1994)   \n",
       "836476        Five Wives, Three Secretaries and Me (1998)   \n",
       "836477  Identification of a Woman (Identificazione di ...   \n",
       "\n",
       "                       genre  \n",
       "0                      Drama  \n",
       "1                      Drama  \n",
       "2                      Drama  \n",
       "3                      Drama  \n",
       "4                      Drama  \n",
       "...                      ...  \n",
       "836473  Comedy|Drama|Western  \n",
       "836474                Horror  \n",
       "836475               Romance  \n",
       "836476           Documentary  \n",
       "836477                 Drama  \n",
       "\n",
       "[836478 rows x 6 columns]"
      ]
     },
     "execution_count": 6,
     "metadata": {},
     "output_type": "execute_result"
    }
   ],
   "source": [
    "#데이터셋 병합. merge 사용.\n",
    "result = pd.merge(ratings, movies, on = 'movie_id')\n",
    "result.rename(columns={'count' : 'rating'}, inplace = True)\n",
    "print(len(result))\n",
    "result.head(len(result))"
   ]
  },
  {
   "cell_type": "markdown",
   "id": "prompt-release",
   "metadata": {},
   "source": [
    "merge후 rating이 count로 변경되어있어 rename사용하여 변경."
   ]
  },
  {
   "cell_type": "markdown",
   "id": "competent-privacy",
   "metadata": {},
   "source": [
    "## 8-2 분석"
   ]
  },
  {
   "cell_type": "code",
   "execution_count": 7,
   "id": "normal-forest",
   "metadata": {},
   "outputs": [
    {
     "data": {
      "text/plain": [
       "3628"
      ]
     },
     "execution_count": 7,
     "metadata": {},
     "output_type": "execute_result"
    }
   ],
   "source": [
    "#result에 있는 유니크한 영화 개수\n",
    "result['movie_id'].nunique()"
   ]
  },
  {
   "cell_type": "code",
   "execution_count": 8,
   "id": "comic-priority",
   "metadata": {},
   "outputs": [
    {
     "data": {
      "text/plain": [
       "6039"
      ]
     },
     "execution_count": 8,
     "metadata": {},
     "output_type": "execute_result"
    }
   ],
   "source": [
    "#result에 있는 유니크한 사용자 수 \n",
    "result['user_id'].nunique()"
   ]
  },
  {
   "cell_type": "code",
   "execution_count": 9,
   "id": "blank-drama",
   "metadata": {},
   "outputs": [
    {
     "data": {
      "text/html": [
       "<div>\n",
       "<style scoped>\n",
       "    .dataframe tbody tr th:only-of-type {\n",
       "        vertical-align: middle;\n",
       "    }\n",
       "\n",
       "    .dataframe tbody tr th {\n",
       "        vertical-align: top;\n",
       "    }\n",
       "\n",
       "    .dataframe thead th {\n",
       "        text-align: right;\n",
       "    }\n",
       "</style>\n",
       "<table border=\"1\" class=\"dataframe\">\n",
       "  <thead>\n",
       "    <tr style=\"text-align: right;\">\n",
       "      <th></th>\n",
       "      <th>user_id</th>\n",
       "      <th>movie_id</th>\n",
       "      <th>rating</th>\n",
       "      <th>timestamp</th>\n",
       "      <th>title</th>\n",
       "      <th>genre</th>\n",
       "    </tr>\n",
       "  </thead>\n",
       "  <tbody>\n",
       "    <tr>\n",
       "      <th>0</th>\n",
       "      <td>1</td>\n",
       "      <td>1193</td>\n",
       "      <td>5</td>\n",
       "      <td>978300760</td>\n",
       "      <td>one flew over the cuckoo's nest (1975)</td>\n",
       "      <td>Drama</td>\n",
       "    </tr>\n",
       "    <tr>\n",
       "      <th>1</th>\n",
       "      <td>2</td>\n",
       "      <td>1193</td>\n",
       "      <td>5</td>\n",
       "      <td>978298413</td>\n",
       "      <td>one flew over the cuckoo's nest (1975)</td>\n",
       "      <td>Drama</td>\n",
       "    </tr>\n",
       "    <tr>\n",
       "      <th>2</th>\n",
       "      <td>12</td>\n",
       "      <td>1193</td>\n",
       "      <td>4</td>\n",
       "      <td>978220179</td>\n",
       "      <td>one flew over the cuckoo's nest (1975)</td>\n",
       "      <td>Drama</td>\n",
       "    </tr>\n",
       "    <tr>\n",
       "      <th>3</th>\n",
       "      <td>15</td>\n",
       "      <td>1193</td>\n",
       "      <td>4</td>\n",
       "      <td>978199279</td>\n",
       "      <td>one flew over the cuckoo's nest (1975)</td>\n",
       "      <td>Drama</td>\n",
       "    </tr>\n",
       "    <tr>\n",
       "      <th>4</th>\n",
       "      <td>17</td>\n",
       "      <td>1193</td>\n",
       "      <td>5</td>\n",
       "      <td>978158471</td>\n",
       "      <td>one flew over the cuckoo's nest (1975)</td>\n",
       "      <td>Drama</td>\n",
       "    </tr>\n",
       "  </tbody>\n",
       "</table>\n",
       "</div>"
      ],
      "text/plain": [
       "   user_id  movie_id  rating  timestamp  \\\n",
       "0        1      1193       5  978300760   \n",
       "1        2      1193       5  978298413   \n",
       "2       12      1193       4  978220179   \n",
       "3       15      1193       4  978199279   \n",
       "4       17      1193       5  978158471   \n",
       "\n",
       "                                    title  genre  \n",
       "0  one flew over the cuckoo's nest (1975)  Drama  \n",
       "1  one flew over the cuckoo's nest (1975)  Drama  \n",
       "2  one flew over the cuckoo's nest (1975)  Drama  \n",
       "3  one flew over the cuckoo's nest (1975)  Drama  \n",
       "4  one flew over the cuckoo's nest (1975)  Drama  "
      ]
     },
     "execution_count": 9,
     "metadata": {},
     "output_type": "execute_result"
    }
   ],
   "source": [
    "result['title'] = result['title'].str.lower()\n",
    "result.head()"
   ]
  },
  {
   "cell_type": "code",
   "execution_count": 10,
   "id": "inner-iceland",
   "metadata": {},
   "outputs": [
    {
     "data": {
      "text/html": [
       "<div>\n",
       "<style scoped>\n",
       "    .dataframe tbody tr th:only-of-type {\n",
       "        vertical-align: middle;\n",
       "    }\n",
       "\n",
       "    .dataframe tbody tr th {\n",
       "        vertical-align: top;\n",
       "    }\n",
       "\n",
       "    .dataframe thead th {\n",
       "        text-align: right;\n",
       "    }\n",
       "</style>\n",
       "<table border=\"1\" class=\"dataframe\">\n",
       "  <thead>\n",
       "    <tr style=\"text-align: right;\">\n",
       "      <th></th>\n",
       "      <th>title</th>\n",
       "      <th>user_id</th>\n",
       "      <th>movie_id</th>\n",
       "      <th>rating</th>\n",
       "      <th>timestamp</th>\n",
       "    </tr>\n",
       "  </thead>\n",
       "  <tbody>\n",
       "    <tr>\n",
       "      <th>1280</th>\n",
       "      <td>gate of heavenly peace, the (1995)</td>\n",
       "      <td>1948.666667</td>\n",
       "      <td>787.0</td>\n",
       "      <td>5.000000</td>\n",
       "      <td>9.741198e+08</td>\n",
       "    </tr>\n",
       "    <tr>\n",
       "      <th>1186</th>\n",
       "      <td>follow the bitch (1998)</td>\n",
       "      <td>2869.000000</td>\n",
       "      <td>1830.0</td>\n",
       "      <td>5.000000</td>\n",
       "      <td>9.724390e+08</td>\n",
       "    </tr>\n",
       "    <tr>\n",
       "      <th>1625</th>\n",
       "      <td>identification of a woman (identificazione di ...</td>\n",
       "      <td>5948.000000</td>\n",
       "      <td>1360.0</td>\n",
       "      <td>5.000000</td>\n",
       "      <td>1.016564e+09</td>\n",
       "    </tr>\n",
       "    <tr>\n",
       "      <th>2854</th>\n",
       "      <td>schlafes bruder (brother of sleep) (1995)</td>\n",
       "      <td>1915.000000</td>\n",
       "      <td>989.0</td>\n",
       "      <td>5.000000</td>\n",
       "      <td>9.746939e+08</td>\n",
       "    </tr>\n",
       "    <tr>\n",
       "      <th>782</th>\n",
       "      <td>criminal lovers (les amants criminels) (1999)</td>\n",
       "      <td>850.000000</td>\n",
       "      <td>3800.0</td>\n",
       "      <td>5.000000</td>\n",
       "      <td>9.753594e+08</td>\n",
       "    </tr>\n",
       "    <tr>\n",
       "      <th>765</th>\n",
       "      <td>country life (1994)</td>\n",
       "      <td>1631.000000</td>\n",
       "      <td>687.0</td>\n",
       "      <td>5.000000</td>\n",
       "      <td>9.747256e+08</td>\n",
       "    </tr>\n",
       "    <tr>\n",
       "      <th>1206</th>\n",
       "      <td>foreign student (1994)</td>\n",
       "      <td>3618.000000</td>\n",
       "      <td>572.0</td>\n",
       "      <td>5.000000</td>\n",
       "      <td>9.671202e+08</td>\n",
       "    </tr>\n",
       "    <tr>\n",
       "      <th>1991</th>\n",
       "      <td>lured (1947)</td>\n",
       "      <td>5313.000000</td>\n",
       "      <td>3656.0</td>\n",
       "      <td>5.000000</td>\n",
       "      <td>9.609204e+08</td>\n",
       "    </tr>\n",
       "    <tr>\n",
       "      <th>246</th>\n",
       "      <td>baby, the (1973)</td>\n",
       "      <td>46.000000</td>\n",
       "      <td>3280.0</td>\n",
       "      <td>5.000000</td>\n",
       "      <td>9.779795e+08</td>\n",
       "    </tr>\n",
       "    <tr>\n",
       "      <th>1871</th>\n",
       "      <td>late bloomers (1996)</td>\n",
       "      <td>4682.000000</td>\n",
       "      <td>1553.0</td>\n",
       "      <td>5.000000</td>\n",
       "      <td>9.645669e+08</td>\n",
       "    </tr>\n",
       "    <tr>\n",
       "      <th>3623</th>\n",
       "      <td>zachariah (1971)</td>\n",
       "      <td>3827.000000</td>\n",
       "      <td>3236.0</td>\n",
       "      <td>5.000000</td>\n",
       "      <td>9.661275e+08</td>\n",
       "    </tr>\n",
       "    <tr>\n",
       "      <th>404</th>\n",
       "      <td>bittersweet motel (2000)</td>\n",
       "      <td>2885.000000</td>\n",
       "      <td>3881.0</td>\n",
       "      <td>5.000000</td>\n",
       "      <td>9.724529e+08</td>\n",
       "    </tr>\n",
       "    <tr>\n",
       "      <th>414</th>\n",
       "      <td>black sunday (la maschera del demonio) (1960)</td>\n",
       "      <td>1186.000000</td>\n",
       "      <td>3205.0</td>\n",
       "      <td>5.000000</td>\n",
       "      <td>1.037567e+09</td>\n",
       "    </tr>\n",
       "    <tr>\n",
       "      <th>3031</th>\n",
       "      <td>song of freedom (1936)</td>\n",
       "      <td>5334.000000</td>\n",
       "      <td>3382.0</td>\n",
       "      <td>5.000000</td>\n",
       "      <td>9.607962e+08</td>\n",
       "    </tr>\n",
       "    <tr>\n",
       "      <th>2111</th>\n",
       "      <td>message to love: the isle of wight festival (1...</td>\n",
       "      <td>3951.200000</td>\n",
       "      <td>1420.0</td>\n",
       "      <td>5.000000</td>\n",
       "      <td>9.666918e+08</td>\n",
       "    </tr>\n",
       "    <tr>\n",
       "      <th>2990</th>\n",
       "      <td>smashing time (1967)</td>\n",
       "      <td>3733.000000</td>\n",
       "      <td>3233.0</td>\n",
       "      <td>5.000000</td>\n",
       "      <td>9.664246e+08</td>\n",
       "    </tr>\n",
       "    <tr>\n",
       "      <th>3409</th>\n",
       "      <td>ulysses (ulisse) (1954)</td>\n",
       "      <td>3485.000000</td>\n",
       "      <td>3172.0</td>\n",
       "      <td>5.000000</td>\n",
       "      <td>9.670604e+08</td>\n",
       "    </tr>\n",
       "    <tr>\n",
       "      <th>2469</th>\n",
       "      <td>paralyzing fear: the story of polio in america...</td>\n",
       "      <td>2930.000000</td>\n",
       "      <td>1787.0</td>\n",
       "      <td>5.000000</td>\n",
       "      <td>9.715377e+08</td>\n",
       "    </tr>\n",
       "    <tr>\n",
       "      <th>2410</th>\n",
       "      <td>one little indian (1973)</td>\n",
       "      <td>5851.000000</td>\n",
       "      <td>3607.0</td>\n",
       "      <td>5.000000</td>\n",
       "      <td>9.577566e+08</td>\n",
       "    </tr>\n",
       "    <tr>\n",
       "      <th>1599</th>\n",
       "      <td>i am cuba (soy cuba/ya kuba) (1964)</td>\n",
       "      <td>2268.400000</td>\n",
       "      <td>3245.0</td>\n",
       "      <td>4.800000</td>\n",
       "      <td>1.009848e+09</td>\n",
       "    </tr>\n",
       "    <tr>\n",
       "      <th>2888</th>\n",
       "      <td>seven chances (1925)</td>\n",
       "      <td>2658.000000</td>\n",
       "      <td>3232.0</td>\n",
       "      <td>4.750000</td>\n",
       "      <td>9.808594e+08</td>\n",
       "    </tr>\n",
       "    <tr>\n",
       "      <th>1845</th>\n",
       "      <td>lamerica (1994)</td>\n",
       "      <td>4053.750000</td>\n",
       "      <td>53.0</td>\n",
       "      <td>4.750000</td>\n",
       "      <td>9.662589e+08</td>\n",
       "    </tr>\n",
       "    <tr>\n",
       "      <th>3161</th>\n",
       "      <td>sunset strip (2000)</td>\n",
       "      <td>4205.000000</td>\n",
       "      <td>3866.0</td>\n",
       "      <td>4.666667</td>\n",
       "      <td>9.682990e+08</td>\n",
       "    </tr>\n",
       "    <tr>\n",
       "      <th>1145</th>\n",
       "      <td>firelight (1997)</td>\n",
       "      <td>4047.444444</td>\n",
       "      <td>2197.0</td>\n",
       "      <td>4.666667</td>\n",
       "      <td>9.813084e+08</td>\n",
       "    </tr>\n",
       "    <tr>\n",
       "      <th>199</th>\n",
       "      <td>apple, the (sib) (1998)</td>\n",
       "      <td>3771.888889</td>\n",
       "      <td>2503.0</td>\n",
       "      <td>4.666667</td>\n",
       "      <td>9.660076e+08</td>\n",
       "    </tr>\n",
       "    <tr>\n",
       "      <th>2835</th>\n",
       "      <td>sanjuro (1962)</td>\n",
       "      <td>2878.000000</td>\n",
       "      <td>2905.0</td>\n",
       "      <td>4.647059</td>\n",
       "      <td>9.758381e+08</td>\n",
       "    </tr>\n",
       "    <tr>\n",
       "      <th>2890</th>\n",
       "      <td>seven samurai (the magnificent seven) (shichin...</td>\n",
       "      <td>3238.130506</td>\n",
       "      <td>2019.0</td>\n",
       "      <td>4.629690</td>\n",
       "      <td>9.717726e+08</td>\n",
       "    </tr>\n",
       "    <tr>\n",
       "      <th>3596</th>\n",
       "      <td>world of apu, the (apur sansar) (1959)</td>\n",
       "      <td>3138.207547</td>\n",
       "      <td>670.0</td>\n",
       "      <td>4.603774</td>\n",
       "      <td>9.726039e+08</td>\n",
       "    </tr>\n",
       "    <tr>\n",
       "      <th>1336</th>\n",
       "      <td>godfather, the (1972)</td>\n",
       "      <td>3141.872174</td>\n",
       "      <td>858.0</td>\n",
       "      <td>4.598523</td>\n",
       "      <td>9.710745e+08</td>\n",
       "    </tr>\n",
       "    <tr>\n",
       "      <th>2919</th>\n",
       "      <td>shawshank redemption, the (1994)</td>\n",
       "      <td>3048.969462</td>\n",
       "      <td>318.0</td>\n",
       "      <td>4.596627</td>\n",
       "      <td>9.710731e+08</td>\n",
       "    </tr>\n",
       "  </tbody>\n",
       "</table>\n",
       "</div>"
      ],
      "text/plain": [
       "                                                  title      user_id  \\\n",
       "1280                 gate of heavenly peace, the (1995)  1948.666667   \n",
       "1186                            follow the bitch (1998)  2869.000000   \n",
       "1625  identification of a woman (identificazione di ...  5948.000000   \n",
       "2854          schlafes bruder (brother of sleep) (1995)  1915.000000   \n",
       "782       criminal lovers (les amants criminels) (1999)   850.000000   \n",
       "765                                 country life (1994)  1631.000000   \n",
       "1206                             foreign student (1994)  3618.000000   \n",
       "1991                                       lured (1947)  5313.000000   \n",
       "246                                    baby, the (1973)    46.000000   \n",
       "1871                               late bloomers (1996)  4682.000000   \n",
       "3623                                   zachariah (1971)  3827.000000   \n",
       "404                            bittersweet motel (2000)  2885.000000   \n",
       "414       black sunday (la maschera del demonio) (1960)  1186.000000   \n",
       "3031                             song of freedom (1936)  5334.000000   \n",
       "2111  message to love: the isle of wight festival (1...  3951.200000   \n",
       "2990                               smashing time (1967)  3733.000000   \n",
       "3409                            ulysses (ulisse) (1954)  3485.000000   \n",
       "2469  paralyzing fear: the story of polio in america...  2930.000000   \n",
       "2410                           one little indian (1973)  5851.000000   \n",
       "1599                i am cuba (soy cuba/ya kuba) (1964)  2268.400000   \n",
       "2888                               seven chances (1925)  2658.000000   \n",
       "1845                                    lamerica (1994)  4053.750000   \n",
       "3161                                sunset strip (2000)  4205.000000   \n",
       "1145                                   firelight (1997)  4047.444444   \n",
       "199                             apple, the (sib) (1998)  3771.888889   \n",
       "2835                                     sanjuro (1962)  2878.000000   \n",
       "2890  seven samurai (the magnificent seven) (shichin...  3238.130506   \n",
       "3596             world of apu, the (apur sansar) (1959)  3138.207547   \n",
       "1336                              godfather, the (1972)  3141.872174   \n",
       "2919                   shawshank redemption, the (1994)  3048.969462   \n",
       "\n",
       "      movie_id    rating     timestamp  \n",
       "1280     787.0  5.000000  9.741198e+08  \n",
       "1186    1830.0  5.000000  9.724390e+08  \n",
       "1625    1360.0  5.000000  1.016564e+09  \n",
       "2854     989.0  5.000000  9.746939e+08  \n",
       "782     3800.0  5.000000  9.753594e+08  \n",
       "765      687.0  5.000000  9.747256e+08  \n",
       "1206     572.0  5.000000  9.671202e+08  \n",
       "1991    3656.0  5.000000  9.609204e+08  \n",
       "246     3280.0  5.000000  9.779795e+08  \n",
       "1871    1553.0  5.000000  9.645669e+08  \n",
       "3623    3236.0  5.000000  9.661275e+08  \n",
       "404     3881.0  5.000000  9.724529e+08  \n",
       "414     3205.0  5.000000  1.037567e+09  \n",
       "3031    3382.0  5.000000  9.607962e+08  \n",
       "2111    1420.0  5.000000  9.666918e+08  \n",
       "2990    3233.0  5.000000  9.664246e+08  \n",
       "3409    3172.0  5.000000  9.670604e+08  \n",
       "2469    1787.0  5.000000  9.715377e+08  \n",
       "2410    3607.0  5.000000  9.577566e+08  \n",
       "1599    3245.0  4.800000  1.009848e+09  \n",
       "2888    3232.0  4.750000  9.808594e+08  \n",
       "1845      53.0  4.750000  9.662589e+08  \n",
       "3161    3866.0  4.666667  9.682990e+08  \n",
       "1145    2197.0  4.666667  9.813084e+08  \n",
       "199     2503.0  4.666667  9.660076e+08  \n",
       "2835    2905.0  4.647059  9.758381e+08  \n",
       "2890    2019.0  4.629690  9.717726e+08  \n",
       "3596     670.0  4.603774  9.726039e+08  \n",
       "1336     858.0  4.598523  9.710745e+08  \n",
       "2919     318.0  4.596627  9.710731e+08  "
      ]
     },
     "execution_count": 10,
     "metadata": {},
     "output_type": "execute_result"
    }
   ],
   "source": [
    "#가장 인기 있는 영화 30개(평점순)#가장 인기 있는 영화 30개(평점순)\n",
    "movie_count_rating = result.groupby(['title'], as_index=False).mean()\n",
    "movie_count_rating.sort_values(by='rating', ascending=False).head(30)"
   ]
  },
  {
   "cell_type": "code",
   "execution_count": 11,
   "id": "provincial-speech",
   "metadata": {},
   "outputs": [
    {
     "data": {
      "text/plain": [
       "title\n",
       "american beauty (1999)                                   3211\n",
       "star wars: episode iv - a new hope (1977)                2910\n",
       "star wars: episode v - the empire strikes back (1980)    2885\n",
       "star wars: episode vi - return of the jedi (1983)        2716\n",
       "saving private ryan (1998)                               2561\n",
       "terminator 2: judgment day (1991)                        2509\n",
       "silence of the lambs, the (1991)                         2498\n",
       "raiders of the lost ark (1981)                           2473\n",
       "back to the future (1985)                                2460\n",
       "matrix, the (1999)                                       2434\n",
       "jurassic park (1993)                                     2413\n",
       "sixth sense, the (1999)                                  2385\n",
       "fargo (1996)                                             2371\n",
       "braveheart (1995)                                        2314\n",
       "men in black (1997)                                      2297\n",
       "schindler's list (1993)                                  2257\n",
       "princess bride, the (1987)                               2252\n",
       "shakespeare in love (1998)                               2213\n",
       "l.a. confidential (1997)                                 2210\n",
       "shawshank redemption, the (1994)                         2194\n",
       "godfather, the (1972)                                    2167\n",
       "groundhog day (1993)                                     2121\n",
       "e.t. the extra-terrestrial (1982)                        2102\n",
       "being john malkovich (1999)                              2066\n",
       "ghostbusters (1984)                                      2051\n",
       "pulp fiction (1994)                                      2030\n",
       "forrest gump (1994)                                      2022\n",
       "terminator, the (1984)                                   2019\n",
       "toy story (1995)                                         2000\n",
       "fugitive, the (1993)                                     1941\n",
       "Name: user_id, dtype: int64"
      ]
     },
     "execution_count": 11,
     "metadata": {},
     "output_type": "execute_result"
    }
   ],
   "source": [
    "#가장 인기 있는 영화 30개(리뷰순)\n",
    "movie_count_review = result.groupby('title')['user_id'].count()\n",
    "movie_count_review.sort_values(ascending=False).head(30)"
   ]
  },
  {
   "cell_type": "markdown",
   "id": "federal-daily",
   "metadata": {},
   "source": [
    "## 8-3 내가 선호하는 영화 5가지 추가"
   ]
  },
  {
   "cell_type": "code",
   "execution_count": 12,
   "id": "protective-trick",
   "metadata": {},
   "outputs": [
    {
     "data": {
      "text/html": [
       "<div>\n",
       "<style scoped>\n",
       "    .dataframe tbody tr th:only-of-type {\n",
       "        vertical-align: middle;\n",
       "    }\n",
       "\n",
       "    .dataframe tbody tr th {\n",
       "        vertical-align: top;\n",
       "    }\n",
       "\n",
       "    .dataframe thead th {\n",
       "        text-align: right;\n",
       "    }\n",
       "</style>\n",
       "<table border=\"1\" class=\"dataframe\">\n",
       "  <thead>\n",
       "    <tr style=\"text-align: right;\">\n",
       "      <th></th>\n",
       "      <th>user_id</th>\n",
       "      <th>movie_id</th>\n",
       "      <th>rating</th>\n",
       "      <th>timestamp</th>\n",
       "      <th>title</th>\n",
       "      <th>genre</th>\n",
       "    </tr>\n",
       "  </thead>\n",
       "  <tbody>\n",
       "    <tr>\n",
       "      <th>836473</th>\n",
       "      <td>5851</td>\n",
       "      <td>3607.0</td>\n",
       "      <td>5</td>\n",
       "      <td>9.577566e+08</td>\n",
       "      <td>one little indian (1973)</td>\n",
       "      <td>Comedy|Drama|Western</td>\n",
       "    </tr>\n",
       "    <tr>\n",
       "      <th>836474</th>\n",
       "      <td>5854</td>\n",
       "      <td>3026.0</td>\n",
       "      <td>4</td>\n",
       "      <td>9.583469e+08</td>\n",
       "      <td>slaughterhouse (1987)</td>\n",
       "      <td>Horror</td>\n",
       "    </tr>\n",
       "    <tr>\n",
       "      <th>836475</th>\n",
       "      <td>5854</td>\n",
       "      <td>690.0</td>\n",
       "      <td>3</td>\n",
       "      <td>9.577443e+08</td>\n",
       "      <td>promise, the (versprechen, das) (1994)</td>\n",
       "      <td>Romance</td>\n",
       "    </tr>\n",
       "    <tr>\n",
       "      <th>836476</th>\n",
       "      <td>5938</td>\n",
       "      <td>2909.0</td>\n",
       "      <td>4</td>\n",
       "      <td>9.572734e+08</td>\n",
       "      <td>five wives, three secretaries and me (1998)</td>\n",
       "      <td>Documentary</td>\n",
       "    </tr>\n",
       "    <tr>\n",
       "      <th>836477</th>\n",
       "      <td>5948</td>\n",
       "      <td>1360.0</td>\n",
       "      <td>5</td>\n",
       "      <td>1.016564e+09</td>\n",
       "      <td>identification of a woman (identificazione di ...</td>\n",
       "      <td>Drama</td>\n",
       "    </tr>\n",
       "    <tr>\n",
       "      <th>0</th>\n",
       "      <td>minkyu</td>\n",
       "      <td>NaN</td>\n",
       "      <td>5</td>\n",
       "      <td>NaN</td>\n",
       "      <td>toy story (1995)</td>\n",
       "      <td>NaN</td>\n",
       "    </tr>\n",
       "    <tr>\n",
       "      <th>1</th>\n",
       "      <td>minkyu</td>\n",
       "      <td>NaN</td>\n",
       "      <td>5</td>\n",
       "      <td>NaN</td>\n",
       "      <td>godfather, the (1972)</td>\n",
       "      <td>NaN</td>\n",
       "    </tr>\n",
       "    <tr>\n",
       "      <th>2</th>\n",
       "      <td>minkyu</td>\n",
       "      <td>NaN</td>\n",
       "      <td>5</td>\n",
       "      <td>NaN</td>\n",
       "      <td>matrix, the (1999)</td>\n",
       "      <td>NaN</td>\n",
       "    </tr>\n",
       "    <tr>\n",
       "      <th>3</th>\n",
       "      <td>minkyu</td>\n",
       "      <td>NaN</td>\n",
       "      <td>5</td>\n",
       "      <td>NaN</td>\n",
       "      <td>men in black (1997)</td>\n",
       "      <td>NaN</td>\n",
       "    </tr>\n",
       "    <tr>\n",
       "      <th>4</th>\n",
       "      <td>minkyu</td>\n",
       "      <td>NaN</td>\n",
       "      <td>5</td>\n",
       "      <td>NaN</td>\n",
       "      <td>terminator 2: judgment day (1991)</td>\n",
       "      <td>NaN</td>\n",
       "    </tr>\n",
       "  </tbody>\n",
       "</table>\n",
       "</div>"
      ],
      "text/plain": [
       "       user_id  movie_id  rating     timestamp  \\\n",
       "836473    5851    3607.0       5  9.577566e+08   \n",
       "836474    5854    3026.0       4  9.583469e+08   \n",
       "836475    5854     690.0       3  9.577443e+08   \n",
       "836476    5938    2909.0       4  9.572734e+08   \n",
       "836477    5948    1360.0       5  1.016564e+09   \n",
       "0       minkyu       NaN       5           NaN   \n",
       "1       minkyu       NaN       5           NaN   \n",
       "2       minkyu       NaN       5           NaN   \n",
       "3       minkyu       NaN       5           NaN   \n",
       "4       minkyu       NaN       5           NaN   \n",
       "\n",
       "                                                    title  \\\n",
       "836473                           one little indian (1973)   \n",
       "836474                              slaughterhouse (1987)   \n",
       "836475             promise, the (versprechen, das) (1994)   \n",
       "836476        five wives, three secretaries and me (1998)   \n",
       "836477  identification of a woman (identificazione di ...   \n",
       "0                                        toy story (1995)   \n",
       "1                                   godfather, the (1972)   \n",
       "2                                      matrix, the (1999)   \n",
       "3                                     men in black (1997)   \n",
       "4                       terminator 2: judgment day (1991)   \n",
       "\n",
       "                       genre  \n",
       "836473  Comedy|Drama|Western  \n",
       "836474                Horror  \n",
       "836475               Romance  \n",
       "836476           Documentary  \n",
       "836477                 Drama  \n",
       "0                        NaN  \n",
       "1                        NaN  \n",
       "2                        NaN  \n",
       "3                        NaN  \n",
       "4                        NaN  "
      ]
     },
     "execution_count": 12,
     "metadata": {},
     "output_type": "execute_result"
    }
   ],
   "source": [
    "# 본인이 좋아하시는 아티스트 데이터로 바꿔서 추가하셔도 됩니다! 단, 이름은 꼭 데이터셋에 있는 것과 동일하게 맞춰주세요. \n",
    "my_favorite = ['toy story (1995)' , 'godfather, the (1972)' ,'matrix, the (1999)' ,'men in black (1997)' ,'terminator 2: judgment day (1991)']\n",
    "\n",
    "# 'zimin'이라는 user_id가 위 아티스트의 노래를 30회씩 들었다고 가정하겠습니다.\n",
    "my_playlist = pd.DataFrame({'user_id': ['minkyu']*5, 'title': my_favorite, 'rating':[5]*5})\n",
    "\n",
    "if not result.isin({'user_id':['minkyu']})['user_id'].any():  # user_id에 'zimin'이라는 데이터가 없다면\n",
    "    result = result.append(my_playlist)                           # 위에 임의로 만든 my_favorite 데이터를 추가해 줍니다. \n",
    "\n",
    "result.tail(10)       # 잘 추가되었는지 확인해 봅시다."
   ]
  },
  {
   "cell_type": "code",
   "execution_count": 13,
   "id": "requested-relay",
   "metadata": {},
   "outputs": [
    {
     "data": {
      "text/html": [
       "<div>\n",
       "<style scoped>\n",
       "    .dataframe tbody tr th:only-of-type {\n",
       "        vertical-align: middle;\n",
       "    }\n",
       "\n",
       "    .dataframe tbody tr th {\n",
       "        vertical-align: top;\n",
       "    }\n",
       "\n",
       "    .dataframe thead th {\n",
       "        text-align: right;\n",
       "    }\n",
       "</style>\n",
       "<table border=\"1\" class=\"dataframe\">\n",
       "  <thead>\n",
       "    <tr style=\"text-align: right;\">\n",
       "      <th></th>\n",
       "      <th>user_id</th>\n",
       "      <th>rating</th>\n",
       "      <th>title</th>\n",
       "    </tr>\n",
       "  </thead>\n",
       "  <tbody>\n",
       "    <tr>\n",
       "      <th>0</th>\n",
       "      <td>1</td>\n",
       "      <td>5</td>\n",
       "      <td>one flew over the cuckoo's nest (1975)</td>\n",
       "    </tr>\n",
       "    <tr>\n",
       "      <th>1</th>\n",
       "      <td>2</td>\n",
       "      <td>5</td>\n",
       "      <td>one flew over the cuckoo's nest (1975)</td>\n",
       "    </tr>\n",
       "    <tr>\n",
       "      <th>2</th>\n",
       "      <td>12</td>\n",
       "      <td>4</td>\n",
       "      <td>one flew over the cuckoo's nest (1975)</td>\n",
       "    </tr>\n",
       "    <tr>\n",
       "      <th>3</th>\n",
       "      <td>15</td>\n",
       "      <td>4</td>\n",
       "      <td>one flew over the cuckoo's nest (1975)</td>\n",
       "    </tr>\n",
       "    <tr>\n",
       "      <th>4</th>\n",
       "      <td>17</td>\n",
       "      <td>5</td>\n",
       "      <td>one flew over the cuckoo's nest (1975)</td>\n",
       "    </tr>\n",
       "    <tr>\n",
       "      <th>...</th>\n",
       "      <td>...</td>\n",
       "      <td>...</td>\n",
       "      <td>...</td>\n",
       "    </tr>\n",
       "    <tr>\n",
       "      <th>0</th>\n",
       "      <td>minkyu</td>\n",
       "      <td>5</td>\n",
       "      <td>toy story (1995)</td>\n",
       "    </tr>\n",
       "    <tr>\n",
       "      <th>1</th>\n",
       "      <td>minkyu</td>\n",
       "      <td>5</td>\n",
       "      <td>godfather, the (1972)</td>\n",
       "    </tr>\n",
       "    <tr>\n",
       "      <th>2</th>\n",
       "      <td>minkyu</td>\n",
       "      <td>5</td>\n",
       "      <td>matrix, the (1999)</td>\n",
       "    </tr>\n",
       "    <tr>\n",
       "      <th>3</th>\n",
       "      <td>minkyu</td>\n",
       "      <td>5</td>\n",
       "      <td>men in black (1997)</td>\n",
       "    </tr>\n",
       "    <tr>\n",
       "      <th>4</th>\n",
       "      <td>minkyu</td>\n",
       "      <td>5</td>\n",
       "      <td>terminator 2: judgment day (1991)</td>\n",
       "    </tr>\n",
       "  </tbody>\n",
       "</table>\n",
       "<p>836483 rows × 3 columns</p>\n",
       "</div>"
      ],
      "text/plain": [
       "   user_id  rating                                   title\n",
       "0        1       5  one flew over the cuckoo's nest (1975)\n",
       "1        2       5  one flew over the cuckoo's nest (1975)\n",
       "2       12       4  one flew over the cuckoo's nest (1975)\n",
       "3       15       4  one flew over the cuckoo's nest (1975)\n",
       "4       17       5  one flew over the cuckoo's nest (1975)\n",
       "..     ...     ...                                     ...\n",
       "0   minkyu       5                        toy story (1995)\n",
       "1   minkyu       5                   godfather, the (1972)\n",
       "2   minkyu       5                      matrix, the (1999)\n",
       "3   minkyu       5                     men in black (1997)\n",
       "4   minkyu       5       terminator 2: judgment day (1991)\n",
       "\n",
       "[836483 rows x 3 columns]"
      ]
     },
     "execution_count": 13,
     "metadata": {},
     "output_type": "execute_result"
    }
   ],
   "source": [
    "#사용하지 않는 colmes 제거\n",
    "result = result.drop(['movie_id', 'timestamp', 'genre'], axis = 1)\n",
    "result"
   ]
  },
  {
   "cell_type": "code",
   "execution_count": 14,
   "id": "anticipated-moses",
   "metadata": {},
   "outputs": [
    {
     "name": "stdout",
     "output_type": "stream",
     "text": [
      "[1 2 12 ... 2908 4486 'minkyu']\n",
      "6039\n",
      "40\n"
     ]
    }
   ],
   "source": [
    "# 고유한 유저, title를 찾아내는 코드\n",
    "user_unique = result['user_id'].unique()\n",
    "title_unique = result['title'].unique()\n",
    "print(user_unique)\n",
    "# 유저, 아티스트 indexing 하는 코드 idx는 index의 약자입니다.\n",
    "user_to_idx = {v:k for k,v in enumerate(user_unique)}\n",
    "title_to_idx = {v:k for k,v in enumerate(title_unique)}\n",
    "\n",
    "# 인덱싱이 잘 되었는지 확인해 봅니다. \n",
    "print(user_to_idx['minkyu'])    # 358869명의 유저 중 마지막으로 추가된 유저이니 358868이 나와야 합니다. \n",
    "print(title_to_idx['toy story (1995)'])"
   ]
  },
  {
   "cell_type": "code",
   "execution_count": 15,
   "id": "literary-justice",
   "metadata": {},
   "outputs": [
    {
     "name": "stdout",
     "output_type": "stream",
     "text": [
      "user_id column indexing OK!!\n",
      "title column indexing OK!!\n"
     ]
    },
    {
     "data": {
      "text/html": [
       "<div>\n",
       "<style scoped>\n",
       "    .dataframe tbody tr th:only-of-type {\n",
       "        vertical-align: middle;\n",
       "    }\n",
       "\n",
       "    .dataframe tbody tr th {\n",
       "        vertical-align: top;\n",
       "    }\n",
       "\n",
       "    .dataframe thead th {\n",
       "        text-align: right;\n",
       "    }\n",
       "</style>\n",
       "<table border=\"1\" class=\"dataframe\">\n",
       "  <thead>\n",
       "    <tr style=\"text-align: right;\">\n",
       "      <th></th>\n",
       "      <th>user_id</th>\n",
       "      <th>rating</th>\n",
       "      <th>title</th>\n",
       "    </tr>\n",
       "  </thead>\n",
       "  <tbody>\n",
       "    <tr>\n",
       "      <th>0</th>\n",
       "      <td>0</td>\n",
       "      <td>5</td>\n",
       "      <td>0</td>\n",
       "    </tr>\n",
       "    <tr>\n",
       "      <th>1</th>\n",
       "      <td>1</td>\n",
       "      <td>5</td>\n",
       "      <td>0</td>\n",
       "    </tr>\n",
       "    <tr>\n",
       "      <th>2</th>\n",
       "      <td>2</td>\n",
       "      <td>4</td>\n",
       "      <td>0</td>\n",
       "    </tr>\n",
       "    <tr>\n",
       "      <th>3</th>\n",
       "      <td>3</td>\n",
       "      <td>4</td>\n",
       "      <td>0</td>\n",
       "    </tr>\n",
       "    <tr>\n",
       "      <th>4</th>\n",
       "      <td>4</td>\n",
       "      <td>5</td>\n",
       "      <td>0</td>\n",
       "    </tr>\n",
       "    <tr>\n",
       "      <th>...</th>\n",
       "      <td>...</td>\n",
       "      <td>...</td>\n",
       "      <td>...</td>\n",
       "    </tr>\n",
       "    <tr>\n",
       "      <th>0</th>\n",
       "      <td>6039</td>\n",
       "      <td>5</td>\n",
       "      <td>40</td>\n",
       "    </tr>\n",
       "    <tr>\n",
       "      <th>1</th>\n",
       "      <td>6039</td>\n",
       "      <td>5</td>\n",
       "      <td>607</td>\n",
       "    </tr>\n",
       "    <tr>\n",
       "      <th>2</th>\n",
       "      <td>6039</td>\n",
       "      <td>5</td>\n",
       "      <td>124</td>\n",
       "    </tr>\n",
       "    <tr>\n",
       "      <th>3</th>\n",
       "      <td>6039</td>\n",
       "      <td>5</td>\n",
       "      <td>175</td>\n",
       "    </tr>\n",
       "    <tr>\n",
       "      <th>4</th>\n",
       "      <td>6039</td>\n",
       "      <td>5</td>\n",
       "      <td>92</td>\n",
       "    </tr>\n",
       "  </tbody>\n",
       "</table>\n",
       "<p>836483 rows × 3 columns</p>\n",
       "</div>"
      ],
      "text/plain": [
       "    user_id  rating  title\n",
       "0         0       5      0\n",
       "1         1       5      0\n",
       "2         2       4      0\n",
       "3         3       4      0\n",
       "4         4       5      0\n",
       "..      ...     ...    ...\n",
       "0      6039       5     40\n",
       "1      6039       5    607\n",
       "2      6039       5    124\n",
       "3      6039       5    175\n",
       "4      6039       5     92\n",
       "\n",
       "[836483 rows x 3 columns]"
      ]
     },
     "execution_count": 15,
     "metadata": {},
     "output_type": "execute_result"
    }
   ],
   "source": [
    "# indexing을 통해 데이터 컬럼 내 값을 바꾸는 코드\n",
    "# dictionary 자료형의 get 함수는 https://wikidocs.net/16 을 참고하세요.\n",
    "\n",
    "# user_to_idx.get을 통해 user_id 컬럼의 모든 값을 인덱싱한 Series를 구해 봅시다. \n",
    "# 혹시 정상적으로 인덱싱되지 않은 row가 있다면 인덱스가 NaN이 될 테니 dropna()로 제거합니다. \n",
    "temp_user_result = result['user_id'].map(user_to_idx.get).dropna()\n",
    "if len(temp_user_result) == len(result):   # 모든 row가 정상적으로 인덱싱되었다면\n",
    "    print('user_id column indexing OK!!')\n",
    "    result['user_id'] = temp_user_result   # data['user_id']을 인덱싱된 Series로 교체해 줍니다. \n",
    "else:\n",
    "    print('user_id column indexing Fail!!')\n",
    "\n",
    "# artist_to_idx을 통해 artist 컬럼도 동일한 방식으로 인덱싱해 줍니다. \n",
    "temp_title_data = result['title'].map(title_to_idx.get).dropna()\n",
    "if len(temp_title_data) == len(result):\n",
    "    print('title column indexing OK!!')\n",
    "    result['title'] = temp_title_data\n",
    "else:\n",
    "    print('title column indexing Fail!!')\n",
    "\n",
    "result"
   ]
  },
  {
   "cell_type": "markdown",
   "id": "friendly-dialogue",
   "metadata": {},
   "source": [
    "## 8-4 CSR matrix 생성"
   ]
  },
  {
   "cell_type": "code",
   "execution_count": 16,
   "id": "alpha-magnitude",
   "metadata": {},
   "outputs": [
    {
     "data": {
      "text/plain": [
       "<6040x3628 sparse matrix of type '<class 'numpy.int64'>'\n",
       "\twith 836483 stored elements in Compressed Sparse Row format>"
      ]
     },
     "execution_count": 16,
     "metadata": {},
     "output_type": "execute_result"
    }
   ],
   "source": [
    "# 실습 위에 설명보고 이해해서 만들어보기\n",
    "from scipy.sparse import csr_matrix\n",
    "\n",
    "num_user = result['user_id'].nunique()\n",
    "num_title = result['title'].nunique()\n",
    "\n",
    "csr_data = csr_matrix((result.rating, (result.user_id, result.title)), shape= (num_user, num_title))\n",
    "csr_data"
   ]
  },
  {
   "cell_type": "markdown",
   "id": "middle-rebecca",
   "metadata": {},
   "source": [
    "## 8-5 als_model = AlternatingLeastSquares 모델 구성"
   ]
  },
  {
   "cell_type": "code",
   "execution_count": 17,
   "id": "amber-shower",
   "metadata": {},
   "outputs": [],
   "source": [
    "from implicit.als import AlternatingLeastSquares\n",
    "import os\n",
    "import numpy as np\n",
    "\n",
    "# implicit 라이브러리에서 권장하고 있는 부분입니다. 학습 내용과는 무관합니다.\n",
    "os.environ['OPENBLAS_NUM_THREADS']='1'\n",
    "os.environ['KMP_DUPLICATE_LIB_OK']='True'\n",
    "os.environ['MKL_NUM_THREADS']='1'"
   ]
  },
  {
   "cell_type": "code",
   "execution_count": 18,
   "id": "acting-credits",
   "metadata": {},
   "outputs": [],
   "source": [
    "# Implicit AlternatingLeastSquares 모델의 선언\n",
    "als_model = AlternatingLeastSquares(factors=100, regularization=0.01, use_gpu=False, iterations=15, dtype=np.float32)"
   ]
  },
  {
   "cell_type": "code",
   "execution_count": 19,
   "id": "interpreted-jewelry",
   "metadata": {},
   "outputs": [
    {
     "data": {
      "text/plain": [
       "<3628x6040 sparse matrix of type '<class 'numpy.int64'>'\n",
       "\twith 836483 stored elements in Compressed Sparse Column format>"
      ]
     },
     "execution_count": 19,
     "metadata": {},
     "output_type": "execute_result"
    }
   ],
   "source": [
    "# als 모델은 input으로 (item X user 꼴의 matrix를 받기 때문에 Transpose해줍니다.)\n",
    "csr_data_transpose = csr_data.T\n",
    "csr_data_transpose"
   ]
  },
  {
   "cell_type": "code",
   "execution_count": 20,
   "id": "honest-validity",
   "metadata": {},
   "outputs": [
    {
     "data": {
      "application/vnd.jupyter.widget-view+json": {
       "model_id": "80baa4c743c244abaa077dcfaf12aaa5",
       "version_major": 2,
       "version_minor": 0
      },
      "text/plain": [
       "  0%|          | 0/15 [00:00<?, ?it/s]"
      ]
     },
     "metadata": {},
     "output_type": "display_data"
    }
   ],
   "source": [
    "# 모델 훈련\n",
    "als_model.fit(csr_data_transpose)"
   ]
  },
  {
   "cell_type": "markdown",
   "id": "reduced-uruguay",
   "metadata": {},
   "source": [
    "## 8-6 내가 선호하는 5가지 영화 중 하나와 그 외의 영화 하나를 골라 훈련된 모델이 예측한 나의 선호도를 파악"
   ]
  },
  {
   "cell_type": "code",
   "execution_count": 21,
   "id": "organizational-verification",
   "metadata": {},
   "outputs": [
    {
     "name": "stdout",
     "output_type": "stream",
     "text": [
      "슝=3\n"
     ]
    }
   ],
   "source": [
    "minkyu, toy_story = user_to_idx['minkyu'], title_to_idx['toy story (1995)']\n",
    "minkyu_vector, toy_story_vector = als_model.user_factors[minkyu], als_model.item_factors[toy_story]\n",
    "\n",
    "print('슝=3')"
   ]
  },
  {
   "cell_type": "code",
   "execution_count": 22,
   "id": "revised-mouth",
   "metadata": {},
   "outputs": [
    {
     "data": {
      "text/plain": [
       "array([ 8.30754459e-01,  6.66141808e-01,  1.55681491e-01,  2.87987769e-01,\n",
       "       -3.39669660e-02, -2.71115571e-01, -2.92442709e-01,  4.11022007e-01,\n",
       "       -1.58857480e-01, -5.90659022e-01, -6.88401222e-01,  3.41909438e-01,\n",
       "       -4.58592027e-01,  2.69315869e-01,  8.76669586e-02,  5.20441115e-01,\n",
       "        4.66635704e-01,  5.83151519e-01,  6.08485520e-01,  1.90828457e-01,\n",
       "        8.46778214e-01,  4.21287268e-01, -3.97698373e-01,  3.74637306e-01,\n",
       "       -4.03709412e-01,  7.18122721e-02,  1.21896425e-02, -7.35871792e-01,\n",
       "        5.86605489e-01,  1.84217140e-01, -8.34954262e-01, -3.86185855e-01,\n",
       "        9.74300265e-01,  1.22447121e+00, -1.35572815e+00,  3.04685265e-01,\n",
       "       -3.75058800e-01,  8.94248545e-01,  5.01166582e-01, -1.24116812e-03,\n",
       "        7.25893378e-02,  4.47468221e-01,  7.07739964e-02, -9.40048769e-02,\n",
       "        1.09427166e+00, -4.20362391e-02, -5.14249384e-01, -6.67016327e-01,\n",
       "       -4.24460322e-01,  5.18789828e-01, -4.43112969e-01,  1.85013600e-02,\n",
       "       -2.14581147e-01, -1.21861041e+00, -3.70714039e-01,  2.06834808e-01,\n",
       "        2.20029116e-01, -5.21718740e-01,  7.13812888e-01, -1.18498206e-02,\n",
       "       -2.57532507e-01,  2.50363499e-01, -6.47852123e-01, -3.93407047e-02,\n",
       "       -1.96210966e-01,  6.98836222e-02,  5.58994055e-01, -8.15945983e-01,\n",
       "       -3.18194568e-01, -1.74476102e-01, -2.05412641e-01,  5.09287179e-01,\n",
       "        3.81649375e-01, -5.34341395e-01, -6.67633653e-01, -4.61437106e-01,\n",
       "       -5.88424563e-01,  3.56025547e-01,  8.79256368e-01,  7.70244598e-01,\n",
       "       -4.30634059e-02,  7.93697119e-01, -3.87931406e-01, -2.94804811e-01,\n",
       "        8.09749961e-01,  4.14107502e-01, -9.47765172e-01, -1.95231616e-01,\n",
       "       -4.04655844e-01, -5.72979212e-01,  9.97137487e-01,  1.32422894e-01,\n",
       "        2.27170825e-01, -1.14229786e+00,  1.97882101e-01,  9.61948782e-02,\n",
       "        1.04871404e+00,  7.01763108e-02, -6.55667782e-01, -9.56672430e-01],\n",
       "      dtype=float32)"
      ]
     },
     "execution_count": 22,
     "metadata": {},
     "output_type": "execute_result"
    }
   ],
   "source": [
    "minkyu_vector"
   ]
  },
  {
   "cell_type": "code",
   "execution_count": 23,
   "id": "single-instrument",
   "metadata": {},
   "outputs": [
    {
     "data": {
      "text/plain": [
       "array([-2.1042703e-02, -4.8656641e-03,  5.6936853e-03,  3.1455315e-03,\n",
       "        4.2957081e-03,  2.2980569e-02,  1.7340260e-02,  1.4622633e-02,\n",
       "        1.1295003e-02, -1.1456530e-02, -2.8645759e-02, -9.9786445e-03,\n",
       "       -2.4076488e-02,  3.5103440e-02,  2.7476668e-02,  3.1075787e-02,\n",
       "       -2.1321977e-02, -9.6276391e-04,  5.3252332e-02,  7.1005770e-03,\n",
       "        3.2885835e-02,  3.2590952e-02,  6.8365932e-03, -2.2238882e-03,\n",
       "        5.3257607e-03, -1.4073673e-02,  6.0764705e-03, -2.0527145e-02,\n",
       "        9.9759949e-03,  2.7874481e-02,  2.3228714e-02, -2.5844376e-05,\n",
       "        2.7996007e-02,  3.5686929e-02, -2.4271635e-02,  2.1326490e-02,\n",
       "       -2.2368211e-02,  2.8925112e-02,  1.9363878e-02, -6.2817940e-03,\n",
       "        7.7064442e-03, -8.8722091e-03, -3.4751308e-03, -7.5359289e-03,\n",
       "        6.7322170e-03,  3.5604634e-03,  9.3251811e-03,  8.5797813e-03,\n",
       "        2.1876959e-02,  2.9543813e-02, -1.2752316e-02, -2.4409932e-03,\n",
       "       -1.6310403e-02, -1.7130427e-02, -1.7089207e-03,  2.5859170e-02,\n",
       "       -1.8883696e-02, -1.8737357e-02,  3.3239819e-02,  9.5563075e-03,\n",
       "       -1.1550642e-03,  1.1450822e-02,  2.1253251e-03,  3.0004190e-02,\n",
       "        4.4972557e-04,  8.7290620e-03, -4.3741724e-04, -6.5485029e-03,\n",
       "        1.7375829e-04,  3.5783215e-03,  9.4242272e-04,  7.7012196e-02,\n",
       "        2.4073718e-02,  1.4529495e-02, -1.2670664e-02, -1.3142106e-02,\n",
       "        9.7162486e-04, -1.7002299e-02,  3.3676255e-02,  3.2334916e-02,\n",
       "       -2.1940670e-03,  6.8971439e-04,  6.3200125e-05, -1.0809896e-02,\n",
       "        3.0454565e-02,  2.2106146e-02,  4.1513646e-04, -1.5466922e-02,\n",
       "        2.3851533e-04,  9.6136646e-04,  3.3100557e-02,  2.7747106e-04,\n",
       "       -2.2798812e-02,  2.1897007e-02,  7.0198753e-04,  1.1862003e-02,\n",
       "        1.8517671e-02,  8.0521777e-03, -1.5985195e-02, -9.6967034e-03],\n",
       "      dtype=float32)"
      ]
     },
     "execution_count": 23,
     "metadata": {},
     "output_type": "execute_result"
    }
   ],
   "source": [
    "toy_story_vector"
   ]
  },
  {
   "cell_type": "code",
   "execution_count": 24,
   "id": "eastern-rhythm",
   "metadata": {},
   "outputs": [
    {
     "data": {
      "text/plain": [
       "0.5121031"
      ]
     },
     "execution_count": 24,
     "metadata": {},
     "output_type": "execute_result"
    }
   ],
   "source": [
    "np.dot(minkyu_vector, toy_story_vector)"
   ]
  },
  {
   "cell_type": "code",
   "execution_count": 25,
   "id": "front-frame",
   "metadata": {},
   "outputs": [
    {
     "data": {
      "text/plain": [
       "-0.00042835774"
      ]
     },
     "execution_count": 25,
     "metadata": {},
     "output_type": "execute_result"
    }
   ],
   "source": [
    "song_of_freedom = title_to_idx['song of freedom (1936)']\n",
    "song_of_freedom_vector = als_model.item_factors[song_of_freedom]\n",
    "np.dot(minkyu_vector, song_of_freedom_vector)"
   ]
  },
  {
   "cell_type": "markdown",
   "id": "similar-ticket",
   "metadata": {},
   "source": [
    "## 8-7 내가 좋아하는 영화와 비슷한 영화를 추천받기"
   ]
  },
  {
   "cell_type": "code",
   "execution_count": 30,
   "id": "rocky-hypothesis",
   "metadata": {},
   "outputs": [
    {
     "data": {
      "text/plain": [
       "[(607, 1.0000001),\n",
       " (380, 0.9635351),\n",
       " (435, 0.49877742),\n",
       " (128, 0.4412381),\n",
       " (3531, 0.36430645),\n",
       " (3517, 0.35746807),\n",
       " (601, 0.3536402),\n",
       " (269, 0.34395254),\n",
       " (3150, 0.3429832),\n",
       " (432, 0.33782357),\n",
       " (57, 0.3258748),\n",
       " (3499, 0.31209934),\n",
       " (3601, 0.3114027),\n",
       " (753, 0.2907554),\n",
       " (361, 0.27983722)]"
      ]
     },
     "execution_count": 30,
     "metadata": {},
     "output_type": "execute_result"
    }
   ],
   "source": [
    "favorite_title = 'godfather, the (1972)'\n",
    "title_id = title_to_idx[favorite_title]\n",
    "similar_title = als_model.similar_items(title_id, N=15)\n",
    "similar_title"
   ]
  },
  {
   "cell_type": "code",
   "execution_count": 31,
   "id": "shaped-matrix",
   "metadata": {},
   "outputs": [
    {
     "data": {
      "text/plain": [
       "['godfather, the (1972)',\n",
       " 'godfather: part ii, the (1974)',\n",
       " 'godfather: part iii, the (1990)',\n",
       " 'french connection, the (1971)',\n",
       " 'aiqing wansui (1994)',\n",
       " 'paralyzing fear: the story of polio in america, a (1998)',\n",
       " 'citizen kane (1941)',\n",
       " 'goodfellas (1990)',\n",
       " 'boys, the (1997)',\n",
       " 'taxi driver (1976)',\n",
       " 'untouchables, the (1987)',\n",
       " 'simon sez (1999)',\n",
       " 'condition red (1995)',\n",
       " 'dog day afternoon (1975)',\n",
       " 'casablanca (1942)']"
      ]
     },
     "execution_count": 31,
     "metadata": {},
     "output_type": "execute_result"
    }
   ],
   "source": [
    "#artist_to_idx 를 뒤집어, index로부터 artist 이름을 얻는 dict를 생성합니다. \n",
    "idx_to_title = {v:k for k,v in title_to_idx.items()}\n",
    "[idx_to_title[i[0]] for i in similar_title]"
   ]
  },
  {
   "cell_type": "code",
   "execution_count": 27,
   "id": "sunset-toilet",
   "metadata": {},
   "outputs": [
    {
     "name": "stdout",
     "output_type": "stream",
     "text": [
      "슝=3\n"
     ]
    }
   ],
   "source": [
    "def get_similar_title(title_name: str):\n",
    "    title_id = title_to_idx[title_name]\n",
    "    similar_title = als_model.similar_items(title_id)\n",
    "    similar_title = [idx_to_title[i[0]] for i in similar_title]\n",
    "    return similar_title\n",
    "\n",
    "print(\"슝=3\")"
   ]
  },
  {
   "cell_type": "code",
   "execution_count": 32,
   "id": "dependent-movement",
   "metadata": {},
   "outputs": [
    {
     "data": {
      "text/plain": [
       "['toy story (1995)',\n",
       " 'toy story 2 (1999)',\n",
       " \"bug's life, a (1998)\",\n",
       " 'babe (1995)',\n",
       " 'groundhog day (1993)',\n",
       " 'aladdin (1992)',\n",
       " 'lion king, the (1994)',\n",
       " \"there's something about mary (1998)\",\n",
       " 'beauty and the beast (1991)',\n",
       " 'hercules (1997)']"
      ]
     },
     "execution_count": 32,
     "metadata": {},
     "output_type": "execute_result"
    }
   ],
   "source": [
    "get_similar_title('toy story (1995)')"
   ]
  },
  {
   "cell_type": "markdown",
   "id": "systematic-manchester",
   "metadata": {},
   "source": [
    "## 8-8 내가 좋아할만한 영화 추천"
   ]
  },
  {
   "cell_type": "code",
   "execution_count": 33,
   "id": "starting-terminal",
   "metadata": {},
   "outputs": [
    {
     "data": {
      "text/plain": [
       "[(380, 0.5522106),\n",
       " (107, 0.5491893),\n",
       " (50, 0.43806264),\n",
       " (62, 0.4353689),\n",
       " (87, 0.3809426),\n",
       " (110, 0.33070385),\n",
       " (141, 0.3193211),\n",
       " (64, 0.29607266),\n",
       " (4, 0.29060575),\n",
       " (200, 0.2871673),\n",
       " (44, 0.28184748),\n",
       " (435, 0.2723791),\n",
       " (117, 0.26770166),\n",
       " (670, 0.26304656),\n",
       " (375, 0.25779745),\n",
       " (60, 0.25675762),\n",
       " (48, 0.25297773),\n",
       " (126, 0.24081641),\n",
       " (75, 0.23086986),\n",
       " (22, 0.2237291)]"
      ]
     },
     "execution_count": 33,
     "metadata": {},
     "output_type": "execute_result"
    }
   ],
   "source": [
    "user = user_to_idx['minkyu']\n",
    "# recommend에서는 user*item CSR Matrix를 받습니다.\n",
    "title_recommended = als_model.recommend(user, csr_data, N=20, filter_already_liked_items=True)\n",
    "title_recommended"
   ]
  },
  {
   "cell_type": "code",
   "execution_count": 34,
   "id": "pursuant-universal",
   "metadata": {},
   "outputs": [
    {
     "data": {
      "text/plain": [
       "['godfather: part ii, the (1974)',\n",
       " 'jurassic park (1993)',\n",
       " 'toy story 2 (1999)',\n",
       " 'total recall (1990)',\n",
       " 'braveheart (1995)',\n",
       " 'groundhog day (1993)',\n",
       " 'fugitive, the (1993)',\n",
       " 'star wars: episode vi - return of the jedi (1983)',\n",
       " \"bug's life, a (1998)\",\n",
       " 'terminator, the (1984)',\n",
       " 'star wars: episode iv - a new hope (1977)',\n",
       " 'godfather: part iii, the (1990)',\n",
       " 'star wars: episode v - the empire strikes back (1980)',\n",
       " 'galaxy quest (1999)',\n",
       " 'face/off (1997)',\n",
       " 'star wars: episode i - the phantom menace (1999)',\n",
       " 'saving private ryan (1998)',\n",
       " 'shakespeare in love (1998)',\n",
       " 'hunt for red october, the (1990)',\n",
       " 'back to the future (1985)']"
      ]
     },
     "execution_count": 34,
     "metadata": {},
     "output_type": "execute_result"
    }
   ],
   "source": [
    "[idx_to_title[i[0]] for i in title_recommended]"
   ]
  },
  {
   "cell_type": "code",
   "execution_count": 35,
   "id": "suspended-highway",
   "metadata": {},
   "outputs": [],
   "source": [
    "rihanna = title_to_idx['face/off (1997)']\n",
    "explain = als_model.explain(user, csr_data, itemid=rihanna)"
   ]
  },
  {
   "cell_type": "code",
   "execution_count": 36,
   "id": "disturbed-metropolitan",
   "metadata": {},
   "outputs": [
    {
     "data": {
      "text/plain": [
       "[('matrix, the (1999)', 0.10090693764530762),\n",
       " ('men in black (1997)', 0.0730274088347638),\n",
       " ('terminator 2: judgment day (1991)', 0.06390762287782187),\n",
       " ('godfather, the (1972)', 0.05586492175992225),\n",
       " ('toy story (1995)', -0.039025088142632336)]"
      ]
     },
     "execution_count": 36,
     "metadata": {},
     "output_type": "execute_result"
    }
   ],
   "source": [
    "[(idx_to_title[i[0]], i[1]) for i in explain[1]]"
   ]
  },
  {
   "cell_type": "markdown",
   "id": "round-picture",
   "metadata": {},
   "source": [
    "matrix가 높은 기여"
   ]
  },
  {
   "cell_type": "code",
   "execution_count": null,
   "id": "surprising-insight",
   "metadata": {},
   "outputs": [],
   "source": []
  }
 ],
 "metadata": {
  "kernelspec": {
   "display_name": "aiffel",
   "language": "python",
   "name": "aiffel"
  },
  "language_info": {
   "codemirror_mode": {
    "name": "ipython",
    "version": 3
   },
   "file_extension": ".py",
   "mimetype": "text/x-python",
   "name": "python",
   "nbconvert_exporter": "python",
   "pygments_lexer": "ipython3",
   "version": "3.7.9"
  }
 },
 "nbformat": 4,
 "nbformat_minor": 5
}
