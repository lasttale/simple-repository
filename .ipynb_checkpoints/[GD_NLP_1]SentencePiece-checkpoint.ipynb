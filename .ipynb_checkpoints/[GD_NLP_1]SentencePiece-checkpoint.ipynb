{
 "cells": [
  {
   "cell_type": "markdown",
   "id": "color-letter",
   "metadata": {},
   "source": [
    "# SentencePiece 사용하기"
   ]
  },
  {
   "cell_type": "markdown",
   "id": "steady-genetics",
   "metadata": {},
   "source": [
    "## Step 4. 네이버 영화리뷰 감정분석 문제에 SentencePiece 적용해 보기"
   ]
  },
  {
   "cell_type": "markdown",
   "id": "celtic-emphasis",
   "metadata": {},
   "source": [
    "### 1) 데이터 준비와 확인"
   ]
  },
  {
   "cell_type": "code",
   "execution_count": 1,
   "id": "solar-companion",
   "metadata": {
    "scrolled": true
   },
   "outputs": [],
   "source": [
    "# 필요모듈 import\n",
    "import pandas as pd\n",
    "import urllib.request\n",
    "%matplotlib inline\n",
    "import matplotlib.pyplot as plt\n",
    "import re\n",
    "import tensorflow as tf\n",
    "from konlpy.tag import Okt\n",
    "from tensorflow import keras\n",
    "from tensorflow.keras.preprocessing.text import Tokenizer\n",
    "import numpy as np\n",
    "from tensorflow.keras.preprocessing.sequence import pad_sequences\n",
    "from collections import Counter"
   ]
  },
  {
   "cell_type": "code",
   "execution_count": 2,
   "id": "given-connecticut",
   "metadata": {},
   "outputs": [
    {
     "data": {
      "text/html": [
       "<div>\n",
       "<style scoped>\n",
       "    .dataframe tbody tr th:only-of-type {\n",
       "        vertical-align: middle;\n",
       "    }\n",
       "\n",
       "    .dataframe tbody tr th {\n",
       "        vertical-align: top;\n",
       "    }\n",
       "\n",
       "    .dataframe thead th {\n",
       "        text-align: right;\n",
       "    }\n",
       "</style>\n",
       "<table border=\"1\" class=\"dataframe\">\n",
       "  <thead>\n",
       "    <tr style=\"text-align: right;\">\n",
       "      <th></th>\n",
       "      <th>id</th>\n",
       "      <th>document</th>\n",
       "      <th>label</th>\n",
       "    </tr>\n",
       "  </thead>\n",
       "  <tbody>\n",
       "    <tr>\n",
       "      <th>0</th>\n",
       "      <td>9976970</td>\n",
       "      <td>아 더빙.. 진짜 짜증나네요 목소리</td>\n",
       "      <td>0</td>\n",
       "    </tr>\n",
       "    <tr>\n",
       "      <th>1</th>\n",
       "      <td>3819312</td>\n",
       "      <td>흠...포스터보고 초딩영화줄....오버연기조차 가볍지 않구나</td>\n",
       "      <td>1</td>\n",
       "    </tr>\n",
       "    <tr>\n",
       "      <th>2</th>\n",
       "      <td>10265843</td>\n",
       "      <td>너무재밓었다그래서보는것을추천한다</td>\n",
       "      <td>0</td>\n",
       "    </tr>\n",
       "    <tr>\n",
       "      <th>3</th>\n",
       "      <td>9045019</td>\n",
       "      <td>교도소 이야기구먼 ..솔직히 재미는 없다..평점 조정</td>\n",
       "      <td>0</td>\n",
       "    </tr>\n",
       "    <tr>\n",
       "      <th>4</th>\n",
       "      <td>6483659</td>\n",
       "      <td>사이몬페그의 익살스런 연기가 돋보였던 영화!스파이더맨에서 늙어보이기만 했던 커스틴 ...</td>\n",
       "      <td>1</td>\n",
       "    </tr>\n",
       "  </tbody>\n",
       "</table>\n",
       "</div>"
      ],
      "text/plain": [
       "         id                                           document  label\n",
       "0   9976970                                아 더빙.. 진짜 짜증나네요 목소리      0\n",
       "1   3819312                  흠...포스터보고 초딩영화줄....오버연기조차 가볍지 않구나      1\n",
       "2  10265843                                  너무재밓었다그래서보는것을추천한다      0\n",
       "3   9045019                      교도소 이야기구먼 ..솔직히 재미는 없다..평점 조정      0\n",
       "4   6483659  사이몬페그의 익살스런 연기가 돋보였던 영화!스파이더맨에서 늙어보이기만 했던 커스틴 ...      1"
      ]
     },
     "execution_count": 2,
     "metadata": {},
     "output_type": "execute_result"
    }
   ],
   "source": [
    "# 데이터를 읽어봅시다. \n",
    "train_data = pd.read_table('~/aiffel/sentiment_classification/ratings_train.txt')\n",
    "test_data = pd.read_table('~/aiffel/sentiment_classification/ratings_test.txt')\n",
    "\n",
    "train_data.head()"
   ]
  },
  {
   "cell_type": "code",
   "execution_count": 3,
   "id": "interim-magazine",
   "metadata": {},
   "outputs": [],
   "source": [
    "# 중복 및 결측치 제거\n",
    "\n",
    "train_data.drop_duplicates(subset=['document'], inplace=True)\n",
    "train_data = train_data.dropna(how = 'any') \n",
    "test_data.drop_duplicates(subset=['document'], inplace=True)\n",
    "test_data = test_data.dropna(how = 'any') "
   ]
  },
  {
   "cell_type": "code",
   "execution_count": 4,
   "id": "metropolitan-sailing",
   "metadata": {},
   "outputs": [],
   "source": [
    "# 데이터프레임에서 document 칼럼 데이터 리스트로 저장\n",
    "\n",
    "raw_train = train_data['document'].tolist()\n",
    "raw_test = train_data['document'].tolist()\n",
    "\n",
    "raw_train = list(map(str, raw_train)) # 다시 문자열로 변환\n",
    "raw_test = list(map(str, raw_test)) # 다시 문자열로 변환"
   ]
  },
  {
   "cell_type": "code",
   "execution_count": 5,
   "id": "married-security",
   "metadata": {},
   "outputs": [
    {
     "name": "stdout",
     "output_type": "stream",
     "text": [
      "train Data Size: 146182\n",
      "test Data Size: 146182\n",
      "Example:\n",
      ">> 아 더빙.. 진짜 짜증나네요 목소리\n",
      ">> 나름 심오한 뜻도 있는 듯. 그냥 학생이 선생과 놀아나는 영화는 절대 아님\n",
      ">> 단순하면서 은은한 매력의 영화\n",
      ">> 보는내내 그대로 들어맞는 예측 카리스마 없는 악역\n",
      ">> 뭐냐..시작하고 3분만에 나왔다. 리플릿 사진 보며 불안하더니만..\n"
     ]
    }
   ],
   "source": [
    "# 데이터 길이 및 문장 출력\n",
    "\n",
    "\n",
    "print(\"train Data Size:\", len(raw_train))\n",
    "print(\"test Data Size:\", len(raw_test))\n",
    "\n",
    "print(\"Example:\")\n",
    "for sen in raw_train[0:100][::20]: print(\">>\", sen)"
   ]
  },
  {
   "cell_type": "markdown",
   "id": "biblical-maine",
   "metadata": {},
   "source": [
    "### 2) 데이터 분석"
   ]
  },
  {
   "cell_type": "code",
   "execution_count": 6,
   "id": "olympic-spectrum",
   "metadata": {},
   "outputs": [
    {
     "name": "stdout",
     "output_type": "stream",
     "text": [
      "문장의 최단 길이: 1\n",
      "문장의 최장 길이: 146\n",
      "문장의 평균 길이: 35\n"
     ]
    },
    {
     "data": {
      "image/png": "[encoded data removed]",
      "text/plain": [
       "<Figure size 432x288 with 1 Axes>"
      ]
     },
     "metadata": {
      "needs_background": "light"
     },
     "output_type": "display_data"
    }
   ],
   "source": [
    "# 데이터 분포\n",
    "\n",
    "min_len = 999\n",
    "max_len = 0\n",
    "sum_len = 0\n",
    "\n",
    "for sen in raw_train:\n",
    "    length = len(sen)\n",
    "    if min_len > length: min_len = length\n",
    "    if max_len < length: max_len = length\n",
    "    sum_len += length\n",
    "\n",
    "print(\"문장의 최단 길이:\", min_len)\n",
    "print(\"문장의 최장 길이:\", max_len)\n",
    "print(\"문장의 평균 길이:\", sum_len // len(raw_train))\n",
    "\n",
    "sentence_length = np.zeros((max_len), dtype=np.int)\n",
    "\n",
    "for sen in raw_train:\n",
    "    sentence_length[len(sen)-1] += 1\n",
    "\n",
    "plt.bar(range(max_len), sentence_length, width=1.0)\n",
    "plt.title(\"Sentence Length Distribution\")\n",
    "plt.show()"
   ]
  },
  {
   "cell_type": "code",
   "execution_count": 7,
   "id": "first-liberal",
   "metadata": {},
   "outputs": [
    {
     "name": "stdout",
     "output_type": "stream",
     "text": [
      "아\n",
      "잼\n",
      "1\n",
      "4\n",
      "굿\n",
      "짱\n",
      "휴\n",
      ".\n",
      "음\n",
      "?\n",
      "ㅎ\n",
      "ㅋ\n",
      "즐\n",
      "♥\n",
      "굳\n",
      "네\n",
      "ㅇ\n",
      "k\n",
      "ㅠ\n",
      "쒯\n",
      "♬\n",
      "토\n",
      "O\n",
      "똥\n",
      "z\n",
      "헐\n",
      "삼\n",
      "꽝\n",
      "!\n",
      "풉\n",
      "ㅅ\n",
      "왜\n",
      "ㄴ\n",
      "쉣\n",
      "봐\n",
      "뿌\n",
      "ㅜ\n",
      "♡\n",
      "ㅁ\n",
      "0\n",
      "ㅉ\n",
      "d\n",
      "흥\n",
      "乃\n",
      "찜\n",
      "귯\n",
      "린\n",
      "시\n",
      "ㅗ\n",
      "a\n",
      "c\n",
      "흠\n",
      "웅\n",
      "ㅣ\n",
      "오\n",
      "9\n",
      "쩜\n",
      "애\n",
      "헝\n",
      "쨩\n",
      "f\n",
      "움\n",
      "ㄳ\n",
      "업\n",
      "헉\n",
      "군\n",
      "b\n",
      ";\n",
      "g\n",
      "올\n",
      "걍\n",
      "허\n",
      "-\n",
      "쀍\n",
      "로\n",
      "ㄹ\n",
      "ㅂ\n",
      "갑\n",
      "즛\n",
      "킥\n",
      "함\n",
      "진\n",
      "ㅡ\n",
      "잠\n",
      "곧\n",
      "ㅍ\n",
      "h\n",
      "·\n",
      "캬\n",
      "ㅆ\n",
      ",\n",
      "풋\n",
      "ㄱ\n",
      "파\n",
      "ㄷ\n",
      "웩\n",
      "꺅\n",
      "욜\n",
      "ㅄ\n",
      "2\n",
      "핡\n"
     ]
    }
   ],
   "source": [
    "# 길이가 1인 문장 확인\n",
    "\n",
    "def check_sentence_with_length(raw, length):\n",
    "    count = 0\n",
    "    \n",
    "    for sen in raw:\n",
    "        if len(sen) == length:\n",
    "            print(sen)\n",
    "            count += 1\n",
    "            if count > 100: return\n",
    "\n",
    "check_sentence_with_length(raw_train, 1)"
   ]
  },
  {
   "cell_type": "code",
   "execution_count": 8,
   "id": "dirty-organ",
   "metadata": {},
   "outputs": [
    {
     "name": "stdout",
     "output_type": "stream",
     "text": [
      "Outlier Index: 7\n",
      "Outlier Index: 8\n",
      "Outlier Index: 9\n",
      "Outlier Index: 10\n",
      "Outlier Index: 11\n",
      "Outlier Index: 12\n",
      "Outlier Index: 13\n",
      "Outlier Index: 14\n",
      "Outlier Index: 15\n",
      "Outlier Index: 16\n",
      "Outlier Index: 17\n",
      "Outlier Index: 18\n",
      "Outlier Index: 19\n",
      "Outlier Index: 20\n",
      "Outlier Index: 21\n",
      "Outlier Index: 22\n",
      "Outlier Index: 23\n",
      "Outlier Index: 24\n",
      "Outlier Index: 25\n",
      "Outlier Index: 26\n",
      "Outlier Index: 27\n",
      "Outlier Index: 28\n",
      "Outlier Index: 29\n",
      "Outlier Index: 30\n",
      "Outlier Index: 31\n",
      "Outlier Index: 32\n",
      "Outlier Index: 33\n",
      "Outlier Index: 34\n",
      "Outlier Index: 35\n",
      "Outlier Index: 36\n",
      "Outlier Index: 37\n",
      "Outlier Index: 38\n",
      "Outlier Index: 39\n",
      "Outlier Index: 40\n",
      "Outlier Index: 41\n",
      "Outlier Index: 42\n",
      "Outlier Index: 43\n",
      "Outlier Index: 44\n",
      "Outlier Index: 45\n",
      "Outlier Index: 46\n"
     ]
    }
   ],
   "source": [
    "# 문장 내 단어의 개수가 1500을 초과하는 인덱스를 추출합니다.\n",
    "\n",
    "for idx, _sum in enumerate(sentence_length):\n",
    "    if _sum > 1500:\n",
    "        print(\"Outlier Index:\", idx+1)"
   ]
  },
  {
   "cell_type": "code",
   "execution_count": 9,
   "id": "received-cosmetic",
   "metadata": {},
   "outputs": [
    {
     "name": "stdout",
     "output_type": "stream",
     "text": [
      "백봉기 언제나오나요?\n",
      "아주 모자라진 않다.\n",
      "공유 존잘!!!ㅎㅎㅎ\n",
      "4대2라니....최악\n",
      "내 생의 최고의 영화\n",
      "이딴게 한국 영화라니\n",
      "번지수 잃고 갈팡질팡\n",
      "너무나 감동적인 영화\n",
      "내 인생 최고의 영화\n",
      "참 재밌는 영화 ㅎㅎ\n",
      "2.2고고하자 ㅋㅋㅋ\n",
      "난 별로던데 -_ -\n",
      "커스틴 때문에 좋겠다\n",
      "재미있게봄 감동적이고\n",
      "딱 90년대코미디영화\n",
      "이건좀 아니잖아...\n",
      "최고의 드라마....\n",
      "야경꾼보다 엉망지루함\n",
      "딱말해준다잉 안나온다\n",
      "장선우 여전히 쓰레기\n",
      "한국영화흥행의 시작점\n",
      "이런게 영화라는거죠.\n",
      "억지...억지....\n",
      "세련되고 재밌었어요.\n",
      "시대착오적 애니메이션\n",
      "이건 또 뭔가요;;;\n",
      "망작 중의 망작...\n",
      "노답이다 진짜....\n",
      "무의미한 애니메이션.\n",
      "거 참 재밌는 영화균\n",
      "상영관좀 늘려주세요.\n",
      "픽션이지만 재미뚬ㅎㅎ\n",
      "한지민은 여신이다..\n",
      "또 번개냐 ㅋㅋㅋㅋㅋ\n",
      "뷰우우우우티이이이이풀\n",
      "막장드라됨급도 안됨.\n",
      "2탄에 비하면 뭐..\n",
      "개꿀잼ㅋ개꿀잼ㅋ10자\n",
      "재밌어요 나름 괜찮음\n",
      "너무 감동적이에욧><\n",
      "그지같다고!!!!!!\n",
      "별로에요 재미없네요호\n",
      "짜리몽땅 파이팅!!!\n",
      "구관이 명관이다...\n",
      "진짜볼만함!!@!@!\n",
      "하 시방ㅡㅡ:@!?.\n",
      "이제보니까 장백기였네\n",
      "쓰레기..10자 채움\n",
      "하나님살려주시지...\n",
      "대략 재미 없음...\n",
      "굿굿 잘봤습니다~~ㅅ\n",
      "나도 다큐나 찍어볼까\n",
      "마지막에어이없네왜죽어\n",
      "아바타같은소리하네..\n",
      "이건 정말 명작이네요\n",
      "별덤높이기다디다디도러\n",
      "재밌다........\n",
      "쓰레기다 솔직히...\n",
      "정말 현실성없는 영화\n",
      "재밌게 잘봣습니다!!\n",
      "어린아이들만 재미있고\n",
      "그렇게 대단하지 않다\n",
      "로코좋아하는분께추천!\n",
      "린제리 로한 사랑함.\n",
      "내용을말로표현못하게씀\n",
      "잼있습니다 야호호호호\n",
      "정말 훈훈한방송입니다\n",
      "박준형?이 나온다;;\n",
      "병만옹 짱짜아악앙맨앤\n",
      "재미있네요.훌륭합니다\n",
      "정말 소름끼친다!!!\n",
      "오겡끼데쓰까 부시맨!\n",
      "좋다.,/,./,./\n",
      "말할것도없다 최고ㅇㅇ\n",
      "일하기싫었나봐여ㅎㅅㅎ\n",
      "인생을 느끼다....\n",
      "기억이 가물가물하네요\n",
      "꿀잼 다시보고싶은영화\n",
      "표절?표절?표절?표절\n",
      "이거 우리나라꺼 아님\n",
      "개연성은 개나 줘버려\n",
      "엉망진창 로맨틱드라마\n",
      "가슴이 바운OO운스~\n",
      "노잼 ㅡㅡ보지마세요!\n",
      "최고ㅘ하하하하ㅏㅏㅏ핳\n",
      "심심할때 보면 재밋지\n",
      "지루하고 재미가 없음\n",
      "못생긴사람들의 이야기\n",
      "강아지가 주인공임??\n",
      "최고의영화! ..,,\n",
      "그냥 웃어주자 하하하\n",
      "별로야..,,,,..\n",
      "디카프리오...bbb\n",
      "개인적 공감이 글쎄?\n",
      "쿠바로 떠나고 싶다.\n",
      "그냥 좀비판 B급영화\n",
      "레고 홍보영화 인듯.\n",
      "소블리~♥ 공블리~♥\n",
      "참다 결국 포기하다.\n",
      "시간낭비. 괜히봤다.\n",
      "성룡이 왠 로맨스??\n"
     ]
    }
   ],
   "source": [
    "check_sentence_with_length(raw_train, 11)"
   ]
  },
  {
   "cell_type": "code",
   "execution_count": 10,
   "id": "federal-lebanon",
   "metadata": {},
   "outputs": [
    {
     "name": "stdout",
     "output_type": "stream",
     "text": [
      "Data Size: 146182\n",
      "문장의 최단 길이: 1\n",
      "문장의 최장 길이: 146\n",
      "문장의 평균 길이: 35\n"
     ]
    },
    {
     "data": {
      "image/png": "[encoded data removed]",
      "text/plain": [
       "<Figure size 432x288 with 1 Axes>"
      ]
     },
     "metadata": {
      "needs_background": "light"
     },
     "output_type": "display_data"
    }
   ],
   "source": [
    "# 중복 제거\n",
    "\n",
    "min_len = 999\n",
    "max_len = 0\n",
    "sum_len = 0\n",
    "\n",
    "cleaned_corpus = list(set(raw_train))  # set를 사용해서 중복을 제거합니다.\n",
    "print(\"Data Size:\", len(cleaned_corpus))\n",
    "\n",
    "for sen in cleaned_corpus:\n",
    "    length = len(sen)\n",
    "    if min_len > length: min_len = length\n",
    "    if max_len < length: max_len = length\n",
    "    sum_len += length\n",
    "\n",
    "print(\"문장의 최단 길이:\", min_len)\n",
    "print(\"문장의 최장 길이:\", max_len)\n",
    "print(\"문장의 평균 길이:\", sum_len // len(cleaned_corpus))\n",
    "\n",
    "sentence_length = np.zeros((max_len), dtype=np.int)\n",
    "\n",
    "for sen in cleaned_corpus:   # 중복이 제거된 코퍼스 기준\n",
    "    sentence_length[len(sen)-1] += 1\n",
    "\n",
    "plt.bar(range(max_len), sentence_length, width=1.0)\n",
    "plt.title(\"Sentence Length Distribution\")\n",
    "plt.show()"
   ]
  },
  {
   "cell_type": "code",
   "execution_count": 11,
   "id": "durable-tender",
   "metadata": {},
   "outputs": [
    {
     "data": {
      "image/png": "[encoded data removed]",
      "text/plain": [
       "<Figure size 432x288 with 1 Axes>"
      ]
     },
     "metadata": {
      "needs_background": "light"
     },
     "output_type": "display_data"
    }
   ],
   "source": [
    "# min 1이하, max 100이상 데이터 제거\n",
    "\n",
    "max_len = 100\n",
    "min_len = 1\n",
    "\n",
    "# 길이 조건에 맞는 문장만 선택합니다.\n",
    "filtered_corpus = [s for s in cleaned_corpus if (len(s) < max_len) & (len(s) >= min_len)]\n",
    "\n",
    "# 분포도를 다시 그려봅니다.\n",
    "sentence_length = np.zeros((max_len), dtype=np.int)\n",
    "\n",
    "for sen in filtered_corpus:\n",
    "    sentence_length[len(sen)-1] += 1\n",
    "\n",
    "plt.bar(range(max_len), sentence_length, width=1.0)\n",
    "plt.title(\"Sentence Length Distribution\")\n",
    "plt.show()"
   ]
  },
  {
   "cell_type": "markdown",
   "id": "unavailable-bacon",
   "metadata": {},
   "source": [
    "### 3)sentence piece 모델 학습"
   ]
  },
  {
   "cell_type": "code",
   "execution_count": 12,
   "id": "interracial-turner",
   "metadata": {},
   "outputs": [
    {
     "name": "stdout",
     "output_type": "stream",
     "text": [
      "-rw-r--r-- 1 aiffel-dj48 aiffel-dj48 375112  4월 20 19:51 korean_spm1.model\r\n",
      "-rw-r--r-- 1 aiffel-dj48 aiffel-dj48 144516  4월 20 19:51 korean_spm1.vocab\r\n"
     ]
    }
   ],
   "source": [
    "# unigram model 생성\n",
    "\n",
    "import sentencepiece as spm\n",
    "import os\n",
    "temp_file = os.getenv('HOME')+'/aiffel/sp_tokenizer/data/korean-english-park.train.ko.temp'\n",
    "\n",
    "vocab_size = 8000\n",
    "\n",
    "with open(temp_file, 'w') as f:\n",
    "    for row in filtered_corpus:   # 이전 스텝에서 정제했던 corpus를 활용합니다.\n",
    "        f.write(str(row) + '\\n')\n",
    "\n",
    "spm.SentencePieceTrainer.Train(\n",
    "    '--input={} --model_prefix=naver_korean_spm1 --vocab_size={}'.format(temp_file, vocab_size)    \n",
    ")\n",
    "#위 Train에서  --model_type = 'unigram'이 디폴트 적용되어 있습니다. --model_type = 'bpe' 로 옵션을 주어 변경할 수 있습니다.\n",
    "\n",
    "!ls -l korean_spm1*"
   ]
  },
  {
   "cell_type": "code",
   "execution_count": 13,
   "id": "frank-grenada",
   "metadata": {},
   "outputs": [
    {
     "name": "stdout",
     "output_type": "stream",
     "text": [
      "-rw-r--r-- 1 aiffel-dj48 aiffel-dj48 370557  4월 20 19:51 korean_spm2.model\r\n",
      "-rw-r--r-- 1 aiffel-dj48 aiffel-dj48 115774  4월 20 19:51 korean_spm2.vocab\r\n"
     ]
    }
   ],
   "source": [
    "# bpe model 생성\n",
    "\n",
    "import sentencepiece as spm\n",
    "import os\n",
    "temp_file = os.getenv('HOME')+'/aiffel/sp_tokenizer/data/korean-english-park.train.ko.temp'\n",
    "\n",
    "vocab_size = 8000\n",
    "\n",
    "with open(temp_file, 'w') as f:\n",
    "    for row in filtered_corpus:   # 이전 스텝에서 정제했던 corpus를 활용합니다.\n",
    "        f.write(str(row) + '\\n')\n",
    "\n",
    "spm.SentencePieceTrainer.Train(\n",
    "    '--input={} --model_prefix=naver_korean_spm2 --model_type=bpe --vocab_size={}'.format(temp_file, vocab_size)    \n",
    ")\n",
    "#위 Train에서  --model_type = 'unigram'이 디폴트 적용되어 있습니다. --model_type = 'bpe' 로 옵션을 주어 변경할 수 있습니다.\n",
    "\n",
    "!ls -l korean_spm2*"
   ]
  },
  {
   "cell_type": "code",
   "execution_count": 15,
   "id": "strange-nothing",
   "metadata": {},
   "outputs": [
    {
     "name": "stdout",
     "output_type": "stream",
     "text": [
      "[1530, 10, 406, 15, 1396, 10, 137, 17, 4]\n",
      "['▁아버지', '가', '방', '에', '들어', '가', '신', '다', '.']\n",
      "아버지가방에들어가신다.\n"
     ]
    }
   ],
   "source": [
    "# 모델 작동 확인 1\n",
    "\n",
    "s1 = spm.SentencePieceProcessor()\n",
    "s1.Load('naver_korean_spm1.model')\n",
    "\n",
    "# SentencePiece를 활용한 sentence -> encoding\n",
    "tokensIDs = s1.EncodeAsIds('아버지가방에들어가신다.')\n",
    "print(tokensIDs)\n",
    "\n",
    "# SentencePiece를 활용한 sentence -> encoded pieces\n",
    "print(s1.SampleEncodeAsPieces('아버지가방에들어가신다.',1, 0.0))\n",
    "\n",
    "# SentencePiece를 활용한 encoding -> sentence 복원\n",
    "print(s1.DecodeIds(tokensIDs))"
   ]
  },
  {
   "cell_type": "code",
   "execution_count": 16,
   "id": "reserved-prayer",
   "metadata": {},
   "outputs": [
    {
     "name": "stdout",
     "output_type": "stream",
     "text": [
      "[5158, 916, 6550, 6284, 1470, 6280, 6387, 6274, 6272]\n",
      "['▁아버', '지가', '방', '에', '들어', '가', '신', '다', '.']\n",
      "아버지가방에들어가신다.\n"
     ]
    }
   ],
   "source": [
    "# 모델 작동 확인 2\n",
    "\n",
    "s2 = spm.SentencePieceProcessor()\n",
    "s2.Load('naver_korean_spm2.model')\n",
    "\n",
    "# SentencePiece를 활용한 sentence -> encoding\n",
    "tokensIDs = s2.EncodeAsIds('아버지가방에들어가신다.')\n",
    "print(tokensIDs)\n",
    "\n",
    "# SentencePiece를 활용한 sentence -> encoded pieces\n",
    "print(s2.SampleEncodeAsPieces('아버지가방에들어가신다.',1, 0.0))\n",
    "\n",
    "# SentencePiece를 활용한 encoding -> sentence 복원\n",
    "print(s2.DecodeIds(tokensIDs))"
   ]
  },
  {
   "cell_type": "markdown",
   "id": "headed-sustainability",
   "metadata": {},
   "source": [
    "### 4)학습된 모델로 sp_tokenize() 메소드 구현"
   ]
  },
  {
   "cell_type": "code",
   "execution_count": 24,
   "id": "postal-brook",
   "metadata": {},
   "outputs": [],
   "source": [
    "# Tokenizer 함수 1\n",
    "\n",
    "def sp_tokenize1(s, corpus):\n",
    "\n",
    "    tensor = []\n",
    "\n",
    "    for sen in corpus:\n",
    "        tensor.append(s.EncodeAsIds(sen))\n",
    "\n",
    "    with open(\"./naver_korean_spm1.vocab\", 'r') as f:\n",
    "        vocab = f.readlines()\n",
    "\n",
    "    word_index = {}\n",
    "    index_word = {}\n",
    "\n",
    "    for idx, line in enumerate(vocab):\n",
    "        word = line.split(\"\\t\")[0]\n",
    "\n",
    "        word_index.update({idx:word})\n",
    "        index_word.update({word:idx})\n",
    "\n",
    "    tensor = tf.keras.preprocessing.sequence.pad_sequences(tensor, padding='post')\n",
    "\n",
    "    # tensor = tf.keras.preprocessing.sequence.pad_sequences(tensor, padding='pre')\n",
    "    \n",
    "    return tensor, word_index, index_word"
   ]
  },
  {
   "cell_type": "code",
   "execution_count": 25,
   "id": "stunning-manner",
   "metadata": {},
   "outputs": [],
   "source": [
    "# Tokenizer 함수 2\n",
    "\n",
    "def sp_tokenize2(s, corpus):\n",
    "\n",
    "    tensor = []\n",
    "\n",
    "    for sen in corpus:\n",
    "        tensor.append(s.EncodeAsIds(sen))\n",
    "\n",
    "    with open(\"./naver_korean_spm2.vocab\", 'r') as f:\n",
    "        vocab = f.readlines()\n",
    "\n",
    "    word_index = {}\n",
    "    index_word = {}\n",
    "\n",
    "    for idx, line in enumerate(vocab):\n",
    "        word = line.split(\"\\t\")[0]\n",
    "\n",
    "        word_index.update({idx:word})\n",
    "        index_word.update({word:idx})\n",
    "\n",
    "    tensor = tf.keras.preprocessing.sequence.pad_sequences(tensor, padding='post')\n",
    "\n",
    "    # tensor = tf.keras.preprocessing.sequence.pad_sequences(tensor, padding='pre')\n",
    "    \n",
    "    return tensor, word_index, index_word"
   ]
  },
  {
   "cell_type": "code",
   "execution_count": 26,
   "id": "consecutive-rhythm",
   "metadata": {},
   "outputs": [
    {
     "name": "stdout",
     "output_type": "stream",
     "text": [
      "[[ 573 3253   14 1091 2396    4    0    0    0    0]\n",
      " [1482 2244  269  565   10    3   16 7928  664    8]]\n"
     ]
    }
   ],
   "source": [
    "#sp_tokenize(s, corpus) 사용예제(unigram)\n",
    "\n",
    "my_corpus = ['나는 밥을 먹었습니다.', '그러나 여전히 ㅠㅠ 배가 고픕니다...']\n",
    "tensor, word_index, index_word = sp_tokenize1(s1, my_corpus)\n",
    "print(tensor)"
   ]
  },
  {
   "cell_type": "code",
   "execution_count": 27,
   "id": "legitimate-bunny",
   "metadata": {},
   "outputs": [
    {
     "name": "stdout",
     "output_type": "stream",
     "text": [
      "[[ 724 3056 6300  575  831 6272    0    0    0]\n",
      " [1625 2297  331  316 6280  166 7594   14    7]]\n"
     ]
    }
   ],
   "source": [
    "#sp_tokenize(s, corpus) 사용예제(bpe)\n",
    "\n",
    "my_corpus = ['나는 밥을 먹었습니다.', '그러나 여전히 ㅠㅠ 배가 고픕니다...']\n",
    "tensor, word_index, index_word = sp_tokenize2(s2, my_corpus)\n",
    "print(tensor)"
   ]
  },
  {
   "cell_type": "markdown",
   "id": "rural-jerusalem",
   "metadata": {},
   "source": [
    "### 5) 구현된 토크나이저를 적용하여 네이버 영화리뷰 감정분석 모델 재학습"
   ]
  },
  {
   "cell_type": "code",
   "execution_count": null,
   "id": "optimum-playing",
   "metadata": {},
   "outputs": [],
   "source": []
  }
 ],
 "metadata": {
  "kernelspec": {
   "display_name": "aiffel",
   "language": "python",
   "name": "aiffel"
  },
  "language_info": {
   "codemirror_mode": {
    "name": "ipython",
    "version": 3
   },
   "file_extension": ".py",
   "mimetype": "text/x-python",
   "name": "python",
   "nbconvert_exporter": "python",
   "pygments_lexer": "ipython3",
   "version": "3.7.9"
  }
 },
 "nbformat": 4,
 "nbformat_minor": 5
}
