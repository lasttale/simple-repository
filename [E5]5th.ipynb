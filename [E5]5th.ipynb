{
 "cells": [
  {
   "cell_type": "markdown",
   "id": "foster-denmark",
   "metadata": {},
   "source": [
    "# 5. Spectrogram classification 모델"
   ]
  },
  {
   "cell_type": "markdown",
   "id": "awful-shore",
   "metadata": {},
   "source": [
    "# 1차원 데이터"
   ]
  },
  {
   "cell_type": "markdown",
   "id": "loved-elite",
   "metadata": {},
   "source": [
    "## 1. 데이터 처리와 분류\n",
    "라벨 데이터 처리하기   \n",
    "sklearn의 train_test_split함수를 이용하여 train, test 분리"
   ]
  },
  {
   "cell_type": "markdown",
   "id": "threatened-printer",
   "metadata": {},
   "source": [
    "### 아날로그 신호의 표본화(Sampling)"
   ]
  },
  {
   "cell_type": "code",
   "execution_count": null,
   "id": "downtown-merchandise",
   "metadata": {},
   "outputs": [],
   "source": [
    "import numpy as np\n",
    "import matplotlib.pyplot as plt\n",
    "\n",
    "def single_tone(frequecy, sampling_rate=16000, duration=1):\n",
    "    t = np.linspace(0, duration, int(sampling_rate))\n",
    "    y = np.sin(2 * np.pi * frequecy * t)\n",
    "    return y\n",
    "\n",
    "y = single_tone(400)"
   ]
  },
  {
   "cell_type": "markdown",
   "id": "accredited-locator",
   "metadata": {},
   "source": [
    "#### 사인함수 그려보기"
   ]
  },
  {
   "cell_type": "code",
   "execution_count": null,
   "id": "bottom-olive",
   "metadata": {},
   "outputs": [],
   "source": [
    "plt.plot(y[:41])\n",
    "plt.show()"
   ]
  },
  {
   "cell_type": "markdown",
   "id": "olive-chassis",
   "metadata": {},
   "source": [
    "#### 1사이클 동안 나타나는 이산시간 연속크기 신호 출력"
   ]
  },
  {
   "cell_type": "code",
   "execution_count": null,
   "id": "neutral-spell",
   "metadata": {},
   "outputs": [],
   "source": [
    "plt.stem(y[:41])\n",
    "plt.show()"
   ]
  },
  {
   "cell_type": "code",
   "execution_count": null,
   "id": "roman-friendship",
   "metadata": {},
   "outputs": [],
   "source": [
    "import numpy as np\n",
    "import os\n",
    "\n",
    "data_path = os.getenv(\"HOME\")+'/aiffel/speech_recognition/data/speech_wav_8000.npz'\n",
    "speech_data = np.load(data_path)\n"
   ]
  },
  {
   "cell_type": "code",
   "execution_count": null,
   "id": "hindu-avatar",
   "metadata": {},
   "outputs": [],
   "source": [
    "import IPython.display as ipd\n",
    "import random\n",
    "\n",
    "# 데이터 선택 (랜덤하게 선택하고 있으니, 여러번 실행해 보세요)\n",
    "rand = random.randint(0, len(speech_data[\"wav_vals\"]))\n",
    "print(\"rand num : \", rand)\n",
    "\n",
    "sr = 8000 # 1초동안 재생되는 샘플의 갯수\n",
    "data = speech_data[\"wav_vals\"][rand]\n",
    "print(\"Wave data shape : \", data.shape)\n",
    "print(\"label : \", speech_data[\"label_vals\"][rand])\n",
    "\n",
    "ipd.Audio(data, rate=sr)"
   ]
  },
  {
   "cell_type": "markdown",
   "id": "imported-interference",
   "metadata": {},
   "source": [
    "### 라벨 데이터 처리하기"
   ]
  },
  {
   "cell_type": "code",
   "execution_count": null,
   "id": "arbitrary-column",
   "metadata": {},
   "outputs": [],
   "source": [
    "target_list = ['yes', 'no', 'up', 'down', 'left', 'right', 'on', 'off', 'stop', 'go']\n",
    "\n",
    "label_value = target_list\n",
    "label_value.append('unknown')\n",
    "label_value.append('silence')\n",
    "\n",
    "print('LABEL : ', label_value)\n",
    "\n",
    "new_label_value = dict()\n",
    "for i, l in enumerate(label_value):\n",
    "    new_label_value[l] = i\n",
    "label_value = new_label_value\n",
    "\n",
    "print('Indexed LABEL : ', new_label_value)"
   ]
  },
  {
   "cell_type": "code",
   "execution_count": null,
   "id": "indirect-ability",
   "metadata": {},
   "outputs": [],
   "source": [
    "temp = []\n",
    "for v in speech_data[\"label_vals\"]:\n",
    "    temp.append(label_value[v[0]])\n",
    "label_data = np.array(temp)\n",
    "\n",
    "label_data"
   ]
  },
  {
   "cell_type": "markdown",
   "id": "dying-yugoslavia",
   "metadata": {},
   "source": [
    "### sklearn 의 train_test_split 함수를 이용하여 train, test분리"
   ]
  },
  {
   "cell_type": "code",
   "execution_count": null,
   "id": "short-visibility",
   "metadata": {},
   "outputs": [],
   "source": [
    "from sklearn.model_selection import train_test_split\n",
    "\n",
    "sr = 8000\n",
    "train_wav, test_wav, train_label, test_label = train_test_split(speech_data[\"wav_vals\"], \n",
    "                                                                label_data, \n",
    "                                                                test_size=0.1,\n",
    "                                                                shuffle=True)\n",
    "print(train_wav)\n",
    "\n",
    "train_wav = train_wav.reshape([-1, sr, 1]) # add channel for CNN\n",
    "test_wav = test_wav.reshape([-1, sr, 1])\n",
    "print(\"✅\")"
   ]
  },
  {
   "cell_type": "code",
   "execution_count": null,
   "id": "substantial-expense",
   "metadata": {},
   "outputs": [],
   "source": [
    "print(\"train data : \", train_wav.shape)\n",
    "print(\"train labels : \", train_label.shape)\n",
    "print(\"test data : \", test_wav.shape)\n",
    "print(\"test labels : \", test_label.shape)\n",
    "print(\"✅\")"
   ]
  },
  {
   "cell_type": "markdown",
   "id": "occupied-trailer",
   "metadata": {},
   "source": [
    "## 2. 학습을 위한 하이퍼파라미터 설정"
   ]
  },
  {
   "cell_type": "code",
   "execution_count": null,
   "id": "moderate-notebook",
   "metadata": {},
   "outputs": [],
   "source": [
    "batch_size = 32\n",
    "max_epochs = 1\n",
    "\n",
    "# the save point\n",
    "checkpoint_dir = os.getenv('HOME')+'/aiffel/speech_recognition/models/wav'\n",
    "\n",
    "checkpoint_dir"
   ]
  },
  {
   "cell_type": "markdown",
   "id": "homeless-dallas",
   "metadata": {},
   "source": [
    "## 3. 데이터셋 구성"
   ]
  },
  {
   "cell_type": "code",
   "execution_count": null,
   "id": "floral-disclaimer",
   "metadata": {},
   "outputs": [],
   "source": [
    "def one_hot_label(wav, label):\n",
    "    label = tf.one_hot(label, depth=12)\n",
    "    return wav, label\n",
    "print(\"✅\")"
   ]
  },
  {
   "cell_type": "code",
   "execution_count": null,
   "id": "wooden-moldova",
   "metadata": {},
   "outputs": [],
   "source": [
    "import tensorflow as tf\n",
    "\n",
    "# for train\n",
    "train_dataset = tf.data.Dataset.from_tensor_slices((train_wav, train_label))\n",
    "train_dataset = train_dataset.map(one_hot_label)\n",
    "train_dataset = train_dataset.repeat().batch(batch_size=batch_size)\n",
    "print(train_dataset)\n",
    "\n",
    "# for test\n",
    "test_dataset = tf.data.Dataset.from_tensor_slices((test_wav, test_label))\n",
    "test_dataset = test_dataset.map(one_hot_label)\n",
    "test_dataset = test_dataset.batch(batch_size=batch_size)\n",
    "print(test_dataset)\n",
    "print(\"✅\")"
   ]
  },
  {
   "cell_type": "markdown",
   "id": "exterior-invite",
   "metadata": {},
   "source": [
    "## 4. 1,2차원 Spectrogram 데이터를 처리하는 모델 구성"
   ]
  },
  {
   "cell_type": "code",
   "execution_count": null,
   "id": "wound-negative",
   "metadata": {},
   "outputs": [],
   "source": [
    "from tensorflow.keras import layers\n",
    "\n",
    "input_tensor = layers.Input(shape=(sr, 1))\n",
    "\n",
    "x = layers.Conv1D(32, 9, padding='same', activation='relu')(input_tensor)\n",
    "x = layers.Conv1D(32, 9, padding='same', activation='relu')(x)\n",
    "x = layers.MaxPool1D()(x)\n",
    "\n",
    "x = layers.Conv1D(64, 9, padding='same', activation='relu')(x)\n",
    "x = layers.Conv1D(64, 9, padding='same', activation='relu')(x)\n",
    "x = layers.MaxPool1D()(x)\n",
    "\n",
    "x = layers.Conv1D(128, 9, padding='same', activation='relu')(x)\n",
    "x = layers.Conv1D(128, 9, padding='same', activation='relu')(x)\n",
    "x = layers.Conv1D(128, 9, padding='same', activation='relu')(x)\n",
    "x = layers.MaxPool1D()(x)\n",
    "\n",
    "x = layers.Conv1D(256, 9, padding='same', activation='relu')(x)\n",
    "x = layers.Conv1D(256, 9, padding='same', activation='relu')(x)\n",
    "x = layers.Conv1D(256, 9, padding='same', activation='relu')(x)\n",
    "x = layers.MaxPool1D()(x)\n",
    "x = layers.Dropout(0.3)(x)\n",
    "\n",
    "x = layers.Flatten()(x)\n",
    "x = layers.Dense(256)(x)\n",
    "x = layers.BatchNormalization()(x)\n",
    "x = layers.Activation('relu')(x)\n",
    "\n",
    "output_tensor = layers.Dense(12)(x)\n",
    "\n",
    "model_wav = tf.keras.Model(input_tensor, output_tensor)\n",
    "\n",
    "model_wav.summary()"
   ]
  },
  {
   "cell_type": "markdown",
   "id": "novel-manner",
   "metadata": {},
   "source": [
    "## 5_1D. 학습 후, 학습이 어떻게 진행됐는지 그래프로 출력"
   ]
  },
  {
   "cell_type": "markdown",
   "id": "specified-empire",
   "metadata": {},
   "source": [
    "### loss"
   ]
  },
  {
   "cell_type": "code",
   "execution_count": null,
   "id": "saving-multimedia",
   "metadata": {},
   "outputs": [],
   "source": [
    "optimizer=tf.keras.optimizers.Adam(1e-4)\n",
    "model_wav.compile(loss=tf.keras.losses.CategoricalCrossentropy(from_logits=True),\n",
    "             optimizer=optimizer,\n",
    "             metrics=['accuracy'])\n",
    "print(\"✅\")"
   ]
  },
  {
   "cell_type": "markdown",
   "id": "caroline-upgrade",
   "metadata": {},
   "source": [
    "### Training"
   ]
  },
  {
   "cell_type": "code",
   "execution_count": null,
   "id": "possible-retail",
   "metadata": {},
   "outputs": [],
   "source": [
    "cp_callback = tf.keras.callbacks.ModelCheckpoint(checkpoint_dir,\n",
    "                                                 save_weights_only=True,\n",
    "                                                 monitor='val_loss',\n",
    "                                                 mode='auto',\n",
    "                                                 save_best_only=True,\n",
    "                                                 verbose=1)\n",
    "print(\"✅\")"
   ]
  },
  {
   "cell_type": "code",
   "execution_count": null,
   "id": "binding-manual",
   "metadata": {},
   "outputs": [],
   "source": [
    "#30분 내외 소요 (메모리 사용량에 주의해 주세요.)\n",
    "history_wav = model_wav.fit(train_dataset, epochs=max_epochs,\n",
    "                    steps_per_epoch=len(train_wav) // batch_size,\n",
    "                    validation_data=test_dataset,\n",
    "                    validation_steps=len(test_wav) // batch_size,\n",
    "                    callbacks=[cp_callback]\n",
    "                    )\n",
    "print(\"✅\")"
   ]
  },
  {
   "cell_type": "markdown",
   "id": "purple-royal",
   "metadata": {},
   "source": [
    "### 학습 결과 Plot"
   ]
  },
  {
   "cell_type": "code",
   "execution_count": null,
   "id": "considered-hands",
   "metadata": {},
   "outputs": [],
   "source": [
    "import matplotlib.pyplot as plt\n",
    "\n",
    "acc = history_wav.history['accuracy']\n",
    "val_acc = history_wav.history['val_accuracy']\n",
    "\n",
    "loss=history_wav.history['loss']\n",
    "val_loss=history_wav.history['val_loss']\n",
    "\n",
    "epochs_range = range(len(acc))\n",
    "\n",
    "plt.figure(figsize=(8, 8))\n",
    "plt.subplot(1, 2, 1)\n",
    "plt.plot(epochs_range, acc, label='Training Accuracy')\n",
    "plt.plot(epochs_range, val_acc, label='Validation Accuracy')\n",
    "plt.legend(loc='lower right')\n",
    "plt.title('Training and Validation Accuracy')\n",
    "\n",
    "plt.subplot(1, 2, 2)\n",
    "plt.plot(epochs_range, loss, label='Training Loss')\n",
    "plt.plot(epochs_range, val_loss, label='Validation Loss')\n",
    "plt.legend(loc='upper right')\n",
    "plt.title('Training and Validation Loss')\n",
    "plt.show()\n",
    "print(\"✅\")"
   ]
  },
  {
   "cell_type": "markdown",
   "id": "unable-madonna",
   "metadata": {},
   "source": [
    "## 6_1D. Test dataset을 이용해서 모델의 성능을 평가"
   ]
  },
  {
   "cell_type": "markdown",
   "id": "surface-skill",
   "metadata": {},
   "source": [
    "### Evaluation"
   ]
  },
  {
   "cell_type": "code",
   "execution_count": null,
   "id": "detected-development",
   "metadata": {},
   "outputs": [],
   "source": [
    "model_wav.load_weights(checkpoint_dir)\n",
    "results = model_wav.evaluate(test_dataset)\n",
    "# loss\n",
    "print(\"loss value: {:.3f}\".format(results[0]))\n",
    "# accuracy\n",
    "print(\"accuracy value: {:.4f}%\".format(results[1]*100))\n",
    "print(\"✅\")"
   ]
  },
  {
   "cell_type": "markdown",
   "id": "naked-immigration",
   "metadata": {},
   "source": [
    "Model Test"
   ]
  },
  {
   "cell_type": "code",
   "execution_count": null,
   "id": "vanilla-precipitation",
   "metadata": {},
   "outputs": [],
   "source": [
    "inv_label_value = {v: k for k, v in label_value.items()}\n",
    "batch_index = np.random.choice(len(test_wav), size=1, replace=False)\n",
    "\n",
    "batch_xs = test_wav[batch_index]\n",
    "batch_ys = test_label[batch_index]\n",
    "y_pred_ = model_wav(batch_xs, training=False)\n",
    "\n",
    "print(\"label : \", str(inv_label_value[batch_ys[0]]))\n",
    "\n",
    "ipd.Audio(batch_xs.reshape(8000,), rate=8000)"
   ]
  },
  {
   "cell_type": "code",
   "execution_count": null,
   "id": "challenging-liberia",
   "metadata": {},
   "outputs": [],
   "source": [
    "if np.argmax(y_pred_) == batch_ys[0]:\n",
    "    print(\"y_pred: \" + str(inv_label_value[np.argmax(y_pred_)]) + '(Correct!)')\n",
    "else:\n",
    "    print(\"y_pred: \" + str(inv_label_value[np.argmax(y_pred_)]) + '(Incorrect!)')\n",
    "print(\"✅\")"
   ]
  },
  {
   "cell_type": "markdown",
   "id": "thermal-response",
   "metadata": {},
   "source": [
    "# 2차원 데이터"
   ]
  },
  {
   "cell_type": "code",
   "execution_count": 1,
   "id": "creative-invention",
   "metadata": {},
   "outputs": [],
   "source": [
    "import numpy as np\n",
    "import os\n",
    "\n",
    "data_path = os.getenv(\"HOME\")+'/aiffel/speech_recognition/data/speech_wav_8000.npz'\n",
    "speech_data = np.load(data_path)\n"
   ]
  },
  {
   "cell_type": "code",
   "execution_count": 2,
   "id": "prospective-dream",
   "metadata": {},
   "outputs": [
    {
     "name": "stdout",
     "output_type": "stream",
     "text": [
      "LABEL :  ['yes', 'no', 'up', 'down', 'left', 'right', 'on', 'off', 'stop', 'go', 'unknown', 'silence']\n",
      "Indexed LABEL :  {'yes': 0, 'no': 1, 'up': 2, 'down': 3, 'left': 4, 'right': 5, 'on': 6, 'off': 7, 'stop': 8, 'go': 9, 'unknown': 10, 'silence': 11}\n"
     ]
    }
   ],
   "source": [
    "target_list = ['yes', 'no', 'up', 'down', 'left', 'right', 'on', 'off', 'stop', 'go']\n",
    "\n",
    "label_value = target_list\n",
    "label_value.append('unknown')\n",
    "label_value.append('silence')\n",
    "\n",
    "print('LABEL : ', label_value)\n",
    "\n",
    "new_label_value = dict()\n",
    "for i, l in enumerate(label_value):\n",
    "    new_label_value[l] = i\n",
    "label_value = new_label_value\n",
    "\n",
    "print('Indexed LABEL : ', new_label_value)"
   ]
  },
  {
   "cell_type": "code",
   "execution_count": 3,
   "id": "characteristic-consequence",
   "metadata": {},
   "outputs": [
    {
     "data": {
      "text/plain": [
       "array([ 3,  3,  3, ..., 11, 11, 11])"
      ]
     },
     "execution_count": 3,
     "metadata": {},
     "output_type": "execute_result"
    }
   ],
   "source": [
    "temp = []\n",
    "for v in speech_data[\"label_vals\"]:\n",
    "    temp.append(label_value[v[0]])\n",
    "label_data = np.array(temp)\n",
    "\n",
    "label_data"
   ]
  },
  {
   "cell_type": "markdown",
   "id": "charming-yeast",
   "metadata": {},
   "source": [
    "## 1. Spectrogram형태변환"
   ]
  },
  {
   "cell_type": "code",
   "execution_count": 4,
   "id": "ready-pavilion",
   "metadata": {},
   "outputs": [
    {
     "name": "stdout",
     "output_type": "stream",
     "text": [
      "✅\n"
     ]
    }
   ],
   "source": [
    "import librosa\n",
    "\n",
    "def wav2spec(wav, fft_size=258): # spectrogram shape을 맞추기위해서 size 변형\n",
    "    D = np.abs(librosa.stft(wav, n_fft=fft_size))\n",
    "    return D\n",
    "print(\"✅\")"
   ]
  },
  {
   "cell_type": "code",
   "execution_count": 10,
   "id": "continent-department",
   "metadata": {
    "scrolled": true
   },
   "outputs": [
    {
     "name": "stdout",
     "output_type": "stream",
     "text": [
      "Spectrogram shape :  (50620, 130, 126)\n"
     ]
    }
   ],
   "source": [
    "# 위에서 뽑았던 sample data\n",
    "spec = []\n",
    "for wav in speech_data[\"wav_vals\"]:\n",
    "    spec.append(wav2spec(wav))\n",
    "spec = np.array(spec)\n",
    "#print(\"Waveform shape : \",data.shape)\n",
    "print(\"Spectrogram shape : \",spec.shape)"
   ]
  },
  {
   "cell_type": "markdown",
   "id": "individual-poster",
   "metadata": {},
   "source": [
    "### sklearn 의 train_test_split 함수를 이용하여 train, test분리"
   ]
  },
  {
   "cell_type": "code",
   "execution_count": 11,
   "id": "difficult-agreement",
   "metadata": {},
   "outputs": [
    {
     "name": "stdout",
     "output_type": "stream",
     "text": [
      "[[[4.60092491e-03 2.71905819e-03 7.70712039e-04 ... 1.80312854e-04\n",
      "   2.61461874e-03 4.15811036e-03]\n",
      "  [4.48347768e-03 2.18441966e-03 1.87755295e-03 ... 1.33455580e-03\n",
      "   1.64828496e-03 4.76078736e-03]\n",
      "  [5.88892493e-03 3.28224618e-03 1.49859418e-03 ... 4.16956749e-03\n",
      "   5.00159897e-03 6.24230318e-03]\n",
      "  ...\n",
      "  [2.80520362e-05 7.59626710e-06 2.45754327e-05 ... 1.14698960e-05\n",
      "   9.31594477e-05 1.82606585e-04]\n",
      "  [2.97585084e-05 1.70707590e-05 4.31881244e-06 ... 5.03811179e-06\n",
      "   9.20936072e-05 1.77745984e-04]\n",
      "  [3.31375595e-05 1.89937273e-05 1.57822001e-06 ... 9.22443803e-07\n",
      "   8.86536873e-05 1.73474429e-04]]\n",
      "\n",
      " [[7.94562511e-03 2.26452525e-04 8.14756751e-03 ... 3.14701209e-03\n",
      "   1.01803774e-02 1.93751995e-02]\n",
      "  [1.23067619e-02 8.90201516e-03 5.05672069e-03 ... 2.92237708e-03\n",
      "   1.01849474e-02 1.61517542e-02]\n",
      "  [1.46610457e-02 9.09839571e-03 3.54364445e-03 ... 7.97941815e-03\n",
      "   6.39510062e-03 9.78147238e-03]\n",
      "  ...\n",
      "  [4.64612432e-03 2.04446260e-03 5.72959427e-04 ... 5.86317154e-04\n",
      "   2.28219246e-03 4.20951424e-03]\n",
      "  [4.58949013e-03 2.45723268e-03 7.72352287e-05 ... 1.78765666e-04\n",
      "   2.42604339e-03 4.51654475e-03]\n",
      "  [4.66286717e-03 2.29994580e-03 5.56594932e-05 ... 5.38381319e-05\n",
      "   2.19784072e-03 4.40621050e-03]]\n",
      "\n",
      " [[1.81801934e-02 9.50725842e-03 7.20532658e-03 ... 2.81912624e-03\n",
      "   9.76823270e-03 2.61610020e-02]\n",
      "  [2.47224066e-02 1.35751963e-02 1.70908403e-02 ... 1.45945000e-02\n",
      "   1.97152030e-02 3.24208960e-02]\n",
      "  [4.04005460e-02 2.01011579e-02 2.04111319e-02 ... 2.83234026e-02\n",
      "   3.10041700e-02 2.44437512e-02]\n",
      "  ...\n",
      "  [5.76704799e-04 2.78280961e-04 2.26272514e-05 ... 4.56923990e-05\n",
      "   6.95879862e-05 7.54565262e-05]\n",
      "  [5.87332004e-04 3.02618253e-04 2.21548294e-06 ... 2.03063009e-05\n",
      "   1.64470694e-05 3.82720964e-06]\n",
      "  [5.96673402e-04 3.02661472e-04 1.03725188e-06 ... 1.39173983e-06\n",
      "   2.84378280e-06 8.01298302e-06]]\n",
      "\n",
      " ...\n",
      "\n",
      " [[9.64071252e-04 6.01590984e-03 6.55969139e-03 ... 2.76959990e-03\n",
      "   1.05263321e-02 1.83773469e-02]\n",
      "  [7.53132021e-03 9.80826467e-03 5.14911208e-03 ... 1.34425173e-02\n",
      "   2.01044362e-02 1.24428212e-03]\n",
      "  [1.52965076e-03 1.88101530e-02 1.71816219e-02 ... 3.49151865e-02\n",
      "   2.86301021e-02 1.78030785e-02]\n",
      "  ...\n",
      "  [4.33632085e-04 2.10967104e-04 1.68925235e-05 ... 2.09259117e-04\n",
      "   1.13004375e-04 2.03133604e-04]\n",
      "  [4.58773604e-04 2.33607032e-04 2.66012485e-05 ... 9.87768581e-05\n",
      "   9.71617701e-05 1.79301322e-04]\n",
      "  [4.70427884e-04 2.47601187e-04 1.70317219e-06 ... 1.14627237e-05\n",
      "   9.47630760e-05 1.68533836e-04]]\n",
      "\n",
      " [[2.11776525e-01 4.16511238e-01 7.10962892e-01 ... 6.85655028e-02\n",
      "   6.81046769e-02 5.75210564e-02]\n",
      "  [4.75380104e-03 2.84607202e-01 4.34453666e-01 ... 3.86204310e-02\n",
      "   4.21485752e-02 1.80312265e-02]\n",
      "  [1.10062875e-01 8.24564993e-02 7.71537945e-02 ... 9.80512612e-03\n",
      "   1.15772700e-02 1.70293842e-02]\n",
      "  ...\n",
      "  [4.75156633e-03 2.09731515e-03 5.69392811e-04 ... 5.83571149e-04\n",
      "   2.36392347e-03 4.36739717e-03]\n",
      "  [4.68350388e-03 2.50284397e-03 7.50672116e-05 ... 1.79372058e-04\n",
      "   2.50161323e-03 4.65797959e-03]\n",
      "  [4.75810561e-03 2.34916224e-03 5.28072924e-05 ... 6.09084309e-05\n",
      "   2.26277998e-03 4.54443879e-03]]\n",
      "\n",
      " [[2.64448702e-01 2.69320421e-02 4.38604593e-01 ... 6.58640981e-01\n",
      "   9.37726974e-01 1.16035247e+00]\n",
      "  [3.88300657e-01 3.13592017e-01 2.42190376e-01 ... 2.72517085e-01\n",
      "   5.51263809e-01 6.49664760e-01]\n",
      "  [4.88000542e-01 2.39389405e-01 8.64916816e-02 ... 2.07267091e-01\n",
      "   2.17008710e-01 1.58874355e-02]\n",
      "  ...\n",
      "  [7.01418519e-03 3.50983883e-03 1.89239407e-04 ... 8.40290450e-04\n",
      "   1.66178960e-03 2.80014216e-03]\n",
      "  [6.77940715e-03 3.41273285e-03 1.68868486e-04 ... 2.26926975e-04\n",
      "   7.35473004e-04 1.74352224e-03]\n",
      "  [6.75019016e-03 3.42133129e-03 2.48300603e-05 ... 5.24150273e-05\n",
      "   9.02302098e-04 1.61741942e-03]]]\n",
      "✅\n"
     ]
    }
   ],
   "source": [
    "from sklearn.model_selection import train_test_split\n",
    "\n",
    "sr1 = 130\n",
    "sr2 = 126\n",
    "train_spec, test_spec, train_label, test_label = train_test_split(spec, \n",
    "                                                                label_data, \n",
    "                                                                test_size=0.1,\n",
    "                                                                shuffle=True)\n",
    "print(train_spec)\n",
    "\n",
    "#train_spec = train_spec.reshape([-1, sr1, sr2, 1]) # add channel for CNN\n",
    "#test_spec = test_spec.reshape([-1, sr1, sr2, 1])\n",
    "print(\"✅\")"
   ]
  },
  {
   "cell_type": "code",
   "execution_count": 12,
   "id": "third-victim",
   "metadata": {},
   "outputs": [
    {
     "name": "stdout",
     "output_type": "stream",
     "text": [
      "✅\n"
     ]
    }
   ],
   "source": [
    "def one_hot_label(wav, label):\n",
    "    label = tf.one_hot(label, depth=12)\n",
    "    return wav, label\n",
    "print(\"✅\")"
   ]
  },
  {
   "cell_type": "code",
   "execution_count": 13,
   "id": "juvenile-functionality",
   "metadata": {},
   "outputs": [
    {
     "data": {
      "text/plain": [
       "'/home/aiffel-dj48/aiffel/speech_recognition/models/wav'"
      ]
     },
     "execution_count": 13,
     "metadata": {},
     "output_type": "execute_result"
    }
   ],
   "source": [
    "batch_size = 32\n",
    "max_epochs = 5\n",
    "\n",
    "# the save point\n",
    "checkpoint_dir = os.getenv('HOME')+'/aiffel/speech_recognition/models/wav'\n",
    "\n",
    "checkpoint_dir"
   ]
  },
  {
   "cell_type": "code",
   "execution_count": 14,
   "id": "trained-programmer",
   "metadata": {},
   "outputs": [
    {
     "name": "stdout",
     "output_type": "stream",
     "text": [
      "<BatchDataset shapes: ((None, 130, 126), (None, 12)), types: (tf.float32, tf.float32)>\n",
      "<BatchDataset shapes: ((None, 130, 126), (None, 12)), types: (tf.float32, tf.float32)>\n",
      "✅\n"
     ]
    }
   ],
   "source": [
    "import tensorflow as tf\n",
    "\n",
    "# for train\n",
    "train_dataset = tf.data.Dataset.from_tensor_slices((train_spec, train_label))\n",
    "train_dataset = train_dataset.map(one_hot_label)\n",
    "train_dataset = train_dataset.repeat().batch(batch_size=batch_size)\n",
    "print(train_dataset)\n",
    "\n",
    "# for test\n",
    "test_dataset = tf.data.Dataset.from_tensor_slices((test_spec, test_label))\n",
    "test_dataset = test_dataset.map(one_hot_label)\n",
    "test_dataset = test_dataset.batch(batch_size=batch_size)\n",
    "print(test_dataset)\n",
    "print(\"✅\")"
   ]
  },
  {
   "cell_type": "markdown",
   "id": "modern-supply",
   "metadata": {},
   "source": [
    "## 4. 1,2차원 Spectrogram 데이터를 처리하는 모델 구성"
   ]
  },
  {
   "cell_type": "code",
   "execution_count": 15,
   "id": "ultimate-special",
   "metadata": {},
   "outputs": [],
   "source": [
    "import numpy as np\n",
    "from keras.models import Sequential\n",
    "from keras.layers import Dense\n",
    "from keras.layers import Flatten\n",
    "from keras.layers.convolutional import Conv2D\n",
    "from keras.layers.convolutional import MaxPooling2D\n",
    "from keras.preprocessing.image import ImageDataGenerator\n",
    "\n",
    "# 랜덤시드 고정시키기\n",
    "np.random.seed(3)"
   ]
  },
  {
   "cell_type": "code",
   "execution_count": 16,
   "id": "after-emperor",
   "metadata": {
    "scrolled": true
   },
   "outputs": [
    {
     "name": "stdout",
     "output_type": "stream",
     "text": [
      "Model: \"model\"\n",
      "_________________________________________________________________\n",
      "Layer (type)                 Output Shape              Param #   \n",
      "=================================================================\n",
      "input_1 (InputLayer)         [(None, 130, 126, 1)]     0         \n",
      "_________________________________________________________________\n",
      "conv2d (Conv2D)              (None, 130, 126, 32)      2624      \n",
      "_________________________________________________________________\n",
      "conv2d_1 (Conv2D)            (None, 130, 126, 32)      82976     \n",
      "_________________________________________________________________\n",
      "max_pooling2d (MaxPooling2D) (None, 65, 63, 32)        0         \n",
      "_________________________________________________________________\n",
      "conv2d_2 (Conv2D)            (None, 65, 63, 64)        165952    \n",
      "_________________________________________________________________\n",
      "conv2d_3 (Conv2D)            (None, 65, 63, 64)        331840    \n",
      "_________________________________________________________________\n",
      "max_pooling2d_1 (MaxPooling2 (None, 32, 31, 64)        0         \n",
      "_________________________________________________________________\n",
      "conv2d_4 (Conv2D)            (None, 32, 31, 128)       663680    \n",
      "_________________________________________________________________\n",
      "conv2d_5 (Conv2D)            (None, 32, 31, 128)       1327232   \n",
      "_________________________________________________________________\n",
      "conv2d_6 (Conv2D)            (None, 32, 31, 128)       1327232   \n",
      "_________________________________________________________________\n",
      "max_pooling2d_2 (MaxPooling2 (None, 16, 15, 128)       0         \n",
      "_________________________________________________________________\n",
      "conv2d_7 (Conv2D)            (None, 16, 15, 256)       2654464   \n",
      "_________________________________________________________________\n",
      "conv2d_8 (Conv2D)            (None, 16, 15, 256)       5308672   \n",
      "_________________________________________________________________\n",
      "conv2d_9 (Conv2D)            (None, 16, 15, 256)       5308672   \n",
      "_________________________________________________________________\n",
      "max_pooling2d_3 (MaxPooling2 (None, 8, 7, 256)         0         \n",
      "_________________________________________________________________\n",
      "dropout (Dropout)            (None, 8, 7, 256)         0         \n",
      "_________________________________________________________________\n",
      "flatten (Flatten)            (None, 14336)             0         \n",
      "_________________________________________________________________\n",
      "dense (Dense)                (None, 256)               3670272   \n",
      "_________________________________________________________________\n",
      "batch_normalization (BatchNo (None, 256)               1024      \n",
      "_________________________________________________________________\n",
      "activation (Activation)      (None, 256)               0         \n",
      "_________________________________________________________________\n",
      "dense_1 (Dense)              (None, 12)                3084      \n",
      "=================================================================\n",
      "Total params: 20,847,724\n",
      "Trainable params: 20,847,212\n",
      "Non-trainable params: 512\n",
      "_________________________________________________________________\n"
     ]
    }
   ],
   "source": [
    "from tensorflow.keras import layers\n",
    "\n",
    "input_tensor = layers.Input(shape=(sr1, sr2, 1))\n",
    "\n",
    "x = layers.Conv2D(32, 9, padding='same', activation='relu')(input_tensor)\n",
    "x = layers.Conv2D(32, 9, padding='same', activation='relu')(x)\n",
    "x = layers.MaxPool2D()(x)\n",
    "\n",
    "x = layers.Conv2D(64, 9, padding='same', activation='relu')(x)\n",
    "x = layers.Conv2D(64, 9, padding='same', activation='relu')(x)\n",
    "x = layers.MaxPool2D()(x)\n",
    "\n",
    "x = layers.Conv2D(128, 9, padding='same', activation='relu')(x)\n",
    "x = layers.Conv2D(128, 9, padding='same', activation='relu')(x)\n",
    "x = layers.Conv2D(128, 9, padding='same', activation='relu')(x)\n",
    "x = layers.MaxPool2D()(x)\n",
    "\n",
    "x = layers.Conv2D(256, 9, padding='same', activation='relu')(x)\n",
    "x = layers.Conv2D(256, 9, padding='same', activation='relu')(x)\n",
    "x = layers.Conv2D(256, 9, padding='same', activation='relu')(x)\n",
    "x = layers.MaxPool2D()(x)\n",
    "x = layers.Dropout(0.3)(x)\n",
    "\n",
    "x = layers.Flatten()(x)\n",
    "x = layers.Dense(256)(x)\n",
    "x = layers.BatchNormalization()(x)\n",
    "x = layers.Activation('relu')(x)\n",
    "\n",
    "output_tensor = layers.Dense(12)(x)\n",
    "\n",
    "model_spec = tf.keras.Model(input_tensor, output_tensor)\n",
    "\n",
    "model_spec.summary()"
   ]
  },
  {
   "cell_type": "markdown",
   "id": "latter-peninsula",
   "metadata": {},
   "source": [
    "## 5_2D. 학습 후, 학습이 어떻게 진행됐는지 그래프로 출력"
   ]
  },
  {
   "cell_type": "markdown",
   "id": "respected-anger",
   "metadata": {},
   "source": [
    "### loss"
   ]
  },
  {
   "cell_type": "code",
   "execution_count": 17,
   "id": "realistic-vatican",
   "metadata": {},
   "outputs": [
    {
     "name": "stdout",
     "output_type": "stream",
     "text": [
      "✅\n"
     ]
    }
   ],
   "source": [
    "optimizer=tf.keras.optimizers.Adam(1e-4)\n",
    "model_spec.compile(loss=tf.keras.losses.CategoricalCrossentropy(from_logits=True),\n",
    "             optimizer=optimizer,\n",
    "             metrics=['accuracy'])\n",
    "print(\"✅\")"
   ]
  },
  {
   "cell_type": "markdown",
   "id": "wrong-blind",
   "metadata": {},
   "source": [
    "### Training"
   ]
  },
  {
   "cell_type": "code",
   "execution_count": 18,
   "id": "partial-female",
   "metadata": {},
   "outputs": [
    {
     "name": "stdout",
     "output_type": "stream",
     "text": [
      "✅\n"
     ]
    }
   ],
   "source": [
    "cp_callback = tf.keras.callbacks.ModelCheckpoint(checkpoint_dir,\n",
    "                                                 save_weights_only=True,\n",
    "                                                 monitor='val_loss',\n",
    "                                                 mode='auto',\n",
    "                                                 save_best_only=True,\n",
    "                                                 verbose=1)\n",
    "print(\"✅\")"
   ]
  },
  {
   "cell_type": "code",
   "execution_count": 19,
   "id": "expanded-qualification",
   "metadata": {},
   "outputs": [],
   "source": [
    "del speech_data\n",
    "del spec"
   ]
  },
  {
   "cell_type": "code",
   "execution_count": 20,
   "id": "instructional-smith",
   "metadata": {},
   "outputs": [
    {
     "name": "stdout",
     "output_type": "stream",
     "text": [
      "Epoch 1/5\n",
      "1423/1423 [==============================] - ETA: 0s - loss: 0.7195 - accuracy: 0.7569\n",
      "Epoch 00001: val_loss improved from inf to 0.33423, saving model to /home/aiffel-dj48/aiffel/speech_recognition/models/wav\n",
      "1423/1423 [==============================] - 198s 139ms/step - loss: 0.7195 - accuracy: 0.7569 - val_loss: 0.3342 - val_accuracy: 0.8910\n",
      "Epoch 2/5\n",
      "1423/1423 [==============================] - ETA: 0s - loss: 0.2375 - accuracy: 0.9236\n",
      "Epoch 00002: val_loss improved from 0.33423 to 0.18891, saving model to /home/aiffel-dj48/aiffel/speech_recognition/models/wav\n",
      "1423/1423 [==============================] - 198s 139ms/step - loss: 0.2375 - accuracy: 0.9236 - val_loss: 0.1889 - val_accuracy: 0.9399\n",
      "Epoch 3/5\n",
      "1423/1423 [==============================] - ETA: 0s - loss: 0.1617 - accuracy: 0.9473\n",
      "Epoch 00003: val_loss improved from 0.18891 to 0.17272, saving model to /home/aiffel-dj48/aiffel/speech_recognition/models/wav\n",
      "1423/1423 [==============================] - 198s 139ms/step - loss: 0.1617 - accuracy: 0.9473 - val_loss: 0.1727 - val_accuracy: 0.9426\n",
      "Epoch 4/5\n",
      "1423/1423 [==============================] - ETA: 0s - loss: 0.1248 - accuracy: 0.9593\n",
      "Epoch 00004: val_loss improved from 0.17272 to 0.14415, saving model to /home/aiffel-dj48/aiffel/speech_recognition/models/wav\n",
      "1423/1423 [==============================] - 199s 140ms/step - loss: 0.1248 - accuracy: 0.9593 - val_loss: 0.1441 - val_accuracy: 0.9521\n",
      "Epoch 5/5\n",
      "1423/1423 [==============================] - ETA: 0s - loss: 0.1041 - accuracy: 0.9651\n",
      "Epoch 00005: val_loss did not improve from 0.14415\n",
      "1423/1423 [==============================] - 198s 139ms/step - loss: 0.1041 - accuracy: 0.9651 - val_loss: 0.1491 - val_accuracy: 0.9498\n",
      "✅\n"
     ]
    }
   ],
   "source": [
    "#30분 내외 소요 (메모리 사용량에 주의해 주세요.)\n",
    "history_spec = model_spec.fit(train_dataset, epochs=max_epochs,\n",
    "                    steps_per_epoch=len(train_spec) // batch_size,\n",
    "                    validation_data=test_dataset,\n",
    "                    validation_steps=len(test_spec) // batch_size,\n",
    "                    callbacks=[cp_callback]\n",
    "                    )\n",
    "print(\"✅\")"
   ]
  },
  {
   "cell_type": "markdown",
   "id": "fundamental-edinburgh",
   "metadata": {},
   "source": [
    "### 학습 결과 Plot"
   ]
  },
  {
   "cell_type": "code",
   "execution_count": 21,
   "id": "frozen-shooting",
   "metadata": {},
   "outputs": [
    {
     "data": {
      "image/png": "[encoded data removed]",
      "text/plain": [
       "<Figure size 576x576 with 2 Axes>"
      ]
     },
     "metadata": {
      "needs_background": "light"
     },
     "output_type": "display_data"
    },
    {
     "name": "stdout",
     "output_type": "stream",
     "text": [
      "✅\n"
     ]
    }
   ],
   "source": [
    "import matplotlib.pyplot as plt\n",
    "\n",
    "acc = history_spec.history['accuracy']\n",
    "val_acc = history_spec.history['val_accuracy']\n",
    "\n",
    "loss=history_spec.history['loss']\n",
    "val_loss=history_spec.history['val_loss']\n",
    "\n",
    "epochs_range = range(len(acc))\n",
    "\n",
    "plt.figure(figsize=(8, 8))\n",
    "plt.subplot(1, 2, 1)\n",
    "plt.plot(epochs_range, acc, label='Training Accuracy')\n",
    "plt.plot(epochs_range, val_acc, label='Validation Accuracy')\n",
    "plt.legend(loc='lower right')\n",
    "plt.title('Training and Validation Accuracy')\n",
    "\n",
    "plt.subplot(1, 2, 2)\n",
    "plt.plot(epochs_range, loss, label='Training Loss')\n",
    "plt.plot(epochs_range, val_loss, label='Validation Loss')\n",
    "plt.legend(loc='upper right')\n",
    "plt.title('Training and Validation Loss')\n",
    "plt.show()\n",
    "print(\"✅\")"
   ]
  },
  {
   "cell_type": "markdown",
   "id": "peaceful-guarantee",
   "metadata": {},
   "source": [
    "## 6_2D. Test dataset을 이용해서 모델의 성능을 평가"
   ]
  },
  {
   "cell_type": "markdown",
   "id": "activated-fairy",
   "metadata": {},
   "source": [
    "### Evaluation"
   ]
  },
  {
   "cell_type": "code",
   "execution_count": 22,
   "id": "suffering-monte",
   "metadata": {},
   "outputs": [
    {
     "name": "stdout",
     "output_type": "stream",
     "text": [
      "159/159 [==============================] - 29s 182ms/step - loss: 0.1440 - accuracy: 0.9522\n",
      "loss value: 0.144\n",
      "accuracy value: 95.2193%\n",
      "✅\n"
     ]
    }
   ],
   "source": [
    "model_spec.load_weights(checkpoint_dir)\n",
    "results = model_spec.evaluate(test_dataset)\n",
    "# loss\n",
    "print(\"loss value: {:.3f}\".format(results[0]))\n",
    "# accuracy\n",
    "print(\"accuracy value: {:.4f}%\".format(results[1]*100))\n",
    "print(\"✅\")"
   ]
  },
  {
   "cell_type": "markdown",
   "id": "immediate-russian",
   "metadata": {},
   "source": [
    "Model Test"
   ]
  },
  {
   "cell_type": "code",
   "execution_count": 23,
   "id": "athletic-player",
   "metadata": {},
   "outputs": [
    {
     "name": "stdout",
     "output_type": "stream",
     "text": [
      "label :  unknown\n"
     ]
    },
    {
     "data": {
      "text/html": [
       "\n",
       "                <audio  controls=\"controls\" >\n",
       "                    <source src=\"data:audio/wav;base64,UklGRhyAAABXQVZFZm10IBAAAAABAIIAQB8AAAC9HwAEARAAZGF0Yfh/AAC8CSMEqQQlC+IIQgUcBBsAAwUpAKoEfQceAvUCvQmrELMGyAMdBd4ChAOPA+YCYgTdA4QB5At+JG8jgQPAA0wGkAGdAg4G0QMLCf8CCAWjAoIBQQL3Dh4dMxIRBfQHpRZjDA0E1QKcC+kMPAMiAosHcQtICjQLEQUWCM8GNwCUAjUFLwYBAZoBlQ7xIWgq7yA6Fk8OuQhUCY8LGgXeGuge2wRJBNgEBwVmAkUEMAHyAQcAgQDeA5ADvwBSASIBTgOhAeUBHwUsBfAC6gCfAHABAAApAOEC3AHOAR0CvQCVAeYBagNuAhEDiguCBTUFpwRXAkkAlQGUABABmwFMARcBCgEGAZQDKAgiCBcCYg5QECINjAr3ClQGRgGFBw0JgAjSDIIL1AelBPwDAwGMAw8CtAH4AYcDqQL1DZ0WqSATGqIOvwSuBGEHcQvRCjwFYgQGCO0I7wYHBZkJMhz0FMAJTRRnEnIK8AeaCLgMuQsiA58CpgPuCCYFIgkbDUQIeQYmBLMBUQVzAvYERAXBERIYYRVJIaQKxxseFH8LcQofFVwfaxVzDrkIvgfDBjYDsAJBAm4DjwQHBV0DyQHbAmgC9wIbAp8BqAILA3MDoAE/ASoBSQJ6AdABsAMcA8oBnAEUAsACkAOWAdwB2gNmCxMMMAaIAfIB4gEuATwB8AD3AJgAlACCAIYAJAIiCREKqgQLENkV0QhbD2USYgfQAhsGYAgxBSkJwQOjBNcCVgMKBMsBhwJ7AZsBcQMHAtYM8gkNF6kkhxcRC7wNcxC5BacLiQYNBUUHbQYxDEcNOAmdEJ8g8RyfFkYFkwOfBm0Ftgb0CaICVQL4AgUHZAW4Cf0RNAm+CPcFiQOFBUME3gbJBREIQBdkKyM5xBpGFZkdaAccCo0RxyVCDBQQtgiUAxgJXQMKAkIBWQT9CIMHRgS4ApUB2AE9AnsBSQEuAR8A7wBsAeQBNgPoA3UCYgMNBIwBqgBtABQBLQKjAtACgwOuAikMiQ0pA9kBywG+AWYAKwF1AHkATwAbAA0AAAASBM4MWBCrCOwLew79Cq8OIBAlCe4EsQH9BcgExwR2BhQEYQKOBK0C8AHAAzUD+QNoBoUGZghiEkMSyBR4EE4GlROtFa8LUAsbB5cGngWgAqkGlg8/DEMSNBqNCosRDA0fCI4H9wSIBAUI6gMTAaYEVwW+BMAJ4A9pD4oL4QIvAdkFhAOsBC8JsgqSBuA59FBKLIsjryWhAzIUUSnPOUEjJQK6CikGKQkEBjkChwJ3BykI3wJ3A0oCeAASAZIAfAEpAaIALACFAJUA6AEdA4ABuwWyBcwCJQBIADsASQCsAFMAUAK6A94EAwvoCn4ELwG2AFUBrwFPAOAAigAHAC0ACQAAACACRg9CFywNiAOlBhgH2gkjBd8FnQbKBBoHOwVpALMEFgTcATADvwJoA/QFIwYJA9wFBgnXAq0NWQ/tD1AMLQf9B7YY4QveByUMPQkdB6QGsQi1BvQICghmElQFpwzlD04EnQNYBW4FHwdVApIDFwVMAYoEHAlTCQ0HngvAA/QDngVXA98DmwbyCVYK5S8+TnYVRR0PLf4pBiTeFl44VTDyFLYLBQU9CbYEygLEBX8GPQLiA30DLQLzANQAZwFsArkB9QA3AcYBqAHZAUgEDAYHBrcB4gNcAfkA7ADWAHEAWwBsATYCfgK+BxoD2wQ5AqsBPAKHAlwBqwBmAGMAOQAHAAMAnwAWEIQXQwOYDMANXQzxBAIFegTaAVYBawZpBf0B9QSiAtcBAwJ+BPoELAEsBtYDpgLuB9cKzgMYG4cZHwSuBx4MTRgzEl8HHwWtB8kDlAkJBZACpgczEokUIAwvEaAPTASWAzwGyQYzBgUEmgX3BF8EoQJkBTgMtg1sB3kCiwNOA8MBHAE9AlsFugu/L09QpylIBTwiNyk/GqAS5iZvH8IL8gn4BhgGlASSBQcCpgVGBYED/wFhAccAOADIAMECOQN5AXEBzAL4AucBhgOLBy8EBAMSBcIE5gJvAYoAcACUAJ8A2gARBY8GQwQeBJ8DsgEKAnwCOgG8AIMAegA4AA8AAADpAnUM7xw7F58JAA6+D0UGswqzB7EDDgUQBXkF2wbbBfsCwwO3AWMCvgPSBLEFRwSGAqwFUgV5EComASHZCaUG3AP+F50QcAO1BVgJ5gkxBEQDFgK3CfESgw1PCZwMng0jBi0E0QSTAIoCUAVpBbgA+gFEA3IEnAfBC4gFkABkAvICjwXdBEAFcggsDbQvZk7vJ7IQXx2vCbARpQPFHC4NEQLpAYIBtQFDAk4F3AgzCXsGmAFAADYAMgAiAJYA8wEhAmMC3QFoAYUBbQE8BIEHSwOGAx4DrwR9AgwBawCHAMgAewABAuwDFwSMAbMCzQGjAOcAfwGUANEAsAAwABwAFQACAAcDdQwqHcMW5BIOGnMXawuNCeoIfgK+Be0DKwQJBFgEgQM0BjkEfwEtAo0DpwKsAdIC8gPKA5MLLSuCH3oAqwFSDSAYThMLCDkFlgdmBeUEWgS/AlwE0AtKCccDIAXhCDUDVALZA1MGTwT7BL8DkQOxA64EBQTOBYoFcANHA/UEtwQWBSoI3gaRBVgFHCNSOJAcEAxXFKcTdhA/GOka5QhGAjsC4QHnAFoDJQX0CPQG/gIZBFwC2gE0AaQA4QD/AHsAnwFyAMQAMAEPARkEkgUwBioDcwGWAtEBBQEEAacA1wFSAkUBCQEeAm4BfAB2ABEAfgC0ALwAvQA3ADoAIAAOAAQAPwP6C04XUgcpDdcc+SBcDTcCogVHCVkGLAZFBOAAMgI7BOUHsQXPApcAqAGDAOkAlwHiBnkIrRSGKJUcvgllC6ARwAsPCyEGEAIGBJQCkQZpBuECBgGOBnYK7AY3BKQFHARxBJ8GHwn6Bx4CbQFbAaoEpgLSAxsD6QF/ALACegazAkcCIgbKA7cA7ApEHTsewgmcBowI5gb/BTsO7RhXD6QEfwAfA7sCGwHmACMEiAYrBVQGiAVxAwcCUgDwACgAVQGWAYcAHgEGAqsCZQJjAEkEBwMqAa8A6gFCARIBPQF5AoYCOQExAGYBUAFGACAAJAAUACwALwCRAFAAIQAYAAYAAgCDAqoK/w2sEf4HUBQeHbwKcQXUAgkMxAe9BwoGdQJABIwIFgb3AckBNgJQAcABgwJyA1kGKQrACLQeRhOyAj0OagsgAtQBrQNNAbACuAQDA+gEaQSXABgEkgUgBDEB1gLPAAYDmwMBBH8HoQMdAVMBPgO/A+0DFgOwAlUD6wTOBv8C3wEdBDcDdQLuCIMJUw2WCLoDFAVLBUAGjwYDDUcNbQdCBMMDuAEAAXcBhgPLAyoDVwPKBBcBTgLFAVoBVAEdAfEANwHSAZwBpgCVAWYAiAMnBFQCCAJuAoMBcgEWAgwBWQGFAY4A4wDwAIEAPAAZABgADgBmAJgARgAHAA0AAQAAAK4GEAnTDjMYxCAxAyYYYxXfDDUKzgfqDWMM9gOiAqcFngcjBGQAuAFtBOgDwQMiBNkBRAJfBSsOUxefDHYFNwk6BfkCJAB2AqMBDAL9AlUB2wLdBEME5gJTAR8DCwBJAuUCJwHtAQkEmQROBHsDhwKjAJwDqAI7AlcDqwJTB5IGcAARBP0BgAE4ArED5gJ/BIIHRwU9BMgGMQTVAQUG+ASnAvAEMAJGAEAAnAFfAcEAXQC8ALsDCwTvAdoA0gDVAJ8AjABiAWkBMwFAASoAuQFZBOEDoAAjAjICTgEzAf0A9gC6ALQATQGGARABrgD9AOoA1wC0AJcASgA0AB8ADgABAAEAigFABOkb/TsqOMIgXhMYB9gVEAqnAfkJagufA4sCQgENBPoEfQFeAlwGtgaVAmACEQL8AKsD/wlNEs0FZQguCC4E9wSFArsDKwT5A2wC/wC7AdsCAwQiARoFmQQkAa4BgQJWAV4CMgXrAyUEOQa3AmoBJQMYAY4BogP2A2sFFgV8Bi0FdAENAQ4BsgI8BcoC6wVgBMYC9wKJAesAFwQEA0YDEQISAScBzQADAZsAowChADoCdgTvA/cBuwCYAGAASADZAGAA9AABAWcCEwJLAksDbQNYAX8A2wC6AKgAfgDrAE4AiwCwASwCtQFNAFkB2QEWAbYAeAABAAcAJAAZAAQAAAAXBrsLRitASFgoLxRcEbsREhPpCGsBQAnnCGMBgwCtAEoDIwWsAfcCywU2BMgC+gFtAMgCUwV8EEQVcQjyBCAI7QXcBS4F2gD0BSgEVwDtAhAD4gJVAzYFfQYOBbADCgJ2AbwCtAP7A20BQQYmBrQBIgGaA3YDxwOXBBECXQb0BSAIKwR2ARUAOwGbAQkEYAT5BcMDbgHQAGoBXALHA3YB/QE7AskBLAFyABgATAFuAdkAfAKFA5EA1gF2ASgBVQBVAHcASAF6AQEClQKHAt8AXgF4AnQBiADFAL0AhADxANoAYgDsAEQBtgB1AS8BSwGYAcoAegCMABsAFQAsABcACQADAJUBNA1dGvI2bSPwCXMBUgohDwkBSAMvCGMJ4QI8AQQBZwODBPsC/gLqAssAlgHXBKAEMAQ0AiMWLh5hDGMD9AK0AXYCBAWhBe4F/QJ0AYACjwPWAekBTATuA/8AeAOAA3cCngLtAaECnAKJBHIE4QGWAcYClwOZASEEKgWuCmIO0QW5AgYBzwF7AhIDwgJ1AbEDKgLPAL8BUAJxA6cDkQEeAfgADgIzAaUA+wCfASwBiwASAi4DqQGKAE4AUQGLAVEBrQEnAosAmwFfAHEBEQGPAOQAIQK8AdwAHQBVANoAjABJAKwA7AAtAYMAywARAPcAygBpANkAaAA6AC8ABwAMAAUAzgkHA5YH/B9OJskT/QhhDtUOjgaoA5IHsga8A2UC1QCRA2gB8gFKAOACPwKCA5EF4gVAA4gEbxpyHw0InwZFA7wCMAE5ApcCrAPAAmEBcwB1AmoBnwEuASABUAH9A54CtwCzAfsBPQK6AXcCPgFWAjsAuADRAccBOgOOBSgGRRHhDYMGMgMyAlYD+wLKAhwBEQIAArwAOwGUAYcB/gL5ACEBBAIRAaYAjAC/AAEB7wC6AAoCDAKvAakA5AChAdsBZAEJAesBCgK0AUcB0QA/AC8AaQDrAf4BFADWADMB3gAcAIkAeQDSAOYBrQFCAesAMAA/AZgBTwFBAFkAOQAQAAoACAB9AX8HsQU9FZgQDgwqDrYNkw02AHUHmgNWAxsCQAUEBI4BUAPgAksBZAIEBeUDqAHKAp8DwwTgGp0eqwpEByEIFgU6AzkCpwFQAscCcwHBAegBqQBkAcYB9gE5A4oEoQIeAQUBaQMnA3kBqgPgAkUABgLuAfwChgK3AgEHhwt6DBUKhQpZBc4B8gL7ABAC+QE9AeEAjQBtADMBFwMdAw4B7wEyAwQCxABcAHEARwC8APYAEgFBAEsBFQF4AEMB7AAyAMEAjAHBAEUB2wBpAKcAmQDXAOAAjAKqAcoAggFXAXcAPQB0AO4A2gEyAQUBmQAXAWkB5AGHAXoAQwA5AAUABgAJACYDLAn6DVMHBQnMB5QE6QPzC+ILCQmxA2gCdAV4Cq8HvgOZAtgDuwLqAigDcQOvAtsB/gRFCGEcJxt6Ak4HdwPXBOsFuAT4AkABWwGCAfgBDQJ7AVICvgCUAn8E1QPLAPIBwQEoAtUDXwP+BSUGqwPMAb0BBwQ9A/oBCwjwCtoG/wMsBhcDXwMAA8gAlALtApUAnAB8AFUBbQIaAy8CCAEyAhwD8QHDAXEBwAA3AAcBEwFaAcsACwFkAbEAqABVAAYBOgFfAaAAvgDnAOMAjQAXAfoBNALGAgQCZwCoAP4BOgF+AEYAygDPASABLwHgAN0ANwAHAegAlwBZADQAAQAGAAAA6we4DVgK1gKuBOYH5gOaBuMHpwavCrEGVQQHBrsLKwkwBMEBxgMGA9gAfwKNA24GwgLuA2ULbhbHFjYKSwR0AU0BuQPxAqkBewABAYsCzgJUAMEChQIcAfECUgIQAmAC+gEBAsIBIAIoBKADfgV7BRgCYQGWBMAFjAPHA4ACfwZqAe4DOgIIAZMBaALIAw4EhQJoAcUBPANMAzoBfQAqAecBrAF/AEsBxwFMAYwAnwARAnUCIAInAm8BCgB0AHsBvAGaAIwB6AAvAfcAWgHXAcABVgK7AiwA8wIEAnIBegEsAnABwgBGAZ4BRQHfAXUBigAyAf4AXQC2AGMAIgAYAAcAAQAcB+4LSgj2AWACmgY5B28HWAr8CZ0FDwPzAiwD4wiCBJ0BUwKGAoADhgF0AnMHWAi7BOQDGwRZC0IQNgFJBuUBPgFHAvkAawFeAKQAdwEAA+ECewE5ArcBWwOSAxQDyQFVAbEDdAKKAYoBJwEKAoADYwSlA5IEdwaPBDEE1wUhBiwCPgTkBO4B2QA/AtgCYAKTAUECWgICA6cBJQFTAI4B3AE6AGwBRwFvAQwCzAA4Ab8BPQGiAQkCUwG0ANcA1AGWAvoBwgAVAQsBhQGaAvABegBzAAgCHgNcA7ECXwFyAOcB8QFzACgBCAF3AP4AqAFYASgBHgFzAJEAWgAgAB8ABQABAFcEWQZ0Bi0HygVQBhUJOAh/DuwG+wUvBxMEtgTeB4EDaAHLAQ0CkQEaA0sFFgeoA3MEgwI3BR8N5RHBCVgDuQDsAK8C7AL0ASsBEgEHAQgCHQICAjICQgJhAmYC+wGQAioBsQToA7cBlQHzAcQArQHtASECAQFCA3EE8wT/BKgHRQbzB9oF9gJdArkAJgHwAJ8BoAFgABkBwAGaASwCPgJZAQMBhAAPAh8DtAIxAScC/wBIAJAASAFSADsB5wB/AAgC4AGSAEcAZgDOAIMCGQKcAF4AOAGtAp8BAgENAXAAhwEHAQYBmwDyAAIB0ACgANsAXgAjAYwAXwA+ACwAFAADAAEAFQHvBMcCcAgnB7EGNg0yDDAJJQf1Bt0IQAe0A8IFtAWzAmIBoQLiAZ4DTwQ+A/EBdwN8Bm0DHwvgEZkHzgAhAuQCuQLUAakARwEgAJYCIgMXA3gDJQF0AIcA8QBrAYwDWwUHBVABDQIoAvEA2QBUAawAlQG4AY0A4ABbAc0AZwVfCKkJqwR5Ag4CewBKAdICbAN1AhkBKgFUAb4BtAHmAasAtQC+ACcCOALAAYICSgJaAX8AQwBwAeABIQFGAOwAmQHnAKgAggCfABEBFAEpAj8BNgC9AIAB0ACqAK8AigBFAd8ApABtAPIApAF/AeQAwwDuADwBxwAhAAkADAAIAAUAAAChAXAF2wbHA70G/gVvDnsCLQVABuUGJwI/BfMCZgMxBeACqQBWAiMDDAHFAuYBnAEbBIgEGQTfDIsNpgMYAgYDeQMpAY0ABAFxAeABoQK/AygFUQOVAHsBmwAoARgCXAITBY4DOwGOAasBPgBuAeQBngBJASgCuQHPAAYA1AEDBckAfAfWBboC/QCqALUB2AKpAj4BzgE/AV4A3wB3ACsBtQEKAQQBsAHzAJsA/gA7AY0AwAAYAKsBIAJgAO8AFQHoAL8AdgBDAJIAcACeAKEBsgHQAL8AowC8ANYArQBfABcBWAHQAIsANwGrACgB+gCVAIAAzQB8ACUAAgAEAAQAAAABAOkHegniAdoF8AuADqsQ1w5qDHIKbwR4AZoFFgRrAyQBTgM6AcMBJAOfBN4EXgL/ArIFiQOTAtYIFQnuAvkBdwEmAkMBnwDjAEECEAAMAiYBfwNpAwoCyQFwAuECkwE3AeUCoQGtADABwgCuAvUCygBoAUkBEQG9AbACUAJKAQIFkgeoBk8BnwEAAYcBJwHqAOwAagGKAUYAlgDHAOwAbwALAYsByAGtAJYAsQCTALYA0wDkAPwA1AEEAkABzABDAC4A3ABzATUBuwC4AOgAqwCJAUkAwgCmABkBJgGbADMAoQCsAIgAnADqANIA4AB4AOwA6QAuADMAHAAVAAwABQACAAAADwGYEdkSVxQeEhQOPgVzDN4ImQf+BV8CSAYvCJEHIgaNBMkDpwIgBMoDjAVJA+kCswNyBC4CCgaKBY8B4QG0ANsAIAESAY4COgO2AlcCgQI/AcoB4wE/Ae0CYAMTAvgABQJYATMBuwFJAkEEMAQnAp8BrwARARsCogMOA2oD4gPHBGwFnwKGAKMBCwIDAfUAaQG3AewBHwFdAEoAyAAUAbwAHgGBAdgAFwDXABYBkACBAaEA5QDhALoAXQF1AFAAXgABAQACFQK2ADkBbgEmAeEACgEMAeEAhwCKAL8ATwBoAF0AJgAkAHAA7QBMAO4AZgHtAA8ATwBTACYAAgAFAAIAAwD/CGYWYSIWGN0C7QekBq4GgQIDBM0H3ANGBEIFVwQaCR0FLgTLBywFLAF3A4YFHwKtAo4FPAESBrAAcAPQAWwAbwC/AD0C5gKIAZYCpAB8AZQBCQKbAX0B2ACaAZEB5gEWAPYBLwEDAdEBJAOFAr0CswAQAfgBWQInAvIA9gFmAbYBGgL+AX8BDgIDAh8A1gGDAscA2QH6Ab8BYAH7ADEBlQEdAagAqgAcAdMAqAA9AUQCvAK5AT8BNQFVAfEAxwCXANAAEgGMAfgBZQH3ABIBcwAeAa8AMgA3AFEAdQBaALgA5ABvACQAtwD+AFsAlgBGAY0AcQCOAGcAKAAPAAgABAAFAAcJDBeVFgwLZw1TBocDxwSKA1sHbQvkBjgCdwREBroGCwSQBzEHAQQjA3UD0QgbBjoIlwjyBzkJHwa4AeAB5wCqAXQBNwJqAQEB6gFNAlcB6wCnAbEA6gAaAdgApABDAXwCogK/AOcAbwH4AuMBsQFhAXwAvwFxAeAAdAFxAeYBiQDtARwCWwFOAm0B4QAdArcBpAJAAiYBuQJPAdYAEwHLAbEALwGSAagBCwEJAcoALQLgA3cCHwH6ARgBmwCJAN4AkwFtAZ0BBwGfAEUAmwDfAPEAVgAYABgALgAdADcAwQAJAQ4B6QBIAQUBrAC9AP4AgABlAJgANgAVABIABgACAAQAQg0eDAYHxAozEQAL8AM6AtcEGQmBBzcG3wHHBK8GOwP3AkIGDQMtARUBAQeLDL0MbQktBrMBQAsuCRUC9AH8Aw4EEgJJAW4AugCSAfQBjAFoAXgAmgHBAL0AwgFXAZUBuwGbA6cCuwLGBKgFYQNyAG4BnQIvA/wBIABBASAB9AKyA6ID7AMWA/MA3AElAg0ChgDdASQDAQOIAg8BFQFSAWEBRgE1AVwB6AB2AOIAUAHaAqkCUwE6AQICmQHnAHoA3QBbAY8BZwGpAFsAQQCiAIYA0QBwAHgAeABBADIAegA3AbwAqAETAvEANwDjACQA5gBgADAAegBLAAsAEQAIAAQABABqAoQFsQMlECsY2wg9BDUBMgbTBJkAFgI5A7cE4AS3AdQDJwQxA84AjAJwBOcITwfFAvoBtATwCvgJTAP6AhME8wNnAuYBqwI6ApYCpAEhARgBugHVAQABowD8ADUDXQPDAjUE9QHfAocEYwRIAwgBsAAnAx4E8gEsAYMCCQLbAkwF5wFpBPMD0QAmAaIC3gGgAFIBNQIAAY0BGAHlAEgAhgBfACAAqwAwAF4AzgBUAFkCfwJ4AeoBNwGTABcBRgAGAQ4AQADVABcA+ABHAZMBBAFTANAAoAC+AHsAaQBeAAoB3wGNAuoBHwDNABABDAG+AF8AIQBoAEYAMAAcAAkABAACAK4IYAfwA08Q8RZUDaMGaQeCCAQDLgE3ATEBIAMEApoDBQJFAYgDuwG2Ak4C0gU9BcQBgAKABq0H2wNbBckCqgAUAu8AkwJZAp0CbwGoAhACXwG+AsAB2AAmAQwBwgLMAw0D9QK6AgcDIgECAdQBdQAWAf4BiAIhAjwD4gPhArkDngO6A+gFegXPAh8CyAAuAaUA2AHqArUB2gAMAdkA9gB1AGQAIQDBANkALAC0ACUBYQIDAkEBWgE2AIkA7gCyAYgBvABuAO4AWwE6AQYB5AEdAWMBIwGVALQANwBsAGIA0gDdAIkBlgHaAFAA5AB/AIAATQCjAHMAFQAyABkAAgABAAIAJQD7CSEIfAnVD6AE8QA4CsQLxQWqAe8BngK/AncCrQHhANgBSgN1AscAlQPOBVgDxABQAjkEMATvAYYDiAKAAT0DsgMPAnUB8ABaAXgCkgGRAZQCGAJmAcgBqACkAQACagAUAVUBwwLuAcEAvwFqAagAYwAcAkoCNwOiAXwCQAPIAuwD6ASFAggETwGgAKIAfAFtAlUEZASWAtQALQGpALoA5wDRAD8BpQFlAVkAmgCfAdkB9AAAAswB1gAVAUYBsgGgAEQAsgCtAZIBfQHaAQwBcwKTAtcApgC5ACAAkABWACMAigCOAJUA4QA0Ae0A5gClALsAlwAbACcAIAAGAAMAAQC0AuoJOw5RDn8MJAWlBcUItwajBgEFEAHYAiQAWgTDAkYBZgG3AdoBlgBZA0MDjAGeAEgCSgGWA9gBwATqA0UCvgTEAw4DoAHOAJECpgPlAX8BuQJTApgBdgLnAJ8A/ABhAbgApgFiAVEBAAIiApcBtwBwAO0C9gXPA9IBjwJIAmEC/wUSBxgGHgRtAaoBagHwAMgA4gL5A8UCCgFKARkB8gD5AFAANgHEAOwBOwJ+AoIDGgOVAewCYgLqAW8B+gAbAeMAzgBJAaIAOgF3AREBDwH9ApQDYgGzAOgAywDOAD8AKAAiAI8A0wDfADkBmAH+AAsAXwB9AE0AKwAaAAgABAABABQBewitDywD/wmNBs4CQwZpBqEFhwJdBd0FkgbCBxAGuQJ/APkBJgQ1A5IC0gFdAT0AnwM+Bd4C3QJCCB4HswStBBsBgwJ1AfMAVQNYBJ0CcgN4A9EBdQFuAi4C0gCvAMEAFwE9AksCkQEsAcEADgMBBDkEQgVFBnsEYgPmBLYC+gL0AesGwga9AioDOAIvAhsBrAAZAq8AKAIDARkCDgKoAFkB2gCEAcABQQFUAbADWgO9AooD4gHKAOEAPgHBAR0CNwLtAqQBdgDdAH8AGgBPAI0CNAS0AfoAIACtAEQBCAF6AHgA4AC/AEkAqwAIAY0AfwA0AGEAIAAcABAABwAGAAEALwLQBg0SWw2hBXEBRAScCNgO8gvUB3UHuQI9B2AH6AG3BXgFmQa4BjcE6gJiBKIDdQMiBXsFIQNOBOEI2geZBuACNQL6AhICZQAuAygDvgA3A5cDBQHVAJgBAwNXAgYBlwBSAYwDrwJfACwBoQHAASsFdQYZA7kDNwRDA7gGMgTTAuYCkQcgCA4EIQKCADcCTwHhAFQC/gGBAYoCSAP7AlYCogG5ADkC/AKMAW0AhwKxAiUCoQLMABQAuQDxAJ4BtwOxA8cC+AHVANgAQACJAEYB4QIjA6cC1QE7AbcAegGVAR0BkwCMAKYAVwDTAIsAGgBaAPQAwgBaADkAIQAMAAMAAQBXAIYJfBTREWkGzQmwCtEGhRXwDu4DBQtXCBkEhAUZB1kH1QgZBpQCZAXMA+wCvgOxAQUDfwLsAMYBUgfxA0MFoQW7Aw0BuAHSAXQCugK5AMgDvQRqA7MBhgEnApUBtQH/AMUB+wOgAuUAnQElAWwC2QPeAQwFJQSTBFoA7gcjB9EAMAGTBrAKSgaFAYsAWgLrAawAYALmAZkAhgE1AlEBXAGFATgAfALeAugA7gAqAkEC8wF7AfAAcABjAI0BMgFVA5ECTQGMASIBzAFLAXoBGQICASIBjwCmASUBugEVAaMAFQFCACwA5QDWACkAowDDAB4BTwG0AJ8AbAAaAAwAAwADAFUEtAkXDjQHIg6yDu0LJhBIF0IQSwe5CsUKKgfQCQQIGgLvA+oEZwV4AqIBBQHoAcQB5gEmAU4CXgO0B7IEyAWTA8ADrwOlAV0AvQA8ARYDRANXAogCUALmAp8B9AA8ADwBYQBJA00ETgMhAmUB+QKIA7cDIAR5Af8CQAemC68GvQGWAhcHWQa8BHABIwK7Ao8BrQHhAmYC7AArAREBPgCfAK8ALgH9ASACegCXAAkChgCDAF0AZwGTAo8CUwOyAjADTwJ7AVoCAQMeA9cAYgExAcsA+gCkARcBZACdAaABdgA/AVgB3gCpANQAfABAAMcAMwELATAAVgCOADYAHAAFAAAAnQC4AuAIXwm0CQwFYgW9CA0PJgiMA4gHUAnCBKEIBwYABNwCAgV8CKMFDAOsAFsCUgEEA5IDxQHCBWoJtQUdBlIFgAWMBJQA/gFoAoYCygRWBdcDGQKSAdgByQEaAa8AUQF6AaQBaQO6AfECwgGTARcBdgO0AcgB6AJMBS4Mgwu+BkwHdAViAS0BUwNaBGkDnwEBA2sC/AAGAQIBjQE5Aa4ARgCUAJkASAF1AYgBGwLWAUABIQGAAtQENATbApQDggH2AOIA4QLGAtICOwJwAVwAYQDsANABgQG6AB0C3ALgAdUB7gHlAGMAogBRAG8AbQBQAKEApQBvALcAaAAUAAcAAgADAigCWwn+DW8ERwPJB40LwQSAAWgC8QbgCvYG3gOgAMMEawBlBnsG+wS6A9sCOgK2As0EDQTVAU0FdAXDCBAG7APcBRMEbAM6A4YEKgXTA1QH5AWnAZgAjACxAHoB+QA2AY8B5gFTAtwATwJMBNQD7QIuAukBHAFsAM0BVAb/C5MHBAPwAzUBiAJHAPYE2AP7AHQCMQF4AL4A7wAjAQUBZACuAKQA0ABMAb0AsgEeAeQACwK7ARIBNAWYBKwCkALNAMAA6wFUA4gBIwK/AFYB+QD0ADwBgAD9ANMA6wHDAoMBagHrAUsAKwFvADMA9QApAdgA5wD1AI8AqABcAAUABAABAHAAiwKwCF0M/Qd9B5AKQAfvA80CRQSjA6EJ2QU3A88DUwRYBtgGUwKFArkAywI+AGoAYgRAA30A7QMXBdYJyguRB2EEkQPYBdoBCgS7BdUD8QXOA9MB9QAqAV0B1QEvAtUAigHZAhUCMAAQAsAEtgUfBCcBIwIeAbEAOAG9AOQHeQcTAnoBhwP+A/0E1AS0AnoBugEyAbgAlwB4AcsA9gC2AF8AUwF9AuEBwwAmAdcAiwDYAe4A+AG7A20EpQMtAeQASwLhAjkBiwNhAuUA1wAaAC0BTQHmAOcAEwFTAMMBqAFtARkCuwFwASYB6wDpAJcBBQJ+AaUAJABeAD0AFwAHAAIA5wDUAP8EwgdrAYgGLAW3AicBIwOqBkMIBwXFBCQEHwJXAx0EGwWGAykDUwLDAt0CgAPXBGECegFmArkFtwvmDCsEsQXQBEkEzQMSAm0EkgUSA6oAuwDyAZECtQEkAs0C5QAXASMBjwJlAfsCWAP5AfAGIwUQAt8DhAIcAd0CKAftBWgGpAW5AV4EBgRkAtQAiwCgAGwBoAEwAfQBEQKqABEBRAFDAp4D4wFnAFwAYQFTAtYCtQFwARsBAQH7AeoBXQCeAtEDiAPRA10BWQDCAPwAkQDaAO8AngCEAdoB1QF8AGAAcwFGAXYA3gF0AVkAFAGzAdUATgA/ADgADwAaAAgAAwC4ATID3AahApYEDQaVA00ESAImAqIEfQYjA8oC6wA4BG0FHwOtA/MA0QLjAQkD7gIwAt4EMQOqAX4DsQa0BNgHtwq3Bn4F/QUyBTECkAGVAtMBjQFlAfsA8wFqAqACCwIqAcMBTAJLA80BNQJvA08DuwUDCFIIEAbIAsYC/wThB1wDrQeACCoFBAMyAbkA0gAVAU4BlwHtAMsBvQABAiECMwJ4As4AvgQCA64AxQANArEDvwE6Ah8CjQFNAV0ALwNrA08CuwFYBAUEFwEnAXQA2gC1AJEApwGqAU4AiwHZAdMAywBRAK4AHwGsAd0AtgBAAAoBhwAXADMATgAsAAYABAABAEkCtAJsC8kKqgU7Al4FqQhICC4ESwSPArAC2AOSAY0DwgRMBqsFigFlA3ADlAEcBGEEkAFDCK4KbQx5BuICrAg6ENMHmAzBCMgD6ASOBI0CiAG6AZ8BewFCArkBFQLFAiUChgKQAmgDlgFTAUgDPwLQBLwCzwovBUEA5AM2CCQGFAX7BGMFDQNdAewAzgBaAesB6wISAgkBWQH5ADYBcwK+ANUC9wRrBmwEswEuAacC5wLzAjYDDgH5AXcBkQJ0BcIEKgGUAesD/wJaAeQB9wHaARcB3ABJAq4CqQGeAPAA+AFIAYoAOAC+AEIBrwCnAO0AywAjAD4AJQBwADsADAAGAAIATACHBuoQzxARCE8CxgEmBxILyQWqAogBrgR2BF0B9wG9ALIDYAU2BZwEIgKGAjgGeAd2BuwKaBXGFPgGPwWwCUoVpBbUDyQFKQDDA+8FawHBAU8AyACGAQ4CkgH2AjACAgNKAswBTQI1AUEBwAKPA78GRggDCbcHAwTSBqgFfALwAdcChAOWA30AtgHZAgcCTAJLAt4BrQCtAF0BVwGMAnIBUgJ3BU8EXwKPAeMALAJkACUDSgUZBLoC4ADJArEFNgSPAd4D+wNoAWAALQEfAhwC4QB8ALABBAKbAcQAXgDuAekBmwCgANEAkwB4AK0AnQBiAJIArwC/AIsAJAAeAAgAAAATBS0OSRNkA98MwAXVASgGRwl1BO4EdQcvCO4DNQHcAXwCdAG/AjMDpgTYANsC/QS6BIkC4ASfD7gVXA6OB20JbA4SDRYLZwOQAaMELwWTA/4CRwJxAegBpwFtATECrQHCAjICsAGvAYcAIAL9AjcDSwcBBC0D4wRhBfEFiQO4AbwByQM7BK4CMgKzAlcEbAX/AwcBRQFqAD4AEgG9Aq4C7QCcATwDEwLvALMA1QFZAZABpgHfAzwFSwJ2ASECPgOmBTQDtgLpAs0AhwB8AJIAkQEeAQcBCAFzAKgAQQDxAAMChQFUAFUBWQH1ANAAxAB3AFAArgBZARoBgAAkACIACAAAAGABDxCQGUsTBg/oBH0F4AbfAvsFkwUdCbIHrwEdAa0CyAOCBLkF9wQkBCECygO0AksBbAKgAQYJcAqdBlcEwgPKAg4BowR7A28CdwXKAm4DwANfAYUAMQHgAFsBZwAPAtcCWwLYAaABjwCOATwDMQP6BLMDbQBBAdsAaQFHBEwCXAIMBTEC+wDFAiwCFgNtBBwEQALbAFoAIQCLABECbgKOALsBnwBwAswB4gFpATQAvAADAQgBiQPOA/oAMgJfBsMJLAXfArIAWAH1AA4B1wAsApoDFAONAT4AXwChAEsBKAEvAekAzgAWAsUBGwD1AOQAhgDyACgBiQBAAEUAEgAGAAMApAB2DmUZwg0wC90JXAepBg8EzAPfApIGVALLBDwCcAOoAegERgiKAzoDBARdBGIEmwKwAm4GCwlLBgkEqQIsA5MCngPKBOMBtAHPAncFhAWQAloA0AB/AFoA4QBdAVIBqABhAqsBpADYAKQBwwGyAf0CWgKKAj4ByAH5AhEFxgN2Bh4KNweWBC0F2QREAxIA5gGEAVMAcQAVAFkA6wD8ARwCYQH1AWsCdwCdAV4BZgCjAJQB6QFUA94DmANRBHsEYgkMChUG+QIXAVwAOQEwAUADeQWlAl0BEgF+AFQABgGsAOUA5ACWAO4BKgIPAYIAlAC3ADgB0wBTAFIALwAFAAQAAgCFA5IJFhA4C34GWwQxAmsIvgSeBO0DLgd/B8II+ga9AdoB9gREBiwFZgOGAWUCngOtAOoEogYLBYUCegTQAyoESwOdAiME9AH/AIMBKAR0BIkCOwD8AIoAMgAEAfcArgBqAfQBpgBQAQ4BHQFmAegEVgWIBHMFMgNLBOcDPwMSBS0GwAurCNkCmQUUAtsC+QE8AGYBpgETAb8AKAHYAJgBHgE8ALoB2QEDAvEA0ADeACQAdgHJARMCRQFTBLgFMQMeBNYGtQQfA30BhgCnAJAClgQSBVsC3wDMAA4BYgDZAPQAdQCKAF4AXQFxAfEAKgCaAI8BHwJuAWYAWgA1AAQAAwADAJYAIgVoBmEIlQrnBtUIggwSDTYIRwUyCsAGxgZKB10FHQM0A94DIQMHA6gCxAM5Aq0BiAQUAzYDbgT+AZwENAWdAeUABQQwA9YCEwI7ATkCjQBlAloChQHSAL0B0QEpAYMAygGXAjMClQDVAMoBRgf1BzsCYwZABxoFhwFQAqAECwVGDDYN9gdFA1wBxQJkAiAAjwEFAtoAIQF9AasBeAGtAJUBoAFhALIB0QE/AaIAsAB1AJ0BNAI9A+wD9gUEBQYCTQOyAY0BeAK5AeEC4wFRAqMCGQIvAZgARwG1AboB+wB9AIMA8AD9ACEAewDbAE0BGAF9ATYC2ACEAAkADgADAAEACQE9BZ0I+gmIB1oIxQd7Bv4SDgiuC8AQ3wlYBqUC6wgSBx4FeAWSBaoECwQvA1AASgFmBBIFJQQVBjUHOQboAeUBTQGLBOYGNgQLAUABjAFyAoUCyALXAZUAGgLxAv4COgKuAM4CiAJ9AQwBnAEtB38JpQQmA1MEnAIxAkUDBgnwD9MLYQhMCy8ELwKmBGoDjAClASYCsAB2ALEAdwD1AAcBpwGvAVIAcgFdAdIA6QA0AaUByAIVAw8CxAA3AjAECwJeAuQBaQLFA3cDygPKAuoBEAHuAAcBlAANAfIBQgEnAfcA6gCGAVUBiwBiADcBrQDOAM0B5QL0AaAAHwAFAAIAAADUAkcFUQl7DPgFkQQGA68MpxjEFssI1Q6yEosG/wP4CW4IigAoBB8CagOJABYEUQM8Ai8DpQQhAYIDSwWFBZ4D3ALFAC8EfgXDBH8CYQIBAiMC0wBOAcwCQwE9AQMBYQOGAkcCDQI7AbIAZgBFAbQGEQzVA4gAewHFAGgCiALbCAMVRAx4BVEJWQNsAHIFxwTgAQoDTAJiAI8AZABGAFcAJQD1AB4BJwFHAY0AqgC5ARMCnAGCAnsBRAGnAQMB3QLJAkkChgO1BOECewELAhMCMAENAUgBTwDLAI0BTgEgAEEAmAASACwBoQHcAIsB1wHkAAoB7AEaAl0BuAAxAAgABwAAACUB7wLYAC4KEw2JBqIEYwjwEusWugrbCyYRIQv9BYsD/wf8BbwDuQJ1ASACBAUPBAkAsgEsBbAEUQKkA/kAqgXPBOgBhQKrAj8DdwXSA04CwAGIAXUDcwSMAmMC8AIfAlQAIgHNAL8A7wFtAk4DUwjWDVAJugTQAzsDlwMqA3oIRRQ3EjAHxQu3Bu0DVgeQBcMBvAP5A4gCkQFSAGoANQBVALMAkAAsAQYBaQDxAIMBRQFJACQBoQJnAroAwAH/AZABIQEsAjMEJgJzAiMCCAKVAcIATQG9AGQA+wAQAYcAVQAdAMAA3wCiANQBxQLlAR4AcwDRAIgAowBxAGUAGAAHAAMAlgKrAVwDGgouCDEGewFoAWgIDBFeA6sGmAcOCEsEuARRBv0CjQJfApQB3wHCA5kDnQJ1BNcEoQEgBP4DcATwBP0BbQPUA+AD+AOhA7kBwwB3AMIDjQaZA2oCgwPSAnQB7gBDAVUAdAEIAx0DJwPhAqkLcgl3BaIDsgMVAaACRQbYCT0R2wrzCisHAAKZB/sFogHXAUwDSATBAhcBywBaAJ0ABgHIAa0B+QDqAFkBhgArAWQARQBhArsCfAFlAeYAfQBgAHgCVwOmAVYCWQJmARsCYAFlAXYAPwBSAGMAWgBOALcAqQGQAcEAHAFMAi8CrQBmAOsAJgHMAGUAUQAwAAUAAQDtABwEqwgICf8Dcgf7BxsEogr2ClsKmwbJBr8EqgJnBeEDvQEZAWwBHQGHALgBGQF9ASkE4wV6Ah8CdAPKAhkERwLFApMCDQJfAWgBxABFAWcC9gTfBZgEYAP6AXAB4AG2AWYCQwFBAe0C9ADHAKwF0AmcA7oCtAAAAVsEkQqPDGcNXQopAYgF2wZ+AowFGgQ+Ar0BZwJuAWQDgQH4AZgClwKoArsBlQCyAQMBBAFzAvgCJgJpAUoBlQEeAWwAHQJ+AdIAqAEDAvwBbAFgAMIB6wPVAkYABgHJAKMAcABOADMAtQAeAosC8QFvATcACQJQAl4B/AE9ATcATwBNACIADAAEAHwAGgaVCvUDsgR7B6kNABP2DlAFoAgtBD0JDwWXA7wDkQBIAf8BwgKKAbMAYQA9AgUCugMkCDcJuQcHBHMDnQTkAagEjANbA6sBrgCeATUDGANCAnUBaQOKAvMB3AEuAk4CEQQZAmUBWQO9AmMDrQZxB9UERwLSBGUDtwVEEbsSWg6TDecFyAjSBg4DQgV3AqcExAS3A8IC3AHKAfkCcQM9ApgBjAGiAU0BfgCXABoDrgPAAekCdAJBAs0BtgEVAtADyAJoAqMB9AF/Ak0E/Ab+B3EDUQAqAUkCXAKZAdoA8wCkAdIApQGJAb4A4wBOAhkCQQOxAhsA+wACAY4AGQANAAEADgKdBcMJSAdYAMMDzAmkFLIRngtjB+oFvgVvBqUHNgaQAngCawHCA6ME4QNHAwAC3gN8BOYCuwuyDFkE0gH+BAoHYAjPB3gC+QLdA4oCMgYpBQ0D/wFmAQgBDQHxALwC4gX8BBYAfQF/BP8GLQT1ApsBLQSBBOMI2AsOCU0cxR75Fy0VkwJgDIoGGwKeBFMHZQaOAN8EWwJjAFgAwwFMAsEAMwE8AY8B7QAYAu4CHgFIBQ8GKQcUBGYC/gL/ATYCiwVpBmgEWAE6ARYDRAbkCXQJ4wLTALABRwLzAVQCaAFMAgcDhAFoAF8AwgBtAWsCGwJaBKYDjgHHASsBnABJAAsABADJAfsDqgIMCkMKIAvYD00IGgeYB54E9gnhBMQDTwitCb4FbQURBUQAxwVTBUEEGwMeBBADaQY3A34OLQntATwF2wTXBE4IawTRA+EFUAaZBnEHLgSUAGkAPQGGAPUBPwOMBHcFxgMfBHIG2QUFBCAEtgW6BSoCaAv1A3MULSEzLQ0xdRgZDeUNjARsBTcC8wYIB80EswPqAUcB6wBWAeIA1gGAAhcCgwExBNAGBgrODL8QNAziAwAIyQUZBOACSwSRAWQGSQQ0AkMExQIzBhMCVwmKBA4BrAEQAU4AEQFtApMDigMfAu4AFgFdASYBdgCGBP8GoAPKAQoCeQBzAGUACgAOABoBjgNRBEYKEQuKB9oNkAnTArkD/QhvEscTVwzmBScGmwNqBTgJJAY7A24DsAFEBygJdgjRDtkRnBfFDOgDTAVPAlEF3gdEAZwB1wPGA9oASAU+A8cBQQKNAgYCwAE6AUMBsQOaAf0C/QJ1AvkA2wbqBBAHBAzjDkIN2xd+DdkT+DDpHioU7RO/CokLogU+AzoDvAKvAY4AkgA+A9cECQRnAkwBbwHMAZQGywqHATkVSRhWDgEO9xE4CrQDuQQIBkQErAGOB2sISAlFCZ8FuwU1CsMFuQCMALAAWQAqAHEBsgHEAfAALwEVAeUAngAYAUEFswVVBC0EpAG0ANUAjQAqAAcAHgG+BD8DTAeWDfALxgOOCe0GqQWQAe0Uwx3iC80DxgJfA74GNwo3BRcCUwRLAR8HogcpDjoK1xc5Hh8NfgX8AoQC8AUdCSAH8AT5A08BwQTpA5gAHwJQAuoBWwN7AjQCZwLYAH0CcgKHAS8CMgWADWMKMwfKD2gQVwViFIIUGQA5JnItJRaUCaQRiQ96BsICRgEnAe4A/wA3AfgD0wfsBuQCxwEqAgQDDgjLDxQMHRGuG8kLWhq0ExcHrwH4AagG7AZ+BmYIZwWMBpoG6wV+BeoKJwe8AEMAgQBpAO8A3QBGAIQAngAIAJAAXgCUAPEBXQT3AyIDzwW8AmkAmgCqADEAFgD5A8EFpwS0BdAPKA/RDiQQmQd+CR8NuAsvGYAUmwySCUADUgXvB30C+AJwB08H0gl7CJERTRGoGYMYEQa2BA4C4wHvBdYEwgWJBqoCAgT0B9oE3AKkAokA5gA2AlUDqQJFAoIB6wLvAiIDIgMTBuQWFBn4DN8U2hJhCAMKjA7kFPYhBh0VBo4HVA65BnAIbAU3AnYAjQKWA6cCaQXLBHkECQSPAfYGlwjpBlkSIQ/BD2Aj5R9ZFPEE9grKBtACKANxBOQENwXCBAwGjwaNCXoBqglxB9wBVwGJALYAAwFMAX8B9gHAAlgCfwG7AUACUgNPA08C7wVHBewB0gC6AGgAEwAJACwAaAYmBXcE6g8SCkQXrBRzBRkSvxGlDGsQXgaEDWkQpwbHBkIF3QL3A+MJ3ga6BKMPEhOJEXkQqQwzCXMEiQYtBWAHBggYB+YC/QCIAocJ4wuyB90DzAIEAwADBwMtAT8CXgC+AjcCVQJaBZYMKR8aGWIK8hkiEHACqgDRBTIIjg6bEJkFlQU+EIcNswhcA/4BxQXVBdkBCAk/CgcEpQGHAtQE4gz/DkYKxA9cCxQOoiA0FnMKcROHD8QITgPEAFQB+QDqAEIFAQr4CTsFDwtlDsgGEwTIA8kB2wCVAF8APQLOAyUDGAT1BEwErwN6BVQGPAQzAjoDmgHrAK8AJwAKAAYABgJgBZcGbAOlEFIeWCKwFHAItRF2ELUJDQlhBiAF6g2fE9EKuAQcBZkDtghECY4CNAyLDtwIZQr3BkIJSwY9B3QDaAWQCe8EXAPHAmQBWgcxDpkGfgJ2A18GuAaUA3AAkgIuA8MAjAQwA/oGnAnPGfAdtBKBD2wMrgHvB+8F6QXWCTcGPwNYAyMOEhT6CT8DegjPDWsIRARzDtoNawZcBGEEwwLXDhQS5AfDCOkGYQcEFPoQfxOMGbAMDANyBYsDGAO1AlUDGAFiB5UJIQbIC/cO/wu6BbADrAEXAUICxgO5BLkAbwSYBQcImACzApMCFAc4BlsDxgCcAfYAXAAMAA8AAgAFAnoEGwsFBtUawhanEhYbcgzeFdIG+gMZBakCEQHSBu0QNRYKDnoDHAO6BuwLXw6lDswFjhShEsIGdQ8tCssCDQalCGcD0APVAyMDqwKTBVwKrAtGBWED+wScBi8C6QFUA1UC+gMtBk0LshDZDjYaWBYHDFoF9gvSCrUQ1xXXD+cHBwXZAloBzAeaDgYKFgQKB1ARlRJZEGoRCgWNBKkDuAZaAggOMhCGA5ABhgYXBk8NNgkGD2cSRgo1BDICnQKiAnUCMgHXA+cG7gUrBRMFeAS0COAEPgMKBYADCwEgB2AKdAgyB30IfgrYB1AFeQO3Aw8JbwShAccBeQBeACAADAALAOwFlwQLDI4hKCx1FncLdxRKG0cVAA44CNQGKQaBBjYDgAk8D6YW4gfkBlkJWQT4D/sQMQrtCwImpyPbCw0IrAXQCIMNQgiCBp0FzgOlA0MCCwVmDyYNCAOmAoACJQUFBesEcwR9CVAGghN9ElsMWhXJEfcJggkZESsOPhUGJlcSywcQB5AAjQPLAFAHLwdxAw8E9wzODwUTShDqB6YGZgSKBCsI1w+0EKYH6QK8BL4IKQYbBlwQRgoRB6EEiQJMApkCIQPjAcECzAYWAjcCywFXAdsE2gN8BE4IrwR8AsQHnQuuB/cB3QNNBUYLRQMZBogK4gnPAp0A+wE5AVkAFQATAAAA7wCMCLwP/iaKOqgWQw7uCb8RpgViCYEHwAOCCZAG/wmCDf8TdB5wEHsNCg14C6MEpQu4DyoV/TuHOmgTlweEAykFdw7vDUsDtAPwA/UCugNdAVYPLBKXBQsCmAQ/BiQEaAImBUQLnxNFHfgT/ggMBcoL3xGjCrMSWxlJHy0iRh61BGgM/wzZCREFmQEqBZ8GkQcAB80CuQRaCHsIZgSzAxoGTgjDCOoMUQEeBhYHkgLUAxkBWg1pEzENtgYXAjIESQJ1BncItApaDlgJnwKdAsMD7gZLBksGCQmWA+UApwTeBVID4wBkA2QHbA0qCocGJwowC84BKAI1AYcBWgAIABEAFAB8CCAPlxLLCr89vD6zHaEKtAlvA8sG2QZrA5AIQQaYCc8PiBEyG3UX/ghGBrEHwQXoBWkImhMlSPpD/QzAC4kJ6QYfCQoK8QeJAI4B3QBGAzwIywo6EMwNbAn7CMMD1gHtAXEC6AcQCKQYlhTFC2wOBQsvFV4XCQ4pCPsdjRNhKzkTWBPnGsMMiQKhAzgHLwQ/A34J0QTgAfwA6gHkA80HKQ5mCYcGKAWID/oQDA2mBS8Enwq+F9wS2QasDn0JIQf0AyYG3AjhCwsQsA2MA2oEYAYwCJIGlgMvCdsF3gJXAGkCnAHOAdgCDAxKDSQEvATFB3MRnAvCBJYBSQFHAC0AEQAOAMQALwsQEK0MHTbxR6wZvwgkDmgIfwEfBqgFmwaMCF8G1gRwAnUP3Q4mAZQCLgKyAsEEtgfOD6tIPkXJDI8NSBDsB/0HeAygEOUGhQJmA5QIWwssAyUITg1pDMQFbwLtA1kFQAntBxgCpQ/cDY0G2RT7GncRBw7RAwMOoChOP5o03xZ9HM0o/A5FD8AQVglIAQkEhg8ADR0HGAdJBoIKkBVIEEoGwAtOD5oblxM3BioPzgnAEF0UWhlUEr0P9QxLBy4B6ASIAzMJ1ApqFpUL5wtWB0sLgQiNBAIJkgQSBSoGrwe1Bq4CyARRDKcGswPvBaUMPhLoDjMGJgGwAcMAMQALABIAQgTBBxQDnhJqQF9P+hXhGSgbvhLJAxcHGQspA+sF8wFNANIFzg13CEAEzQSwBUoIqwhlDHAspz9jLfkiMQ8wCPkLMA6yHWgesAtJAj4CKwt9CDsKLQWuCfcCegR4BjwGWgfYEN4PNAupDQgLSwTpDj4Smw4QDmoPzAe1Ieo/YB5VEQ8mby1BGtMRrBpFEl8IWQvWGd4Xdw5yDp8GSgjlGfchkRzyERUazhojDqgU5xaFFFMMdwklF4QHoQduBJ0CjwSJB1sGgQcrGcQf3RDfBvgL/hKYEb0OTQljAskBgAR/DG4PrQhyCd0JCwTnA3IGogQFCfMGHQQTA5MBdAB9AEAAKwCFB14IWgL2IbJYUFGaJt4LqhO2HvQVHBLKBrwIsgq0BW8EKAmpDHsCPQAsBSsF+RDHD64O2TJaOFkcJivjFsUH9QsGEHcVRCKeFeQHNAV7CSQQPRZxFRcGOgTsAJgKJw8hDigIqQ9JDJgKagv5Ah4MngYaGCQYiASOD+oYjCkxIb4E9xbFGngOvQZdFA8VpgfUEC8iyxDlAzANhBDOCdMR9CecI4QmLCjbI4AcVxdiC8gJ/wnuCIsTihKeB6IDogEBA2kIVwnTC5kU+xs0DkAGWQvGEusFVBLVCpoCcADNAUUI9xHMDcQDUge+BPMFWQdDB+EDLwIcAl4CzwFnAGcATQAUAJMJZAfsB1MsR0yuKO8IUBG4DJMSGhc2GDQIewVIEIIJHAT4ClQQIwhnA5YEhQcgEwUdKRl7LKVWEyswEAgiwBQsEpwLCxFNDP4X9guBCkIRTi1ZO2QjoQoHCLgBxQx0Di0F6AadBsoTrx/3GXkMOgk3DIUhdyKcEQIUGQ0RIJMdwA8QGLMKag4iBIUPdASSD9gbPBqeEIgLmhQhFz4IvhjwHqUGVSTADiwrBTcrHSoPAgrlCOYKbhatGjIPnAZpAwAFzwU0CIUQGQhsD+ANngqpEtAUkwsQD64H4wNpA5IEWAzwDFMFXwfoBWUHVQP/AxUHOgZOADoDNQIDAd8AVABUAAMA4AZDASIIxyM3M1ANVg8BFewPkxFWC/4ZTRSfEZwXdAqhA30FZhGXEGkItQnrEwgO+AotJEldp2VUHSMN4BgyH5sQSAFxFn4YGB0eGDwWfiScORg6jSimFjQKEQYPDqUOIQcHB+EIKhmtMb8fcAETBwkJsh3gIKwPRQt0HjQfIhfjD5MaOBALEswRwhCZEEkP/A+xDRQKhCNbMXgb7whND9USDxO2GAklKTXxKJ0PoQ9XBZoCARJRFLANmQr7A3sC1gAvCHERBhkAF0gLdQwdC+4UABn/COYSXg4KBcQCXQUpEe8REg1XCkcFUglvBZUEKggfCFcC8gI+AosAzgDXAEUAFgDDBggGSwP5EUEkiRk+C8gPzBT8HIQZOwl0Ej8SnxaLD4IDFQYpC9kMPQUrBYgUGRS1DIoN2WiYc70cLQgdCocUPgbDBZ4aLCsYEc0OIAoDEx0bfxOzDakMKQa0BHoH4w7GCJsDugj3G9EvgRuRBUcIfgSbFA8QRAx8FI4RjQzgCOca7hR+BOMOExKJCigX5QdHCuUGFRWrL1k5QBvFAPEGrwLeBc4NLQz+I3kczAkTCiEC1QV9D14MWgOWBPgD8Qg+DfURNgi3FCkP9QogCyEV+xWrCfUTFRpSDqIB3AKSBgsOgQ0uCgsLRwsNCcwFlwQXCdsJmgOEA+4C7gD6AOMAPgAaADoBZgU4BfAHGxNHFTcJowoQDNoRgxIdDVkK7wLRC7ML/gZsBusDawnNBVkG8xVMFw0L7h5tcA9uQidaBxsIeRRUECwO7CbgKpoUjg7KEO4O6xPeDugCiQBzBMQEaQYSDDYFagcGBKQSIxuaFgcImAS+BGcWzB9IFZsDlAImBZMIMBSMCK4JRQasFpIZ7RVaCSoODw03BmYdAyQ0EyADkgfeCKoCNA6RFu4hAhI9BiYNugqcBXQMrA5BCOgG8A5TEkUKrBZeGLIYXAptCCQHmQ3KBY8LRxVbD3IMuw7zCpYNxAc6Ba0FxggfAnYHKgPtA1YIfAlVAnkDAAIrARsBWgBpAAIAEADWAxwHSQlvA4MQnwcKETsUaQciC7IHNQiRA9wHygBhCDgIxQZuB30FWgcRF5QRNwdaK01gTFJHBRsb/Q1JC+ISghsyLrQeMwmBE00MLwrAGNARLAP+AwEElwF9CnUO1wQQAtIN4gpXB/sLqgiSDF4J7hMbKhYYhQXdBBwCuQM4D2IhaSNQIhwOlQ56EJgKfg6wB4wEpQ9XChsG6AZ8CDkLOQpsDQ4Wqx+1EkoD7gceC7QKaQP7CB0JPwTSD4cZKA+KE3MbYBzIFWgMNgMxCsgLbRHzE+oICAolFKIRZw5+CwwFMAVyDfcKSwbfB1wHaAfeBGYEsQOCAhYCgAGPAFsAIQBmArcDqAGuB8gNNQ7GCtURexHDCdoKTQZuBrkFKAZsBQMGWwH7ApECVQTACtkQrAhpFFoZpiuXUJAsbRVoDtkJkwLRCAAdeSSMDmIFowRHCQQR4hDzCIwD7QJvBesMZBNkCZkEMQ5NDZkHNgRiBC4aFCQvLXEndgaODQoJ+AJKDNIczjF3PV0wWhmHDo0FpxNSC7UEWQpNCWoEFQEfBG8HvgOoD0gGhQnODi4PwQK2BAMC7wTkBaYHnQO2AvENExsUFioC0AydB48NrAa5BLUKvAzABhoP9QUJDJIMvAYJBPYHpAJfBeMOvg/wBVEJWwNABZ0EFwbYA64BZQJOAWwAPQAVAKQA7gEBApUIawjgBkwHpAq9C48GnQknCbsC5ANMBN8BcQVXBCoEYAPPAEsIhwwxCPEPohgXNhRArw6tD60KCBXtDCAHSBscJg4MlwXcBUgF4gaLB5gD9gM/BacFWQjhEzUMGgUQDaMMagYIDkETOSpeN7EwpR4eCoYJtQo4C3ob8C4fBXszQhkMEQ0RTwxiDnEPfwz/C/wDaQHTAxgF6wO3CuoOvwtyBSAI/g3DB8QFCAS2AXYCcwXXBeYFPAgWEdsJZxAMCbcGoAYQAcoAMgfOCycJVAiSB8sLMgJBBOQC1QcABskDhQppEBQJwQesA3wFlgZBBhkFnQKJALQANwAlAAQARQB3A3YEnwr4CLIF4wS5AykIGQ5cBMcJ8QjWBOEElwbEBG4BmQRvAksCjATPBXcMOwNeDYkngzBWHBAQwA6yF1URgQXcIMsm8gjvCUAHbQI6BrsG3QT5Am8EjwYGDHwOagcuBskIhgOBDhsSgRTyHNUgwgZoGWUF1wa2AlcGQhL3MHo37jBjGgsFbQdAAT4ClwwGBV8K3wW5AhUEYQM4A+0LmAl5BMQF7ASPDQEKMAL6A1sCAAHuAt8ACQaKC1ARHw6IEa8HGwUhB/YF3gMaCEMLoQTUB2ELvw+rBtMDfgdnC/gGYQZsDggNrgJVBSEDfANkAv0BuALkAbUAPABXABcAAgB9An4EUgkfCTkG1wbYBLEExAyVDQwHKArwDs8KPAJHBQ0E+gFJAi0EyANPAZIFfgn2CIYEsxaZDZ0ZmRHgCbgSZwhDC0wicyirDykHdgnRBb0GyQObBMIFcAGWAlwHDwbPA1kFIQVyB18KhgZFAjcDFRYpHxcXzgvEA5IEuQT4BWYqgCk5Fw4Z/w1uCuQFmwn9C/EDzQf7C08FvQCOARoETAuvCmQHWQS0BDgImgjJBjAEFgJyAjMD1QSJBSMN4RTDB0UOJw1pBMoFLggZBcEELgPXCBEOHhKPEbwJZwdFChUHuQbaB6AMNQpqBDUDhATFAPgBSAL+AOkA7ABEAEIACwADAKwAXAPpBIQGewWOBXwGQAhGEYcJBAVECH0MegcEB8UEZgJeAVoCIgZ0BEYCXAi0CNwCDhH3ENEHTxBfDXQJcgyGBqEKJw5XJa4XIwdpCRIG2ADGBhYKLwjoAusB/AI8BOoCxAL+ApcGkwkgBSYIqQ+IIn8fPQMUDrgFkwNGBiITuSeqFqkEtQb4E2gMXwEXCjEQ/AxtDwAM2gOYAtICsgKNB6QG5wO6BwgIVQZBBzEIPQb3BEMBWQNGA1cFlgxgFEMLQwhSBssHXQeIBD8BoQHVAnUFxwvTBvEJ6QpxBHkJngQBCJUH2wRcAWYFwwWTAyYBYAKXAQsBjADlAIUAHwAEAAMAywSpBJAG1QN7DeEP7g96CUcO0BJ0DswQewoQBJ8HGwarA4oBqgdJDGcE8gIECVEM3AKwEZoVAQp4EdYMMwg6B0MFVwn1DzQcBhRHCw0IjQTeCOoImAlxCb4DugE5AhgE+wMKAzEFxQZRCtIILAL1Es8dyBoaEzUQvwr6Bf4GIRfKIT0SZQUyCIAOXwkTBiADEgrcEXMRiwerANgBAgPKAW0EWAb1BIoHew1oCrQHTAVBBH0FVASlAj0BEQbpDz4SzgXyBLgCJQNfA6YBeAGaA88GwwW3BQ4FQgqCCagHRgliBvgDtwFbAWIBjwQWB+ADwAAsAgwCjgFDAeYAKwAVAAcAAAAHAuUI8AzyEtMVNQH3F2ARyQ2YC/8IQQv+D60Gfwj+DYINXwuZEhgX+QuhAjUIAhEHEE8U9xDiDoAKXwcsBdoE1gNHC8wMfA2WDVIHjwXjB7ANugYmBsUFOgFYAa4CFAEoAyYEGARLAWMF4AUMCRYIQQv2BsELtgnNBBcELQPkEYoTswQSBBYGdgarBJEC9gUTCAAEPgldB6ICRgPoAAUCNgFbBFMCUwSeC7wHHgQBCUMGqwBYAvoCxwBSBcgGyQoWByYEXQUaAkABEAEaAkQHOw0DDfUHJAjUB/8DsgP6BO8DlgJOBAUD1gKWAMoFugT4AN8B1gJIAg8CAQEcAAoABQADACQKaAcqBygNJhgnH48cURJDC9IEjgmFC6MJGArKBeALKgxPDZAPthf+EsYFJwvADQELQxB6AsoDuAXYBh4KvgeuA/cG4AqQDGgPqQlwA7oGyA2sCdEDfwKLAVEAfgHTASIDbwILA5gGDgVnBZAD7wG4BTMGbAHAAp8AJwQzC5cPPQgcBjMHCwXjAhkFdwBxBqMG7AOmAewDUwLkA9IC/QHAAg4DIQB+BGMI4wJDBxkHowMQAy8B1gGJA4wCpQALBcMF3AJ5BUEDeQHvAUUCQAavDMEIIQRyBzYHtAJNAccBOwKpAXMF7QQBA8wCugNJBQoCkQIjAZYAYwFsAWIAGgAFAAMAFQhzBgEDJQOLCXUjVh6dDrMQzgRgEHALvQOuBK0GIwffAEoDLAIGDDAOrgpUCNsFEwMLDUYQXAkiBykGiQcrCXQD5AQ4CrkJhgi0AogD+QUjCy8FdQBNAecAuQEJAccAQwKpAfQEOQVKBVsGiQM8A40HOAe+AycBDwIRBUgI0ge3BAMGmweiA+ICcwXDBNwEMgMMAxcDMQOjAmwDpQGoAfwApAP7AugCRwcTBsEFAgOyAEoClAK1AVkBugFQAQUFIQdsA2MCWwJ9AfYE2AT8BTAGOQMUAlsGbghaBMQA8QDWAKkCfwT/AuUAdgKZAeYEWwS/AmkBBAEdAQIBnQAMAAcAAQAJAl0I6QisBi0HBxfLJgsYmxOsCy0OYBMJCgIH6QqqCkMFGwUrB9gB+wTAAZwBsQIeA+YOdhW3CTsCzQF6AuAEVwVaAasFgQRKBngDAAKaBzEIpgHkAsoBWgCJAecByQCUAsYC7ARkBEwE6QILAnwDWQULA9gC0wEbAmkBNQPOAHgELgV0AvoCDgPCA6YC+gEUAoAB9ALmAkABDQMhAncB3QGIAqwDagUQBZID3gLDAtkBVQJ8AEkBzgHjAW8DZQdcBtcBmwG7AUQE7gZKBisCVQK/AiwDxQVaBRcCjQLcAbYBwQEIAnQCqQAhAvEC6AL9AdUALwK4AW8AgQCEABwACAABAA0H8gbzBEUMghD3HisjtwhTFE0JaAmaD9oNfQYoBdcIoQljBtYC+QX2BbQC0QL8AjkIixIgEX0EzQFCAgUC0gIjAxYByAXaCd0JZQQXApIEwAT7A2UDTQK1ARYBAwLhA7wEuQN8AUkFoQXIAr8B4wNKBK8BEQLsA/sBIgFqAiYCUgJXA60D9wGrAasA7gKbApICfgGyAlUAEgJuA5cC5gDeAPoAAAJOA1YBHAG+AR4D5AKiASYAlAGdAtUDLAVlBKIDEgPFAXYBPwKMBBoEgAHAAycCRwKhAbMBtgHIAncCXQBEAa4BOAJVAQgB4gC5ADsA+ABwAUcBdQBmAEQAHQAKAAEAYwGrAscAjghlGfgUmBdSGJUQzwmWAnIFWgbNAw8BMQMgBOsENAJtBb4GuwX7BLQElgS/C4QLCgT+AcMB6AOlAsUCWwRLBYIEGwmlBIoA7gGsANAA4gLvANQBZQLmAuICkgMOAssBBgNNA2MCkwHwBJkGawXeAxwDEQNKA6YDbQJRBfUInQgFBOcCywHKAXUCQQGfBNEE8gLuAUEDHQLeAKoBqwH6AE0BKwEJAfgBdQFUAZEAlQF3AqsA3wLiAnkAKwDUAKABFQECAUgDxwVTBHEBygOtAjUB0wCcAXoDOALNAJQBsAA8AqYBmgDjABoBFgGrAH8AtAAzACgAFwAGAAkACAAgAo8DCwQQDDUTcgouDJkKSgM2ByEFugFxA0YF0gPLA+cEtQTwAXwDGwJDAqkCrwFTAmoEgQVOAngE7gO5A/4AHQEpA6YETwUzBdkClQHYAMABAQKuAr0BhwHIALUB8QAAAr0AxABfAecALQLkAc4CeQPeBNMBKgELARgEEAcQA4MGTwoVCA8FBAPaAbQBAAKMAusEPAQSAncBAAMpAgkBxQFQAXwAQwChALoAJQG8AIwArwBQAqQD1QHUARMElQIlAdQAmAFlAScBDwNDBEQFiQO9Ay0CAgFuAeUAhgMXAqoAIwFkAU0COgLUAPAAjQHIAMkAwwBmACAAGgALAAYACQAGAKYCfgbnBgMIBgvBBp4G0AYSARAEOQXwAusFzgRNAisDJgQKBFAE9wLLADUAzADyAKQC3gHTBJgFKQZxATUE4QJ5AU4A0gNMBC4DHAF0ARYCmwOjA98BEQDQAFgA5wDsAegB1ADWAI4A4AHWAu0A7gBxADQC9gI3AaEA6QJaCNMJ8wcNA+4CyABMAb8BJQIlAacA1wNxA3MB3wFEA9wBeQDFADEBIQAQAZcBbQFvAMgA7gDbAKwBqAOlA0EDAAS5A7UC+QDSAZUBoAFJAUMBKAO7AykCzQBtAf4BEAJiA3wCogDFABwB4QEfAekASwFtAY4AiQCOAIkASAAnABcACwAFAAUANQRDCf4IXgeXBNsCYAM1B/8FuQOIADUGMgl+BlgCmQCaAjYDNwS5BUQD7AG3AM8BfwN/BuQGTgKqCTUGFgKEAlkCFgNeA2YAHwLBAlQB0QLPAhQCGwGcAC4BrgAyAEUBtAAVASABTgG7AoUDMAK8ACoADwFXAosBsQAiA7QFpwbdBT4C6wD8AKYBdQJQAzUDDQNpArcC2wLBASoDxQEJATAB3ACLAJwBKQLcAHcA8ADLAe8B7QD2AiID+QBZAjABygL9ATUCKwHzAHoB0ADdAAkB0wAgAQ8CVgKyAPICqAIqATUBowHWADEASABVACoBEQELABsAggAbADUAIgASAAoAAgCmApEGJA1iClED+ge1CocGaAMuAh4DuQQgBRkI8wWpA7IDFwUfBccDrgNJA8oCYQIJAe8EoAkUC8sMIgcnAmgBtwEuA78BIwNmAt8DEAUeAmkALwGPAVoCIQIYASoBPQGQALQAmQAaAREDzwFsATgBywCXAOABtQGhALEB4QBRAf0BWQNjAlQCDQGvAcEB1gIIAkEAnwARAhID7wK6APMAHQGXAF4AVAF/ATIBgwB7AHQBKQIAAa8B5AJuAtgBJgKmAWMA8AGZAXkAFwEyABABsgAoAAMBVgHiACwCTwJeATAA0wBmARMBUABJAJsAOAE7AasApwC5AH4APwAiACUABQABABYDywFJCXgQ+gQnC/MNCgUYAgkDYASFAxMDkgIeCokGwQAnBG8DewHBAJcBLAN1AL4BPgNmBp4JughHBbYDHgGYAcEBZQEOA2kFowc6BlYBygGRAvoCbANKAoIApQHLAb8ABgFDAD4BzgLpAbwAdQHvApgCoQLMAn0BHwHjADkBDAI1AfwBWALAAcMBVAHtAVoBbwAhAckAfwFDAhcBlABoAO0ApgAoAS8AOAHWAWMBgwETAvYAPQBDAn4BoAA9AZgA8ABEAbQBWQFZAUsBcwE/AcgAeAB+ANIAWwHOAGIAeQBZAFwA/gC/AF0A6QD8AK4AXQCrAGgAkwCSAFIAIQACAAAAXQI/AssGmxZpGNgPUQb8B6kDZAZgBYgBzwfXCiILpQX0ABsEtQN3Ah0BogHOA1YDSAHtAIoBlwIPAkMBBwK+AmkC7wAfAosCXQLdBhkE7AKaA/IBWQHBAcMBLAGzAF0BYgIZAvcA3wDiAmUC8gC6AtwE4AJGAUgDEQJcAMIAggKQAloB8QH4AMsAMAH5AI4BFwF8AEEBYQHbAFMBsgDAAOYAugACATUBxgBsAGcC9wLmAaQBtQAuAT4CmgErAMEAvABtAHkAqAFqAHMB1ADYAM4AvQC/ALsAKgAFAUUAhgCJADAAuACUAXcBogClAFkAIABVAGAAZQCNAHMANQAdAAQAAgBcANoCrAimF68X3hHnCmULlgZmAmIFlAfiC3YL6AQSBIME9gLjAJwBRAHDAtACNAMrA8kB5QAXAqoC7QJYAe4CqAMwATsBvQERA8kDOwMfA8QD0gHQAD0AcABaAA4AvQCaAYgCLwK5AaEBvQH6AFIDlgR5AskBDgLeARkBFAKZA48CBAE5AmABHQBmADIA2QC2AJkAfwBMAQ4BFAFxABsBQQBkAJQAxQBzAIgANwK2AggBeAE7AToBjQFBAXkAyABVAaAAOgHUAcIBdgHOAFAAJABPAAAB6gDZACkB5ADgAAMBygB2AUQC6QH4AGMAQQB7AGAAEQBSAIoAUQAaAA4ABAACADQB5gHaCpkSswLvDFkMlAgIAmgDmwK5Bm4GhwXNAe8B5wMCAw8BeQDPAE4CQAFOAQUEEAPoALYBvQKkAfIBrQRaBKMB/gD0AW4BygGqAFwEkwIqAR0BhADfAMUAoADBAFgAzwHGAY0AfABoAR8AAANQAjYB4wA6AGMBMADeAWMCZwL5AEsC6wDEAMkAiAC/AKUA5AALAVcBgAFyAQQBIwHiAKcAxQB/AHkA0ACYAV8B2QC2AYgCLwFsAa8A4gBxAQUCIwFJAeYA9ADXAL4AZgAOAJUAAAEgAIUA9QDPAMYAKwFuAEQB8QCGAWAA8gBfAIoAtQBPADQARgBMACkACgADAAIA4ACaABIIDQxTDV4JCATKCLEFMgTRA7AFDQKXAroDfgMbAJICpgFhAcEAKAIWAkgBnwQ4BVAC0wIGAXgCqgGgA70EpwBEAuwCtgLzAkIDJAN+AzkCRgHVATYCiwGFAIwA8QBcAbsBFgHGAFcBUwIuA+cBUwIJAo8ABgGsAYkBsAFPA8oCNwIhAUMB0wDUAJYANwAyATICMgEpARABwABrAAcBRwCZAGcA4QBDAcEAMQCvAKABeQKnAeUBOwEIASQDdQJqAKgAugDBALoAfADZAKgA9gDYAI0AvABOAYUB2QDUAJsAxgDgAHIBnAExAfMAvQC0ALgAPgAUABkADwAVAAUAAACTAY0DEgkvBKIJ7AtNAqMJFQYtASEFpAlUBqYFcQj5BTcEPQJHBJMFugSyAksC3QO4BLYCYgXJBucFGQW9AjoDRwSuAqsB3wJ9AGQEHQMpAHICqAL0AGQCkAJ4AEMBRwFOAGsAWQGKAVQA+gA0AmMBZwMlA94BZAGuAbwAkQEpAowDXwMgACYCiQFLAIYAzQA7AAAB4AE8ApkBPQAfAIMAMgE/AasAQQCJAOcAOACDAMwA3gCGAfoAqwFHAhMDawRMAsQAOQD/AHMBlgGHATIBggCwABMB0QDHAckBIAHbADQBowDgAAgBvABIAXgAwAC/AJUA6wB6ACcAKgAhABMAAgADACwBMQcDCmQEmQjRC6sKVAyYB5QE5wfTB8EHLAl+CssCHgeSCMQHLgZ8A/oDdATNARgCgwSMCI0IgQKaBuwBagG+ApsC6ADBAvkDIgRbAnwANQHtAisC5gCBAncBIQG5AUwBEwGyAVoBHQBTAHwBBgKjAxwC9QC7AJIBuQL1Al0BbALeAS8CbwJVASgAZQCzAGoA7gCYAFIBwAH1AK8A8QAPAR8BpwB4AJwAvgAhAJcAegBZAMoAFwL9AUkBegVjBD0AoQBtAMMArQABARoBqwBUAKwAMAHmALABiwG/AOUBBgJEAV0AiwCEANgAmAB2AO4ApACfAHMAUgA8ADIAEgADAAAA2gTjCAMLXgW9A6cFFAmBCNAITQjZBLsAkwJzAhAIMAl6CM8FEQXUAMoCQwTRA+wAXQIsBKEJzQvVCWkHZANfAwgELwLvAHkCIgIHArIBQQDWADgCcALcAZ0BnAEpAY0BbQDqAD0BVwG5AMUAKgHnAVEDaAJCAX8AGgHWAl8DEQPEAdoAegAqAl8BeAB8ACsAqQBhAawBtgD4AI0AhwDOAG0ADAGHAMoAlwCWANsADQHOAIIA+wAHAlIABASiBlEDfAH/AJQAKAAdACoAOwAlABEAZADyAMQASwHsANsAwQFdAbwAdwBsAIQAmwAZAdsAsQBqAIkAPgA+ACoAJQAKAAUAAACzAUsGPAaYCJYG8AVZCPcFrgZBAgsDYABCAj4EogFZBn4D1wEiAgUEtwTUBM0EuANkAbkBWgS/B14JbwUiArEENQSnAZoBpgAiAWYBCQFlAK4AZwHNAGYBXQBpAfcBpgFlAeQA3ADYADgAOwGeACEBDAKWAPUAuQALARYBZAHqADACoQKQAisBvgB1ABQBCAFeASICWwKkAUIBrgB+ANQAaQHBASABWADPANQAJgHHAJ4AMAA7AMgBdwONBlwGAAKQAbwBnQAmACcAHgADAAkAHwAyAMAAKQGFAMQAoQB8ABcBzADDAHkAygDpAN4B5QE3AaYB3gBYAG0ASwAcAAgABQAAAOsExwMVAg8DvgyeDXQLVAoBBeUC4AMuA+wC2wPCA0UFfgNIAqgDIAEdBX0BaATeBD8DtwEfAicCpAOiAc4CDgNLAQQCRQL1Ap8CswH9AI8AEAF0Aa4B1gHpAGQBZQGtAP0BOAFDAF8AHwFyAYAADQGxAdgAfwB4Ac4APwDIAMAACwFdA/cCHwLRAcwBOQIfAUEBYwFHAUMCZgFiAN4ALQFbAJABDgI+AZQA8QBxAF0AigDdAFcA2QG9BLMEFgSGAZgBJAGtAEEASACZAJ0AnwDOAAEBQQHTAGUAywCnAFMA4AB1AS4BMAAEAYAA4QHqAqsCNQLqAEgAUAA8ABQACAAHAAMAZwLfBhoHvAaqCuwKNALvBwECAAISB0gEEQNgASAD8AZqByIFxQWhAmcF3gZwAHAEpwAJAwMDGAKXAkcD7QFbArsCfQK+AZoDrgLYALIBmwKyAW0CkAIQAZ0C8gHCADwB6wHlAFIAZwDuAOgBrADBAC8BPQH7AOYBWwGTAP0A6wAvAsoCmwB3ATUCYgIPArEBzgHXAbkBJwFDANwAZgGHAcwABwG6AokBYgD5ANgA0QA0AKMB5AFlA2UDtgDiAeUA3ABQAFMAbQDLAOQAJgG9AOAARAHVAGoAHgCFAOMApgDqAG0AhAFfATUBuADrAeABzgC/AdgATgAQACMACwAQAAgAAQABAl4H4QuBByUJwQkpAzAI8wZsB5gGWQc1Cf4KUA8zFRAUKwn/A8sIIQyREaAMlwflAysBJgI/A3IERAe5BW4ERALfAiADgwNNAPoBzwFlAlcDeAWNBZEDmAE7AdcAGAGAAbIAtQAEAY4BQQIxAsgBmQETAmUBXQJvAUoAWQHeAMkCqwInAGABWQD7AMMAxQB0AY8A6gHeAHkBqQHKAFMBGgIqAuYBAgIEARUCJALkAI0ARAJFA/sBGwNYAqcAMgC6APgA4AAEAR8BawB7AWMBWQGGANcAsADQAKEADAHwAS8BzQDyAHwBLwFuAFsBNAFPACAB8wB+AGYAKAAaABEABQABAEoGgwVcBRwNBwy7B0oFTQrlCnsFeQOBBDIKagrdD28XLxQ2Dv4JMQ1fEzkWiA5lBGIDZQLVAFIDQAUHBgoGXgQ3AtEC5wOOBJcC8QBaAJYBHAFrBcYFywKNAHwAkwCOAKAA6AD0ANMA0wFDAOMCgAMOA50BfwK4AdIAGwF7AYoBUQI4A08CsgHQAHwA8ABsAJMAeQGOAjkC0wG3AdEAowD/AbEBegB7Ab0BZQKbAtoAQACkAhUDSAGoAZYByACHAKwAXQBFAcoAfgBsAbIBhQFzAW8BfwE3AXIA6wD4AboCLQHmAJYAAwEWAVcAWAGUAfYAkAAUAfgAOgAmACEABAADAAEAhgQEBvwGkQjFBJ4E2wBcCtUGFAHnA4sFwALcA9EHUgskAl0KTQWwBXAIjgqrCS0BbwBSAvUBKQGqAqIB1gILAREEqwHqASsD0QL5AL4B7wFvAsQCMAKNAW8AswCaAHQAigDKAWECzwFFAoYC9AGlAZACPgF2AmMCRQEqAF4BAwF6AZQBJgJYAOgBOAKoAckAogABAqEC3ADVAJoA/ACmAEABEwHEANsAogCdANcBNgIzAlQDgALSAKQAaQCmAOAACgGsAPMAsQBFAFEB7wCVADUAKwHEAAUB/wDiAD0BqgLeASABhQDbAEMAwgASATsBDQH8AF8B2AAsADQAHgADAAMAAACiAmoG/QMqA5YEggXtCBUL+wP4Ao0BsQalBmwGPwLqBa0H1AUBAfsBTwFtA/4FcgNbAeIAGgOgAyUFpASxAbsBhwR3AxYAQQFRAfoB7gBeAXkAZACXAIcAxwA1AJAAbwDvAKYCDwNrArwAQwIpAlcBBgE7ARsC2gNIAm8AKgEJAkIB8QC5AY8BPwEXA7UCZgA4AbUBYwHeAFoBWAErARoAwgCFAEEA8QBHASYBZwHxAPUBOgIIAX8AQgClAAABewENAhoBagHOAGcA3QA/AecAZAAnAQIBzgAEAXwBJAIFAmEAVwGLAFEAtADlALMA9gCjACgBfwHwAE8ANgAUAAUAAwAAALMAjAWgBfcDzQDlBcEFagk5CEsGuQcRCJkE6gSiAg0DMwMlBewDFgEJAdsCRATpAFMCSQG6Af0ExwboA3cBcwKhAywE6gJkAeAAygEgAtkBcAFPAW0BcQCcAI8AtwAqAKMBuAJ4AKQBdAEGAaQBVgFKAXMCyQNDA1ABnQGxAWsBZQAzAYUA0gElAa8CigP8Ad0AewACARMBAAIgAtEAcwBmAKkApQAEAaIAOAFVAJIANAEPARYALABJAGgArAEZAkQBIALsAfsAiQBmAOcAngEgAVoBBAFnAGYANwHRAPQBwQFuAdEAGQCrAIkBwQF9AZUAXQCiAOMAWgAeABoABwADAAEAxgJRBMwCFQLsBI8EtgFoBeMEtgRbCQQGmALmA70AZwGBAIoC0QUYBOgCWAVhB0gE4AATAW8AGAOuBFMB3QBgAkYBsgJQBAoD5AEwAvkCkAGUAfsCPgJUAQYBaAApATMBUQLaAm8BWQCZAVoBmQFsAIMBOwKSAxgCKgE6AQIBPQAtAQkBGQFCArsB2wAeA9ACKgE2ABkBhABIAWYBegHjAM8ARAH6ABkBIAHnAGQAaQDyAGgAxgC3ANAANQCyATsCcwGIAaYARAGyAEwA8gDRAb8BQQCjAFYANwDoAFcB1QGoAKYACwGxACgBIQH5AEoBVQB3AGAAZQBwADIAGQALAAEAAADYAT8DvwE9ApwBvAaeA5MGxgVPA7wFBgP7A04EVwI1AuAB9AKKBC8EkgHpBZQKYweuAr0BGAGpAfoBHQPrAoQCkQEcAo0CoQFCAYwB6ACUAv0CiQJNAW0AXQEOAWcBnQDXAWQCBQHdAKUBWAElAo8CuAHmAQEC2gB5Aq8CWAIXAvsB9gEuAvMDlgHcAZkCBQHjAA8BBAKLAhYDjwPMA64BqAI1BBoDEgNZAW8ANACCAGgBVwE+AXsAYAG4AZABUQElAmIBhgDvAA8AhwC7AKIAYwHvAQUCPQELAEYBuwG0AfgArAAUAakAKALIAGsBpgLnAXEBwwBcAGkAEwANAAYAAgACADEDUwQZA6UDtAOVCKUK7AWZA4ICTwQLBaYEwgNHAVYC5QBIAdgBlwEvAZsEGQgCBtMDBwIoAZQAmAFrA0MCaQJtAVUBKAMzAysDagHGAZgDfAIkAUMAMgHyANQAlQFyAnUBygDPAHMB2ALmAaYB0wEfAwUB1gAcAWQDWgS7BGcCsgFrAR8EIge4A6UDmQSpAvsBOwHLAmUEvgKaBWIEBgQuAhEGCwpeBa8AeAE9AYwBzAJMAnQALgEHAsoBdABRAKMBhgExAcoCEwM3AqAAaAC0AAQCdQOPA/wC2QLQAHoB9gBNASgCNQNVBXQF8QQsBDEDBQHzABwBdAASAAgABAABAAMAXgF6BbsIKgX/Ao4GlggoBxcF0QFiBZ8DgQIABIgCdgECAjUDvwMNAiYBDgS7A+kAxwA0AYUAEwEPA2MDqQEPAzwDRAO1BK8FGARzAWIDoQPkAK4ADAI5AgMBeAGYA8YDMAG3AFMBegMsAwcEHQS9An8BHwKBAQ4DKgWGAXcFgwO6Ah8CggbZDYkJwQiuBc0FywUzAzAEpAQIA+AGvQWVB24IkAndC1UM7AcwBcYBwwA7A10D4gExApMB1wBNADsBNgP7AkkDKQfZB2cEbgE7ADwA8wBCAo8CNgTiA1cD1wFsARgBHgInA7YFuQbeA5oBEwJTAnMBywCpADsAFgAKAAMAAgALAVoGkggGB3kE/gBCAt4IEAl/BnwGKwWOAoIBLQE8AMoB3QIuBrIEfAJBA3YDBAKQAVUAQQGaARgDmQPUAMQDwwExAksCsQMUBM8AJQT+A0YBnAEHA6QBCAJdAKEE7gRHAU0BrwNABcgClwRiCHAERwJJAzcBIwWJCB0JswQ9ATgCDQUcDLMURQygDtwIggkHCrMDTAXCAfcCCQYOCFIKYw7dB0QGhAyhC64F2gEZAO8CrwN7AA0C+QAeAJ0AUAJVBasE3QISCZMIXAL3AbAAgQBcANsA1QAIA+cBgwLoBW0FdAM4ATMC3wBMBLQBzgBIAQcCzQGjAJcAFwAlAAkAAgABAH8BMQZ8A9gDJQOlAPgAeQdTBqECHARJAjUC9AEvAhwCLAPYAxsHIARzAEwBzwFgA8MCaAKnAkABfwKsBMAEjwO1APUCJAJcBLcF2AK0AVwE7gKZAdwEeQRtBOoDsgQHBXgBiAGjAg4GYgO3Bu8LpQZXAtEGTwg9AzEJBQvPA6MCIAXiDuUeHxzHCfsQxw5pBPgKhAkTBUUCLgDiAkgDGAMKClgKgwbtAhoHUgOOAeYBbgIyA1ACdQEqAS4AeQDWA3cFMgKrAssIFwigAYEA1ABgAHwAjQBGAYUCiwIhAaMH4giGA64CxgPMAggD8QHOACEBEgHuAUsBmwA4AA4ADgAGAAYAeQCWBsAI2QNpATgBkwKlCGwHDgJkARUC+wGPAYcDtwMBA7cEFAZeAjcBjQCuAmsDZQHlAzMDYQGoAqMEiwFnBVYF+wRmAuoF7AZ8AgECrgOxAaECEgaVB7UFZwG3AWYDcwPPASIBswRACDQLBQr+BIsDNgYnC2sKlQl6CYEEEwf/Bq0O2SmcIOwEwA5vDbAGugVcBkcBowJAAcMAuQFaA24DOwXaAf8DrAM7ApECvwFQAfwAVQIGAV0BmQEtAiEFBwR9AM8C2wYZCCkEUQH8ABAB4wB6AC8A8wDuAigGYQl1A2YG8AR4A+8B/AEsA54CagI4AesAjQBpAEAAGgAUAAcAAgDdAIsJMBNJC9wEjADVA2YKxQddArIBzAN3AqMA8QJNA3YBQQElBcYCFQEfAesDxQWDBAsCRwHHAqcCHwMSBNIGmwTvBP8CzwUBCL4B4gAqA/wCCgIZA1gEsAJEAgIBbQJYA+QB4wCtAlIFCgcFBEsBbgAkAqYH0QfzAGgFQgfAA9wT5yPYHZEXfhK+Bk8IGwgFAqEClwK9AvgBRQE4AlMCvgG1A70E6wTHADUBiAK0AvEBLQLaAjsCrQBqAa0CvgNoA50B2gPNAT0GAAXlAIYAiAERAhUBGACIADsCgAcVClEHhweJA+QBdQKFAa0CswM+AnEATQAuAA0ACAAqABQABQAAAHYArwrLIv8kkRIUCVcFVAfmBXIAugA8BI8FgQN8BL0EPAOLA7oEJAOXAMkAvAPjBGsDOQCMAuMCwwBqAcYCjwYhBaUF2gU0B6wJvAbJAz8DigIBAZ8ARAHyAGUBKgLIAV4BPwFfAbkAuAGLAbkBpQAUAWwByAL4A6wCwAGQApcLIybAN7wdLRbrD/gHygkJCZcCJAAtAQkCMwNXAa0CvAK6AE0DuwXpAxADKgN4A9UBIwHjAkUCWAHWAMwATwBiAeMAKAIcAzsFoAkACDMDsgFHAR0C4QEMAVgBEwPJAjwGnweABBUFtQHQAZIB7AAsAqwBagBnACcACQAeACEADQAAAAQAhANjDLUpTi/bIhoU8Ae1BxQI0APWAlsGxAY1AekEhAJ0AiUB6QLzArIANAEwAnQBRgFWAiEEQQTFAHcBvAJTA0UEKQYuBM4CqgZwBbUCBgJoATwCJAGdAOgBHwFZATsBsQCCAAUBbwIKAmcBfgFpAWkAoQD9AEQBNgHbAEcC0QrGKTAsRB51E/4HXAMlCIoI/gHvAfsBQAO2A54B1gEGAlsAYAMwBGcA1AGKArQBiQFGAa0B2gCAADQAegBYAP4ABwFRAeEAcAFICiEMQAQPAdMAIAA3AjUB5wHuAdEAewI1A+4BcQQSBc4DOAKgAbICWALaAC0AHgAtACQAFwADAAUAAABfCt8ZOym2CBkZ4w4aCFEBYQruCM8DJAYGBj0D8wNqBAgDYwEBAoYCbwEmAAgBmwDnAB8BAANJBfMDdwMbAZMB6AEeBNYBDQNjBBgBQgGtAvgCxAETAq4C/QIOApMB8QCoADIAIwHoATsCYAHuALABtQFMAYUAAQFPAdEBrgKkD34gkwzTB0gEawQjBdIDjAcHBIkATgK7A24DOQGiANsAsAF8ApYDhAK3AE0B0wCQADkAvQBiAcwAfwCcALcA2QCRALwAMAKsA8YL+wv7AgwBawKBAnUCKQI7AtIBtABEAdIA2wHfAiMEfQRjAcUBVgJDAhEBOgBOAAIAGAARAAwABQABAJYJzSn7LqYNTAtwCJsEXAsSDjMHpwB2A1oEQABlAvQCeQMDAl4C6wH3APoBZQGfADsATgD9AMsDVgQXAwwCMgL0AZwCYQQRBrUEGgFbAewCUAKQACEB3gHRAvgAfQEQAb8AogCBAIQAjwBVAd8BdgDoATsCZwGPAgYCMgLnAX8MLhdYEJgGpAMKBDIGOgd2BNYBtwHsAYsAUAJCAWcAOwHDABYBjgEIAzAAwAE3AVAAzADnAJcBigBCAGoAeQAtAOwAmgHGAa0E2gotCt0CbAJ9A1kC6wDuAMsAbgGGALoAswBsAI8ASQE8A98BCQHeAB8ByQHqAJEARgAhABEADQAEAAAAVwp/KGZJJyxVHPYHqQjpCZQMWQi5A1IDFQK3AqwA+wCuATgBLwKDATECyQIOApIBHgEUAR4BsQH/ASAB9gAGAsMB6wFrAWQFWAQ1AXABrAG7AE4BUADZAIEBWAFZAgkCdgB6ADgAMQBuAEEAxAH8AbQBiwGCAi4CAQOrA9ID8gf0C9cHAwZSB/8CQQQ4A28DuAGoAJUBBwIDAosBewCkAW8CGAPbBBwFAgIPAckB5QBPAYMCGQJWALwAdABQAJcAigFkATQAJwKiBWIFfgOPAucCVAAYASoBvwBOANsAMAE7AcIAQABcATgCGQFeAAUBewF+AcAAbgB/AC0ABQAIAAIAAABODyUaBlL+Ux81HRYQA6UEogWdBAEJkwTcAf8BIAHkAPMAEwEOASQAMwF9ApgAEAKSAjEDhgIFAmwBkQIsAhIBqgJ9AkQClQKDAnsApgFIAfAAWAFwAJ4ANQFfAW8CwQHXAEoAkgDfALEBHALgAaMASQHGAKwAvwGXAm4D8wDOAV8C9wQ3BjUFJgO4AxYD2gMqA1MB8ADsAZwA9wASAZIB8wGfArgGbAcZA0UBfQHfAE0BNwLtAg8CzgHdAUgBbQCKARUBTAAIAhkDhwH6AnMCdwJiAaMBuQHFAHAAdgDvAJUB4gDVADAB9AAbAY0AtACQAHcApwB7AGsAMQACAAYAAAAAAFAFoi8cSo4UAkC3EU8DDwPHAyQH4gjYBG0C5QJUAyYBHAG7AL8ATwC0AJIBtwLfAdsArQIaBLIDmQIlA48BJQEvAm8BzQAYAAMB7gCbAasBMQHiAc8BagFPAj8CzAABAdcANAF0ATMC6QKmArQBlAGTAeIALQEvAxYEGwJIAdsArQD+AmAF1ANkAtoEwQOoAuYBGQFZAKwBrAGcAKcASgDRABMBIgSaBlsDSwA6ALgB0wFoAU0CRAH4AFQCKAJ7AQcCuQE2AZ4BFAMoA84CDAPjAMsA1ABEAbkAgACuAKYA4wAcAUoBZAHLAGEAIAGVAE8AZgCjAFUANQA0AAoABwACAAEAqQVdLixtTGdXRPwKLAamAVcCCwTJB1UCYQPzA9kEkgNPAZwAdAE8ApgB6gGHAW4CBgEJAYQBJgQzBCgCbgC2AOABSgBQALIAUwAzABIB+QF0AtAAAgKkAhMCAAJ3AcIBYAHRAXkCdAA2AgUBMgC3AWYBRgDdABsDrgMlAYsBAwJIAu8AQQPOA0UCswI/AowBcQFCAvQBpAL9ARkB0wDTAHgBCAECAy0DOQIYAUIBYAJpAiECngGYAHUBOQEvAVwBgQFZAVABaQBiAoICogHjAfwArwCuAJwATwD4ABcBvgDpAK0BSwHDAR8CtwGRAUkAOwCSAKQANQBIAC4ACgAFAAIAAAB/BHkz/3+SfuA6ghBdBm8CYAMlBF0ImQbVAKMB2AJIA6kChwKOAlYCrQO3AskBbQP1AvoBbAIbAnwBewKjARUC4gLyAQQBdwDWAFIBBAE0AZ4B8AGhAr8BogAqASIBUAIBAXYBxgJKAt4B8QAkAY0BTQGeAIUAAAIxApsBwwAUApUA0QKQBG8BcgHPAV0CMAJBAgQDcwPeAcgAcwCMAHkA8ACrAoQCLADtAEEAoAHBATUBcgDHAeIB6AEIAX4AOgCKAHAA1QDWACICFgJGA/IBFQF8AKcAwQCSAG4AnwCjAJYAXQHrAIEBAgIpAsEBGwHVAB0BzABQAFAAEQANAAYAAwAAAJUMLS8tT/A44iCNAOsGWQKhBWQGxQTFBucDmAEKAmkAwQFDApAC/QFuBCACwwHqA7YC2gEfA0gBEwG5ADwCHwEUA0MDlwH5AI8BDgL6Ac4BuQBgAVkBkAGOAD0BxwH9AeUAQwGgAjABgQEsAesAugCDAH4AogBHAS0AwABrASQCaAGDAugFogQcAioBDAGTAMgAKwFsAisBDgB/AIIAcQD8AMgB4gEiAWgAsQAiASAApwC3ACEBsQAnAaYB3wA1AIkA9gArAbMBrQEYAScDJQN0AVQAOgCuAHcANABLAKwA0gB5AMkAiwHJAGoBuQD6AK8BXQGNAFwARAAeAA4ABgADAAAADAo1EmgdhgihDdUKNAPkAkQIPwX5AskCCgTfAbgBrwJoAWQB5wBTAzgFHwM5ACwDXwNJAtoCYgFhAdcBNAMrAx8DUgF6AeAArABSAeIAHQGiAfcAdgA7AUUBsgGbAH8BxQALAeABZgEdATsBFgGuACwAnQCxANMAwwAnAIEBTgJ+AH4BdAYLBYQA1gBDAbUAHQC+AD0BNQFWAD0A7AD8AKoAKgG1ALYA8ACCAKYANAHbAOgA+QB6ABYBLAGmAGUAfQCZAJYALgHMAJQB0AHOAQ8BcQAmAE4AqwDXAGcAvgD5AJsAbgBCARACcQGaANUA9gDcAEoAIAAVACoADgAEAAIAAAB3C5YS3A4cBQ8R0wlhBgQIOQaqA1YCBQLlA6oDNgI8AiQCEgGPATED1QOdApABTwNpA2YAhQIIArMAEAIQBEADewIzAbcAXgCiADIBsAB5AFUB4QC9APIARQEXAV8BIgJwAe8AugDqAHAAcwFrArYBCgF8AEIAQwCLAGoAkAESAosAFQJgB8kFgwE+AX4B/ABHAFcANQDEAAcBUQFfAnICogHJAJYACgEiASEBTQH8ALEA7gAsAXgBfAEqAdcAGAEdAb0ADACkAMIA7QBqAMAAKACJAG0AkwDHAM0BVQG6AMcAXgD9AFsBNwFLAXsARgBJAD4AYAAcABcAFwATAAUAAAAAANwFig6wCyMK+w1VDkcLRwLMBBgCgQJpBMsE2ALRAIsARgE/AaoCxAHuAMsBpwHMAi8BggINAt0AggBfAswCngA/AWEBeACAAEwB1QE3AuMBZwAEAvUB9AA4ARABqgHpArMC9QBAAUsBggDyAXYDBgG8AaUB8AChAFkAUgD4AM8CzwGWAxkI1AYTAfUBnwHnAaEASgA2AL4AeQCjAhYDoAHtAI4AfAC+AEAACwFEAbQAeAB0AMgAPgFjANcAJAHlAGIBogECASsACgHuAKAA9ACPAK0A9gAbAM4BWwPoAb4AXwA2ANMApgAuAK4AQAH7AKQAfwBjADIAKQAdAAoABwADAAIAxAfmCQwBswG6CVAAlQsuB2oFhgVtBREG5AHGAZIAVwB1AEkCLAO2AVUALQEXA0YCBwEhAh0BoAAnAbUCEwJbAEkBigByAPkAggEPALkC1wIeAtYChwJuAFUBMwKSAZQBkgO3AkUCDAKDAegC9wOGAkoCkwJOAQYAjgBVADUBPwM0BAcB0gaVCFwEEQMpA4sCPwFgAHkA0wCiAUUDJAJTABYAKgCCACsApgAHAWEApwBEAIcAKQH0AFkAMQClAAUApQAdAqsBBgEoAW4AAgDZAC8BQQEdAaYAQQIxBAADHAFGADkAxACSAC0ACwAjAYoBogBOAJcAbABIACsAEgAKAAcABQA=\" type=\"audio/wav\" />\n",
       "                    Your browser does not support the audio element.\n",
       "                </audio>\n",
       "              "
      ],
      "text/plain": [
       "<IPython.lib.display.Audio object>"
      ]
     },
     "execution_count": 23,
     "metadata": {},
     "output_type": "execute_result"
    }
   ],
   "source": [
    "import IPython.display as ipd\n",
    "inv_label_value = {v: k for k, v in label_value.items()}\n",
    "batch_index = np.random.choice(len(test_spec), size=1, replace=False)\n",
    "\n",
    "batch_xs = test_spec[batch_index]\n",
    "batch_ys = test_label[batch_index]\n",
    "y_pred_ = model_spec(batch_xs, training=False)\n",
    "\n",
    "print(\"label : \", str(inv_label_value[batch_ys[0]]))\n",
    "\n",
    "ipd.Audio(batch_xs.reshape(130, 126), rate=8000)"
   ]
  },
  {
   "cell_type": "code",
   "execution_count": 24,
   "id": "tender-piano",
   "metadata": {},
   "outputs": [
    {
     "name": "stdout",
     "output_type": "stream",
     "text": [
      "y_pred: silence(Incorrect!)\n",
      "✅\n"
     ]
    }
   ],
   "source": [
    "if np.argmax(y_pred_) == batch_ys[0]:\n",
    "    print(\"y_pred: \" + str(inv_label_value[np.argmax(y_pred_)]) + '(Correct!)')\n",
    "else:\n",
    "    print(\"y_pred: \" + str(inv_label_value[np.argmax(y_pred_)]) + '(Incorrect!)')\n",
    "print(\"✅\")"
   ]
  },
  {
   "cell_type": "markdown",
   "id": "floating-lying",
   "metadata": {},
   "source": [
    "---"
   ]
  },
  {
   "cell_type": "markdown",
   "id": "involved-delivery",
   "metadata": {},
   "source": [
    "dddasdsa\n"
   ]
  },
  {
   "cell_type": "code",
   "execution_count": null,
   "id": "angry-malaysia",
   "metadata": {},
   "outputs": [],
   "source": []
  },
  {
   "cell_type": "code",
   "execution_count": 25,
   "id": "serial-tobago",
   "metadata": {},
   "outputs": [
    {
     "ename": "NameError",
     "evalue": "name 'spec' is not defined",
     "output_type": "error",
     "traceback": [
      "\u001b[0;31m---------------------------------------------------------------------------\u001b[0m",
      "\u001b[0;31mNameError\u001b[0m                                 Traceback (most recent call last)",
      "\u001b[0;32m<ipython-input-25-42d06a3f50b3>\u001b[0m in \u001b[0;36m<module>\u001b[0;34m\u001b[0m\n\u001b[1;32m      1\u001b[0m \u001b[0;32mimport\u001b[0m \u001b[0mlibrosa\u001b[0m\u001b[0;34m.\u001b[0m\u001b[0mdisplay\u001b[0m\u001b[0;34m\u001b[0m\u001b[0;34m\u001b[0m\u001b[0m\n\u001b[1;32m      2\u001b[0m \u001b[0;34m\u001b[0m\u001b[0m\n\u001b[0;32m----> 3\u001b[0;31m \u001b[0mlibrosa\u001b[0m\u001b[0;34m.\u001b[0m\u001b[0mdisplay\u001b[0m\u001b[0;34m.\u001b[0m\u001b[0mspecshow\u001b[0m\u001b[0;34m(\u001b[0m\u001b[0mlibrosa\u001b[0m\u001b[0;34m.\u001b[0m\u001b[0mamplitude_to_db\u001b[0m\u001b[0;34m(\u001b[0m\u001b[0mspec\u001b[0m\u001b[0;34m,\u001b[0m \u001b[0mref\u001b[0m\u001b[0;34m=\u001b[0m\u001b[0mnp\u001b[0m\u001b[0;34m.\u001b[0m\u001b[0mmax\u001b[0m\u001b[0;34m)\u001b[0m\u001b[0;34m,\u001b[0m \u001b[0mx_axis\u001b[0m\u001b[0;34m=\u001b[0m\u001b[0;34m'time'\u001b[0m\u001b[0;34m)\u001b[0m\u001b[0;34m\u001b[0m\u001b[0;34m\u001b[0m\u001b[0m\n\u001b[0m\u001b[1;32m      4\u001b[0m \u001b[0mplt\u001b[0m\u001b[0;34m.\u001b[0m\u001b[0mtitle\u001b[0m\u001b[0;34m(\u001b[0m\u001b[0;34m'Power spectrogram'\u001b[0m\u001b[0;34m)\u001b[0m\u001b[0;34m\u001b[0m\u001b[0;34m\u001b[0m\u001b[0m\n\u001b[1;32m      5\u001b[0m \u001b[0mplt\u001b[0m\u001b[0;34m.\u001b[0m\u001b[0mcolorbar\u001b[0m\u001b[0;34m(\u001b[0m\u001b[0mformat\u001b[0m\u001b[0;34m=\u001b[0m\u001b[0;34m'%+2.0f dB'\u001b[0m\u001b[0;34m)\u001b[0m\u001b[0;34m\u001b[0m\u001b[0;34m\u001b[0m\u001b[0m\n",
      "\u001b[0;31mNameError\u001b[0m: name 'spec' is not defined"
     ]
    }
   ],
   "source": [
    "import librosa.display\n",
    "\n",
    "librosa.display.specshow(librosa.amplitude_to_db(spec, ref=np.max), x_axis='time')\n",
    "plt.title('Power spectrogram')\n",
    "plt.colorbar(format='%+2.0f dB')\n",
    "plt.xticks(range(0, 1))\n",
    "plt.tight_layout()\n",
    "plt.show()"
   ]
  },
  {
   "cell_type": "code",
   "execution_count": null,
   "id": "outside-laser",
   "metadata": {},
   "outputs": [],
   "source": []
  }
 ],
 "metadata": {
  "kernelspec": {
   "display_name": "aiffel",
   "language": "python",
   "name": "aiffel"
  },
  "language_info": {
   "codemirror_mode": {
    "name": "ipython",
    "version": 3
   },
   "file_extension": ".py",
   "mimetype": "text/x-python",
   "name": "python",
   "nbconvert_exporter": "python",
   "pygments_lexer": "ipython3",
   "version": "3.7.9"
  }
 },
 "nbformat": 4,
 "nbformat_minor": 5
}
