{
 "cells": [
  {
   "cell_type": "markdown",
   "metadata": {},
   "source": [
    "## 1. 데이터 준비"
   ]
  },
  {
   "cell_type": "code",
   "execution_count": 1,
   "metadata": {},
   "outputs": [],
   "source": [
    "import tensorflow as tf\n",
    "from tensorflow import keras\n",
    "\n",
    "import numpy as np\n",
    "import matplotlib.pyplot as plt\n",
    "\n",
    "\n"
   ]
  },
  {
   "cell_type": "markdown",
   "metadata": {},
   "source": [
    "### 1.1 이미지"
   ]
  },
  {
   "cell_type": "code",
   "execution_count": 2,
   "metadata": {},
   "outputs": [],
   "source": [
    "from PIL import Image\n",
    "import os, glob\n",
    "\n",
    "image_dir_path = os.getenv(\"HOME\") + \"/aiffel/rock_scissor_paper\"\n"
   ]
  },
  {
   "cell_type": "markdown",
   "metadata": {},
   "source": [
    "### 1.2 data set 생성"
   ]
  },
  {
   "cell_type": "markdown",
   "metadata": {},
   "source": [
    "#### 1.2.1 train set"
   ]
  },
  {
   "cell_type": "code",
   "execution_count": 3,
   "metadata": {},
   "outputs": [
    {
     "name": "stdout",
     "output_type": "stream",
     "text": [
      "학습데이터(x_train)의 이미지 개수는 9300 입니다.\n",
      "x_train shape: (9300, 28, 28, 3)\n",
      "y_train shape: (9300,)\n"
     ]
    }
   ],
   "source": [
    "def load_data(img_path):\n",
    "    number_of_data=9300\n",
    "    img_size=28\n",
    "    color=3\n",
    "    imgs=np.zeros(number_of_data*img_size*img_size*color, dtype=np.int32).reshape(number_of_data,img_size,img_size,color)\n",
    "    labels=np.zeros(number_of_data,dtype=np.int32)\n",
    "                  \n",
    "    idx=0\n",
    "    for file in glob.iglob(img_path+'/scissor/*.jpg'):\n",
    "        img = np.array(Image.open(file),dtype=np.int32)\n",
    "        imgs[idx,:,:,:]=img\n",
    "        labels[idx]=0    # 가위 : 0\n",
    "        idx=idx+1\n",
    "\n",
    "    for file in glob.iglob(img_path+'/rock/*.jpg'):\n",
    "        img = np.array(Image.open(file),dtype=np.int32)\n",
    "        imgs[idx,:,:,:]=img\n",
    "        labels[idx]=1   # 바위 : 1\n",
    "        idx=idx+1       \n",
    "    \n",
    "    for file in glob.iglob(img_path+'/paper/*.jpg'):\n",
    "        img = np.array(Image.open(file),dtype=np.int32)\n",
    "        imgs[idx,:,:,:]=img\n",
    "        labels[idx]=2   # 보 : 2\n",
    "        idx=idx+1\n",
    "\n",
    "    print(\"학습데이터(x_train)의 이미지 개수는\",idx,\"입니다.\")                  \n",
    "    return imgs, labels   \n",
    "                  \n",
    "             \n",
    "(x_train, y_train)=load_data(image_dir_path)\n",
    "x_train_norm = x_train/255.0\n",
    "                  \n",
    "print(\"x_train shape: {}\".format(x_train.shape))\n",
    "print(\"y_train shape: {}\".format(y_train.shape))"
   ]
  },
  {
   "cell_type": "markdown",
   "metadata": {},
   "source": [
    "#### 오류1\n",
    "File \"<ipython-input-6-52fa99673387>\", line 8\n",
    "    idx=0\n",
    "      ^\n",
    "SyntaxError: invalid syntax\n",
    "    \n",
    " \n",
    "    -->dtype=np.int32).reshape(number_of_data,img_size,img_size,color) 구문누락\n"
   ]
  },
  {
   "cell_type": "markdown",
   "metadata": {},
   "source": [
    "#### 오류2\n",
    "학습데이터 이미지 개수 표기오류\n",
    "\n",
    "\n",
    "-----> 이미지 파일 확장자 오류. jpeg-->jpg로 변경\n"
   ]
  },
  {
   "cell_type": "markdown",
   "metadata": {},
   "source": [
    "#### 1.2.2 test set"
   ]
  },
  {
   "cell_type": "code",
   "execution_count": 4,
   "metadata": {},
   "outputs": [
    {
     "name": "stdout",
     "output_type": "stream",
     "text": [
      "test데이터(x_test)의 이미지 개수는 300 입니다.\n",
      "x_test shape: (300, 28, 28, 3)\n",
      "y_test shape: (300,)\n"
     ]
    }
   ],
   "source": [
    "def load_data(img_path):\n",
    "    number_of_data=300\n",
    "    img_size=28\n",
    "    color=3\n",
    "    imgs=np.zeros(number_of_data*img_size*img_size*color, dtype=np.int32).reshape(number_of_data,img_size,img_size,color)\n",
    "    labels=np.zeros(number_of_data,dtype=np.int32)\n",
    "                  \n",
    "    idx=0\n",
    "    for file in glob.iglob(img_path+'/scissor_test/*.jpg'):\n",
    "        img = np.array(Image.open(file),dtype=np.int32)\n",
    "        imgs[idx,:,:,:]=img\n",
    "        labels[idx]=0    # 가위 : 0\n",
    "        idx=idx+1\n",
    "\n",
    "    for file in glob.iglob(img_path+'/rock_test/*.jpg'):\n",
    "        img = np.array(Image.open(file),dtype=np.int32)\n",
    "        imgs[idx,:,:,:]=img\n",
    "        labels[idx]=1   # 바위 : 1\n",
    "        idx=idx+1       \n",
    "    \n",
    "    for file in glob.iglob(img_path+'/paper_test/*.jpg'):\n",
    "        img = np.array(Image.open(file),dtype=np.int32)\n",
    "        imgs[idx,:,:,:]=img\n",
    "        labels[idx]=2   # 보 : 2\n",
    "        idx=idx+1\n",
    "\n",
    "    print(\"test데이터(x_test)의 이미지 개수는\",idx,\"입니다.\")                  \n",
    "    return imgs, labels   \n",
    "                  \n",
    "             \n",
    "(x_test, y_test)=load_data(image_dir_path)\n",
    "x_test_norm = x_test/255.0\n",
    "                  \n",
    "print(\"x_test shape: {}\".format(x_test.shape))\n",
    "print(\"y_test shape: {}\".format(y_test.shape))\n"
   ]
  },
  {
   "cell_type": "markdown",
   "metadata": {},
   "source": [
    "## 2. 네트워크 설계"
   ]
  },
  {
   "cell_type": "markdown",
   "metadata": {},
   "source": [
    "### 2.1 Sequenential Model 사용"
   ]
  },
  {
   "cell_type": "code",
   "execution_count": 5,
   "metadata": {},
   "outputs": [],
   "source": [
    "n_channel_1=32\n",
    "n_channel_2=64\n",
    "n_dense=128\n",
    "\n",
    "model=keras.models.Sequential()\n",
    "model.add(keras.layers.Conv2D(n_channel_1, (3,3), activation='relu', input_shape=(28,28,3)))\n",
    "model.add(keras.layers.MaxPool2D(2,2))\n",
    "model.add(keras.layers.Conv2D(n_channel_2, (3,3), activation='relu'))\n",
    "model.add(keras.layers.MaxPooling2D((2,2)))\n",
    "model.add(keras.layers.Flatten())\n",
    "model.add(keras.layers.Dense(n_dense, activation='relu'))\n",
    "model.add(keras.layers.Dense(3, activation='softmax'))\n"
   ]
  },
  {
   "cell_type": "markdown",
   "metadata": {},
   "source": [
    "## 3. 네트워크 학습"
   ]
  },
  {
   "cell_type": "code",
   "execution_count": 6,
   "metadata": {},
   "outputs": [
    {
     "name": "stdout",
     "output_type": "stream",
     "text": [
      "Epoch 1/10\n",
      "291/291 [==============================] - 1s 4ms/step - loss: 7.8872 - accuracy: 0.4966\n",
      "Epoch 2/10\n",
      "291/291 [==============================] - 1s 4ms/step - loss: 0.4603 - accuracy: 0.8132\n",
      "Epoch 3/10\n",
      "291/291 [==============================] - 1s 4ms/step - loss: 0.2165 - accuracy: 0.9218\n",
      "Epoch 4/10\n",
      "291/291 [==============================] - 1s 4ms/step - loss: 0.1346 - accuracy: 0.9533\n",
      "Epoch 5/10\n",
      "291/291 [==============================] - 1s 4ms/step - loss: 0.0886 - accuracy: 0.9713\n",
      "Epoch 6/10\n",
      "291/291 [==============================] - 1s 4ms/step - loss: 0.0590 - accuracy: 0.9809\n",
      "Epoch 7/10\n",
      "291/291 [==============================] - 1s 4ms/step - loss: 0.0652 - accuracy: 0.9773\n",
      "Epoch 8/10\n",
      "291/291 [==============================] - 1s 4ms/step - loss: 0.0607 - accuracy: 0.9819\n",
      "Epoch 9/10\n",
      "291/291 [==============================] - 1s 4ms/step - loss: 0.0520 - accuracy: 0.9829\n",
      "Epoch 10/10\n",
      "291/291 [==============================] - 1s 4ms/step - loss: 0.0343 - accuracy: 0.9891\n"
     ]
    },
    {
     "data": {
      "text/plain": [
       "<tensorflow.python.keras.callbacks.History at 0x7fe9a200b190>"
      ]
     },
     "execution_count": 6,
     "metadata": {},
     "output_type": "execute_result"
    }
   ],
   "source": [
    "n_train_epoch=10\n",
    "\n",
    "model.compile(optimizer='adam',\n",
    "             loss='sparse_categorical_crossentropy',\n",
    "             metrics=['accuracy'])\n",
    "\n",
    "model.fit(x_train, y_train, epochs=n_train_epoch)"
   ]
  },
  {
   "cell_type": "markdown",
   "metadata": {},
   "source": [
    "## 4. 네트워크 테스트"
   ]
  },
  {
   "cell_type": "code",
   "execution_count": 7,
   "metadata": {},
   "outputs": [
    {
     "name": "stdout",
     "output_type": "stream",
     "text": [
      "10/10 - 0s - loss: 1.3565 - accuracy: 0.6067\n",
      "test_loss: 1.35645592212677 \n",
      "test_accuracy: 0.6066666841506958\n"
     ]
    }
   ],
   "source": [
    "test_loss, test_accuracy = model.evaluate(x_test,y_test, verbose=2)\n",
    "print(\"test_loss: {} \".format(test_loss))\n",
    "print(\"test_accuracy: {}\".format(test_accuracy))"
   ]
  },
  {
   "cell_type": "markdown",
   "metadata": {},
   "source": [
    "#### 결과 1\n",
    "n_channel_1=16\n",
    "n_channel_2=32\n",
    "n_dense=32\n",
    "n_train_epoch=10\n",
    "\n",
    "10/10 - 0s - loss: 1.6963 - accuracy: 0.4600\n",
    "test_loss: 1.6963428258895874 \n",
    "test_accuracy: 0.46000000834465027------------->60% 미달성\n",
    "\n"
   ]
  },
  {
   "cell_type": "markdown",
   "metadata": {},
   "source": [
    "#### 결과 2\n",
    "n_channel_1=16\n",
    "n_channel_2=32\n",
    "n_dense=64\n",
    "n_train_epoch=10\n",
    "\n",
    "10/10 - 0s - loss: 1.0978 - accuracy: 0.6000\n",
    "test_loss: 1.0977530479431152 \n",
    "test_accuracy: 0.6000000238418579 ------------->60% 달성\n",
    "\n",
    "\n"
   ]
  },
  {
   "cell_type": "markdown",
   "metadata": {},
   "source": [
    "#### 결과 3\n",
    "n_channel_1=16\n",
    "n_channel_2=64\n",
    "n_dense=64\n",
    "n_train_epoch=10\n",
    "\n",
    "10/10 - 0s - loss: 1.4263 - accuracy: 0.5033\n",
    "test_loss: 1.4263067245483398 \n",
    "test_accuracy: 0.503333330154419 ------------->하락\n",
    "\n",
    "\n"
   ]
  },
  {
   "cell_type": "markdown",
   "metadata": {},
   "source": [
    "#### 결과 4\n",
    "n_channel_1=32\n",
    "n_channel_2=64\n",
    "n_dense=64\n",
    "n_train_epoch=10\n",
    "\n",
    "10/10 - 0s - loss: 1.6690 - accuracy: 0.4967\n",
    "test_loss: 1.6690047979354858 \n",
    "test_accuracy: 0.49666666984558105 ------------->하락\n",
    "\n",
    "\n"
   ]
  },
  {
   "cell_type": "markdown",
   "metadata": {},
   "source": [
    "#### 결과 5\n",
    "n_channel_1=32\n",
    "n_channel_2=64\n",
    "n_dense=128\n",
    "n_train_epoch=10\n",
    "\n",
    "10/10 - 0s - loss: 1.0407 - accuracy: 0.6433\n",
    "test_loss: 1.0407438278198242 \n",
    "test_accuracy: 0.6433333158493042 ------------->상승\n",
    "\n",
    "### dense가 큰 영향을 주는것으로 보임\n",
    "\n",
    "\n"
   ]
  },
  {
   "cell_type": "markdown",
   "metadata": {},
   "source": [
    "# 느낀점\n",
    "\n",
    "처음에 노드 학습을 진행할때만 해도 각 코드가 의미하는바를 하나도 모른채로 그저 복사 붙여넣기에 몇가지 경로만 수정하는식으로 노드를 수행했었다.\n",
    "다른 노드를 학습하면서 코드가 하는 역할을 조금씩 알게되었고 해당 과제물을 작성할때는 최대한 중복되는 코드를 제거하면서 해보려고 노력했다.\n",
    "\n",
    "테스트 결과에서 이미지 특징값(Conv2D)은 정확도 향상에 큰 영향을 주지 못했고 dense가 영향을 많이주는것으로 확인했다.\n",
    "\n",
    "학습을 진행하면서 데이터셋을 분류하여 데이터 총 량을 늘려보고 테스트 결과를 확인하는 과정이 재미있었고 학습도중 다른분들과 의견 교환하는것도 흥미로웠다.\n"
   ]
  }
 ],
 "metadata": {
  "kernelspec": {
   "display_name": "aiffel",
   "language": "python",
   "name": "aiffel"
  },
  "language_info": {
   "codemirror_mode": {
    "name": "ipython",
    "version": 3
   },
   "file_extension": ".py",
   "mimetype": "text/x-python",
   "name": "python",
   "nbconvert_exporter": "python",
   "pygments_lexer": "ipython3",
   "version": "3.7.9"
  }
 },
 "nbformat": 4,
 "nbformat_minor": 4
}
