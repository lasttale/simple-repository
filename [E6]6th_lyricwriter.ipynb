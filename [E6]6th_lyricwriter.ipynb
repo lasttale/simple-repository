{
 "cells": [
  {
   "cell_type": "markdown",
   "id": "advisory-demand",
   "metadata": {},
   "source": [
    "# 6. 프로젝트 : 멋진 작사가 만들기"
   ]
  },
  {
   "cell_type": "markdown",
   "id": "athletic-symposium",
   "metadata": {},
   "source": [
    "## 6.1 데이터 읽어오기"
   ]
  },
  {
   "cell_type": "code",
   "execution_count": 1,
   "id": "mysterious-springfield",
   "metadata": {},
   "outputs": [
    {
     "name": "stdout",
     "output_type": "stream",
     "text": [
      "데이터 크기: 187088\n",
      "Examples:\n",
      " ['Well, summer slipped us underneath her tongue', 'Our days and nights are perfumed with obsession', 'Half of my wardrobe is on your bedroom floor']\n"
     ]
    }
   ],
   "source": [
    "import glob\n",
    "import os\n",
    "\n",
    "txt_file_path = os.getenv('HOME')+'/aiffel/lyricist/data/lyrics/*'\n",
    "\n",
    "txt_list = glob.glob(txt_file_path)\n",
    "\n",
    "raw_corpus = []\n",
    "\n",
    "for txt_file in txt_list:\n",
    "    with open(txt_file, \"r\") as f:\n",
    "        raw = f.read().splitlines()\n",
    "        raw_corpus.extend(raw)\n",
    "\n",
    "print(\"데이터 크기:\", len(raw_corpus))\n",
    "print(\"Examples:\\n\", raw_corpus[:3])"
   ]
  },
  {
   "cell_type": "markdown",
   "id": "expected-outdoors",
   "metadata": {},
   "source": [
    "## 6.2 데이터 정제"
   ]
  },
  {
   "cell_type": "code",
   "execution_count": 2,
   "id": "frozen-citation",
   "metadata": {},
   "outputs": [
    {
     "name": "stdout",
     "output_type": "stream",
     "text": [
      "<start> this is sample sentence . <end>\n"
     ]
    }
   ],
   "source": [
    "import re\n",
    "def preprocess_sentence(sentence):\n",
    "    sentence = sentence.lower().strip()       # 소문자로 바꾸고 양쪽 공백을 삭제\n",
    "  \n",
    "    # 아래 3단계를 거쳐 sentence는 스페이스 1개를 delimeter로 하는 소문자 단어 시퀀스로 바뀝니다.\n",
    "    sentence = re.sub(r\"([?.!,¿])\", r\" \\1 \", sentence)        # 패턴의 특수문자를 만나면 특수문자 양쪽에 공백을 추가\n",
    "    sentence = re.sub(r'[\" \"]+', \" \", sentence)                  # 공백 패턴을 만나면 스페이스 1개로 치환\n",
    "    sentence = re.sub(r\"[^a-zA-Z?.!,¿]+\", \" \", sentence)  # a-zA-Z?.!,¿ 패턴을 제외한 모든 문자(공백문자까지도)를 스페이스 1개로 치환\n",
    "\n",
    "    sentence = sentence.strip()\n",
    "\n",
    "    sentence = '<start> ' + sentence + ' <end>'      # 이전 스텝에서 본 것처럼 문장 앞뒤로 <start>와 <end>를 단어처럼 붙여 줍니다\n",
    "    \n",
    "    return sentence\n",
    "\n",
    "print(preprocess_sentence(\"This @_is ;;;sample        sentence.\"))   # 이 문장이 어떻게 필터링되는지 확인해 보세요."
   ]
  },
  {
   "cell_type": "code",
   "execution_count": 3,
   "id": "professional-newcastle",
   "metadata": {},
   "outputs": [
    {
     "data": {
      "text/plain": [
       "['<start> well , summer slipped us underneath her tongue <end>',\n",
       " '<start> our days and nights are perfumed with obsession <end>',\n",
       " '<start> half of my wardrobe is on your bedroom floor <end>',\n",
       " '<start> use our eyes , throw our hands overboard i am your sweetheart psychopathic crush <end>',\n",
       " '<start> drink up your movements , still i can t get enough <end>',\n",
       " '<start> i overthink your p punctuation use <end>',\n",
       " '<start> not my fault , just a thing that my mind do a rush at the beginning <end>',\n",
       " '<start> i get caught up , just for a minute <end>',\n",
       " '<start> but lover , you re the one to blame , all that you re doing <end>',\n",
       " '<start> can you hear the violence ? <end>']"
      ]
     },
     "execution_count": 3,
     "metadata": {},
     "output_type": "execute_result"
    }
   ],
   "source": [
    "corpus = []\n",
    "\n",
    "for sentence in raw_corpus:\n",
    "    if len(sentence) == 0: continue\n",
    "    if sentence[-1] == \":\": continue\n",
    "\n",
    "        \n",
    "    corpus.append(preprocess_sentence(sentence))\n",
    "        \n",
    "corpus[:10]"
   ]
  },
  {
   "cell_type": "code",
   "execution_count": 4,
   "id": "white-intelligence",
   "metadata": {},
   "outputs": [
    {
     "name": "stdout",
     "output_type": "stream",
     "text": [
      "[[   2  136    4 ...    0    0    0]\n",
      " [   2  155  377 ...    0    0    0]\n",
      " [   2  541   19 ...    0    0    0]\n",
      " ...\n",
      " [   2    5   22 ... 4178    4    3]\n",
      " [   2    5   22 ... 4178    4    3]\n",
      " [   2    5   22 ... 4178   20    3]] <keras_preprocessing.text.Tokenizer object at 0x7f3603676090>\n"
     ]
    }
   ],
   "source": [
    "import tensorflow as tf\n",
    "def tokenize(corpus):\n",
    "    # 텐서플로우에서 제공하는 Tokenizer 패키지를 생성\n",
    "    tokenizer = tf.keras.preprocessing.text.Tokenizer(\n",
    "        num_words=12000,  # 전체 단어의 개수 \n",
    "        filters=' ',    # 별도로 전처리 로직을 추가할 수 있습니다. 이번에는 사용하지 않겠습니다.\n",
    "        oov_token=\"<unk>\"  # out-of-vocabulary, 사전에 없었던 단어는 어떤 토큰으로 대체할지\n",
    "    )\n",
    "    tokenizer.fit_on_texts(corpus)   # 우리가 구축한 corpus로부터 Tokenizer가 사전을 자동구축하게 됩니다.\n",
    "\n",
    "    # 이후 tokenizer를 활용하여 모델에 입력할 데이터셋을 구축하게 됩니다.\n",
    "    tensor = tokenizer.texts_to_sequences(corpus)   # tokenizer는 구축한 사전으로부터 corpus를 해석해 Tensor로 변환합니다.\n",
    "\n",
    "    # 입력 데이터의 시퀀스 길이를 일정하게 맞추기 위한 padding  메소드를 제공합니다.\n",
    "    # maxlen의 디폴트값은 None입니다. 이 경우 corpus의 가장 긴 문장을 기준으로 시퀀스 길이가 맞춰집니다.\n",
    "    tensor = tf.keras.preprocessing.sequence.pad_sequences(tensor, maxlen=16, padding='post')  \n",
    "\n",
    "    print(tensor,tokenizer)\n",
    "    return tensor, tokenizer\n",
    "\n",
    "tensor, tokenizer = tokenize(corpus)"
   ]
  },
  {
   "cell_type": "code",
   "execution_count": 5,
   "id": "processed-paper",
   "metadata": {},
   "outputs": [
    {
     "name": "stdout",
     "output_type": "stream",
     "text": [
      "[[   2  136    4  584 3121  131 1299   69  969    3    0    0    0    0\n",
      "     0]\n",
      " [   2  155  377    8  858   77 9560   31 8541    3    0    0    0    0\n",
      "     0]\n",
      " [   2  541   19   13 5339   26   18   21 1473  363    3    0    0    0\n",
      "     0]]\n"
     ]
    }
   ],
   "source": [
    "print(tensor[:3, :15])"
   ]
  },
  {
   "cell_type": "markdown",
   "id": "neural-filter",
   "metadata": {},
   "source": [
    "## 6.3 평가 데이터셋 분리"
   ]
  },
  {
   "cell_type": "code",
   "execution_count": 6,
   "id": "patent-collaboration",
   "metadata": {},
   "outputs": [
    {
     "name": "stdout",
     "output_type": "stream",
     "text": [
      "[   2  136    4  584 3121  131 1299   69  969    3    0    0    0    0\n",
      "    0]\n",
      "[ 136    4  584 3121  131 1299   69  969    3    0    0    0    0    0\n",
      "    0]\n"
     ]
    }
   ],
   "source": [
    "src_input = tensor[:, :-1]  # tensor에서 마지막 토큰을 잘라내서 소스 문장을 생성합니다. 마지막 토큰은 <end>가 아니라 <pad>일 가능성이 높습니다.\n",
    "tgt_input = tensor[:, 1:]    # tensor에서 <start>를 잘라내서 타겟 문장을 생성합니다.\n",
    "\n",
    "print(src_input[0])\n",
    "print(tgt_input[0])"
   ]
  },
  {
   "cell_type": "code",
   "execution_count": 7,
   "id": "corresponding-liability",
   "metadata": {},
   "outputs": [
    {
     "name": "stdout",
     "output_type": "stream",
     "text": [
      "Source Train: (140599, 15)\n",
      "Target Train: (140599, 15)\n"
     ]
    }
   ],
   "source": [
    "from sklearn.model_selection import train_test_split\n",
    "\n",
    "\n",
    "enc_train, enc_val, dec_train, dec_val = train_test_split(src_input, \n",
    "                                                                tgt_input, \n",
    "                                                                test_size=0.2,\n",
    "                                                                shuffle=True)\n",
    "print(\"Source Train:\", enc_train.shape)\n",
    "print(\"Target Train:\", dec_train.shape)\n",
    "\n"
   ]
  },
  {
   "cell_type": "markdown",
   "id": "incorrect-modern",
   "metadata": {},
   "source": [
    "1. 학습데이터 갯수가 140599로 권장 데이터인 124960개를 초과하였으나 권장사항이기 때문에 일단 진행"
   ]
  },
  {
   "cell_type": "code",
   "execution_count": 8,
   "id": "labeled-history",
   "metadata": {},
   "outputs": [
    {
     "data": {
      "text/plain": [
       "<BatchDataset shapes: ((256, 15), (256, 15)), types: (tf.int32, tf.int32)>"
      ]
     },
     "execution_count": 8,
     "metadata": {},
     "output_type": "execute_result"
    }
   ],
   "source": [
    "BUFFER_SIZE = len(src_input)\n",
    "BATCH_SIZE = 256\n",
    "steps_per_epoch = len(src_input) // BATCH_SIZE\n",
    "\n",
    "VOCAB_SIZE = tokenizer.num_words + 1  \n",
    "\n",
    "dataset = tf.data.Dataset.from_tensor_slices((enc_train, dec_train)).shuffle(BUFFER_SIZE)\n",
    "dataset = dataset.batch(BATCH_SIZE, drop_remainder=True)\n",
    "dataset\n",
    "val_dataset = tf.data.Dataset.from_tensor_slices((enc_val, dec_val)).shuffle(BUFFER_SIZE)\n",
    "val_dataset = val_dataset.batch(BATCH_SIZE, drop_remainder=True)\n",
    "val_dataset"
   ]
  },
  {
   "cell_type": "markdown",
   "id": "narrative-highland",
   "metadata": {},
   "source": [
    "## 6.4 인공지능 만들기"
   ]
  },
  {
   "cell_type": "markdown",
   "id": "exact-accreditation",
   "metadata": {},
   "source": [
    "### 6.4.1 모델생성"
   ]
  },
  {
   "cell_type": "code",
   "execution_count": 9,
   "id": "earned-color",
   "metadata": {},
   "outputs": [],
   "source": [
    "class TextGenerator(tf.keras.Model):\n",
    "    def __init__(self, vocab_size, embedding_size, hidden_size):\n",
    "        super(TextGenerator, self).__init__()\n",
    "        \n",
    "        self.embedding = tf.keras.layers.Embedding(vocab_size, embedding_size)\n",
    "        self.rnn_1 = tf.keras.layers.LSTM(hidden_size, return_sequences=True)\n",
    "        self.rnn_2 = tf.keras.layers.LSTM(hidden_size, return_sequences=True)\n",
    "        self.linear = tf.keras.layers.Dense(vocab_size)\n",
    "        \n",
    "    def call(self, x):\n",
    "        out = self.embedding(x)\n",
    "        out = self.rnn_1(out)\n",
    "        out = self.rnn_2(out)\n",
    "        out = self.linear(out)\n",
    "        \n",
    "        return out\n",
    "    \n",
    "embedding_size = 512\n",
    "hidden_size = 2050\n",
    "model = TextGenerator(tokenizer.num_words + 1, embedding_size , hidden_size)"
   ]
  },
  {
   "cell_type": "code",
   "execution_count": 10,
   "id": "solved-morris",
   "metadata": {},
   "outputs": [
    {
     "data": {
      "text/plain": [
       "<tf.Tensor: shape=(256, 15, 12001), dtype=float32, numpy=\n",
       "array([[[-5.62606983e-05,  7.10867316e-05, -1.09179724e-04, ...,\n",
       "          5.86278147e-05, -2.24110714e-04, -2.21317852e-04],\n",
       "        [-3.24620429e-04,  3.16536207e-05,  2.70948687e-04, ...,\n",
       "          1.17612137e-04, -2.89374788e-04, -8.85770714e-05],\n",
       "        [-5.18722693e-04, -2.11580482e-04,  4.54634108e-04, ...,\n",
       "          4.35776106e-04, -4.33672074e-04,  1.00923018e-04],\n",
       "        ...,\n",
       "        [-2.01043906e-03, -5.89511881e-04, -1.88707781e-03, ...,\n",
       "          5.69538504e-04,  1.07571273e-03,  2.61607254e-03],\n",
       "        [-2.10939022e-03, -6.69227447e-04, -1.98147120e-03, ...,\n",
       "          7.37804628e-04,  1.11552875e-03,  2.95402901e-03],\n",
       "        [-2.19090353e-03, -7.55699119e-04, -2.03627162e-03, ...,\n",
       "          9.16334742e-04,  1.14584470e-03,  3.26304068e-03]],\n",
       "\n",
       "       [[-5.62606983e-05,  7.10867316e-05, -1.09179724e-04, ...,\n",
       "          5.86278147e-05, -2.24110714e-04, -2.21317852e-04],\n",
       "        [ 3.98012344e-04, -1.40746852e-04, -4.05618950e-04, ...,\n",
       "          8.56314073e-05, -5.22115501e-04, -5.17033681e-04],\n",
       "        [ 4.67716978e-04,  5.71183627e-05,  5.18617489e-05, ...,\n",
       "          2.85867485e-04, -7.51510786e-04, -5.58216765e-04],\n",
       "        ...,\n",
       "        [ 1.38675456e-03,  6.72557566e-04, -1.98954041e-03, ...,\n",
       "          3.75515927e-04, -4.37805225e-04,  8.64301051e-04],\n",
       "        [ 8.88326904e-04,  5.83152694e-04, -2.18348065e-03, ...,\n",
       "          4.50484804e-04, -2.55259918e-04,  1.22546137e-03],\n",
       "        [ 4.07901389e-04,  4.69763821e-04, -2.31658132e-03, ...,\n",
       "          5.55677456e-04, -8.13375009e-05,  1.60733331e-03]],\n",
       "\n",
       "       [[-5.62606983e-05,  7.10867316e-05, -1.09179724e-04, ...,\n",
       "          5.86278147e-05, -2.24110714e-04, -2.21317852e-04],\n",
       "        [-1.27950640e-04,  1.40491262e-04, -2.85526883e-04, ...,\n",
       "          1.41970246e-04,  1.03516373e-04, -4.90844366e-04],\n",
       "        [-3.98827222e-04,  4.60451338e-05, -5.51666424e-04, ...,\n",
       "          1.76210946e-04,  3.43092572e-04, -5.86466282e-04],\n",
       "        ...,\n",
       "        [ 6.11368916e-04,  1.51332794e-03, -1.45696674e-03, ...,\n",
       "          9.85260122e-04,  2.65699509e-03, -8.59984546e-04],\n",
       "        [ 4.76778805e-04,  1.46337796e-03, -1.89677381e-03, ...,\n",
       "          6.20971317e-04,  2.15159962e-03, -6.84063300e-04],\n",
       "        [ 4.55077155e-04,  1.34424260e-03, -1.90845074e-03, ...,\n",
       "          3.05213383e-04,  1.60762528e-03, -4.13193688e-04]],\n",
       "\n",
       "       ...,\n",
       "\n",
       "       [[-5.62606983e-05,  7.10867316e-05, -1.09179724e-04, ...,\n",
       "          5.86278147e-05, -2.24110714e-04, -2.21317852e-04],\n",
       "        [-2.20999436e-06, -1.02548860e-04, -3.27639922e-04, ...,\n",
       "          1.08357737e-04, -3.48315254e-04, -1.82751697e-04],\n",
       "        [-1.71445354e-04, -2.32424514e-04, -4.66838334e-04, ...,\n",
       "         -1.27947889e-04, -6.73223622e-05,  2.23898969e-04],\n",
       "        ...,\n",
       "        [-1.59570284e-03, -5.67205774e-04, -1.28161698e-03, ...,\n",
       "         -8.59439897e-04,  5.60190878e-04,  1.18702906e-03],\n",
       "        [-1.66869955e-03, -5.54566330e-04, -1.59532647e-03, ...,\n",
       "         -8.14115454e-04,  5.96288592e-04,  1.43606402e-03],\n",
       "        [-1.74669235e-03, -5.52225392e-04, -1.85596105e-03, ...,\n",
       "         -7.07514584e-04,  6.33489864e-04,  1.72058574e-03]],\n",
       "\n",
       "       [[-5.62606983e-05,  7.10867316e-05, -1.09179724e-04, ...,\n",
       "          5.86278147e-05, -2.24110714e-04, -2.21317852e-04],\n",
       "        [ 3.78859550e-04,  2.23193332e-04, -4.95489046e-04, ...,\n",
       "          8.70398362e-05, -1.48291525e-04, -1.96326087e-04],\n",
       "        [ 8.11019214e-04,  3.94906558e-04, -7.40338815e-04, ...,\n",
       "          6.13932643e-05, -6.31856310e-05, -2.90990400e-04],\n",
       "        ...,\n",
       "        [ 4.93640546e-04, -4.20884055e-04, -1.59990776e-03, ...,\n",
       "         -9.89831402e-04,  2.00972310e-03,  2.63736176e-04],\n",
       "        [ 2.73934886e-04, -4.36670933e-04, -1.88176823e-03, ...,\n",
       "         -8.56092491e-04,  1.95873994e-03,  5.50111232e-04],\n",
       "        [ 2.02432111e-05, -4.45080193e-04, -2.11825990e-03, ...,\n",
       "         -6.80350116e-04,  1.89309579e-03,  8.99755862e-04]],\n",
       "\n",
       "       [[-5.62606983e-05,  7.10867316e-05, -1.09179724e-04, ...,\n",
       "          5.86278147e-05, -2.24110714e-04, -2.21317852e-04],\n",
       "        [ 4.78877628e-05,  2.15865912e-05, -2.28134741e-04, ...,\n",
       "          1.28627144e-04, -2.64307237e-05, -5.16258995e-04],\n",
       "        [-1.31468623e-04,  2.42774739e-04, -1.61925127e-04, ...,\n",
       "          3.46224580e-04,  1.80599265e-04, -5.33313432e-04],\n",
       "        ...,\n",
       "        [ 8.57282255e-04,  6.07665628e-04, -7.58615322e-04, ...,\n",
       "         -1.05932157e-03,  1.90980220e-03,  1.29853748e-03],\n",
       "        [ 6.47129316e-04,  6.47020643e-04, -1.10485882e-03, ...,\n",
       "         -1.07924931e-03,  1.81412161e-03,  1.34949898e-03],\n",
       "        [ 3.75153380e-04,  6.68940425e-04, -1.42689550e-03, ...,\n",
       "         -1.02616858e-03,  1.71515380e-03,  1.43436051e-03]]],\n",
       "      dtype=float32)>"
      ]
     },
     "execution_count": 10,
     "metadata": {},
     "output_type": "execute_result"
    }
   ],
   "source": [
    "for src_sample, tgt_sample in dataset.take(1): break\n",
    "model(src_sample)"
   ]
  },
  {
   "cell_type": "code",
   "execution_count": 11,
   "id": "numerical-trial",
   "metadata": {},
   "outputs": [
    {
     "name": "stdout",
     "output_type": "stream",
     "text": [
      "Model: \"text_generator\"\n",
      "_________________________________________________________________\n",
      "Layer (type)                 Output Shape              Param #   \n",
      "=================================================================\n",
      "embedding (Embedding)        multiple                  6144512   \n",
      "_________________________________________________________________\n",
      "lstm (LSTM)                  multiple                  21016600  \n",
      "_________________________________________________________________\n",
      "lstm_1 (LSTM)                multiple                  33628200  \n",
      "_________________________________________________________________\n",
      "dense (Dense)                multiple                  24614051  \n",
      "=================================================================\n",
      "Total params: 85,403,363\n",
      "Trainable params: 85,403,363\n",
      "Non-trainable params: 0\n",
      "_________________________________________________________________\n"
     ]
    }
   ],
   "source": [
    "model.summary()"
   ]
  },
  {
   "cell_type": "markdown",
   "id": "allied-douglas",
   "metadata": {},
   "source": [
    "### 6.4.2 모델 학습"
   ]
  },
  {
   "cell_type": "code",
   "execution_count": null,
   "id": "chubby-finance",
   "metadata": {},
   "outputs": [
    {
     "name": "stdout",
     "output_type": "stream",
     "text": [
      "Epoch 1/10\n",
      "549/549 [==============================] - 258s 469ms/step - loss: 3.4751 - val_loss: 3.1071\n",
      "Epoch 2/10\n",
      "549/549 [==============================] - 258s 470ms/step - loss: 2.9381 - val_loss: 2.8628\n",
      "Epoch 3/10\n",
      "549/549 [==============================] - 259s 471ms/step - loss: 2.7090 - val_loss: 2.7147\n",
      "Epoch 4/10\n",
      "547/549 [============================>.] - ETA: 0s - loss: 2.5141"
     ]
    }
   ],
   "source": [
    "optimizer = tf.keras.optimizers.Adam()\n",
    "loss = tf.keras.losses.SparseCategoricalCrossentropy(\n",
    "    from_logits=True,\n",
    "    reduction='none'\n",
    ")\n",
    "\n",
    "model.compile(loss=loss, optimizer=optimizer)\n",
    "model.fit(dataset, validation_data = val_dataset, epochs=10)"
   ]
  },
  {
   "cell_type": "markdown",
   "id": "alive-drawing",
   "metadata": {},
   "source": [
    "model. fit 에서 기존 train dataset을 지정, 추가적인 validation_data를 지정.\n",
    "사실 이 부분을 tf홈페이지에서 찾아보았으나 찾아내지 못하여 다른 수강생에게 힌트를 얻어 진행하였습니다."
   ]
  },
  {
   "cell_type": "markdown",
   "id": "photographic-bangkok",
   "metadata": {},
   "source": [
    "1. embedding_size = 256 hidden_size = 1024 --> 2.5204\n",
    "2. embedding_size = 256 hidden_size = 512 --> 2.8122 \n",
    "3. embedding_size = 256 hidden_size = 2048 --> 2.3344\n",
    "4. embedding_size = 512 hidden_size = 2048 --> 2.3661\n",
    "5. embedding_size = 512 hidden_size = 1024 --> 2.5845\n",
    "6. embedding_size = 256 hidden_size = 1500 --> 2.4927\n",
    "7. embedding_size = 400 hidden_size = 1900 --> 2.2943\n",
    "8. embedding_size = 400 hidden_size = 1700 --> 2.4264\n",
    "9. embedding_size = 128 hidden_size = 1900 --> 2.4036\n",
    "10. embedding_size = 300 hidden_size = 1900 --> 2.3924\n",
    "11. embedding_size = 400 hidden_size = 2000 --> 4epoch에서 2.6대 나와서 stop\n",
    "12. maxlen 16으로 수정, embedding_size = 512 hidden_size = 2050"
   ]
  },
  {
   "cell_type": "markdown",
   "id": "sapphire-tomorrow",
   "metadata": {},
   "source": [
    "### 6.4.3 모델 평가"
   ]
  },
  {
   "cell_type": "code",
   "execution_count": null,
   "id": "decimal-brisbane",
   "metadata": {},
   "outputs": [],
   "source": [
    "def generate_text(model, tokenizer, init_sentence=\"<start>\", max_len=20):\n",
    "    # 테스트를 위해서 입력받은 init_sentence도 일단 텐서로 변환합니다.\n",
    "    test_input = tokenizer.texts_to_sequences([init_sentence])\n",
    "    test_tensor = tf.convert_to_tensor(test_input, dtype=tf.int64)\n",
    "    end_token = tokenizer.word_index[\"<end>\"]\n",
    "\n",
    "    # 텍스트를 실제로 생성할때는 루프를 돌면서 단어 하나씩 생성해야 합니다. \n",
    "    while True:\n",
    "        predict = model(test_tensor)  # 입력받은 문장의 텐서를 입력합니다. \n",
    "        predict_word = tf.argmax(tf.nn.softmax(predict, axis=-1), axis=-1)[:, -1]   # 우리 모델이 예측한 마지막 단어가 바로 새롭게 생성한 단어가 됩니다. \n",
    "\n",
    "        # 우리 모델이 새롭게 예측한 단어를 입력 문장의 뒤에 붙여 줍니다. \n",
    "        test_tensor = tf.concat([test_tensor, \n",
    "                                                                 tf.expand_dims(predict_word, axis=0)], axis=-1)\n",
    "\n",
    "        # 우리 모델이 <end>를 예측했거나, max_len에 도달하지 않았다면  while 루프를 또 돌면서 다음 단어를 예측해야 합니다.\n",
    "        if predict_word.numpy()[0] == end_token: break\n",
    "        if test_tensor.shape[1] >= max_len: break\n",
    "\n",
    "    generated = \"\"\n",
    "    # 생성된 tensor 안에 있는 word index를 tokenizer.index_word 사전을 통해 실제 단어로 하나씩 변환합니다. \n",
    "    for word_index in test_tensor[0].numpy():\n",
    "        generated += tokenizer.index_word[word_index] + \" \"\n",
    "\n",
    "    return generated   # 이것이 최종적으로 모델이 생성한 자연어 문장입니다."
   ]
  },
  {
   "cell_type": "code",
   "execution_count": null,
   "id": "quiet-squad",
   "metadata": {},
   "outputs": [],
   "source": [
    "generate_text(model, tokenizer, init_sentence=\"<start> i love\", max_len=20)\n"
   ]
  },
  {
   "cell_type": "code",
   "execution_count": null,
   "id": "wrong-austin",
   "metadata": {},
   "outputs": [],
   "source": []
  }
 ],
 "metadata": {
  "kernelspec": {
   "display_name": "aiffel",
   "language": "python",
   "name": "aiffel"
  },
  "language_info": {
   "codemirror_mode": {
    "name": "ipython",
    "version": 3
   },
   "file_extension": ".py",
   "mimetype": "text/x-python",
   "name": "python",
   "nbconvert_exporter": "python",
   "pygments_lexer": "ipython3",
   "version": "3.7.9"
  }
 },
 "nbformat": 4,
 "nbformat_minor": 5
}
