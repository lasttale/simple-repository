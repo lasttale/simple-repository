{
 "cells": [
  {
   "cell_type": "markdown",
   "id": "failing-basement",
   "metadata": {},
   "source": [
    "# 19 Pretrained model의 활용"
   ]
  },
  {
   "cell_type": "markdown",
   "id": "therapeutic-accountability",
   "metadata": {},
   "source": [
    "## 19.1 pretrained model 로딩하기"
   ]
  },
  {
   "cell_type": "code",
   "execution_count": null,
   "id": "breathing-helping",
   "metadata": {},
   "outputs": [],
   "source": [
    "\n"
   ]
  }
 ],
 "metadata": {
  "kernelspec": {
   "display_name": "aiffel",
   "language": "python",
   "name": "aiffel"
  },
  "language_info": {
   "codemirror_mode": {
    "name": "ipython",
    "version": 3
   },
   "file_extension": ".py",
   "mimetype": "text/x-python",
   "name": "python",
   "nbconvert_exporter": "python",
   "pygments_lexer": "ipython3",
   "version": "3.7.9"
  }
 },
 "nbformat": 4,
 "nbformat_minor": 5
}
