{
 "cells": [
  {
   "cell_type": "markdown",
   "id": "capital-lancaster",
   "metadata": {},
   "source": [
    "# 11 뉴스기사 요약해보기"
   ]
  },
  {
   "cell_type": "markdown",
   "id": "regular-marketplace",
   "metadata": {},
   "source": [
    "## 11.1 데이터 수집하기"
   ]
  },
  {
   "cell_type": "code",
   "execution_count": 1,
   "id": "wrapped-residence",
   "metadata": {},
   "outputs": [
    {
     "name": "stderr",
     "output_type": "stream",
     "text": [
      "[nltk_data] Downloading package stopwords to /home/aiffel-\n",
      "[nltk_data]     dj48/nltk_data...\n",
      "[nltk_data]   Package stopwords is already up-to-date!\n"
     ]
    }
   ],
   "source": [
    "# 필요한 페키지 불러오기\n",
    "import nltk\n",
    "nltk.download('stopwords')\n",
    "\n",
    "import numpy as np\n",
    "import pandas as pd\n",
    "import os\n",
    "import re\n",
    "import matplotlib.pyplot as plt\n",
    "from nltk.corpus import stopwords\n",
    "from bs4 import BeautifulSoup \n",
    "from tensorflow.keras.preprocessing.text import Tokenizer \n",
    "from tensorflow.keras.preprocessing.sequence import pad_sequences\n",
    "import urllib.request"
   ]
  },
  {
   "cell_type": "code",
   "execution_count": 2,
   "id": "tribal-tract",
   "metadata": {},
   "outputs": [
    {
     "data": {
      "text/html": [
       "<div>\n",
       "<style scoped>\n",
       "    .dataframe tbody tr th:only-of-type {\n",
       "        vertical-align: middle;\n",
       "    }\n",
       "\n",
       "    .dataframe tbody tr th {\n",
       "        vertical-align: top;\n",
       "    }\n",
       "\n",
       "    .dataframe thead th {\n",
       "        text-align: right;\n",
       "    }\n",
       "</style>\n",
       "<table border=\"1\" class=\"dataframe\">\n",
       "  <thead>\n",
       "    <tr style=\"text-align: right;\">\n",
       "      <th></th>\n",
       "      <th>headlines</th>\n",
       "      <th>text</th>\n",
       "    </tr>\n",
       "  </thead>\n",
       "  <tbody>\n",
       "    <tr>\n",
       "      <th>94896</th>\n",
       "      <td>Twitter ads featuring Donald Trump appear in T...</td>\n",
       "      <td>A set of Twitter advertisements featuring US ...</td>\n",
       "    </tr>\n",
       "    <tr>\n",
       "      <th>45772</th>\n",
       "      <td>US seeking 'new relationship' with Pakistan: T...</td>\n",
       "      <td>US President Donald Trump's deputy assistant, ...</td>\n",
       "    </tr>\n",
       "    <tr>\n",
       "      <th>62516</th>\n",
       "      <td>We can isolate US by eliminating dollar: Iran ...</td>\n",
       "      <td>Iranian Supreme Leader Ayatollah Khamenei has ...</td>\n",
       "    </tr>\n",
       "    <tr>\n",
       "      <th>74496</th>\n",
       "      <td>Govt told me not to pass Bajrangi Bhaijaan bef...</td>\n",
       "      <td>Former Censor Board Chief Pahlaj Nihalani has ...</td>\n",
       "    </tr>\n",
       "    <tr>\n",
       "      <th>51939</th>\n",
       "      <td>Bhima Koregaon violence a conspiracy against B...</td>\n",
       "      <td>Maharashtra CM Devendra Fadnavis has claimed t...</td>\n",
       "    </tr>\n",
       "    <tr>\n",
       "      <th>14324</th>\n",
       "      <td>Only 12 yrs left to limit catastrophe of clima...</td>\n",
       "      <td>Global temperatures may exceed 1.5ÃÂ°C betwee...</td>\n",
       "    </tr>\n",
       "    <tr>\n",
       "      <th>34728</th>\n",
       "      <td>Leader's remark on DMK chief's daughter not pa...</td>\n",
       "      <td>A day after BJP leader H Raja called Rajya Sab...</td>\n",
       "    </tr>\n",
       "    <tr>\n",
       "      <th>96811</th>\n",
       "      <td>Porn film streamed through Turkish city's loud...</td>\n",
       "      <td>Loudspeakers in Kastamonu city, Turkey transmi...</td>\n",
       "    </tr>\n",
       "    <tr>\n",
       "      <th>21149</th>\n",
       "      <td>Lata dedicates unreleased song to late PM Vajp...</td>\n",
       "      <td>Singer Lata Mangeshkar dedicated her previousl...</td>\n",
       "    </tr>\n",
       "    <tr>\n",
       "      <th>16109</th>\n",
       "      <td>Shoaib Malik waves at Indian fans after they c...</td>\n",
       "      <td>A video of Pakistan all-rounder Shoaib Malik w...</td>\n",
       "    </tr>\n",
       "  </tbody>\n",
       "</table>\n",
       "</div>"
      ],
      "text/plain": [
       "                                               headlines  \\\n",
       "94896  Twitter ads featuring Donald Trump appear in T...   \n",
       "45772  US seeking 'new relationship' with Pakistan: T...   \n",
       "62516  We can isolate US by eliminating dollar: Iran ...   \n",
       "74496  Govt told me not to pass Bajrangi Bhaijaan bef...   \n",
       "51939  Bhima Koregaon violence a conspiracy against B...   \n",
       "14324  Only 12 yrs left to limit catastrophe of clima...   \n",
       "34728  Leader's remark on DMK chief's daughter not pa...   \n",
       "96811  Porn film streamed through Turkish city's loud...   \n",
       "21149  Lata dedicates unreleased song to late PM Vajp...   \n",
       "16109  Shoaib Malik waves at Indian fans after they c...   \n",
       "\n",
       "                                                    text  \n",
       "94896   A set of Twitter advertisements featuring US ...  \n",
       "45772  US President Donald Trump's deputy assistant, ...  \n",
       "62516  Iranian Supreme Leader Ayatollah Khamenei has ...  \n",
       "74496  Former Censor Board Chief Pahlaj Nihalani has ...  \n",
       "51939  Maharashtra CM Devendra Fadnavis has claimed t...  \n",
       "14324  Global temperatures may exceed 1.5ÃÂ°C betwee...  \n",
       "34728  A day after BJP leader H Raja called Rajya Sab...  \n",
       "96811  Loudspeakers in Kastamonu city, Turkey transmi...  \n",
       "21149  Singer Lata Mangeshkar dedicated her previousl...  \n",
       "16109  A video of Pakistan all-rounder Shoaib Malik w...  "
      ]
     },
     "execution_count": 2,
     "metadata": {},
     "output_type": "execute_result"
    }
   ],
   "source": [
    "# 데이터 다운로드\n",
    "import urllib.request\n",
    "urllib.request.urlretrieve(\"https://raw.githubusercontent.com/sunnysai12345/News_Summary/master/news_summary_more.csv\", filename=\"news_summary_more.csv\")\n",
    "data = pd.read_csv('news_summary_more.csv', encoding='iso-8859-1')\n",
    "data.sample(10)"
   ]
  },
  {
   "cell_type": "code",
   "execution_count": 3,
   "id": "japanese-antenna",
   "metadata": {},
   "outputs": [
    {
     "name": "stdout",
     "output_type": "stream",
     "text": [
      "text 열 샘플의 수 : 98401\n",
      "headlines 열 샘플의 수 : 98401\n"
     ]
    }
   ],
   "source": [
    "# 데이터 샘플 수 확인\n",
    "print('text 열 샘플의 수 :', len(data['text']))\n",
    "print('headlines 열 샘플의 수 :', len(data['headlines']))"
   ]
  },
  {
   "cell_type": "markdown",
   "id": "digital-retirement",
   "metadata": {},
   "source": [
    "## 11.2 데이터 전처리하기(추상적 요약)"
   ]
  },
  {
   "cell_type": "code",
   "execution_count": 4,
   "id": "spanish-glance",
   "metadata": {},
   "outputs": [
    {
     "name": "stdout",
     "output_type": "stream",
     "text": [
      "text 열에서 중복을 배제한 유일한 샘플의 수 : 98360\n",
      "headlines 열에서 중복을 배제한 유일한 샘플의 수 : 98280\n"
     ]
    }
   ],
   "source": [
    "# 중복샘플 유무 확인\n",
    "print('text 열에서 중복을 배제한 유일한 샘플의 수 :', data['text'].nunique())\n",
    "print('headlines 열에서 중복을 배제한 유일한 샘플의 수 :', data['headlines'].nunique())"
   ]
  },
  {
   "cell_type": "markdown",
   "id": "later-opposition",
   "metadata": {},
   "source": [
    "total 'text'의 수와 유니크한 'text'의 수가 다르므로 중복데이터 제거 실행"
   ]
  },
  {
   "cell_type": "code",
   "execution_count": 5,
   "id": "passing-partnership",
   "metadata": {},
   "outputs": [
    {
     "name": "stdout",
     "output_type": "stream",
     "text": [
      "전체 샘플수 : 98360\n"
     ]
    }
   ],
   "source": [
    "#중복데이터 제거\n",
    "data.drop_duplicates(subset = ['text'], inplace = True)\n",
    "print('전체 샘플수 :',(len(data)))"
   ]
  },
  {
   "cell_type": "code",
   "execution_count": 6,
   "id": "emerging-administrator",
   "metadata": {},
   "outputs": [
    {
     "name": "stdout",
     "output_type": "stream",
     "text": [
      "headlines    0\n",
      "text         0\n",
      "dtype: int64\n"
     ]
    }
   ],
   "source": [
    "#데이터 내부 Null 유무 확인\n",
    "print(data.isnull().sum())"
   ]
  },
  {
   "cell_type": "markdown",
   "id": "incredible-trading",
   "metadata": {},
   "source": [
    "Null이 없음"
   ]
  },
  {
   "cell_type": "code",
   "execution_count": 7,
   "id": "spatial-particle",
   "metadata": {},
   "outputs": [
    {
     "name": "stdout",
     "output_type": "stream",
     "text": [
      "정규화 사전의 수:  120\n"
     ]
    }
   ],
   "source": [
    "#텍스트 정규화를 위한 사전구성\n",
    "contractions = {\"ain't\": \"is not\", \"aren't\": \"are not\",\"can't\": \"cannot\", \"'cause\": \"because\", \"could've\": \"could have\", \"couldn't\": \"could not\",\n",
    "                           \"didn't\": \"did not\",  \"doesn't\": \"does not\", \"don't\": \"do not\", \"hadn't\": \"had not\", \"hasn't\": \"has not\", \"haven't\": \"have not\",\n",
    "                           \"he'd\": \"he would\",\"he'll\": \"he will\", \"he's\": \"he is\", \"how'd\": \"how did\", \"how'd'y\": \"how do you\", \"how'll\": \"how will\", \"how's\": \"how is\",\n",
    "                           \"I'd\": \"I would\", \"I'd've\": \"I would have\", \"I'll\": \"I will\", \"I'll've\": \"I will have\",\"I'm\": \"I am\", \"I've\": \"I have\", \"i'd\": \"i would\",\n",
    "                           \"i'd've\": \"i would have\", \"i'll\": \"i will\",  \"i'll've\": \"i will have\",\"i'm\": \"i am\", \"i've\": \"i have\", \"isn't\": \"is not\", \"it'd\": \"it would\",\n",
    "                           \"it'd've\": \"it would have\", \"it'll\": \"it will\", \"it'll've\": \"it will have\",\"it's\": \"it is\", \"let's\": \"let us\", \"ma'am\": \"madam\",\n",
    "                           \"mayn't\": \"may not\", \"might've\": \"might have\",\"mightn't\": \"might not\",\"mightn't've\": \"might not have\", \"must've\": \"must have\",\n",
    "                           \"mustn't\": \"must not\", \"mustn't've\": \"must not have\", \"needn't\": \"need not\", \"needn't've\": \"need not have\",\"o'clock\": \"of the clock\",\n",
    "                           \"oughtn't\": \"ought not\", \"oughtn't've\": \"ought not have\", \"shan't\": \"shall not\", \"sha'n't\": \"shall not\", \"shan't've\": \"shall not have\",\n",
    "                           \"she'd\": \"she would\", \"she'd've\": \"she would have\", \"she'll\": \"she will\", \"she'll've\": \"she will have\", \"she's\": \"she is\",\n",
    "                           \"should've\": \"should have\", \"shouldn't\": \"should not\", \"shouldn't've\": \"should not have\", \"so've\": \"so have\",\"so's\": \"so as\",\n",
    "                           \"this's\": \"this is\",\"that'd\": \"that would\", \"that'd've\": \"that would have\", \"that's\": \"that is\", \"there'd\": \"there would\",\n",
    "                           \"there'd've\": \"there would have\", \"there's\": \"there is\", \"here's\": \"here is\",\"they'd\": \"they would\", \"they'd've\": \"they would have\",\n",
    "                           \"they'll\": \"they will\", \"they'll've\": \"they will have\", \"they're\": \"they are\", \"they've\": \"they have\", \"to've\": \"to have\",\n",
    "                           \"wasn't\": \"was not\", \"we'd\": \"we would\", \"we'd've\": \"we would have\", \"we'll\": \"we will\", \"we'll've\": \"we will have\", \"we're\": \"we are\",\n",
    "                           \"we've\": \"we have\", \"weren't\": \"were not\", \"what'll\": \"what will\", \"what'll've\": \"what will have\", \"what're\": \"what are\",\n",
    "                           \"what's\": \"what is\", \"what've\": \"what have\", \"when's\": \"when is\", \"when've\": \"when have\", \"where'd\": \"where did\", \"where's\": \"where is\",\n",
    "                           \"where've\": \"where have\", \"who'll\": \"who will\", \"who'll've\": \"who will have\", \"who's\": \"who is\", \"who've\": \"who have\",\n",
    "                           \"why's\": \"why is\", \"why've\": \"why have\", \"will've\": \"will have\", \"won't\": \"will not\", \"won't've\": \"will not have\",\n",
    "                           \"would've\": \"would have\", \"wouldn't\": \"would not\", \"wouldn't've\": \"would not have\", \"y'all\": \"you all\",\n",
    "                           \"y'all'd\": \"you all would\",\"y'all'd've\": \"you all would have\",\"y'all're\": \"you all are\",\"y'all've\": \"you all have\",\n",
    "                           \"you'd\": \"you would\", \"you'd've\": \"you would have\", \"you'll\": \"you will\", \"you'll've\": \"you will have\",\n",
    "                           \"you're\": \"you are\", \"you've\": \"you have\"}\n",
    "\n",
    "print(\"정규화 사전의 수: \",len(contractions))"
   ]
  },
  {
   "cell_type": "code",
   "execution_count": 8,
   "id": "suburban-attempt",
   "metadata": {},
   "outputs": [],
   "source": [
    "#불용어 제거를 위한 함수 구현\n",
    "\n",
    "#데이터 전처리 함수\n",
    "def preprocess_sentence(sentence, remove_stopwords=True):\n",
    "    sentence = sentence.lower() # 텍스트 소문자화\n",
    "    sentence = BeautifulSoup(sentence, \"lxml\").text # <br />, <a href = ...> 등의 html 태그 제거\n",
    "    sentence = re.sub(r'\\([^)]*\\)', '', sentence) # 괄호로 닫힌 문자열 (...) 제거 Ex) my husband (and myself!) for => my husband for\n",
    "    sentence = re.sub('\"','', sentence) # 쌍따옴표 \" 제거\n",
    "    sentence = ' '.join([contractions[t] if t in contractions else t for t in sentence.split(\" \")]) # 약어 정규화\n",
    "    sentence = re.sub(r\"'s\\b\",\"\",sentence) # 소유격 제거. Ex) roland's -> roland\n",
    "    sentence = re.sub(\"[^a-zA-Z]\", \" \", sentence) # 영어 외 문자(숫자, 특수문자 등) 공백으로 변환\n",
    "    sentence = re.sub('[m]{2,}', 'mm', sentence) # m이 3개 이상이면 2개로 변경. Ex) ummmmmmm yeah -> umm yeah\n",
    "    \n",
    "    # 불용어 제거 (Text)\n",
    "    if remove_stopwords:\n",
    "        tokens = ' '.join(word for word in sentence.split() if not word in stopwords.words('english') if len(word) > 1)\n",
    "    # 불용어 미제거 (headllines)\n",
    "    else:\n",
    "        tokens = ' '.join(word for word in sentence.split() if len(word) > 1)\n",
    "    return tokens"
   ]
  },
  {
   "cell_type": "code",
   "execution_count": 9,
   "id": "promotional-interval",
   "metadata": {},
   "outputs": [
    {
     "data": {
      "text/plain": [
       "['saurav kant alumnus upgrad iiit pg program machine learning artificial intelligence sr systems engineer infosys almost years work experience program upgrad degree career support helped transition data scientist tech mahindra salary hike upgrad online power learning powered lakh careers',\n",
       " 'kunal shah credit card bill payment platform cred gave users chance win free food swiggy one year pranav kaushik delhi techie bagged reward spending cred coins users get one cred coin per rupee bill paid used avail rewards brands like ixigo bookmyshow ubereats cult fit',\n",
       " 'new zealand defeated india wickets fourth odi hamilton thursday win first match five match odi series india lost international match rohit sharma captaincy consecutive victories dating back march match witnessed india getting seventh lowest total odi cricket history',\n",
       " 'aegon life iterm insurance plan customers enjoy tax benefits premiums paid save taxes plan provides life cover age years also customers options insure critical illnesses disability accidental death benefit rider life cover age years',\n",
       " 'speaking sexual harassment allegations rajkumar hirani sonam kapoor said known hirani many years true metoo movement get derailed metoo movement always believe woman case need reserve judgment added hirani accused assistant worked sanju']"
      ]
     },
     "execution_count": 9,
     "metadata": {},
     "output_type": "execute_result"
    }
   ],
   "source": [
    "# text데이터 전처리\n",
    "\n",
    "clean_text = []\n",
    "\n",
    "for s in data['text']:\n",
    "    clean_text.append(preprocess_sentence(s))\n",
    "\n",
    "# 전처리 후 출력\n",
    "clean_text[:5]"
   ]
  },
  {
   "cell_type": "code",
   "execution_count": 10,
   "id": "numerical-cleveland",
   "metadata": {},
   "outputs": [
    {
     "data": {
      "text/plain": [
       "['upgrad learner switches to career in ml al with salary hike',\n",
       " 'delhi techie wins free food from swiggy for one year on cred',\n",
       " 'new zealand end rohit sharma led india match winning streak',\n",
       " 'aegon life iterm insurance plan helps customers save tax',\n",
       " 'have known hirani for yrs what if metoo claims are not true sonam']"
      ]
     },
     "execution_count": 10,
     "metadata": {},
     "output_type": "execute_result"
    }
   ],
   "source": [
    "# headlines데이터 전처리\n",
    "\n",
    "clean_headlines = []\n",
    "\n",
    "\n",
    "for s in data['headlines']:\n",
    "    clean_headlines.append(preprocess_sentence(s, False))\n",
    "                            # 불용어 처리 하지 않으므로 False\n",
    "clean_headlines[:5]"
   ]
  },
  {
   "cell_type": "code",
   "execution_count": 11,
   "id": "preliminary-perception",
   "metadata": {},
   "outputs": [],
   "source": [
    "#empty 샘플 확인\n",
    "\n",
    "data['text'] = clean_text\n",
    "data['headlines'] = clean_headlines\n",
    "\n",
    "# 빈 값을 Null 값으로 변환\n",
    "data.replace('', np.nan, inplace=True)"
   ]
  },
  {
   "cell_type": "code",
   "execution_count": 12,
   "id": "applied-wilson",
   "metadata": {},
   "outputs": [
    {
     "data": {
      "text/plain": [
       "headlines    0\n",
       "text         0\n",
       "dtype: int64"
      ]
     },
     "execution_count": 12,
     "metadata": {},
     "output_type": "execute_result"
    }
   ],
   "source": [
    "#data 내부 Null 확인\n",
    "\n",
    "data.isnull().sum()"
   ]
  },
  {
   "cell_type": "markdown",
   "id": "divided-three",
   "metadata": {},
   "source": [
    "Null 없음"
   ]
  },
  {
   "cell_type": "code",
   "execution_count": 13,
   "id": "familiar-convenience",
   "metadata": {},
   "outputs": [
    {
     "name": "stdout",
     "output_type": "stream",
     "text": [
      "텍스트의 최소 길이 : 1\n",
      "텍스트의 최대 길이 : 60\n",
      "텍스트의 평균 길이 : 35.09968483123221\n",
      "요약의 최소 길이 : 1\n",
      "요약의 최대 길이 : 16\n",
      "요약의 평균 길이 : 9.299532330215534\n"
     ]
    },
    {
     "data": {
      "image/png": "[encoded data removed]",
      "text/plain": [
       "<Figure size 432x288 with 2 Axes>"
      ]
     },
     "metadata": {
      "needs_background": "light"
     },
     "output_type": "display_data"
    },
    {
     "data": {
      "image/png": "[encoded data removed]",
      "text/plain": [
       "<Figure size 432x288 with 1 Axes>"
      ]
     },
     "metadata": {
      "needs_background": "light"
     },
     "output_type": "display_data"
    },
    {
     "data": {
      "image/png": "[encoded data removed]",
      "text/plain": [
       "<Figure size 432x288 with 1 Axes>"
      ]
     },
     "metadata": {
      "needs_background": "light"
     },
     "output_type": "display_data"
    }
   ],
   "source": [
    "# 길이 분포 출력\n",
    "import matplotlib.pyplot as plt\n",
    "\n",
    "text_len = [len(s.split()) for s in data['text']]\n",
    "headlines_len = [len(s.split()) for s in data['headlines']]\n",
    "\n",
    "print('텍스트의 최소 길이 : {}'.format(np.min(text_len)))\n",
    "print('텍스트의 최대 길이 : {}'.format(np.max(text_len)))\n",
    "print('텍스트의 평균 길이 : {}'.format(np.mean(text_len)))\n",
    "print('요약의 최소 길이 : {}'.format(np.min(headlines_len)))\n",
    "print('요약의 최대 길이 : {}'.format(np.max(headlines_len)))\n",
    "print('요약의 평균 길이 : {}'.format(np.mean(headlines_len)))\n",
    "\n",
    "plt.subplot(1,2,1)\n",
    "plt.boxplot(headlines_len)\n",
    "plt.title('headlines')\n",
    "plt.subplot(1,2,2)\n",
    "plt.boxplot(text_len)\n",
    "plt.title('text')\n",
    "plt.tight_layout()\n",
    "plt.show()\n",
    "\n",
    "plt.title('headlines')\n",
    "plt.hist(headlines_len, bins = 40)\n",
    "plt.xlabel('length of samples')\n",
    "plt.ylabel('number of samples')\n",
    "plt.show()\n",
    "\n",
    "plt.title('text')\n",
    "plt.hist(text_len, bins = 40)\n",
    "plt.xlabel('length of samples')\n",
    "plt.ylabel('number of samples')\n",
    "plt.show()"
   ]
  },
  {
   "cell_type": "code",
   "execution_count": 14,
   "id": "difficult-yugoslavia",
   "metadata": {},
   "outputs": [],
   "source": [
    "# 샘플 최대길히 제한\n",
    "\n",
    "text_max_len = 41\n",
    "headlines_max_len = 11"
   ]
  },
  {
   "cell_type": "code",
   "execution_count": 15,
   "id": "cubic-astrology",
   "metadata": {},
   "outputs": [],
   "source": [
    "def below_threshold_len(max_len, nested_list):\n",
    "  cnt = 0\n",
    "  for s in nested_list:\n",
    "    if(len(s.split()) <= max_len):\n",
    "        cnt = cnt + 1\n",
    "  print('전체 샘플 중 길이가 %s 이하인 샘플의 비율: %s'%(max_len, (cnt / len(nested_list))))"
   ]
  },
  {
   "cell_type": "code",
   "execution_count": 16,
   "id": "composite-advantage",
   "metadata": {},
   "outputs": [
    {
     "name": "stdout",
     "output_type": "stream",
     "text": [
      "전체 샘플 중 길이가 41 이하인 샘플의 비율: 0.9549613664091094\n",
      "전체 샘플 중 길이가 11 이하인 샘플의 비율: 0.9449877999186661\n"
     ]
    }
   ],
   "source": [
    "below_threshold_len(text_max_len, data['text'])\n",
    "below_threshold_len(headlines_max_len,  data['headlines'])"
   ]
  },
  {
   "cell_type": "code",
   "execution_count": 17,
   "id": "automated-pottery",
   "metadata": {},
   "outputs": [
    {
     "name": "stdout",
     "output_type": "stream",
     "text": [
      "전체 샘플수 : 88749\n"
     ]
    }
   ],
   "source": [
    "# 최대길이보다 긴 데이터 제외\n",
    "\n",
    "data = data[data['text'].apply(lambda x: len(x.split()) <= text_max_len)]\n",
    "data = data[data['headlines'].apply(lambda x: len(x.split()) <= headlines_max_len)]\n",
    "print('전체 샘플수 :',(len(data)))"
   ]
  },
  {
   "cell_type": "code",
   "execution_count": 18,
   "id": "apparent-devil",
   "metadata": {},
   "outputs": [
    {
     "data": {
      "text/html": [
       "<div>\n",
       "<style scoped>\n",
       "    .dataframe tbody tr th:only-of-type {\n",
       "        vertical-align: middle;\n",
       "    }\n",
       "\n",
       "    .dataframe tbody tr th {\n",
       "        vertical-align: top;\n",
       "    }\n",
       "\n",
       "    .dataframe thead th {\n",
       "        text-align: right;\n",
       "    }\n",
       "</style>\n",
       "<table border=\"1\" class=\"dataframe\">\n",
       "  <thead>\n",
       "    <tr style=\"text-align: right;\">\n",
       "      <th></th>\n",
       "      <th>headlines</th>\n",
       "      <th>text</th>\n",
       "      <th>decoder_input</th>\n",
       "      <th>decoder_target</th>\n",
       "    </tr>\n",
       "  </thead>\n",
       "  <tbody>\n",
       "    <tr>\n",
       "      <th>0</th>\n",
       "      <td>upgrad learner switches to career in ml al wit...</td>\n",
       "      <td>saurav kant alumnus upgrad iiit pg program mac...</td>\n",
       "      <td>sostoken upgrad learner switches to career in ...</td>\n",
       "      <td>upgrad learner switches to career in ml al wit...</td>\n",
       "    </tr>\n",
       "    <tr>\n",
       "      <th>2</th>\n",
       "      <td>new zealand end rohit sharma led india match w...</td>\n",
       "      <td>new zealand defeated india wickets fourth odi ...</td>\n",
       "      <td>sostoken new zealand end rohit sharma led indi...</td>\n",
       "      <td>new zealand end rohit sharma led india match w...</td>\n",
       "    </tr>\n",
       "    <tr>\n",
       "      <th>3</th>\n",
       "      <td>aegon life iterm insurance plan helps customer...</td>\n",
       "      <td>aegon life iterm insurance plan customers enjo...</td>\n",
       "      <td>sostoken aegon life iterm insurance plan helps...</td>\n",
       "      <td>aegon life iterm insurance plan helps customer...</td>\n",
       "    </tr>\n",
       "    <tr>\n",
       "      <th>5</th>\n",
       "      <td>rahat fateh ali khan denies getting notice for...</td>\n",
       "      <td>pakistani singer rahat fateh ali khan denied r...</td>\n",
       "      <td>sostoken rahat fateh ali khan denies getting n...</td>\n",
       "      <td>rahat fateh ali khan denies getting notice for...</td>\n",
       "    </tr>\n",
       "    <tr>\n",
       "      <th>7</th>\n",
       "      <td>govt directs alok verma to join work day befor...</td>\n",
       "      <td>weeks ex cbi director alok verma told departme...</td>\n",
       "      <td>sostoken govt directs alok verma to join work ...</td>\n",
       "      <td>govt directs alok verma to join work day befor...</td>\n",
       "    </tr>\n",
       "  </tbody>\n",
       "</table>\n",
       "</div>"
      ],
      "text/plain": [
       "                                           headlines  \\\n",
       "0  upgrad learner switches to career in ml al wit...   \n",
       "2  new zealand end rohit sharma led india match w...   \n",
       "3  aegon life iterm insurance plan helps customer...   \n",
       "5  rahat fateh ali khan denies getting notice for...   \n",
       "7  govt directs alok verma to join work day befor...   \n",
       "\n",
       "                                                text  \\\n",
       "0  saurav kant alumnus upgrad iiit pg program mac...   \n",
       "2  new zealand defeated india wickets fourth odi ...   \n",
       "3  aegon life iterm insurance plan customers enjo...   \n",
       "5  pakistani singer rahat fateh ali khan denied r...   \n",
       "7  weeks ex cbi director alok verma told departme...   \n",
       "\n",
       "                                       decoder_input  \\\n",
       "0  sostoken upgrad learner switches to career in ...   \n",
       "2  sostoken new zealand end rohit sharma led indi...   \n",
       "3  sostoken aegon life iterm insurance plan helps...   \n",
       "5  sostoken rahat fateh ali khan denies getting n...   \n",
       "7  sostoken govt directs alok verma to join work ...   \n",
       "\n",
       "                                      decoder_target  \n",
       "0  upgrad learner switches to career in ml al wit...  \n",
       "2  new zealand end rohit sharma led india match w...  \n",
       "3  aegon life iterm insurance plan helps customer...  \n",
       "5  rahat fateh ali khan denies getting notice for...  \n",
       "7  govt directs alok verma to join work day befor...  "
      ]
     },
     "execution_count": 18,
     "metadata": {},
     "output_type": "execute_result"
    }
   ],
   "source": [
    "# 시작토큰, 종료토큰 추가\n",
    "\n",
    "data['decoder_input'] = data['headlines'].apply(lambda x : 'sostoken '+ x)\n",
    "data['decoder_target'] = data['headlines'].apply(lambda x : x + ' eostoken')\n",
    "data.head()"
   ]
  },
  {
   "cell_type": "code",
   "execution_count": 19,
   "id": "genuine-nomination",
   "metadata": {},
   "outputs": [],
   "source": [
    "# 인코더 입력, 디코더 입력, 레이블 각각 Numpy 타입으로 저장\n",
    "\n",
    "encoder_input = np.array(data['text']) # 인코더의 입력\n",
    "decoder_input = np.array(data['decoder_input']) # 디코더의 입력\n",
    "decoder_target = np.array(data['decoder_target']) # 디코더의 레이블"
   ]
  },
  {
   "cell_type": "code",
   "execution_count": 20,
   "id": "practical-occupation",
   "metadata": {},
   "outputs": [
    {
     "name": "stdout",
     "output_type": "stream",
     "text": [
      "[13905 66410 57854 ... 83654 40243 16160]\n"
     ]
    }
   ],
   "source": [
    "# 정수 시퀀스 생성\n",
    "\n",
    "indices = np.arange(encoder_input.shape[0])\n",
    "np.random.shuffle(indices)\n",
    "print(indices)"
   ]
  },
  {
   "cell_type": "code",
   "execution_count": 21,
   "id": "speaking-bosnia",
   "metadata": {},
   "outputs": [],
   "source": [
    "# 정수 시퀀스를 이용하여 데이터 순서 재정의\n",
    "\n",
    "encoder_input = encoder_input[indices]\n",
    "decoder_input = decoder_input[indices]\n",
    "decoder_target = decoder_target[indices]"
   ]
  },
  {
   "cell_type": "code",
   "execution_count": 22,
   "id": "three-radio",
   "metadata": {},
   "outputs": [
    {
     "name": "stdout",
     "output_type": "stream",
     "text": [
      "테스트 데이터의 수 : 17749\n"
     ]
    }
   ],
   "source": [
    "#test set 비율 지정\n",
    "\n",
    "n_of_val = int(len(encoder_input)*0.2)\n",
    "print('테스트 데이터의 수 :',n_of_val)"
   ]
  },
  {
   "cell_type": "code",
   "execution_count": 23,
   "id": "former-parking",
   "metadata": {},
   "outputs": [
    {
     "name": "stdout",
     "output_type": "stream",
     "text": [
      "훈련 데이터의 개수 : 71000\n",
      "훈련 레이블의 개수 : 71000\n",
      "테스트 데이터의 개수 : 17749\n",
      "테스트 레이블의 개수 : 17749\n"
     ]
    }
   ],
   "source": [
    "# train, test 분리\n",
    "\n",
    "encoder_input_train = encoder_input[:-n_of_val]\n",
    "decoder_input_train = decoder_input[:-n_of_val]\n",
    "decoder_target_train = decoder_target[:-n_of_val]\n",
    "\n",
    "encoder_input_test = encoder_input[-n_of_val:]\n",
    "decoder_input_test = decoder_input[-n_of_val:]\n",
    "decoder_target_test = decoder_target[-n_of_val:]\n",
    "\n",
    "print('훈련 데이터의 개수 :', len(encoder_input_train))\n",
    "print('훈련 레이블의 개수 :',len(decoder_input_train))\n",
    "print('테스트 데이터의 개수 :',len(encoder_input_test))\n",
    "print('테스트 레이블의 개수 :',len(decoder_input_test))"
   ]
  },
  {
   "cell_type": "code",
   "execution_count": 24,
   "id": "little-latter",
   "metadata": {},
   "outputs": [],
   "source": [
    "# train 단어집합 생성\n",
    "\n",
    "src_tokenizer = Tokenizer() # 토크나이저 정의\n",
    "src_tokenizer.fit_on_texts(encoder_input_train) # 입력된 데이터로부터 단어 집합 생성"
   ]
  },
  {
   "cell_type": "code",
   "execution_count": 25,
   "id": "developmental-spray",
   "metadata": {},
   "outputs": [
    {
     "name": "stdout",
     "output_type": "stream",
     "text": [
      "단어 집합(vocabulary)의 크기 : 65976\n",
      "등장 빈도가 6번 이하인 희귀 단어의 수: 44926\n",
      "단어 집합에서 희귀 단어를 제외시킬 경우의 단어 집합의 크기 21050\n",
      "단어 집합에서 희귀 단어의 비율: 68.09445859100279\n",
      "전체 등장 빈도에서 희귀 단어 등장 빈도 비율: 3.6991934330218723\n"
     ]
    }
   ],
   "source": [
    "#등장 빈도수 탐색\n",
    "\n",
    "threshold = 7\n",
    "total_cnt = len(src_tokenizer.word_index) # 단어의 수\n",
    "rare_cnt = 0 # 등장 빈도수가 threshold보다 작은 단어의 개수를 카운트\n",
    "total_freq = 0 # 훈련 데이터의 전체 단어 빈도수 총 합\n",
    "rare_freq = 0 # 등장 빈도수가 threshold보다 작은 단어의 등장 빈도수의 총 합\n",
    "\n",
    "# 단어와 빈도수의 쌍(pair)을 key와 value로 받는다.\n",
    "for key, value in src_tokenizer.word_counts.items():\n",
    "    total_freq = total_freq + value\n",
    "\n",
    "    # 단어의 등장 빈도수가 threshold보다 작으면\n",
    "    if(value < threshold):\n",
    "        rare_cnt = rare_cnt + 1\n",
    "        rare_freq = rare_freq + value\n",
    "\n",
    "print('단어 집합(vocabulary)의 크기 :',total_cnt)\n",
    "print('등장 빈도가 %s번 이하인 희귀 단어의 수: %s'%(threshold - 1, rare_cnt))\n",
    "print('단어 집합에서 희귀 단어를 제외시킬 경우의 단어 집합의 크기 %s'%(total_cnt - rare_cnt))\n",
    "print(\"단어 집합에서 희귀 단어의 비율:\", (rare_cnt / total_cnt)*100)\n",
    "print(\"전체 등장 빈도에서 희귀 단어 등장 빈도 비율:\", (rare_freq / total_freq)*100)"
   ]
  },
  {
   "cell_type": "code",
   "execution_count": 26,
   "id": "aggregate-booth",
   "metadata": {},
   "outputs": [],
   "source": [
    "#단어집합 크기 제한\n",
    "\n",
    "src_vocab = 20000\n",
    "src_tokenizer = Tokenizer(num_words = src_vocab) # 단어 집합의 크기를 20,000으로 제한\n",
    "src_tokenizer.fit_on_texts(encoder_input_train) # 단어 집합 재생성."
   ]
  },
  {
   "cell_type": "code",
   "execution_count": 27,
   "id": "silver-discrimination",
   "metadata": {},
   "outputs": [
    {
     "name": "stdout",
     "output_type": "stream",
     "text": [
      "[[2163, 2265, 144, 2278, 2279, 4040, 161, 274, 151, 1978, 425, 3403, 3058, 3, 13, 1267, 425, 10315, 164, 1525, 1979, 161, 274, 76, 7485, 2883, 164], [202, 757, 17382, 8131, 240, 1986, 2191, 633, 1235, 3339, 228, 19613, 1405, 57, 633, 673, 806, 8725, 525, 2191, 122, 150, 6565, 5265, 19613, 280, 588, 21, 862, 1405], [5, 16, 123, 43, 262, 9051, 270, 313, 241, 985, 125, 2484, 790, 7735, 40, 3548, 43, 1923, 9614, 1, 1173, 3005, 305, 378, 5613, 83, 282, 184, 2446, 9052, 9051]]\n"
     ]
    }
   ],
   "source": [
    "# 텍스트 시퀀스를 정수 시퀀스로 변환\n",
    "encoder_input_train = src_tokenizer.texts_to_sequences(encoder_input_train) \n",
    "encoder_input_test = src_tokenizer.texts_to_sequences(encoder_input_test)\n",
    "\n",
    "#잘 진행되었는지 샘플 출력\n",
    "print(encoder_input_train[:3])"
   ]
  },
  {
   "cell_type": "code",
   "execution_count": 28,
   "id": "religious-april",
   "metadata": {},
   "outputs": [],
   "source": [
    "# test 안어집합 생성\n",
    "\n",
    "tar_tokenizer = Tokenizer()\n",
    "tar_tokenizer.fit_on_texts(decoder_input_train)"
   ]
  },
  {
   "cell_type": "code",
   "execution_count": 29,
   "id": "continuing-joining",
   "metadata": {},
   "outputs": [
    {
     "name": "stdout",
     "output_type": "stream",
     "text": [
      "단어 집합(vocabulary)의 크기 : 28968\n",
      "등장 빈도가 5번 이하인 희귀 단어의 수: 19043\n",
      "단어 집합에서 희귀 단어를 제외시킬 경우의 단어 집합의 크기 9925\n",
      "단어 집합에서 희귀 단어의 비율: 65.73805578569456\n",
      "전체 등장 빈도에서 희귀 단어 등장 빈도 비율: 5.066319490808742\n"
     ]
    }
   ],
   "source": [
    "# 빈도수 탐색\n",
    "\n",
    "threshold = 6\n",
    "total_cnt = len(tar_tokenizer.word_index) # 단어의 수\n",
    "rare_cnt = 0 # 등장 빈도수가 threshold보다 작은 단어의 개수를 카운트\n",
    "total_freq = 0 # 훈련 데이터의 전체 단어 빈도수 총 합\n",
    "rare_freq = 0 # 등장 빈도수가 threshold보다 작은 단어의 등장 빈도수의 총 합\n",
    "\n",
    "# 단어와 빈도수의 쌍(pair)을 key와 value로 받는다.\n",
    "for key, value in tar_tokenizer.word_counts.items():\n",
    "    total_freq = total_freq + value\n",
    "\n",
    "    # 단어의 등장 빈도수가 threshold보다 작으면\n",
    "    if(value < threshold):\n",
    "        rare_cnt = rare_cnt + 1\n",
    "        rare_freq = rare_freq + value\n",
    "\n",
    "print('단어 집합(vocabulary)의 크기 :',total_cnt)\n",
    "print('등장 빈도가 %s번 이하인 희귀 단어의 수: %s'%(threshold - 1, rare_cnt))\n",
    "print('단어 집합에서 희귀 단어를 제외시킬 경우의 단어 집합의 크기 %s'%(total_cnt - rare_cnt))\n",
    "print(\"단어 집합에서 희귀 단어의 비율:\", (rare_cnt / total_cnt)*100)\n",
    "print(\"전체 등장 빈도에서 희귀 단어 등장 빈도 비율:\", (rare_freq / total_freq)*100)"
   ]
  },
  {
   "cell_type": "code",
   "execution_count": 30,
   "id": "polish-africa",
   "metadata": {},
   "outputs": [
    {
     "name": "stdout",
     "output_type": "stream",
     "text": [
      "input\n",
      "input  [[1, 20, 43, 64, 116, 200, 9, 1638, 440, 460, 5, 208], [1, 7236, 465, 4, 5250, 724, 255, 4, 9063], [1, 144, 1977, 164, 144, 2939, 24, 5, 30, 571, 1863, 4667], [1, 3594, 5038, 5, 3594, 203, 7, 860, 62], [1, 5779, 378, 29, 102, 5, 1025, 4235, 646, 19]]\n",
      "target\n",
      "decoder  [[20, 43, 64, 116, 200, 9, 1638, 440, 460, 5, 208, 2], [7236, 465, 4, 5250, 724, 255, 4, 9063, 2], [144, 1977, 164, 144, 2939, 24, 5, 30, 571, 1863, 4667, 2], [3594, 5038, 5, 3594, 203, 7, 860, 62, 2], [5779, 378, 29, 102, 5, 1025, 4235, 646, 19, 2]]\n"
     ]
    }
   ],
   "source": [
    "# 단어집합 크기 제한\n",
    "\n",
    "tar_vocab = 9500\n",
    "tar_tokenizer = Tokenizer(num_words = tar_vocab) \n",
    "tar_tokenizer.fit_on_texts(decoder_input_train)\n",
    "tar_tokenizer.fit_on_texts(decoder_target_train)\n",
    "\n",
    "# 텍스트 시퀀스를 정수 시퀀스로 변환\n",
    "decoder_input_train = tar_tokenizer.texts_to_sequences(decoder_input_train) \n",
    "decoder_target_train = tar_tokenizer.texts_to_sequences(decoder_target_train)\n",
    "decoder_input_test = tar_tokenizer.texts_to_sequences(decoder_input_test)\n",
    "decoder_target_test = tar_tokenizer.texts_to_sequences(decoder_target_test)\n",
    "\n",
    "#잘 변환되었는지 확인\n",
    "print('input')\n",
    "print('input ',decoder_input_train[:5])\n",
    "print('target')\n",
    "print('decoder ',decoder_target_train[:5])"
   ]
  },
  {
   "cell_type": "code",
   "execution_count": 31,
   "id": "numerical-mixture",
   "metadata": {},
   "outputs": [
    {
     "name": "stdout",
     "output_type": "stream",
     "text": [
      "삭제할 훈련 데이터의 개수 : 1\n",
      "삭제할 테스트 데이터의 개수 : 0\n",
      "훈련 데이터의 개수 : 70999\n",
      "훈련 레이블의 개수 : 70999\n",
      "테스트 데이터의 개수 : 17749\n",
      "테스트 레이블의 개수 : 17749\n"
     ]
    },
    {
     "name": "stderr",
     "output_type": "stream",
     "text": [
      "/home/aiffel-dj48/Downloads/aiffel/envs/aiffel/lib/python3.7/site-packages/numpy/core/_asarray.py:83: VisibleDeprecationWarning: Creating an ndarray from ragged nested sequences (which is a list-or-tuple of lists-or-tuples-or ndarrays with different lengths or shapes) is deprecated. If you meant to do this, you must specify 'dtype=object' when creating the ndarray\n",
      "  return array(a, dtype, copy=False, order=order)\n"
     ]
    }
   ],
   "source": [
    "# 길이가 1인 인덱스 탐색\n",
    "\n",
    "drop_train = [index for index, sentence in enumerate(decoder_input_train) if len(sentence) == 1]\n",
    "drop_test = [index for index, sentence in enumerate(decoder_input_test) if len(sentence) == 1]\n",
    "\n",
    "print('삭제할 훈련 데이터의 개수 :',len(drop_train))\n",
    "print('삭제할 테스트 데이터의 개수 :',len(drop_test))\n",
    "\n",
    "encoder_input_train = np.delete(encoder_input_train, drop_train, axis=0)\n",
    "decoder_input_train = np.delete(decoder_input_train, drop_train, axis=0)\n",
    "decoder_target_train = np.delete(decoder_target_train, drop_train, axis=0)\n",
    "\n",
    "encoder_input_test = np.delete(encoder_input_test, drop_test, axis=0)\n",
    "decoder_input_test = np.delete(decoder_input_test, drop_test, axis=0)\n",
    "decoder_target_test = np.delete(decoder_target_test, drop_test, axis=0)\n",
    "\n",
    "print('훈련 데이터의 개수 :', len(encoder_input_train))\n",
    "print('훈련 레이블의 개수 :',len(decoder_input_train))\n",
    "print('테스트 데이터의 개수 :',len(encoder_input_test))\n",
    "print('테스트 레이블의 개수 :',len(decoder_input_test))"
   ]
  },
  {
   "cell_type": "code",
   "execution_count": 32,
   "id": "mighty-sport",
   "metadata": {},
   "outputs": [],
   "source": [
    "# 최대 길이에 맞게 패딩\n",
    "\n",
    "encoder_input_train = pad_sequences(encoder_input_train, maxlen = text_max_len, padding='post')\n",
    "encoder_input_test = pad_sequences(encoder_input_test, maxlen = text_max_len, padding='post')\n",
    "decoder_input_train = pad_sequences(decoder_input_train, maxlen = headlines_max_len, padding='post')\n",
    "decoder_target_train = pad_sequences(decoder_target_train, maxlen = headlines_max_len, padding='post')\n",
    "decoder_input_test = pad_sequences(decoder_input_test, maxlen = headlines_max_len, padding='post')\n",
    "decoder_target_test = pad_sequences(decoder_target_test, maxlen = headlines_max_len, padding='post')"
   ]
  },
  {
   "cell_type": "markdown",
   "id": "norman-funds",
   "metadata": {},
   "source": [
    "## 11.3 모델 생성(추상적 요약)"
   ]
  },
  {
   "cell_type": "code",
   "execution_count": 33,
   "id": "complimentary-building",
   "metadata": {},
   "outputs": [
    {
     "name": "stdout",
     "output_type": "stream",
     "text": [
      "WARNING:tensorflow:Layer lstm will not use cuDNN kernel since it doesn't meet the cuDNN kernel criteria. It will use generic GPU kernel as fallback when running on GPU\n",
      "WARNING:tensorflow:Layer lstm_1 will not use cuDNN kernel since it doesn't meet the cuDNN kernel criteria. It will use generic GPU kernel as fallback when running on GPU\n",
      "WARNING:tensorflow:Layer lstm_2 will not use cuDNN kernel since it doesn't meet the cuDNN kernel criteria. It will use generic GPU kernel as fallback when running on GPU\n"
     ]
    }
   ],
   "source": [
    "# 인코더 설계\n",
    "\n",
    "from tensorflow.keras.layers import Input, LSTM, Embedding, Dense, Concatenate\n",
    "from tensorflow.keras.models import Model\n",
    "from tensorflow.keras.callbacks import EarlyStopping, ModelCheckpoint\n",
    "\n",
    "\n",
    "# 인코더 설계 시작\n",
    "embedding_dim = 128\n",
    "hidden_size = 256\n",
    "\n",
    "# 인코더\n",
    "encoder_inputs = Input(shape=(text_max_len,))\n",
    "\n",
    "# 인코더의 임베딩 층\n",
    "enc_emb = Embedding(src_vocab, embedding_dim)(encoder_inputs)\n",
    "\n",
    "# 인코더의 LSTM 1\n",
    "encoder_lstm1 = LSTM(hidden_size, return_sequences=True, return_state=True ,dropout = 0.4, recurrent_dropout = 0.4)\n",
    "encoder_output1, state_h1, state_c1 = encoder_lstm1(enc_emb)\n",
    "\n",
    "# 인코더의 LSTM 2\n",
    "encoder_lstm2 = LSTM(hidden_size, return_sequences=True, return_state=True, dropout=0.4, recurrent_dropout=0.4)\n",
    "encoder_output2, state_h2, state_c2 = encoder_lstm2(encoder_output1)\n",
    "\n",
    "# 인코더의 LSTM 3\n",
    "encoder_lstm3 = LSTM(hidden_size, return_state=True, return_sequences=True, dropout=0.4, recurrent_dropout=0.4)\n",
    "encoder_outputs, state_h, state_c= encoder_lstm3(encoder_output2)"
   ]
  },
  {
   "cell_type": "code",
   "execution_count": 34,
   "id": "elegant-method",
   "metadata": {},
   "outputs": [
    {
     "name": "stdout",
     "output_type": "stream",
     "text": [
      "WARNING:tensorflow:Layer lstm_3 will not use cuDNN kernel since it doesn't meet the cuDNN kernel criteria. It will use generic GPU kernel as fallback when running on GPU\n"
     ]
    }
   ],
   "source": [
    "# 디코더 설계\n",
    "\n",
    "decoder_inputs = Input(shape=(None,))\n",
    "\n",
    "# 디코더의 임베딩 층\n",
    "dec_emb_layer = Embedding(tar_vocab, embedding_dim)\n",
    "dec_emb = dec_emb_layer(decoder_inputs)\n",
    "\n",
    "# 디코더의 LSTM\n",
    "decoder_lstm = LSTM(hidden_size, return_sequences = True, return_state = True, dropout = 0.4, recurrent_dropout=0.2)\n",
    "decoder_outputs, _, _ = decoder_lstm(dec_emb, initial_state = [state_h, state_c])"
   ]
  },
  {
   "cell_type": "code",
   "execution_count": 35,
   "id": "adolescent-declaration",
   "metadata": {},
   "outputs": [
    {
     "name": "stdout",
     "output_type": "stream",
     "text": [
      "Model: \"model\"\n",
      "__________________________________________________________________________________________________\n",
      "Layer (type)                    Output Shape         Param #     Connected to                     \n",
      "==================================================================================================\n",
      "input_1 (InputLayer)            [(None, 41)]         0                                            \n",
      "__________________________________________________________________________________________________\n",
      "embedding (Embedding)           (None, 41, 128)      2560000     input_1[0][0]                    \n",
      "__________________________________________________________________________________________________\n",
      "lstm (LSTM)                     [(None, 41, 256), (N 394240      embedding[0][0]                  \n",
      "__________________________________________________________________________________________________\n",
      "input_2 (InputLayer)            [(None, None)]       0                                            \n",
      "__________________________________________________________________________________________________\n",
      "lstm_1 (LSTM)                   [(None, 41, 256), (N 525312      lstm[0][0]                       \n",
      "__________________________________________________________________________________________________\n",
      "embedding_1 (Embedding)         (None, None, 128)    1216000     input_2[0][0]                    \n",
      "__________________________________________________________________________________________________\n",
      "lstm_2 (LSTM)                   [(None, 41, 256), (N 525312      lstm_1[0][0]                     \n",
      "__________________________________________________________________________________________________\n",
      "lstm_3 (LSTM)                   [(None, None, 256),  394240      embedding_1[0][0]                \n",
      "                                                                 lstm_2[0][1]                     \n",
      "                                                                 lstm_2[0][2]                     \n",
      "__________________________________________________________________________________________________\n",
      "dense (Dense)                   (None, None, 9500)   2441500     lstm_3[0][0]                     \n",
      "==================================================================================================\n",
      "Total params: 8,056,604\n",
      "Trainable params: 8,056,604\n",
      "Non-trainable params: 0\n",
      "__________________________________________________________________________________________________\n"
     ]
    }
   ],
   "source": [
    "# 디코더의 출력층\n",
    "decoder_softmax_layer = Dense(tar_vocab, activation = 'softmax')\n",
    "decoder_softmax_outputs = decoder_softmax_layer(decoder_outputs) \n",
    "\n",
    "# 모델 정의\n",
    "model = Model([encoder_inputs, decoder_inputs], decoder_softmax_outputs)\n",
    "model.summary()"
   ]
  },
  {
   "cell_type": "code",
   "execution_count": 36,
   "id": "narrow-venice",
   "metadata": {},
   "outputs": [],
   "source": [
    "#어텐션 함수 다운로드\n",
    "\n",
    "urllib.request.urlretrieve(\"https://raw.githubusercontent.com/thushv89/attention_keras/master/src/layers/attention.py\", filename=\"attention.py\")\n",
    "from attention import AttentionLayer"
   ]
  },
  {
   "cell_type": "code",
   "execution_count": 37,
   "id": "connected-examination",
   "metadata": {},
   "outputs": [
    {
     "name": "stdout",
     "output_type": "stream",
     "text": [
      "Model: \"model_1\"\n",
      "__________________________________________________________________________________________________\n",
      "Layer (type)                    Output Shape         Param #     Connected to                     \n",
      "==================================================================================================\n",
      "input_1 (InputLayer)            [(None, 41)]         0                                            \n",
      "__________________________________________________________________________________________________\n",
      "embedding (Embedding)           (None, 41, 128)      2560000     input_1[0][0]                    \n",
      "__________________________________________________________________________________________________\n",
      "lstm (LSTM)                     [(None, 41, 256), (N 394240      embedding[0][0]                  \n",
      "__________________________________________________________________________________________________\n",
      "input_2 (InputLayer)            [(None, None)]       0                                            \n",
      "__________________________________________________________________________________________________\n",
      "lstm_1 (LSTM)                   [(None, 41, 256), (N 525312      lstm[0][0]                       \n",
      "__________________________________________________________________________________________________\n",
      "embedding_1 (Embedding)         (None, None, 128)    1216000     input_2[0][0]                    \n",
      "__________________________________________________________________________________________________\n",
      "lstm_2 (LSTM)                   [(None, 41, 256), (N 525312      lstm_1[0][0]                     \n",
      "__________________________________________________________________________________________________\n",
      "lstm_3 (LSTM)                   [(None, None, 256),  394240      embedding_1[0][0]                \n",
      "                                                                 lstm_2[0][1]                     \n",
      "                                                                 lstm_2[0][2]                     \n",
      "__________________________________________________________________________________________________\n",
      "attention_layer (AttentionLayer ((None, None, 256),  131328      lstm_2[0][0]                     \n",
      "                                                                 lstm_3[0][0]                     \n",
      "__________________________________________________________________________________________________\n",
      "concat_layer (Concatenate)      (None, None, 512)    0           lstm_3[0][0]                     \n",
      "                                                                 attention_layer[0][0]            \n",
      "__________________________________________________________________________________________________\n",
      "dense_1 (Dense)                 (None, None, 9500)   4873500     concat_layer[0][0]               \n",
      "==================================================================================================\n",
      "Total params: 10,619,932\n",
      "Trainable params: 10,619,932\n",
      "Non-trainable params: 0\n",
      "__________________________________________________________________________________________________\n"
     ]
    }
   ],
   "source": [
    "#어텐션 적용\n",
    "\n",
    "# 어텐션 층(어텐션 함수)\n",
    "attn_layer = AttentionLayer(name='attention_layer')\n",
    "# 인코더와 디코더의 모든 time step의 hidden state를 어텐션 층에 전달하고 결과를 리턴\n",
    "attn_out, attn_states = attn_layer([encoder_outputs, decoder_outputs])\n",
    "\n",
    "# 어텐션의 결과와 디코더의 hidden state들을 연결\n",
    "decoder_concat_input = Concatenate(axis = -1, name='concat_layer')([decoder_outputs, attn_out])\n",
    "\n",
    "# 디코더의 출력층\n",
    "decoder_softmax_layer = Dense(tar_vocab, activation='softmax')\n",
    "decoder_softmax_outputs = decoder_softmax_layer(decoder_concat_input)\n",
    "\n",
    "# 모델 정의\n",
    "model = Model([encoder_inputs, decoder_inputs], decoder_softmax_outputs)\n",
    "model.summary()"
   ]
  },
  {
   "cell_type": "markdown",
   "id": "baking-jordan",
   "metadata": {},
   "source": [
    "## 11.4 모델 훈련(추상적 요약)"
   ]
  },
  {
   "cell_type": "code",
   "execution_count": 38,
   "id": "verbal-painting",
   "metadata": {},
   "outputs": [
    {
     "name": "stdout",
     "output_type": "stream",
     "text": [
      "Epoch 1/50\n",
      "278/278 [==============================] - 90s 324ms/step - loss: 5.9929 - val_loss: 5.6049\n",
      "Epoch 2/50\n",
      "278/278 [==============================] - 89s 321ms/step - loss: 5.4296 - val_loss: 5.2174\n",
      "Epoch 3/50\n",
      "278/278 [==============================] - 89s 321ms/step - loss: 5.0657 - val_loss: 4.9124\n",
      "Epoch 4/50\n",
      "278/278 [==============================] - 89s 322ms/step - loss: 4.7767 - val_loss: 4.7110\n",
      "Epoch 5/50\n",
      "278/278 [==============================] - 89s 322ms/step - loss: 4.5531 - val_loss: 4.5667\n",
      "Epoch 6/50\n",
      "278/278 [==============================] - 90s 323ms/step - loss: 4.3696 - val_loss: 4.4330\n",
      "Epoch 7/50\n",
      "278/278 [==============================] - 90s 322ms/step - loss: 4.2066 - val_loss: 4.3193\n",
      "Epoch 8/50\n",
      "278/278 [==============================] - 90s 322ms/step - loss: 4.0665 - val_loss: 4.2326\n",
      "Epoch 9/50\n",
      "278/278 [==============================] - 90s 324ms/step - loss: 3.9419 - val_loss: 4.1743\n",
      "Epoch 10/50\n",
      "278/278 [==============================] - 90s 323ms/step - loss: 3.8294 - val_loss: 4.1110\n",
      "Epoch 11/50\n",
      "278/278 [==============================] - 90s 323ms/step - loss: 3.7309 - val_loss: 4.0711\n",
      "Epoch 12/50\n",
      "278/278 [==============================] - 90s 322ms/step - loss: 3.6420 - val_loss: 4.0312\n",
      "Epoch 13/50\n",
      "278/278 [==============================] - 90s 323ms/step - loss: 3.5580 - val_loss: 3.9938\n",
      "Epoch 14/50\n",
      "278/278 [==============================] - 90s 324ms/step - loss: 3.4826 - val_loss: 3.9687\n",
      "Epoch 15/50\n",
      "278/278 [==============================] - 90s 323ms/step - loss: 3.4146 - val_loss: 3.9416\n",
      "Epoch 16/50\n",
      "278/278 [==============================] - 90s 323ms/step - loss: 3.3504 - val_loss: 3.9265\n",
      "Epoch 17/50\n",
      "278/278 [==============================] - 90s 324ms/step - loss: 3.2925 - val_loss: 3.9065\n",
      "Epoch 18/50\n",
      "278/278 [==============================] - 90s 323ms/step - loss: 3.2322 - val_loss: 3.8890\n",
      "Epoch 19/50\n",
      "278/278 [==============================] - 90s 324ms/step - loss: 3.1768 - val_loss: 3.8722\n",
      "Epoch 20/50\n",
      "278/278 [==============================] - 91s 326ms/step - loss: 3.1283 - val_loss: 3.8663\n",
      "Epoch 21/50\n",
      "278/278 [==============================] - 90s 323ms/step - loss: 3.0797 - val_loss: 3.8565\n",
      "Epoch 22/50\n",
      "278/278 [==============================] - 90s 323ms/step - loss: 3.0375 - val_loss: 3.8613\n",
      "Epoch 23/50\n",
      "278/278 [==============================] - 90s 323ms/step - loss: 2.9975 - val_loss: 3.8390\n",
      "Epoch 24/50\n",
      "278/278 [==============================] - 90s 324ms/step - loss: 2.9589 - val_loss: 3.8338\n",
      "Epoch 25/50\n",
      "278/278 [==============================] - 90s 323ms/step - loss: 2.9205 - val_loss: 3.8364\n",
      "Epoch 26/50\n",
      "278/278 [==============================] - 90s 323ms/step - loss: 2.8820 - val_loss: 3.8409\n",
      "Epoch 00026: early stopping\n"
     ]
    }
   ],
   "source": [
    "#훈련 진행\n",
    "\n",
    "model.compile(optimizer='rmsprop', loss='sparse_categorical_crossentropy')\n",
    "es = EarlyStopping(monitor='val_loss', mode='min', verbose=1, patience = 2)\n",
    "history = model.fit(x = [encoder_input_train, decoder_input_train], y = decoder_target_train, \\\n",
    "          validation_data = ([encoder_input_test, decoder_input_test], decoder_target_test),\n",
    "          batch_size = 256, callbacks=[es], epochs = 50)"
   ]
  },
  {
   "cell_type": "code",
   "execution_count": 39,
   "id": "changed-caution",
   "metadata": {},
   "outputs": [
    {
     "data": {
      "image/png": "[encoded data removed]",
      "text/plain": [
       "<Figure size 432x288 with 1 Axes>"
      ]
     },
     "metadata": {
      "needs_background": "light"
     },
     "output_type": "display_data"
    }
   ],
   "source": [
    "# loss 변화율 시각화\n",
    "\n",
    "plt.plot(history.history['loss'], label='train')\n",
    "plt.plot(history.history['val_loss'], label='test')\n",
    "plt.legend()\n",
    "plt.show()"
   ]
  },
  {
   "cell_type": "markdown",
   "id": "worth-cassette",
   "metadata": {},
   "source": [
    "## 11.5 인퍼런스 모델 구현"
   ]
  },
  {
   "cell_type": "code",
   "execution_count": 40,
   "id": "subtle-rogers",
   "metadata": {},
   "outputs": [],
   "source": [
    "#정수데이터 복원을 위한 사전 구성\n",
    "\n",
    "src_index_to_word = src_tokenizer.index_word # 원문 단어 집합에서 정수 -> 단어를 얻음\n",
    "tar_word_to_index = tar_tokenizer.word_index # 요약 단어 집합에서 단어 -> 정수를 얻음\n",
    "tar_index_to_word = tar_tokenizer.index_word # 요약 단어 집합에서 정수 -> 단어를 얻음"
   ]
  },
  {
   "cell_type": "code",
   "execution_count": 41,
   "id": "norwegian-bangladesh",
   "metadata": {},
   "outputs": [],
   "source": [
    "# 인코더 설계\n",
    "encoder_model = Model(inputs=encoder_inputs, outputs=[encoder_outputs, state_h, state_c])\n",
    "\n",
    "# 이전 시점의 상태들을 저장하는 텐서\n",
    "decoder_state_input_h = Input(shape=(hidden_size,))\n",
    "decoder_state_input_c = Input(shape=(hidden_size,))\n",
    "\n",
    "dec_emb2 = dec_emb_layer(decoder_inputs)\n",
    "# 문장의 다음 단어를 예측하기 위해서 초기 상태(initial_state)를 이전 시점의 상태로 사용. 이는 뒤의 함수 decode_sequence()에 구현\n",
    "# 훈련 과정에서와 달리 LSTM의 리턴하는 은닉 상태와 셀 상태인 state_h와 state_c를 버리지 않음.\n",
    "decoder_outputs2, state_h2, state_c2 = decoder_lstm(dec_emb2, initial_state=[decoder_state_input_h, decoder_state_input_c])"
   ]
  },
  {
   "cell_type": "code",
   "execution_count": 42,
   "id": "interior-subscription",
   "metadata": {},
   "outputs": [],
   "source": [
    "# 출력층 생성\n",
    "\n",
    "# 어텐션 함수\n",
    "decoder_hidden_state_input = Input(shape=(text_max_len, hidden_size))\n",
    "attn_out_inf, attn_states_inf = attn_layer([decoder_hidden_state_input, decoder_outputs2])\n",
    "decoder_inf_concat = Concatenate(axis=-1, name='concat')([decoder_outputs2, attn_out_inf])\n",
    "\n",
    "# 디코더의 출력층\n",
    "decoder_outputs2 = decoder_softmax_layer(decoder_inf_concat) \n",
    "\n",
    "# 최종 디코더 모델\n",
    "decoder_model = Model(\n",
    "    [decoder_inputs] + [decoder_hidden_state_input,decoder_state_input_h, decoder_state_input_c],\n",
    "    [decoder_outputs2] + [state_h2, state_c2])"
   ]
  },
  {
   "cell_type": "code",
   "execution_count": 46,
   "id": "indirect-internet",
   "metadata": {},
   "outputs": [],
   "source": [
    "#단어시퀀스 함수 생성\n",
    "\n",
    "def decode_sequence(input_seq):\n",
    "    # 입력으로부터 인코더의 상태를 얻음\n",
    "    e_out, e_h, e_c = encoder_model.predict(input_seq)\n",
    "\n",
    "     # <SOS>에 해당하는 토큰 생성\n",
    "    target_seq = np.zeros((1,1))\n",
    "    target_seq[0, 0] = tar_word_to_index['sostoken']\n",
    "\n",
    "    stop_condition = False\n",
    "    decoded_sentence = ''\n",
    "    while not stop_condition: # stop_condition이 True가 될 때까지 루프 반복\n",
    "\n",
    "        output_tokens, h, c = decoder_model.predict([target_seq] + [e_out, e_h, e_c])\n",
    "        sampled_token_index = np.argmax(output_tokens[0, -1, :])\n",
    "        sampled_token = tar_index_to_word[sampled_token_index]\n",
    "\n",
    "        if(sampled_token!='eostoken'):\n",
    "            decoded_sentence += ' '+sampled_token\n",
    "\n",
    "        #  <eos>에 도달하거나 최대 길이를 넘으면 중단.\n",
    "        if (sampled_token == 'eostoken'  or len(decoded_sentence.split()) >= (headlines_max_len-1)):\n",
    "            stop_condition = True\n",
    "\n",
    "        # 길이가 1인 타겟 시퀀스를 업데이트\n",
    "        target_seq = np.zeros((1,1))\n",
    "        target_seq[0, 0] = sampled_token_index\n",
    "\n",
    "        # 상태를 업데이트 합니다.\n",
    "        e_h, e_c = h, c\n",
    "\n",
    "    return decoded_sentence"
   ]
  },
  {
   "cell_type": "markdown",
   "id": "freelance-lindsay",
   "metadata": {},
   "source": [
    "## 11.6 모델 테스트"
   ]
  },
  {
   "cell_type": "code",
   "execution_count": 47,
   "id": "agreed-inspiration",
   "metadata": {},
   "outputs": [],
   "source": [
    "# 원문의 정수 시퀀스를 텍스트 시퀀스로 변환\n",
    "def seq2text(input_seq):\n",
    "    temp=''\n",
    "    for i in input_seq:\n",
    "        if(i!=0):\n",
    "            temp = temp + src_index_to_word[i]+' '\n",
    "    return temp\n",
    "\n",
    "# 요약문의 정수 시퀀스를 텍스트 시퀀스로 변환\n",
    "def seq2summary(input_seq):\n",
    "    temp=''\n",
    "    for i in input_seq:\n",
    "        if((i!=0 and i!=tar_word_to_index['sostoken']) and i!=tar_word_to_index['eostoken']):\n",
    "            temp = temp + tar_index_to_word[i] + ' '\n",
    "    return temp"
   ]
  },
  {
   "cell_type": "code",
   "execution_count": 48,
   "id": "subject-concord",
   "metadata": {},
   "outputs": [
    {
     "name": "stdout",
     "output_type": "stream",
     "text": [
      "원문 : members dalit community br ambedkar statue gujarat vadodara milk water union minister maneka gandhi bjp leaders placed dalit icon statue birth anniversary dalit leader claimed bjp leaders presence polluted atmosphere dalit members also raised slogans bjp \n",
      "실제 요약 : dalits ambedkar statue after maneka pays tribute \n",
      "예측 요약 :  cow statue statue of bjp leader statue of bjp leader\n",
      "\n",
      "\n",
      "원문 : following record ton sri lanka indore friday indian opener rohit sharma took instagram post picture wife ritika sajdeh captioned go lucky charm earlier month rohit dedicated third odi double ton wife scoring anniversary \n",
      "실제 요약 : rohit sharma calls wife ritika lucky post record ton \n",
      "예측 요약 :  rohit sharma shares picture with rohit sharma\n",
      "\n",
      "\n",
      "원문 : yesteryear actress parveen first indian film star get featured cover time magazine featured cover age known performances films like amar akbar anthony shaan actress th death anniversary observed today \n",
      "실제 요약 : was st indian film star on time magazine cover \n",
      "예측 요약 :  st indian film to have feature on cover of filmfare\n",
      "\n",
      "\n",
      "원문 : justice mukul headed panel probing ipl spot fixing scandal elected head fifa governance committee th fifa congress bahrain friday previously committee deputy chairman elected post last year india football federation chief praful patel indian fifa committee \n",
      "실제 요약 : ipl spot fixing probe chief named head of fifa committee \n",
      "예측 요약 :  who is the top of icc icc world cup final\n",
      "\n",
      "\n",
      "원문 : delhi police crime branch friday claimed least students may accessed leaked class mathematics class economics cbse question papers investigation also revealed leak confined national capital people including students questioned police connection leak \n",
      "실제 요약 : students may have leaked cbse papers police \n",
      "예측 요약 :  delhi police police to cbse exam paper leak leak\n",
      "\n",
      "\n",
      "원문 : pakistan national security adviser lieutenant general nasser khan janjua resigned post wednesday amid differences interim prime minister mulk local media reported janjua appointed nsa tenure former prime minister nawaz sharif second military official hold post major general \n",
      "실제 요약 : pak nsa resigns over differences with interim pm report \n",
      "예측 요약 :  pak chief imran khan quits over new party\n",
      "\n",
      "\n",
      "원문 : cell phones across us wednesday test presidential alert system would warn public national emergency imminent attack reacting alert sent federal emergency management agency twitter users wrote donald trump texting giving people ask \n",
      "실제 요약 : cell phone users across the us receive presidential alert \n",
      "예측 요약 :  us app to stop drone from afghanistan\n",
      "\n",
      "\n",
      "원문 : supreme court said examine whether iit kanpur result student expelled sexually harassing female student man filed plea result declared saying given copy complaint also said allowed defend expulsion \n",
      "실제 요약 : can iit result sc on student expelled for harassment \n",
      "예측 요약 :  sc allows student to not sex test for college\n",
      "\n",
      "\n",
      "원문 : kumari direct mewar royal family said instead making clear padmavati bollywood masala masked history sad part film getting free pre release publicity using family name added said exploiting someone pride shallow purposes unacceptable \n",
      "실제 요약 : do not mask masala as history royal on padmavati \n",
      "예측 요약 :  salman khan is not full of him says governor\n",
      "\n",
      "\n",
      "원문 : class student bihar got maths got paper updated results announced another student sanskrit marks increased another one got marks upgraded state board got papers failed year \n",
      "실제 요약 : bihar class student marks up from to after \n",
      "예측 요약 :  class student in class student in class\n",
      "\n",
      "\n",
      "원문 : according reports actor aamir khan cricketer virat kohli appear together diwali special chat show show said promotion aamir upcoming film secret superstar reports added show aamir asked virat share one thing rumoured girlfriend anushka sharma one \n",
      "실제 요약 : aamir virat to appear together on tv show reports \n",
      "예측 요약 :  aamir anushka to star in aamir khan reports\n",
      "\n",
      "\n",
      "원문 : hackers used tesla ceo elon musk name ask twitter users make bitcoin payments promoting advert twitter hacked several verified twitter accounts including british fashion retailer film distributor uk promote fake advert used hacked verified accounts claim received bitcoin musk \n",
      "실제 요약 : hackers use elon musk name to rob twitter users \n",
      "예측 요약 :  musk asks twitter to use twitter to user data\n",
      "\n",
      "\n",
      "원문 : british tourist dubai fined lakh breaking speed limit times driving rented lamborghini tourist triggered every speed camera sheikh road one city busiest roads rental company yet claimed car back may liable pay fines \n",
      "실제 요약 : tourist in dubai fined lakh for rented car \n",
      "예측 요약 :  uk hotel pays crore for speeding drivers\n",
      "\n",
      "\n",
      "원문 : around days committing crime man arrested throwing four daughters moving train uttar pradesh travelling bihar jammu kashmir three girls survived found tracks one succumbed injuries man failed throw fifth daughter \n",
      "실제 요약 : man arrested for throwing four daughters off moving train \n",
      "예측 요약 :  man killed in bihar train accident case\n",
      "\n",
      "\n",
      "원문 : defence production secretary ajay kumar said india integrate artificial intelligence defence forces improve preparation next generation warfare initiative undertaken partnership private sector aimed producing unmanned vehicles weaponry task force led tata sons chairman chandrasekaran formed oversee project \n",
      "실제 요약 : india to ai in defence to boost \n",
      "예측 요약 :  india to create ai defence defence minister\n",
      "\n",
      "\n",
      "원문 : reacting reports maharashtra mla proposal building museum dedicated bollywood amitabh bachchan said approved shall done made proposal state assembly building museum juhu claiming equivalent hollywood hills given number film stars live \n",
      "실제 요약 : not approved at all big on mla plan for wood museum \n",
      "예측 요약 :  maha mla to be made on big statue\n",
      "\n",
      "\n",
      "원문 : facebook monday appointed ceo ajit mohan facebook india managing director vice president ajit mohan join facebook early next year first facebook india leader reporting park asia pacific mba school ajit also worked mckinsey company past \n",
      "실제 요약 : facebook india appoints ceo ajit mohan as md vp \n",
      "예측 요약 :  facebook ceo mark zuckerberg joins facebook as\n",
      "\n",
      "\n",
      "원문 : us homeland security adviser tom reported facebook microsoft disabled range north korean online threats past week said facebook removed accounts stopped execution ongoing attacks microsoft existing attacks including wannacry ransomware us government asking companies cooperate cyber security defence added \n",
      "실제 요약 : facebook microsoft disabled north korean cyber threats us \n",
      "예측 요약 :  us state fires facebook for cyber attack on facebook\n",
      "\n",
      "\n",
      "원문 : woman jharkhand allegedly killed father law tried son argument local police officer said man died spot woman arguing husband part lost \n",
      "실제 요약 : woman kills father in law by his private parts \n",
      "예측 요약 :  woman kills mother in mother of her mother in up\n",
      "\n",
      "\n",
      "원문 : pakistan banned special treatment given vips airports part new plan earlier vips including politicians military officials senior bureaucrats could avoid standing long queues get luggage cleared help officials decision give equal opportunities travellers without discrimination information minister fawad chaudhry said \n",
      "실제 요약 : pakistan bans special treatment for at airports \n",
      "예측 요약 :  pakistan bans visas from us for security personnel\n",
      "\n",
      "\n",
      "원문 : world expensive footballer neymar slammed social media users shared photo wheelchair along quote late scientist stephen hawking tribute height self neymar temporary wheelchair situation minor compared lifetime wheelchair situation hawking user wrote \n",
      "실제 요약 : neymar slammed for wheelchair picture as tribute to hawking \n",
      "예측 요약 :  neymar shares pic of his own space on his th\n",
      "\n",
      "\n",
      "원문 : manager david recent interview told female bbc reporter might get slap asked question regarding pressure threatened side draw former manchester united manager later said reporter apologised remark accepted apology \n",
      "실제 요약 : ex man utd coach tells woman reporter she might get slap \n",
      "예측 요약 :  ex employee apologises for calling him\n",
      "\n",
      "\n",
      "원문 : many monkeys died due suspected gas leak maharashtra raigad district carcasses animals reportedly found buried pits near location following incident took place thursday raigad district collector vijay said gas leaked one bharat petroleum corporation limited plants \n",
      "실제 요약 : monkeys die after suspected gas leak in maha \n"
     ]
    },
    {
     "name": "stdout",
     "output_type": "stream",
     "text": [
      "예측 요약 :  dead as gas leak in maharashtra\n",
      "\n",
      "\n",
      "원문 : stopped delhi police drinking urine protesting farmers tamil nadu decided collect urine send back state get water delhi take urine back home asserted farmers demanding centre waive agricultural loans provide drought relief funds \n",
      "실제 요약 : stopped from drinking urine tn farmers to send it back home \n",
      "예측 요약 :  delhi school teachers protest over protesting in delhi\n",
      "\n",
      "\n",
      "원문 : mexican state electoral body rejected applications male candidates tried registering transgender women country upcoming elections bid avoid gender quota known people born male identify mix gay thus recognised third gender \n",
      "실제 요약 : mexico blocks male politicians registered as transgender \n",
      "예측 요약 :  mexican university bans women from\n",
      "\n",
      "\n",
      "원문 : paytm parent one communications raised million billionaire warren buffett led berkshire hathaway according filings registrar companies one valued billion deal per calculations investment gives berkshire hathaway stake company counts alibaba group largest shareholder stake \n",
      "실제 요약 : paytm raised mn from warren buffett berkshire \n",
      "예측 요약 :  paytm founder warren buffett valuation hits bn\n",
      "\n",
      "\n",
      "원문 : nawazuddin siddiqui slammed media asking disgusting questions putting random allegations daughter school went science exhibition comes wife lawyer summoned police connection investigations call detail record scam claiming obtaining wife private \n",
      "실제 요약 : media put allegations on me at daughter school nawazuddin \n",
      "예측 요약 :  nawazuddin responds to wife asking him to leave him\n",
      "\n",
      "\n",
      "원문 : seemingly referring congress president rahul gandhi election rally prime minister narendra modi said rahul always says delivers speeches help notes provided aides pm modi claimed congress party rahul gandhi till talent \n",
      "실제 요약 : rahul always forgets what he says during speeches pm modi \n",
      "예측 요약 :  rahul gandhi is not pm modi rahul gandhi\n",
      "\n",
      "\n",
      "원문 : former england international cricketer marcus took three catches hat trick craig bowling playing somerset nottinghamshire county championship wednesday year old slip fielder recently extended somerset contract year playing county side past years \n",
      "실제 요약 : yr old ex england player takes all catches in hat trick \n",
      "예측 요약 :  england pacer once bowled with his own bowling\n",
      "\n",
      "\n",
      "원문 : beer company faced online backlash acting like multinational corporate machines forcing pub change name face action earlier criticised way major operate launched vodka brand called lone wolf firm threatened legal action pub name prompting accusations bullying hypocrisy \n",
      "실제 요약 : beer firm slammed for forcing pub to change its name \n",
      "예측 요약 :  kfc removes new ad from using\n",
      "\n",
      "\n",
      "원문 : national conference working president omar abdullah saturday said uttar pradesh cm yogi adityanath build temple inside every mosque would lead chaos country also slammed pdp government kashmir crisis stating rather looking security structure mehbooba mufti making friendly ties bharatiya janata party \n",
      "실제 요약 : yogi adityanath can build temple inside every mosque omar \n",
      "예측 요약 :  yogi to yogi adityanath as up cm yogi adityanath\n",
      "\n",
      "\n",
      "원문 : deputy cm manish sisodia ordered release funds one month salary staff delhi university colleges interim relief comes months government stopped giving funds colleges failure appoint governing bodies release funds ordered request delhi university teachers association sisodia said \n",
      "실제 요약 : govt releases salary funds for delhi university colleges \n",
      "예측 요약 :  taka govt to pay for filing scheme for not\n",
      "\n",
      "\n",
      "원문 : russia ministry construction ordered allot space cats basement apartment blocks apartments required construct centimetre wide enable cats leave enter thereby avoiding risks injury entering holes animal rights activists demanded safety cats died stuck \n",
      "실제 요약 : russia orders space be allotted for cats in apartment blocks \n",
      "예측 요약 :  russia unveils its first largest robot\n",
      "\n",
      "\n",
      "원문 : gurugram police friday arrested haryana bjp leader karni sena national secretary suraj pal amu anti padmaavat violence leader put house arrest thursday later arrested suspicions breaching peace city offered crore bounty anyone would behead director sanjay leela bhansali actress deepika padukone \n",
      "실제 요약 : karni sena leader arrested over padmaavat violence \n",
      "예측 요약 :  shiv sena leader arrested for fraud\n",
      "\n",
      "\n",
      "원문 : earthquake detected mexico city due mass celebrations national team opened scoring defending champions germany first match fifa world cup sunday mexican government said small artificial earthquake registered possibly due mass jumping scored th minute securing mexico win \n",
      "실제 요약 : world cup goal celebrations trigger earthquake in mexico city \n",
      "예측 요약 :  mexico evacuated after years of world cup final\n",
      "\n",
      "\n",
      "원문 : trade groups representing companies including google parent alphabet facebook urged us court reinstate net neutrality rules according filings rules regulating conduct continue needed protect promote open internet wrote rules officially overturned us president donald trump administration june \n",
      "실제 요약 : google fb urge us court to net rules \n",
      "예측 요약 :  google whatsapp firms to block us data with privacy\n",
      "\n",
      "\n",
      "원문 : congress mp shashi tharoor started twitter purportedly reaction second viral video tv anchor arnab goswami wherein heard saying group shameless reports circulating social media alleged goswami slamming however referring people spread fake news uae offering crore aid kerala \n",
      "실제 요약 : tharoor starts over arnab alleged jibe \n",
      "예측 요약 :  tharoor shares video of mocking his name on twitter\n",
      "\n",
      "\n",
      "원문 : india become world fifth largest military witnessing growth around expenditure report claimed according figures released stockholm international peace research institute india defence expenditure stood lakh crore meanwhile us remained world largest military followed china russia saudi arabia \n",
      "실제 요약 : india named world th largest military \n",
      "예측 요약 :  india ranks th world largest ever list in years\n",
      "\n",
      "\n",
      "원문 : sharing photo dressed hindu god shiva rjd leader lalu prasad yadav son tej pratap saturday tweeted religious blinded religion teaches compassion hatred added said people play politics religion able understand principles \n",
      "실제 요약 : religious but not blind tej pratap on dressing up as shiva \n",
      "예측 요약 :  hardik patel should be what of politics tej pratap\n",
      "\n",
      "\n",
      "원문 : year old man allegedly drugged raped wife along friend maharashtra kalyan made video incident woman said accused currently run spiked juice drinking said semi conscious state husband forced sex friend \n",
      "실제 요약 : maharashtra man drugs rapes wife along with his friend \n",
      "예측 요약 :  man kills friend for raping year old girl in delhi\n",
      "\n",
      "\n",
      "원문 : hina khan play role ekta kapoor upcoming production kasautii zindagii kay paid lakh per episode show according reports hina reportedly highest paid actress show show reboot ekta serial name starred urvashi dholakia \n",
      "실제 요약 : hina to get lakh per episode for kasautii report \n",
      "예측 요약 :  salman khan to star in karan johar reports\n",
      "\n",
      "\n",
      "원문 : china salaries actors part measures curb tax evasion control unreasonable rates pay film industry new rules salaries actors cannot exceed total production costs comes several chinese celebrities accused signing fake contracts evade taxes \n",
      "실제 요약 : china caps actors pay amid crackdown on tax evasion \n",
      "예측 요약 :  china to introduce tax on gst\n",
      "\n",
      "\n",
      "원문 : technology giant google launched lightweight android oreo go edition operating system designed devices ram gb according google android go offers faster startup time times storage space also go version play store lightweight apps including youtube go gmail go \n",
      "실제 요약 : google launches android oreo go edition for low end phones \n",
      "예측 요약 :  google launches android android phones in android\n",
      "\n",
      "\n",
      "원문 : equity funding startups went woman founder according report accounts million billion risk capital raised private companies notably funding went women led startups number least \n",
      "실제 요약 : only of equity funding in went to women led startups \n",
      "예측 요약 :  paytm raises crore in india\n",
      "\n",
      "\n",
      "원문 : pakistan coach mickey arthur tuesday said felt gutted pakistan super league spot fixing scandal adding players found guilty blame players become hurting international cricket general recent case hurt pakistan arthur added notably many five pakistani players accused spot fixing psl \n",
      "실제 요약 : has hurt pakistani cricket says coach \n"
     ]
    },
    {
     "name": "stdout",
     "output_type": "stream",
     "text": [
      "예측 요약 :  pak captain sarfraz breaks down as pak captain\n",
      "\n",
      "\n",
      "원문 : calling claims made us president donald trump mental fitness book fire fury inside trump white house absurd cia director mike pompeo said trump completely fit lead country people accepted fact trump us president sorry added \n",
      "실제 요약 : trump completely fit to lead the country cia chief \n",
      "예측 요약 :  trump calls trump shooting for his house\n",
      "\n",
      "\n",
      "원문 : speaking labelled rule choices made career actress tabu said never made choices thinking want called rule feel one correct way things tabu added said roles chose feel like risk \n",
      "실제 요약 : never made choices only to be called rule tabu \n",
      "예측 요약 :  never never think would never be never never never seen\n",
      "\n",
      "\n",
      "원문 : artist bengaluru made actress pose water filled pothole central business district area friday highlight problem pothole roads city comes five deaths reported road accidents due potholes bengaluru within fortnight \n",
      "실제 요약 : artist uses to highlight potholes on luru roads \n",
      "예측 요약 :  artist makes clean of water for\n",
      "\n",
      "\n",
      "원문 : contrary previous beliefs neanderthals uk based study found compassionate healthcare modern humans analysis fossil man aged years time death revealed history poor health however remains showed carefully buried group without self interest said researchers \n",
      "실제 요약 : helped survive study reveals \n",
      "예측 요약 :  humans have been like humans study\n",
      "\n",
      "\n",
      "원문 : liquor firm diageo said corrected many errors books united spirits acquiring vijay mallya diageo said transparent disclosures regulatory authorities comes paradise papers leak revealed funds billion allegedly diverted using offshore subsidiaries united spirits mallya owned company \n",
      "실제 요약 : united spirits books fixed post takeover from mallya \n",
      "예측 요약 :  no action against fraud on pnb fraud case\n",
      "\n",
      "\n"
     ]
    }
   ],
   "source": [
    "for i in range(50, 100):\n",
    "    print(\"원문 :\", seq2text(encoder_input_test[i]))\n",
    "    print(\"실제 요약 :\", seq2summary(decoder_input_test[i]))\n",
    "    print(\"예측 요약 :\", decode_sequence(encoder_input_test[i].reshape(1, text_max_len)))\n",
    "    print(\"\\n\")"
   ]
  },
  {
   "cell_type": "markdown",
   "id": "limiting-naples",
   "metadata": {},
   "source": [
    "## 11.7 데이터 준비(추출적 요약)"
   ]
  },
  {
   "cell_type": "code",
   "execution_count": 50,
   "id": "serious-greek",
   "metadata": {},
   "outputs": [],
   "source": [
    "# 필요 모듈 import\n",
    "\n",
    "import requests\n",
    "from summa.summarizer import summarize"
   ]
  },
  {
   "cell_type": "code",
   "execution_count": null,
   "id": "smooth-banks",
   "metadata": {},
   "outputs": [],
   "source": []
  }
 ],
 "metadata": {
  "kernelspec": {
   "display_name": "aiffel",
   "language": "python",
   "name": "aiffel"
  },
  "language_info": {
   "codemirror_mode": {
    "name": "ipython",
    "version": 3
   },
   "file_extension": ".py",
   "mimetype": "text/x-python",
   "name": "python",
   "nbconvert_exporter": "python",
   "pygments_lexer": "ipython3",
   "version": "3.7.9"
  }
 },
 "nbformat": 4,
 "nbformat_minor": 5
}
