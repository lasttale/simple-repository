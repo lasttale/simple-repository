{
 "cells": [
  {
   "cell_type": "markdown",
   "id": "capital-lancaster",
   "metadata": {},
   "source": [
    "# 11 뉴스기사 요약해보기"
   ]
  },
  {
   "cell_type": "markdown",
   "id": "regular-marketplace",
   "metadata": {},
   "source": [
    "## 11.1 데이터 수집하기"
   ]
  },
  {
   "cell_type": "code",
   "execution_count": 1,
   "id": "wrapped-residence",
   "metadata": {},
   "outputs": [
    {
     "name": "stderr",
     "output_type": "stream",
     "text": [
      "[nltk_data] Downloading package stopwords to /home/aiffel-\n",
      "[nltk_data]     dj48/nltk_data...\n",
      "[nltk_data]   Package stopwords is already up-to-date!\n"
     ]
    }
   ],
   "source": [
    "# 필요한 페키지 불러오기\n",
    "import nltk\n",
    "nltk.download('stopwords')\n",
    "\n",
    "import numpy as np\n",
    "import pandas as pd\n",
    "import os\n",
    "import re\n",
    "import matplotlib.pyplot as plt\n",
    "from nltk.corpus import stopwords\n",
    "from bs4 import BeautifulSoup \n",
    "from tensorflow.keras.preprocessing.text import Tokenizer \n",
    "from tensorflow.keras.preprocessing.sequence import pad_sequences\n",
    "import urllib.request"
   ]
  },
  {
   "cell_type": "code",
   "execution_count": 2,
   "id": "tribal-tract",
   "metadata": {},
   "outputs": [
    {
     "data": {
      "text/html": [
       "<div>\n",
       "<style scoped>\n",
       "    .dataframe tbody tr th:only-of-type {\n",
       "        vertical-align: middle;\n",
       "    }\n",
       "\n",
       "    .dataframe tbody tr th {\n",
       "        vertical-align: top;\n",
       "    }\n",
       "\n",
       "    .dataframe thead th {\n",
       "        text-align: right;\n",
       "    }\n",
       "</style>\n",
       "<table border=\"1\" class=\"dataframe\">\n",
       "  <thead>\n",
       "    <tr style=\"text-align: right;\">\n",
       "      <th></th>\n",
       "      <th>headlines</th>\n",
       "      <th>text</th>\n",
       "    </tr>\n",
       "  </thead>\n",
       "  <tbody>\n",
       "    <tr>\n",
       "      <th>24995</th>\n",
       "      <td>Ranveer Singh shares video of him dancing with...</td>\n",
       "      <td>Actor Ranveer Singh was seen hugging and danci...</td>\n",
       "    </tr>\n",
       "    <tr>\n",
       "      <th>41183</th>\n",
       "      <td>Kejriwal apologises to Arun Jaitley over defam...</td>\n",
       "      <td>Delhi Chief Minister Arvind Kejriwal and other...</td>\n",
       "    </tr>\n",
       "    <tr>\n",
       "      <th>17527</th>\n",
       "      <td>Jaitley-Mallya meeting lasted over 15 mins, ch...</td>\n",
       "      <td>Congress leader PL Punia in a press conference...</td>\n",
       "    </tr>\n",
       "    <tr>\n",
       "      <th>17305</th>\n",
       "      <td>Bieber's fiancÃÂ©e denies marriage reports, d...</td>\n",
       "      <td>Singer Justin Bieber's fiancÃÂ©e Hailey Baldw...</td>\n",
       "    </tr>\n",
       "    <tr>\n",
       "      <th>15468</th>\n",
       "      <td>I have a name: Tanushree on being called 'surv...</td>\n",
       "      <td>Reacting to Priyanka Chopra calling her a sexu...</td>\n",
       "    </tr>\n",
       "    <tr>\n",
       "      <th>54357</th>\n",
       "      <td>FIR against Kannada film actor for raping his ...</td>\n",
       "      <td>A 23-year-old woman has filed an FIR against K...</td>\n",
       "    </tr>\n",
       "    <tr>\n",
       "      <th>24965</th>\n",
       "      <td>Balika Vadhu actor arrested as his BMW hits 3 ...</td>\n",
       "      <td>TV actor Siddharth Shukla, known for his role ...</td>\n",
       "    </tr>\n",
       "    <tr>\n",
       "      <th>37365</th>\n",
       "      <td>Aegon Life iTerm Insurance Plan covers you for...</td>\n",
       "      <td>A term insurance plan is one of the safest and...</td>\n",
       "    </tr>\n",
       "    <tr>\n",
       "      <th>52024</th>\n",
       "      <td>Aadhaar breach report an 'orchestrated campaig...</td>\n",
       "      <td>Telecom regulator TRAI's Chairman RS Sharma ha...</td>\n",
       "    </tr>\n",
       "    <tr>\n",
       "      <th>29864</th>\n",
       "      <td>India's Royal Enfield launches Ã¢ÂÂ¹4.5L bike...</td>\n",
       "      <td>India's motorcycle manufacturer Royal Enfield ...</td>\n",
       "    </tr>\n",
       "  </tbody>\n",
       "</table>\n",
       "</div>"
      ],
      "text/plain": [
       "                                               headlines  \\\n",
       "24995  Ranveer Singh shares video of him dancing with...   \n",
       "41183  Kejriwal apologises to Arun Jaitley over defam...   \n",
       "17527  Jaitley-Mallya meeting lasted over 15 mins, ch...   \n",
       "17305  Bieber's fiancÃÂ©e denies marriage reports, d...   \n",
       "15468  I have a name: Tanushree on being called 'surv...   \n",
       "54357  FIR against Kannada film actor for raping his ...   \n",
       "24965  Balika Vadhu actor arrested as his BMW hits 3 ...   \n",
       "37365  Aegon Life iTerm Insurance Plan covers you for...   \n",
       "52024  Aadhaar breach report an 'orchestrated campaig...   \n",
       "29864  India's Royal Enfield launches Ã¢ÂÂ¹4.5L bike...   \n",
       "\n",
       "                                                    text  \n",
       "24995  Actor Ranveer Singh was seen hugging and danci...  \n",
       "41183  Delhi Chief Minister Arvind Kejriwal and other...  \n",
       "17527  Congress leader PL Punia in a press conference...  \n",
       "17305  Singer Justin Bieber's fiancÃÂ©e Hailey Baldw...  \n",
       "15468  Reacting to Priyanka Chopra calling her a sexu...  \n",
       "54357  A 23-year-old woman has filed an FIR against K...  \n",
       "24965  TV actor Siddharth Shukla, known for his role ...  \n",
       "37365  A term insurance plan is one of the safest and...  \n",
       "52024  Telecom regulator TRAI's Chairman RS Sharma ha...  \n",
       "29864  India's motorcycle manufacturer Royal Enfield ...  "
      ]
     },
     "execution_count": 2,
     "metadata": {},
     "output_type": "execute_result"
    }
   ],
   "source": [
    "# 데이터 다운로드\n",
    "\n",
    "urllib.request.urlretrieve(\"https://raw.githubusercontent.com/sunnysai12345/News_Summary/master/news_summary_more.csv\", filename=\"news_summary_more.csv\")\n",
    "data = pd.read_csv('news_summary_more.csv', encoding='iso-8859-1')\n",
    "data.sample(10)"
   ]
  },
  {
   "cell_type": "code",
   "execution_count": 3,
   "id": "japanese-antenna",
   "metadata": {},
   "outputs": [
    {
     "name": "stdout",
     "output_type": "stream",
     "text": [
      "text 열 샘플의 수 : 98401\n",
      "headlines 열 샘플의 수 : 98401\n"
     ]
    }
   ],
   "source": [
    "# 데이터 샘플 수 확인\n",
    "print('text 열 샘플의 수 :', len(data['text']))\n",
    "print('headlines 열 샘플의 수 :', len(data['headlines']))"
   ]
  },
  {
   "cell_type": "markdown",
   "id": "digital-retirement",
   "metadata": {},
   "source": [
    "## 11.2 데이터 전처리하기(추상적 요약)"
   ]
  },
  {
   "cell_type": "code",
   "execution_count": 4,
   "id": "spanish-glance",
   "metadata": {},
   "outputs": [
    {
     "name": "stdout",
     "output_type": "stream",
     "text": [
      "text 열에서 중복을 배제한 유일한 샘플의 수 : 98360\n",
      "headlines 열에서 중복을 배제한 유일한 샘플의 수 : 98280\n"
     ]
    }
   ],
   "source": [
    "# 중복샘플 유무 확인\n",
    "print('text 열에서 중복을 배제한 유일한 샘플의 수 :', data['text'].nunique())\n",
    "print('headlines 열에서 중복을 배제한 유일한 샘플의 수 :', data['headlines'].nunique())"
   ]
  },
  {
   "cell_type": "markdown",
   "id": "later-opposition",
   "metadata": {},
   "source": [
    "total 'text'의 수와 유니크한 'text'의 수가 다르므로 중복데이터 제거 실행"
   ]
  },
  {
   "cell_type": "code",
   "execution_count": 5,
   "id": "passing-partnership",
   "metadata": {},
   "outputs": [
    {
     "name": "stdout",
     "output_type": "stream",
     "text": [
      "전체 샘플수 : 98360\n"
     ]
    }
   ],
   "source": [
    "#중복데이터 제거\n",
    "data.drop_duplicates(subset = ['text'], inplace = True)\n",
    "print('전체 샘플수 :',(len(data)))"
   ]
  },
  {
   "cell_type": "code",
   "execution_count": 6,
   "id": "emerging-administrator",
   "metadata": {},
   "outputs": [
    {
     "name": "stdout",
     "output_type": "stream",
     "text": [
      "headlines    0\n",
      "text         0\n",
      "dtype: int64\n"
     ]
    }
   ],
   "source": [
    "#데이터 내부 Null 유무 확인\n",
    "print(data.isnull().sum())"
   ]
  },
  {
   "cell_type": "markdown",
   "id": "incredible-trading",
   "metadata": {},
   "source": [
    "Null이 없음"
   ]
  },
  {
   "cell_type": "code",
   "execution_count": 7,
   "id": "spatial-particle",
   "metadata": {},
   "outputs": [
    {
     "name": "stdout",
     "output_type": "stream",
     "text": [
      "정규화 사전의 수:  120\n"
     ]
    }
   ],
   "source": [
    "#텍스트 정규화를 위한 사전구성\n",
    "contractions = {\"ain't\": \"is not\", \"aren't\": \"are not\",\"can't\": \"cannot\", \"'cause\": \"because\", \"could've\": \"could have\", \"couldn't\": \"could not\",\n",
    "                           \"didn't\": \"did not\",  \"doesn't\": \"does not\", \"don't\": \"do not\", \"hadn't\": \"had not\", \"hasn't\": \"has not\", \"haven't\": \"have not\",\n",
    "                           \"he'd\": \"he would\",\"he'll\": \"he will\", \"he's\": \"he is\", \"how'd\": \"how did\", \"how'd'y\": \"how do you\", \"how'll\": \"how will\", \"how's\": \"how is\",\n",
    "                           \"I'd\": \"I would\", \"I'd've\": \"I would have\", \"I'll\": \"I will\", \"I'll've\": \"I will have\",\"I'm\": \"I am\", \"I've\": \"I have\", \"i'd\": \"i would\",\n",
    "                           \"i'd've\": \"i would have\", \"i'll\": \"i will\",  \"i'll've\": \"i will have\",\"i'm\": \"i am\", \"i've\": \"i have\", \"isn't\": \"is not\", \"it'd\": \"it would\",\n",
    "                           \"it'd've\": \"it would have\", \"it'll\": \"it will\", \"it'll've\": \"it will have\",\"it's\": \"it is\", \"let's\": \"let us\", \"ma'am\": \"madam\",\n",
    "                           \"mayn't\": \"may not\", \"might've\": \"might have\",\"mightn't\": \"might not\",\"mightn't've\": \"might not have\", \"must've\": \"must have\",\n",
    "                           \"mustn't\": \"must not\", \"mustn't've\": \"must not have\", \"needn't\": \"need not\", \"needn't've\": \"need not have\",\"o'clock\": \"of the clock\",\n",
    "                           \"oughtn't\": \"ought not\", \"oughtn't've\": \"ought not have\", \"shan't\": \"shall not\", \"sha'n't\": \"shall not\", \"shan't've\": \"shall not have\",\n",
    "                           \"she'd\": \"she would\", \"she'd've\": \"she would have\", \"she'll\": \"she will\", \"she'll've\": \"she will have\", \"she's\": \"she is\",\n",
    "                           \"should've\": \"should have\", \"shouldn't\": \"should not\", \"shouldn't've\": \"should not have\", \"so've\": \"so have\",\"so's\": \"so as\",\n",
    "                           \"this's\": \"this is\",\"that'd\": \"that would\", \"that'd've\": \"that would have\", \"that's\": \"that is\", \"there'd\": \"there would\",\n",
    "                           \"there'd've\": \"there would have\", \"there's\": \"there is\", \"here's\": \"here is\",\"they'd\": \"they would\", \"they'd've\": \"they would have\",\n",
    "                           \"they'll\": \"they will\", \"they'll've\": \"they will have\", \"they're\": \"they are\", \"they've\": \"they have\", \"to've\": \"to have\",\n",
    "                           \"wasn't\": \"was not\", \"we'd\": \"we would\", \"we'd've\": \"we would have\", \"we'll\": \"we will\", \"we'll've\": \"we will have\", \"we're\": \"we are\",\n",
    "                           \"we've\": \"we have\", \"weren't\": \"were not\", \"what'll\": \"what will\", \"what'll've\": \"what will have\", \"what're\": \"what are\",\n",
    "                           \"what's\": \"what is\", \"what've\": \"what have\", \"when's\": \"when is\", \"when've\": \"when have\", \"where'd\": \"where did\", \"where's\": \"where is\",\n",
    "                           \"where've\": \"where have\", \"who'll\": \"who will\", \"who'll've\": \"who will have\", \"who's\": \"who is\", \"who've\": \"who have\",\n",
    "                           \"why's\": \"why is\", \"why've\": \"why have\", \"will've\": \"will have\", \"won't\": \"will not\", \"won't've\": \"will not have\",\n",
    "                           \"would've\": \"would have\", \"wouldn't\": \"would not\", \"wouldn't've\": \"would not have\", \"y'all\": \"you all\",\n",
    "                           \"y'all'd\": \"you all would\",\"y'all'd've\": \"you all would have\",\"y'all're\": \"you all are\",\"y'all've\": \"you all have\",\n",
    "                           \"you'd\": \"you would\", \"you'd've\": \"you would have\", \"you'll\": \"you will\", \"you'll've\": \"you will have\",\n",
    "                           \"you're\": \"you are\", \"you've\": \"you have\"}\n",
    "\n",
    "print(\"정규화 사전의 수: \",len(contractions))"
   ]
  },
  {
   "cell_type": "code",
   "execution_count": 8,
   "id": "suburban-attempt",
   "metadata": {},
   "outputs": [],
   "source": [
    "#불용어 제거를 위한 함수 구현\n",
    "\n",
    "#데이터 전처리 함수\n",
    "def preprocess_sentence(sentence, remove_stopwords=True):\n",
    "    sentence = sentence.lower() # 텍스트 소문자화\n",
    "    sentence = BeautifulSoup(sentence, \"lxml\").text # <br />, <a href = ...> 등의 html 태그 제거\n",
    "    sentence = re.sub(r'\\([^)]*\\)', '', sentence) # 괄호로 닫힌 문자열 (...) 제거 Ex) my husband (and myself!) for => my husband for\n",
    "    sentence = re.sub('\"','', sentence) # 쌍따옴표 \" 제거\n",
    "    sentence = ' '.join([contractions[t] if t in contractions else t for t in sentence.split(\" \")]) # 약어 정규화\n",
    "    sentence = re.sub(r\"'s\\b\",\"\",sentence) # 소유격 제거. Ex) roland's -> roland\n",
    "    sentence = re.sub(\"[^a-zA-Z]\", \" \", sentence) # 영어 외 문자(숫자, 특수문자 등) 공백으로 변환\n",
    "    sentence = re.sub('[m]{2,}', 'mm', sentence) # m이 3개 이상이면 2개로 변경. Ex) ummmmmmm yeah -> umm yeah\n",
    "    \n",
    "    # 불용어 제거 (Text)\n",
    "    if remove_stopwords:\n",
    "        tokens = ' '.join(word for word in sentence.split() if not word in stopwords.words('english') if len(word) > 1)\n",
    "    # 불용어 미제거 (headllines)\n",
    "    else:\n",
    "        tokens = ' '.join(word for word in sentence.split() if len(word) > 1)\n",
    "    return tokens"
   ]
  },
  {
   "cell_type": "code",
   "execution_count": 9,
   "id": "extensive-blackberry",
   "metadata": {},
   "outputs": [
    {
     "data": {
      "text/plain": [
       "['saurav kant alumnus upgrad iiit pg program machine learning artificial intelligence sr systems engineer infosys almost years work experience program upgrad degree career support helped transition data scientist tech mahindra salary hike upgrad online power learning powered lakh careers',\n",
       " 'kunal shah credit card bill payment platform cred gave users chance win free food swiggy one year pranav kaushik delhi techie bagged reward spending cred coins users get one cred coin per rupee bill paid used avail rewards brands like ixigo bookmyshow ubereats cult fit',\n",
       " 'new zealand defeated india wickets fourth odi hamilton thursday win first match five match odi series india lost international match rohit sharma captaincy consecutive victories dating back march match witnessed india getting seventh lowest total odi cricket history',\n",
       " 'aegon life iterm insurance plan customers enjoy tax benefits premiums paid save taxes plan provides life cover age years also customers options insure critical illnesses disability accidental death benefit rider life cover age years',\n",
       " 'speaking sexual harassment allegations rajkumar hirani sonam kapoor said known hirani many years true metoo movement get derailed metoo movement always believe woman case need reserve judgment added hirani accused assistant worked sanju']"
      ]
     },
     "execution_count": 9,
     "metadata": {},
     "output_type": "execute_result"
    }
   ],
   "source": [
    "# text데이터 전처리\n",
    "\n",
    "clean_text = []\n",
    "\n",
    "for s in data['text']:\n",
    "    clean_text.append(preprocess_sentence(s))\n",
    "\n",
    "# 전처리 후 출력\n",
    "clean_text[:5]"
   ]
  },
  {
   "cell_type": "code",
   "execution_count": 10,
   "id": "considered-bloom",
   "metadata": {},
   "outputs": [
    {
     "data": {
      "text/plain": [
       "['upgrad learner switches to career in ml al with salary hike',\n",
       " 'delhi techie wins free food from swiggy for one year on cred',\n",
       " 'new zealand end rohit sharma led india match winning streak',\n",
       " 'aegon life iterm insurance plan helps customers save tax',\n",
       " 'have known hirani for yrs what if metoo claims are not true sonam']"
      ]
     },
     "execution_count": 10,
     "metadata": {},
     "output_type": "execute_result"
    }
   ],
   "source": [
    "# headlines데이터 전처리\n",
    "\n",
    "clean_headlines = []\n",
    "\n",
    "\n",
    "for s in data['headlines']:\n",
    "    clean_headlines.append(preprocess_sentence(s, False))\n",
    "                            # 불용어 처리 하지 않으므로 False\n",
    "clean_headlines[:5]"
   ]
  },
  {
   "cell_type": "code",
   "execution_count": 11,
   "id": "suspended-reconstruction",
   "metadata": {},
   "outputs": [],
   "source": [
    "#empty 샘플 확인\n",
    "\n",
    "data['text'] = clean_text\n",
    "data['headlines'] = clean_headlines\n",
    "\n",
    "# 빈 값을 Null 값으로 변환\n",
    "data.replace('', np.nan, inplace=True)"
   ]
  },
  {
   "cell_type": "code",
   "execution_count": 12,
   "id": "south-stomach",
   "metadata": {},
   "outputs": [
    {
     "data": {
      "text/plain": [
       "headlines    0\n",
       "text         0\n",
       "dtype: int64"
      ]
     },
     "execution_count": 12,
     "metadata": {},
     "output_type": "execute_result"
    }
   ],
   "source": [
    "#data 내부 Null 확인\n",
    "\n",
    "data.isnull().sum()"
   ]
  },
  {
   "cell_type": "markdown",
   "id": "ruled-mapping",
   "metadata": {},
   "source": [
    "Null 없음"
   ]
  },
  {
   "cell_type": "code",
   "execution_count": 13,
   "id": "weighted-worst",
   "metadata": {},
   "outputs": [
    {
     "name": "stdout",
     "output_type": "stream",
     "text": [
      "텍스트의 최소 길이 : 1\n",
      "텍스트의 최대 길이 : 60\n",
      "텍스트의 평균 길이 : 35.09968483123221\n",
      "요약의 최소 길이 : 1\n",
      "요약의 최대 길이 : 16\n",
      "요약의 평균 길이 : 9.299532330215534\n"
     ]
    },
    {
     "data": {
      "image/png": "[encoded data removed]",
      "text/plain": [
       "<Figure size 432x288 with 2 Axes>"
      ]
     },
     "metadata": {
      "needs_background": "light"
     },
     "output_type": "display_data"
    },
    {
     "data": {
      "image/png": "[encoded data removed]",
      "text/plain": [
       "<Figure size 432x288 with 1 Axes>"
      ]
     },
     "metadata": {
      "needs_background": "light"
     },
     "output_type": "display_data"
    },
    {
     "data": {
      "image/png": "[encoded data removed]",
      "text/plain": [
       "<Figure size 432x288 with 1 Axes>"
      ]
     },
     "metadata": {
      "needs_background": "light"
     },
     "output_type": "display_data"
    }
   ],
   "source": [
    "# 길이 분포 출력\n",
    "import matplotlib.pyplot as plt\n",
    "\n",
    "text_len = [len(s.split()) for s in data['text']]\n",
    "headlines_len = [len(s.split()) for s in data['headlines']]\n",
    "\n",
    "print('텍스트의 최소 길이 : {}'.format(np.min(text_len)))\n",
    "print('텍스트의 최대 길이 : {}'.format(np.max(text_len)))\n",
    "print('텍스트의 평균 길이 : {}'.format(np.mean(text_len)))\n",
    "print('요약의 최소 길이 : {}'.format(np.min(headlines_len)))\n",
    "print('요약의 최대 길이 : {}'.format(np.max(headlines_len)))\n",
    "print('요약의 평균 길이 : {}'.format(np.mean(headlines_len)))\n",
    "\n",
    "plt.subplot(1,2,1)\n",
    "plt.boxplot(headlines_len)\n",
    "plt.title('headlines')\n",
    "plt.subplot(1,2,2)\n",
    "plt.boxplot(text_len)\n",
    "plt.title('text')\n",
    "plt.tight_layout()\n",
    "plt.show()\n",
    "\n",
    "plt.title('headlines')\n",
    "plt.hist(headlines_len, bins = 40)\n",
    "plt.xlabel('length of samples')\n",
    "plt.ylabel('number of samples')\n",
    "plt.show()\n",
    "\n",
    "plt.title('text')\n",
    "plt.hist(text_len, bins = 40)\n",
    "plt.xlabel('length of samples')\n",
    "plt.ylabel('number of samples')\n",
    "plt.show()"
   ]
  },
  {
   "cell_type": "code",
   "execution_count": 14,
   "id": "fresh-investigation",
   "metadata": {},
   "outputs": [],
   "source": [
    "# 샘플 최대길히 제한\n",
    "\n",
    "text_max_len = 41\n",
    "headlines_max_len = 11"
   ]
  },
  {
   "cell_type": "code",
   "execution_count": 15,
   "id": "outdoor-attachment",
   "metadata": {},
   "outputs": [],
   "source": [
    "def below_threshold_len(max_len, nested_list):\n",
    "  cnt = 0\n",
    "  for s in nested_list:\n",
    "    if(len(s.split()) <= max_len):\n",
    "        cnt = cnt + 1\n",
    "  print('전체 샘플 중 길이가 %s 이하인 샘플의 비율: %s'%(max_len, (cnt / len(nested_list))))"
   ]
  },
  {
   "cell_type": "code",
   "execution_count": 16,
   "id": "breeding-adventure",
   "metadata": {},
   "outputs": [
    {
     "name": "stdout",
     "output_type": "stream",
     "text": [
      "전체 샘플 중 길이가 41 이하인 샘플의 비율: 0.9549613664091094\n",
      "전체 샘플 중 길이가 11 이하인 샘플의 비율: 0.9449877999186661\n"
     ]
    }
   ],
   "source": [
    "below_threshold_len(text_max_len, data['text'])\n",
    "below_threshold_len(headlines_max_len,  data['headlines'])"
   ]
  },
  {
   "cell_type": "code",
   "execution_count": 17,
   "id": "racial-saskatchewan",
   "metadata": {},
   "outputs": [
    {
     "name": "stdout",
     "output_type": "stream",
     "text": [
      "전체 샘플수 : 88749\n"
     ]
    }
   ],
   "source": [
    "# 최대길이보다 긴 데이터 제외\n",
    "\n",
    "data = data[data['text'].apply(lambda x: len(x.split()) <= text_max_len)]\n",
    "data = data[data['headlines'].apply(lambda x: len(x.split()) <= headlines_max_len)]\n",
    "print('전체 샘플수 :',(len(data)))"
   ]
  },
  {
   "cell_type": "code",
   "execution_count": 18,
   "id": "gentle-valuable",
   "metadata": {},
   "outputs": [
    {
     "data": {
      "text/html": [
       "<div>\n",
       "<style scoped>\n",
       "    .dataframe tbody tr th:only-of-type {\n",
       "        vertical-align: middle;\n",
       "    }\n",
       "\n",
       "    .dataframe tbody tr th {\n",
       "        vertical-align: top;\n",
       "    }\n",
       "\n",
       "    .dataframe thead th {\n",
       "        text-align: right;\n",
       "    }\n",
       "</style>\n",
       "<table border=\"1\" class=\"dataframe\">\n",
       "  <thead>\n",
       "    <tr style=\"text-align: right;\">\n",
       "      <th></th>\n",
       "      <th>headlines</th>\n",
       "      <th>text</th>\n",
       "      <th>decoder_input</th>\n",
       "      <th>decoder_target</th>\n",
       "    </tr>\n",
       "  </thead>\n",
       "  <tbody>\n",
       "    <tr>\n",
       "      <th>0</th>\n",
       "      <td>upgrad learner switches to career in ml al wit...</td>\n",
       "      <td>saurav kant alumnus upgrad iiit pg program mac...</td>\n",
       "      <td>sostoken upgrad learner switches to career in ...</td>\n",
       "      <td>upgrad learner switches to career in ml al wit...</td>\n",
       "    </tr>\n",
       "    <tr>\n",
       "      <th>2</th>\n",
       "      <td>new zealand end rohit sharma led india match w...</td>\n",
       "      <td>new zealand defeated india wickets fourth odi ...</td>\n",
       "      <td>sostoken new zealand end rohit sharma led indi...</td>\n",
       "      <td>new zealand end rohit sharma led india match w...</td>\n",
       "    </tr>\n",
       "    <tr>\n",
       "      <th>3</th>\n",
       "      <td>aegon life iterm insurance plan helps customer...</td>\n",
       "      <td>aegon life iterm insurance plan customers enjo...</td>\n",
       "      <td>sostoken aegon life iterm insurance plan helps...</td>\n",
       "      <td>aegon life iterm insurance plan helps customer...</td>\n",
       "    </tr>\n",
       "    <tr>\n",
       "      <th>5</th>\n",
       "      <td>rahat fateh ali khan denies getting notice for...</td>\n",
       "      <td>pakistani singer rahat fateh ali khan denied r...</td>\n",
       "      <td>sostoken rahat fateh ali khan denies getting n...</td>\n",
       "      <td>rahat fateh ali khan denies getting notice for...</td>\n",
       "    </tr>\n",
       "    <tr>\n",
       "      <th>7</th>\n",
       "      <td>govt directs alok verma to join work day befor...</td>\n",
       "      <td>weeks ex cbi director alok verma told departme...</td>\n",
       "      <td>sostoken govt directs alok verma to join work ...</td>\n",
       "      <td>govt directs alok verma to join work day befor...</td>\n",
       "    </tr>\n",
       "  </tbody>\n",
       "</table>\n",
       "</div>"
      ],
      "text/plain": [
       "                                           headlines  \\\n",
       "0  upgrad learner switches to career in ml al wit...   \n",
       "2  new zealand end rohit sharma led india match w...   \n",
       "3  aegon life iterm insurance plan helps customer...   \n",
       "5  rahat fateh ali khan denies getting notice for...   \n",
       "7  govt directs alok verma to join work day befor...   \n",
       "\n",
       "                                                text  \\\n",
       "0  saurav kant alumnus upgrad iiit pg program mac...   \n",
       "2  new zealand defeated india wickets fourth odi ...   \n",
       "3  aegon life iterm insurance plan customers enjo...   \n",
       "5  pakistani singer rahat fateh ali khan denied r...   \n",
       "7  weeks ex cbi director alok verma told departme...   \n",
       "\n",
       "                                       decoder_input  \\\n",
       "0  sostoken upgrad learner switches to career in ...   \n",
       "2  sostoken new zealand end rohit sharma led indi...   \n",
       "3  sostoken aegon life iterm insurance plan helps...   \n",
       "5  sostoken rahat fateh ali khan denies getting n...   \n",
       "7  sostoken govt directs alok verma to join work ...   \n",
       "\n",
       "                                      decoder_target  \n",
       "0  upgrad learner switches to career in ml al wit...  \n",
       "2  new zealand end rohit sharma led india match w...  \n",
       "3  aegon life iterm insurance plan helps customer...  \n",
       "5  rahat fateh ali khan denies getting notice for...  \n",
       "7  govt directs alok verma to join work day befor...  "
      ]
     },
     "execution_count": 18,
     "metadata": {},
     "output_type": "execute_result"
    }
   ],
   "source": [
    "# 시작토큰, 종료토큰 추가\n",
    "\n",
    "data['decoder_input'] = data['headlines'].apply(lambda x : 'sostoken '+ x)\n",
    "data['decoder_target'] = data['headlines'].apply(lambda x : x + ' eostoken')\n",
    "data.head()"
   ]
  },
  {
   "cell_type": "code",
   "execution_count": 19,
   "id": "approved-stewart",
   "metadata": {},
   "outputs": [],
   "source": [
    "# 인코더 입력, 디코더 입력, 레이블 각각 Numpy 타입으로 저장\n",
    "\n",
    "encoder_input = np.array(data['text']) # 인코더의 입력\n",
    "decoder_input = np.array(data['decoder_input']) # 디코더의 입력\n",
    "decoder_target = np.array(data['decoder_target']) # 디코더의 레이블"
   ]
  },
  {
   "cell_type": "code",
   "execution_count": 20,
   "id": "suitable-estimate",
   "metadata": {},
   "outputs": [
    {
     "name": "stdout",
     "output_type": "stream",
     "text": [
      "[55430 39916 59754 ... 82072 33218 47706]\n"
     ]
    }
   ],
   "source": [
    "# 정수 시퀀스 생성\n",
    "\n",
    "indices = np.arange(encoder_input.shape[0])\n",
    "np.random.shuffle(indices)\n",
    "print(indices)"
   ]
  },
  {
   "cell_type": "code",
   "execution_count": 21,
   "id": "solved-cheat",
   "metadata": {},
   "outputs": [],
   "source": [
    "# 정수 시퀀스를 이용하여 데이터 순서 재정의\n",
    "\n",
    "encoder_input = encoder_input[indices]\n",
    "decoder_input = decoder_input[indices]\n",
    "decoder_target = decoder_target[indices]"
   ]
  },
  {
   "cell_type": "code",
   "execution_count": 22,
   "id": "compatible-heading",
   "metadata": {},
   "outputs": [
    {
     "name": "stdout",
     "output_type": "stream",
     "text": [
      "테스트 데이터의 수 : 17749\n"
     ]
    }
   ],
   "source": [
    "#test set 비율 지정\n",
    "\n",
    "n_of_val = int(len(encoder_input)*0.2)\n",
    "print('테스트 데이터의 수 :',n_of_val)"
   ]
  },
  {
   "cell_type": "code",
   "execution_count": 23,
   "id": "comprehensive-annotation",
   "metadata": {},
   "outputs": [
    {
     "name": "stdout",
     "output_type": "stream",
     "text": [
      "훈련 데이터의 개수 : 71000\n",
      "훈련 레이블의 개수 : 71000\n",
      "테스트 데이터의 개수 : 17749\n",
      "테스트 레이블의 개수 : 17749\n"
     ]
    }
   ],
   "source": [
    "# train, test 분리\n",
    "\n",
    "encoder_input_train = encoder_input[:-n_of_val]\n",
    "decoder_input_train = decoder_input[:-n_of_val]\n",
    "decoder_target_train = decoder_target[:-n_of_val]\n",
    "\n",
    "encoder_input_test = encoder_input[-n_of_val:]\n",
    "decoder_input_test = decoder_input[-n_of_val:]\n",
    "decoder_target_test = decoder_target[-n_of_val:]\n",
    "\n",
    "print('훈련 데이터의 개수 :', len(encoder_input_train))\n",
    "print('훈련 레이블의 개수 :',len(decoder_input_train))\n",
    "print('테스트 데이터의 개수 :',len(encoder_input_test))\n",
    "print('테스트 레이블의 개수 :',len(decoder_input_test))"
   ]
  },
  {
   "cell_type": "code",
   "execution_count": 24,
   "id": "cross-wallace",
   "metadata": {},
   "outputs": [],
   "source": [
    "# train 단어집합 생성\n",
    "\n",
    "src_tokenizer = Tokenizer() # 토크나이저 정의\n",
    "src_tokenizer.fit_on_texts(encoder_input_train) # 입력된 데이터로부터 단어 집합 생성"
   ]
  },
  {
   "cell_type": "code",
   "execution_count": 25,
   "id": "musical-forum",
   "metadata": {},
   "outputs": [
    {
     "name": "stdout",
     "output_type": "stream",
     "text": [
      "단어 집합(vocabulary)의 크기 : 66117\n",
      "등장 빈도가 6번 이하인 희귀 단어의 수: 45048\n",
      "단어 집합에서 희귀 단어를 제외시킬 경우의 단어 집합의 크기 21069\n",
      "단어 집합에서 희귀 단어의 비율: 68.13376287490358\n",
      "전체 등장 빈도에서 희귀 단어 등장 빈도 비율: 3.6937028197720356\n"
     ]
    }
   ],
   "source": [
    "#등장 빈도수 탐색\n",
    "\n",
    "threshold = 7\n",
    "total_cnt = len(src_tokenizer.word_index) # 단어의 수\n",
    "rare_cnt = 0 # 등장 빈도수가 threshold보다 작은 단어의 개수를 카운트\n",
    "total_freq = 0 # 훈련 데이터의 전체 단어 빈도수 총 합\n",
    "rare_freq = 0 # 등장 빈도수가 threshold보다 작은 단어의 등장 빈도수의 총 합\n",
    "\n",
    "# 단어와 빈도수의 쌍(pair)을 key와 value로 받는다.\n",
    "for key, value in src_tokenizer.word_counts.items():\n",
    "    total_freq = total_freq + value\n",
    "\n",
    "    # 단어의 등장 빈도수가 threshold보다 작으면\n",
    "    if(value < threshold):\n",
    "        rare_cnt = rare_cnt + 1\n",
    "        rare_freq = rare_freq + value\n",
    "\n",
    "print('단어 집합(vocabulary)의 크기 :',total_cnt)\n",
    "print('등장 빈도가 %s번 이하인 희귀 단어의 수: %s'%(threshold - 1, rare_cnt))\n",
    "print('단어 집합에서 희귀 단어를 제외시킬 경우의 단어 집합의 크기 %s'%(total_cnt - rare_cnt))\n",
    "print(\"단어 집합에서 희귀 단어의 비율:\", (rare_cnt / total_cnt)*100)\n",
    "print(\"전체 등장 빈도에서 희귀 단어 등장 빈도 비율:\", (rare_freq / total_freq)*100)"
   ]
  },
  {
   "cell_type": "code",
   "execution_count": 26,
   "id": "bored-hindu",
   "metadata": {},
   "outputs": [],
   "source": [
    "#단어집합 크기 제한\n",
    "\n",
    "src_vocab = 20000\n",
    "src_tokenizer = Tokenizer(num_words = src_vocab) # 단어 집합의 크기를 20,000으로 제한\n",
    "src_tokenizer.fit_on_texts(encoder_input_train) # 단어 집합 재생성."
   ]
  },
  {
   "cell_type": "code",
   "execution_count": 27,
   "id": "collective-bunch",
   "metadata": {},
   "outputs": [
    {
     "name": "stdout",
     "output_type": "stream",
     "text": [
      "[[67, 147, 12170, 85, 8136, 9837, 619, 5, 16, 123, 43, 160, 411, 35, 2535, 219, 10542, 343, 43, 375, 43, 124, 56, 391, 16519, 2609, 580, 3597, 106, 3689, 5, 179, 256, 6023, 546, 419, 990], [2, 3525, 1050, 1471, 894, 2610, 325, 559, 13429, 1211, 20, 1583, 1841, 453, 1112, 1112, 3075, 3525, 826, 4, 1566, 2634, 894, 583, 559, 22, 10054, 1112, 1185, 495, 7861, 106, 1298, 540, 6577], [353, 8877, 3340, 4052, 286, 300, 9838, 1194, 590, 3076, 95, 4615, 1174, 4052, 42, 2205, 1754, 2184, 1993, 1078, 183, 3779, 1, 4052, 241, 985, 7062, 365, 39, 651, 1194, 247, 4615, 5889, 4052, 42]]\n"
     ]
    }
   ],
   "source": [
    "# 텍스트 시퀀스를 정수 시퀀스로 변환\n",
    "encoder_input_train = src_tokenizer.texts_to_sequences(encoder_input_train) \n",
    "encoder_input_test = src_tokenizer.texts_to_sequences(encoder_input_test)\n",
    "\n",
    "#잘 진행되었는지 샘플 출력\n",
    "print(encoder_input_train[:3])"
   ]
  },
  {
   "cell_type": "code",
   "execution_count": 28,
   "id": "beginning-instruction",
   "metadata": {},
   "outputs": [],
   "source": [
    "# test 안어집합 생성\n",
    "\n",
    "tar_tokenizer = Tokenizer()\n",
    "tar_tokenizer.fit_on_texts(decoder_input_train)"
   ]
  },
  {
   "cell_type": "code",
   "execution_count": 29,
   "id": "national-japanese",
   "metadata": {},
   "outputs": [
    {
     "name": "stdout",
     "output_type": "stream",
     "text": [
      "단어 집합(vocabulary)의 크기 : 29020\n",
      "등장 빈도가 5번 이하인 희귀 단어의 수: 19107\n",
      "단어 집합에서 희귀 단어를 제외시킬 경우의 단어 집합의 크기 9913\n",
      "단어 집합에서 희귀 단어의 비율: 65.8407994486561\n",
      "전체 등장 빈도에서 희귀 단어 등장 빈도 비율: 5.085287831657519\n"
     ]
    }
   ],
   "source": [
    "# 빈도수 탐색\n",
    "\n",
    "threshold = 6\n",
    "total_cnt = len(tar_tokenizer.word_index) # 단어의 수\n",
    "rare_cnt = 0 # 등장 빈도수가 threshold보다 작은 단어의 개수를 카운트\n",
    "total_freq = 0 # 훈련 데이터의 전체 단어 빈도수 총 합\n",
    "rare_freq = 0 # 등장 빈도수가 threshold보다 작은 단어의 등장 빈도수의 총 합\n",
    "\n",
    "# 단어와 빈도수의 쌍(pair)을 key와 value로 받는다.\n",
    "for key, value in tar_tokenizer.word_counts.items():\n",
    "    total_freq = total_freq + value\n",
    "\n",
    "    # 단어의 등장 빈도수가 threshold보다 작으면\n",
    "    if(value < threshold):\n",
    "        rare_cnt = rare_cnt + 1\n",
    "        rare_freq = rare_freq + value\n",
    "\n",
    "print('단어 집합(vocabulary)의 크기 :',total_cnt)\n",
    "print('등장 빈도가 %s번 이하인 희귀 단어의 수: %s'%(threshold - 1, rare_cnt))\n",
    "print('단어 집합에서 희귀 단어를 제외시킬 경우의 단어 집합의 크기 %s'%(total_cnt - rare_cnt))\n",
    "print(\"단어 집합에서 희귀 단어의 비율:\", (rare_cnt / total_cnt)*100)\n",
    "print(\"전체 등장 빈도에서 희귀 단어 등장 빈도 비율:\", (rare_freq / total_freq)*100)"
   ]
  },
  {
   "cell_type": "code",
   "execution_count": 30,
   "id": "fifth-alabama",
   "metadata": {},
   "outputs": [
    {
     "name": "stdout",
     "output_type": "stream",
     "text": [
      "input\n",
      "input  [[1, 2808, 777, 4, 263, 28, 248, 4, 350, 122], [1, 8, 281, 17, 27, 865, 3078, 1075, 4, 1673, 1011], [1, 62, 79, 4350, 53, 2080, 8319, 4, 18, 15], [1, 6093, 195, 1776, 85, 2183, 59, 138, 33], [1, 1385, 5038, 322, 1454, 186, 11, 816, 172]]\n",
      "target\n",
      "decoder  [[2808, 777, 4, 263, 28, 248, 4, 350, 122, 2], [8, 281, 17, 27, 865, 3078, 1075, 4, 1673, 1011, 2], [62, 79, 4350, 53, 2080, 8319, 4, 18, 15, 2], [6093, 195, 1776, 85, 2183, 59, 138, 33, 2], [1385, 5038, 322, 1454, 186, 11, 816, 172, 2]]\n"
     ]
    }
   ],
   "source": [
    "# 단어집합 크기 제한\n",
    "\n",
    "tar_vocab = 9500\n",
    "tar_tokenizer = Tokenizer(num_words = tar_vocab) \n",
    "tar_tokenizer.fit_on_texts(decoder_input_train)\n",
    "tar_tokenizer.fit_on_texts(decoder_target_train)\n",
    "\n",
    "# 텍스트 시퀀스를 정수 시퀀스로 변환\n",
    "decoder_input_train = tar_tokenizer.texts_to_sequences(decoder_input_train) \n",
    "decoder_target_train = tar_tokenizer.texts_to_sequences(decoder_target_train)\n",
    "decoder_input_test = tar_tokenizer.texts_to_sequences(decoder_input_test)\n",
    "decoder_target_test = tar_tokenizer.texts_to_sequences(decoder_target_test)\n",
    "\n",
    "#잘 변환되었는지 확인\n",
    "print('input')\n",
    "print('input ',decoder_input_train[:5])\n",
    "print('target')\n",
    "print('decoder ',decoder_target_train[:5])"
   ]
  },
  {
   "cell_type": "code",
   "execution_count": 31,
   "id": "owned-theme",
   "metadata": {},
   "outputs": [
    {
     "name": "stdout",
     "output_type": "stream",
     "text": [
      "삭제할 훈련 데이터의 개수 : 1\n",
      "삭제할 테스트 데이터의 개수 : 0\n",
      "훈련 데이터의 개수 : 70999\n",
      "훈련 레이블의 개수 : 70999\n",
      "테스트 데이터의 개수 : 17749\n",
      "테스트 레이블의 개수 : 17749\n"
     ]
    },
    {
     "name": "stderr",
     "output_type": "stream",
     "text": [
      "/home/aiffel-dj48/Downloads/aiffel/envs/aiffel/lib/python3.7/site-packages/numpy/core/_asarray.py:83: VisibleDeprecationWarning: Creating an ndarray from ragged nested sequences (which is a list-or-tuple of lists-or-tuples-or ndarrays with different lengths or shapes) is deprecated. If you meant to do this, you must specify 'dtype=object' when creating the ndarray\n",
      "  return array(a, dtype, copy=False, order=order)\n"
     ]
    }
   ],
   "source": [
    "# 길이가 1인 인덱스 탐색\n",
    "\n",
    "drop_train = [index for index, sentence in enumerate(decoder_input_train) if len(sentence) == 1]\n",
    "drop_test = [index for index, sentence in enumerate(decoder_input_test) if len(sentence) == 1]\n",
    "\n",
    "print('삭제할 훈련 데이터의 개수 :',len(drop_train))\n",
    "print('삭제할 테스트 데이터의 개수 :',len(drop_test))\n",
    "\n",
    "encoder_input_train = np.delete(encoder_input_train, drop_train, axis=0)\n",
    "decoder_input_train = np.delete(decoder_input_train, drop_train, axis=0)\n",
    "decoder_target_train = np.delete(decoder_target_train, drop_train, axis=0)\n",
    "\n",
    "encoder_input_test = np.delete(encoder_input_test, drop_test, axis=0)\n",
    "decoder_input_test = np.delete(decoder_input_test, drop_test, axis=0)\n",
    "decoder_target_test = np.delete(decoder_target_test, drop_test, axis=0)\n",
    "\n",
    "print('훈련 데이터의 개수 :', len(encoder_input_train))\n",
    "print('훈련 레이블의 개수 :',len(decoder_input_train))\n",
    "print('테스트 데이터의 개수 :',len(encoder_input_test))\n",
    "print('테스트 레이블의 개수 :',len(decoder_input_test))"
   ]
  },
  {
   "cell_type": "code",
   "execution_count": 32,
   "id": "aging-safety",
   "metadata": {},
   "outputs": [],
   "source": [
    "# 최대 길이에 맞게 패딩\n",
    "\n",
    "encoder_input_train = pad_sequences(encoder_input_train, maxlen = text_max_len, padding='post')\n",
    "encoder_input_test = pad_sequences(encoder_input_test, maxlen = text_max_len, padding='post')\n",
    "decoder_input_train = pad_sequences(decoder_input_train, maxlen = headlines_max_len, padding='post')\n",
    "decoder_target_train = pad_sequences(decoder_target_train, maxlen = headlines_max_len, padding='post')\n",
    "decoder_input_test = pad_sequences(decoder_input_test, maxlen = headlines_max_len, padding='post')\n",
    "decoder_target_test = pad_sequences(decoder_target_test, maxlen = headlines_max_len, padding='post')"
   ]
  },
  {
   "cell_type": "markdown",
   "id": "emotional-filling",
   "metadata": {},
   "source": [
    "## 11.3 모델 생성(추상적 요약)"
   ]
  },
  {
   "cell_type": "code",
   "execution_count": 33,
   "id": "historic-dominant",
   "metadata": {},
   "outputs": [
    {
     "name": "stdout",
     "output_type": "stream",
     "text": [
      "WARNING:tensorflow:Layer lstm will not use cuDNN kernel since it doesn't meet the cuDNN kernel criteria. It will use generic GPU kernel as fallback when running on GPU\n",
      "WARNING:tensorflow:Layer lstm_1 will not use cuDNN kernel since it doesn't meet the cuDNN kernel criteria. It will use generic GPU kernel as fallback when running on GPU\n",
      "WARNING:tensorflow:Layer lstm_2 will not use cuDNN kernel since it doesn't meet the cuDNN kernel criteria. It will use generic GPU kernel as fallback when running on GPU\n"
     ]
    }
   ],
   "source": [
    "# 인코더 설계\n",
    "\n",
    "from tensorflow.keras.layers import Input, LSTM, Embedding, Dense, Concatenate\n",
    "from tensorflow.keras.models import Model\n",
    "from tensorflow.keras.callbacks import EarlyStopping, ModelCheckpoint\n",
    "\n",
    "\n",
    "# 인코더 설계 시작\n",
    "embedding_dim = 128\n",
    "hidden_size = 256\n",
    "\n",
    "# 인코더\n",
    "encoder_inputs = Input(shape=(text_max_len,))\n",
    "\n",
    "# 인코더의 임베딩 층\n",
    "enc_emb = Embedding(src_vocab, embedding_dim)(encoder_inputs)\n",
    "\n",
    "# 인코더의 LSTM 1\n",
    "encoder_lstm1 = LSTM(hidden_size, return_sequences=True, return_state=True ,dropout = 0.4, recurrent_dropout = 0.4)\n",
    "encoder_output1, state_h1, state_c1 = encoder_lstm1(enc_emb)\n",
    "\n",
    "# 인코더의 LSTM 2\n",
    "encoder_lstm2 = LSTM(hidden_size, return_sequences=True, return_state=True, dropout=0.4, recurrent_dropout=0.4)\n",
    "encoder_output2, state_h2, state_c2 = encoder_lstm2(encoder_output1)\n",
    "\n",
    "# 인코더의 LSTM 3\n",
    "encoder_lstm3 = LSTM(hidden_size, return_state=True, return_sequences=True, dropout=0.4, recurrent_dropout=0.4)\n",
    "encoder_outputs, state_h, state_c= encoder_lstm3(encoder_output2)"
   ]
  },
  {
   "cell_type": "code",
   "execution_count": 34,
   "id": "supreme-batch",
   "metadata": {},
   "outputs": [
    {
     "name": "stdout",
     "output_type": "stream",
     "text": [
      "WARNING:tensorflow:Layer lstm_3 will not use cuDNN kernel since it doesn't meet the cuDNN kernel criteria. It will use generic GPU kernel as fallback when running on GPU\n"
     ]
    }
   ],
   "source": [
    "# 디코더 설계\n",
    "\n",
    "decoder_inputs = Input(shape=(None,))\n",
    "\n",
    "# 디코더의 임베딩 층\n",
    "dec_emb_layer = Embedding(tar_vocab, embedding_dim)\n",
    "dec_emb = dec_emb_layer(decoder_inputs)\n",
    "\n",
    "# 디코더의 LSTM\n",
    "decoder_lstm = LSTM(hidden_size, return_sequences = True, return_state = True, dropout = 0.4, recurrent_dropout=0.2)\n",
    "decoder_outputs, _, _ = decoder_lstm(dec_emb, initial_state = [state_h, state_c])"
   ]
  },
  {
   "cell_type": "code",
   "execution_count": 35,
   "id": "median-thesaurus",
   "metadata": {},
   "outputs": [
    {
     "name": "stdout",
     "output_type": "stream",
     "text": [
      "Model: \"model\"\n",
      "__________________________________________________________________________________________________\n",
      "Layer (type)                    Output Shape         Param #     Connected to                     \n",
      "==================================================================================================\n",
      "input_1 (InputLayer)            [(None, 41)]         0                                            \n",
      "__________________________________________________________________________________________________\n",
      "embedding (Embedding)           (None, 41, 128)      2560000     input_1[0][0]                    \n",
      "__________________________________________________________________________________________________\n",
      "lstm (LSTM)                     [(None, 41, 256), (N 394240      embedding[0][0]                  \n",
      "__________________________________________________________________________________________________\n",
      "input_2 (InputLayer)            [(None, None)]       0                                            \n",
      "__________________________________________________________________________________________________\n",
      "lstm_1 (LSTM)                   [(None, 41, 256), (N 525312      lstm[0][0]                       \n",
      "__________________________________________________________________________________________________\n",
      "embedding_1 (Embedding)         (None, None, 128)    1216000     input_2[0][0]                    \n",
      "__________________________________________________________________________________________________\n",
      "lstm_2 (LSTM)                   [(None, 41, 256), (N 525312      lstm_1[0][0]                     \n",
      "__________________________________________________________________________________________________\n",
      "lstm_3 (LSTM)                   [(None, None, 256),  394240      embedding_1[0][0]                \n",
      "                                                                 lstm_2[0][1]                     \n",
      "                                                                 lstm_2[0][2]                     \n",
      "__________________________________________________________________________________________________\n",
      "dense (Dense)                   (None, None, 9500)   2441500     lstm_3[0][0]                     \n",
      "==================================================================================================\n",
      "Total params: 8,056,604\n",
      "Trainable params: 8,056,604\n",
      "Non-trainable params: 0\n",
      "__________________________________________________________________________________________________\n"
     ]
    }
   ],
   "source": [
    "# 디코더의 출력층\n",
    "decoder_softmax_layer = Dense(tar_vocab, activation = 'softmax')\n",
    "decoder_softmax_outputs = decoder_softmax_layer(decoder_outputs) \n",
    "\n",
    "# 모델 정의\n",
    "model = Model([encoder_inputs, decoder_inputs], decoder_softmax_outputs)\n",
    "model.summary()"
   ]
  },
  {
   "cell_type": "code",
   "execution_count": 36,
   "id": "suited-organic",
   "metadata": {},
   "outputs": [],
   "source": [
    "#어텐션 함수 다운로드\n",
    "\n",
    "urllib.request.urlretrieve(\"https://raw.githubusercontent.com/thushv89/attention_keras/master/src/layers/attention.py\", filename=\"attention.py\")\n",
    "from attention import AttentionLayer"
   ]
  },
  {
   "cell_type": "code",
   "execution_count": 37,
   "id": "interior-novelty",
   "metadata": {},
   "outputs": [
    {
     "name": "stdout",
     "output_type": "stream",
     "text": [
      "Model: \"model_1\"\n",
      "__________________________________________________________________________________________________\n",
      "Layer (type)                    Output Shape         Param #     Connected to                     \n",
      "==================================================================================================\n",
      "input_1 (InputLayer)            [(None, 41)]         0                                            \n",
      "__________________________________________________________________________________________________\n",
      "embedding (Embedding)           (None, 41, 128)      2560000     input_1[0][0]                    \n",
      "__________________________________________________________________________________________________\n",
      "lstm (LSTM)                     [(None, 41, 256), (N 394240      embedding[0][0]                  \n",
      "__________________________________________________________________________________________________\n",
      "input_2 (InputLayer)            [(None, None)]       0                                            \n",
      "__________________________________________________________________________________________________\n",
      "lstm_1 (LSTM)                   [(None, 41, 256), (N 525312      lstm[0][0]                       \n",
      "__________________________________________________________________________________________________\n",
      "embedding_1 (Embedding)         (None, None, 128)    1216000     input_2[0][0]                    \n",
      "__________________________________________________________________________________________________\n",
      "lstm_2 (LSTM)                   [(None, 41, 256), (N 525312      lstm_1[0][0]                     \n",
      "__________________________________________________________________________________________________\n",
      "lstm_3 (LSTM)                   [(None, None, 256),  394240      embedding_1[0][0]                \n",
      "                                                                 lstm_2[0][1]                     \n",
      "                                                                 lstm_2[0][2]                     \n",
      "__________________________________________________________________________________________________\n",
      "attention_layer (AttentionLayer ((None, None, 256),  131328      lstm_2[0][0]                     \n",
      "                                                                 lstm_3[0][0]                     \n",
      "__________________________________________________________________________________________________\n",
      "concat_layer (Concatenate)      (None, None, 512)    0           lstm_3[0][0]                     \n",
      "                                                                 attention_layer[0][0]            \n",
      "__________________________________________________________________________________________________\n",
      "dense_1 (Dense)                 (None, None, 9500)   4873500     concat_layer[0][0]               \n",
      "==================================================================================================\n",
      "Total params: 10,619,932\n",
      "Trainable params: 10,619,932\n",
      "Non-trainable params: 0\n",
      "__________________________________________________________________________________________________\n"
     ]
    }
   ],
   "source": [
    "#어텐션 적용\n",
    "\n",
    "# 어텐션 층(어텐션 함수)\n",
    "attn_layer = AttentionLayer(name='attention_layer')\n",
    "# 인코더와 디코더의 모든 time step의 hidden state를 어텐션 층에 전달하고 결과를 리턴\n",
    "attn_out, attn_states = attn_layer([encoder_outputs, decoder_outputs])\n",
    "\n",
    "# 어텐션의 결과와 디코더의 hidden state들을 연결\n",
    "decoder_concat_input = Concatenate(axis = -1, name='concat_layer')([decoder_outputs, attn_out])\n",
    "\n",
    "# 디코더의 출력층\n",
    "decoder_softmax_layer = Dense(tar_vocab, activation='softmax')\n",
    "decoder_softmax_outputs = decoder_softmax_layer(decoder_concat_input)\n",
    "\n",
    "# 모델 정의\n",
    "model = Model([encoder_inputs, decoder_inputs], decoder_softmax_outputs)\n",
    "model.summary()"
   ]
  },
  {
   "cell_type": "markdown",
   "id": "viral-intranet",
   "metadata": {},
   "source": [
    "## 11.4 모델 훈련(추상적 요약)"
   ]
  },
  {
   "cell_type": "code",
   "execution_count": 38,
   "id": "connected-career",
   "metadata": {},
   "outputs": [
    {
     "name": "stdout",
     "output_type": "stream",
     "text": [
      "Epoch 1/50\n",
      "278/278 [==============================] - 94s 338ms/step - loss: 5.9868 - val_loss: 5.5856\n",
      "Epoch 2/50\n",
      "278/278 [==============================] - 93s 336ms/step - loss: 5.4176 - val_loss: 5.1865\n",
      "Epoch 3/50\n",
      "278/278 [==============================] - 94s 338ms/step - loss: 5.0597 - val_loss: 4.8911\n",
      "Epoch 4/50\n",
      "278/278 [==============================] - 94s 337ms/step - loss: 4.7783 - val_loss: 4.6881\n",
      "Epoch 5/50\n",
      "278/278 [==============================] - 94s 338ms/step - loss: 4.5536 - val_loss: 4.5407\n",
      "Epoch 6/50\n",
      "278/278 [==============================] - 94s 337ms/step - loss: 4.3678 - val_loss: 4.4156\n",
      "Epoch 7/50\n",
      "278/278 [==============================] - 94s 337ms/step - loss: 4.2089 - val_loss: 4.3071\n",
      "Epoch 8/50\n",
      "278/278 [==============================] - 94s 338ms/step - loss: 4.0687 - val_loss: 4.2307\n",
      "Epoch 9/50\n",
      "278/278 [==============================] - 94s 339ms/step - loss: 3.9443 - val_loss: 4.1861\n",
      "Epoch 10/50\n",
      "278/278 [==============================] - 94s 340ms/step - loss: 3.8364 - val_loss: 4.1171\n",
      "Epoch 11/50\n",
      "278/278 [==============================] - 94s 339ms/step - loss: 3.7399 - val_loss: 4.0783\n",
      "Epoch 12/50\n",
      "278/278 [==============================] - 94s 340ms/step - loss: 3.6516 - val_loss: 4.0299\n",
      "Epoch 13/50\n",
      "278/278 [==============================] - 94s 339ms/step - loss: 3.5702 - val_loss: 3.9982\n",
      "Epoch 14/50\n",
      "278/278 [==============================] - 94s 339ms/step - loss: 3.4984 - val_loss: 3.9726\n",
      "Epoch 15/50\n",
      "278/278 [==============================] - 94s 339ms/step - loss: 3.4314 - val_loss: 3.9553\n",
      "Epoch 16/50\n",
      "278/278 [==============================] - 94s 338ms/step - loss: 3.3694 - val_loss: 3.9325\n",
      "Epoch 17/50\n",
      "278/278 [==============================] - 94s 339ms/step - loss: 3.3102 - val_loss: 3.9168\n",
      "Epoch 18/50\n",
      "278/278 [==============================] - 94s 339ms/step - loss: 3.2555 - val_loss: 3.9119\n",
      "Epoch 19/50\n",
      "278/278 [==============================] - 94s 339ms/step - loss: 3.2031 - val_loss: 3.8842\n",
      "Epoch 20/50\n",
      "278/278 [==============================] - 94s 339ms/step - loss: 3.1539 - val_loss: 3.8777\n",
      "Epoch 21/50\n",
      "278/278 [==============================] - 94s 339ms/step - loss: 3.1057 - val_loss: 3.8619\n",
      "Epoch 22/50\n",
      "278/278 [==============================] - 94s 339ms/step - loss: 3.0612 - val_loss: 3.8514\n",
      "Epoch 23/50\n",
      "278/278 [==============================] - 94s 339ms/step - loss: 3.0163 - val_loss: 3.8439\n",
      "Epoch 24/50\n",
      "278/278 [==============================] - 94s 339ms/step - loss: 2.9775 - val_loss: 3.8422\n",
      "Epoch 25/50\n",
      "278/278 [==============================] - 94s 338ms/step - loss: 2.9396 - val_loss: 3.8355\n",
      "Epoch 26/50\n",
      "278/278 [==============================] - 94s 340ms/step - loss: 2.9024 - val_loss: 3.8315\n",
      "Epoch 27/50\n",
      "278/278 [==============================] - 95s 341ms/step - loss: 2.8691 - val_loss: 3.8350\n",
      "Epoch 28/50\n",
      "278/278 [==============================] - 94s 339ms/step - loss: 2.8363 - val_loss: 3.8434\n",
      "Epoch 00028: early stopping\n"
     ]
    }
   ],
   "source": [
    "#훈련 진행\n",
    "\n",
    "model.compile(optimizer='rmsprop', loss='sparse_categorical_crossentropy')\n",
    "es = EarlyStopping(monitor='val_loss', mode='min', verbose=1, patience = 2)\n",
    "history = model.fit(x = [encoder_input_train, decoder_input_train], y = decoder_target_train, \\\n",
    "          validation_data = ([encoder_input_test, decoder_input_test], decoder_target_test),\n",
    "          batch_size = 256, callbacks=[es], epochs = 50)"
   ]
  },
  {
   "cell_type": "code",
   "execution_count": 39,
   "id": "educational-confidentiality",
   "metadata": {},
   "outputs": [
    {
     "data": {
      "image/png": "[encoded data removed]",
      "text/plain": [
       "<Figure size 432x288 with 1 Axes>"
      ]
     },
     "metadata": {
      "needs_background": "light"
     },
     "output_type": "display_data"
    }
   ],
   "source": [
    "# loss 변화율 시각화\n",
    "\n",
    "plt.plot(history.history['loss'], label='train')\n",
    "plt.plot(history.history['val_loss'], label='test')\n",
    "plt.legend()\n",
    "plt.show()"
   ]
  },
  {
   "cell_type": "markdown",
   "id": "enormous-precipitation",
   "metadata": {},
   "source": [
    "## 11.5 인퍼런스 모델 구현"
   ]
  },
  {
   "cell_type": "code",
   "execution_count": 40,
   "id": "sitting-trinidad",
   "metadata": {},
   "outputs": [],
   "source": [
    "#정수데이터 복원을 위한 사전 구성\n",
    "\n",
    "src_index_to_word = src_tokenizer.index_word # 원문 단어 집합에서 정수 -> 단어를 얻음\n",
    "tar_word_to_index = tar_tokenizer.word_index # 요약 단어 집합에서 단어 -> 정수를 얻음\n",
    "tar_index_to_word = tar_tokenizer.index_word # 요약 단어 집합에서 정수 -> 단어를 얻음"
   ]
  },
  {
   "cell_type": "code",
   "execution_count": 41,
   "id": "tender-donor",
   "metadata": {},
   "outputs": [],
   "source": [
    "# 인코더 설계\n",
    "encoder_model = Model(inputs=encoder_inputs, outputs=[encoder_outputs, state_h, state_c])\n",
    "\n",
    "# 이전 시점의 상태들을 저장하는 텐서\n",
    "decoder_state_input_h = Input(shape=(hidden_size,))\n",
    "decoder_state_input_c = Input(shape=(hidden_size,))\n",
    "\n",
    "dec_emb2 = dec_emb_layer(decoder_inputs)\n",
    "# 문장의 다음 단어를 예측하기 위해서 초기 상태(initial_state)를 이전 시점의 상태로 사용. 이는 뒤의 함수 decode_sequence()에 구현\n",
    "# 훈련 과정에서와 달리 LSTM의 리턴하는 은닉 상태와 셀 상태인 state_h와 state_c를 버리지 않음.\n",
    "decoder_outputs2, state_h2, state_c2 = decoder_lstm(dec_emb2, initial_state=[decoder_state_input_h, decoder_state_input_c])"
   ]
  },
  {
   "cell_type": "code",
   "execution_count": 42,
   "id": "better-douglas",
   "metadata": {},
   "outputs": [],
   "source": [
    "# 출력층 생성\n",
    "\n",
    "# 어텐션 함수\n",
    "decoder_hidden_state_input = Input(shape=(text_max_len, hidden_size))\n",
    "attn_out_inf, attn_states_inf = attn_layer([decoder_hidden_state_input, decoder_outputs2])\n",
    "decoder_inf_concat = Concatenate(axis=-1, name='concat')([decoder_outputs2, attn_out_inf])\n",
    "\n",
    "# 디코더의 출력층\n",
    "decoder_outputs2 = decoder_softmax_layer(decoder_inf_concat) \n",
    "\n",
    "# 최종 디코더 모델\n",
    "decoder_model = Model(\n",
    "    [decoder_inputs] + [decoder_hidden_state_input,decoder_state_input_h, decoder_state_input_c],\n",
    "    [decoder_outputs2] + [state_h2, state_c2])"
   ]
  },
  {
   "cell_type": "code",
   "execution_count": 43,
   "id": "express-commercial",
   "metadata": {},
   "outputs": [],
   "source": [
    "#단어시퀀스 함수 생성\n",
    "\n",
    "def decode_sequence(input_seq):\n",
    "    # 입력으로부터 인코더의 상태를 얻음\n",
    "    e_out, e_h, e_c = encoder_model.predict(input_seq)\n",
    "\n",
    "     # <SOS>에 해당하는 토큰 생성\n",
    "    target_seq = np.zeros((1,1))\n",
    "    target_seq[0, 0] = tar_word_to_index['sostoken']\n",
    "\n",
    "    stop_condition = False\n",
    "    decoded_sentence = ''\n",
    "    while not stop_condition: # stop_condition이 True가 될 때까지 루프 반복\n",
    "\n",
    "        output_tokens, h, c = decoder_model.predict([target_seq] + [e_out, e_h, e_c])\n",
    "        sampled_token_index = np.argmax(output_tokens[0, -1, :])\n",
    "        sampled_token = tar_index_to_word[sampled_token_index]\n",
    "\n",
    "        if(sampled_token!='eostoken'):\n",
    "            decoded_sentence += ' '+sampled_token\n",
    "\n",
    "        #  <eos>에 도달하거나 최대 길이를 넘으면 중단.\n",
    "        if (sampled_token == 'eostoken'  or len(decoded_sentence.split()) >= (headlines_max_len-1)):\n",
    "            stop_condition = True\n",
    "\n",
    "        # 길이가 1인 타겟 시퀀스를 업데이트\n",
    "        target_seq = np.zeros((1,1))\n",
    "        target_seq[0, 0] = sampled_token_index\n",
    "\n",
    "        # 상태를 업데이트 합니다.\n",
    "        e_h, e_c = h, c\n",
    "\n",
    "    return decoded_sentence"
   ]
  },
  {
   "cell_type": "markdown",
   "id": "extensive-albuquerque",
   "metadata": {},
   "source": [
    "## 11.6 모델 테스트"
   ]
  },
  {
   "cell_type": "code",
   "execution_count": 44,
   "id": "unusual-trigger",
   "metadata": {},
   "outputs": [],
   "source": [
    "# 원문의 정수 시퀀스를 텍스트 시퀀스로 변환\n",
    "def seq2text(input_seq):\n",
    "    temp=''\n",
    "    for i in input_seq:\n",
    "        if(i!=0):\n",
    "            temp = temp + src_index_to_word[i]+' '\n",
    "    return temp\n",
    "\n",
    "# 요약문의 정수 시퀀스를 텍스트 시퀀스로 변환\n",
    "def seq2summary(input_seq):\n",
    "    temp=''\n",
    "    for i in input_seq:\n",
    "        if((i!=0 and i!=tar_word_to_index['sostoken']) and i!=tar_word_to_index['eostoken']):\n",
    "            temp = temp + tar_index_to_word[i] + ' '\n",
    "    return temp"
   ]
  },
  {
   "cell_type": "code",
   "execution_count": 45,
   "id": "improving-killer",
   "metadata": {},
   "outputs": [
    {
     "name": "stdout",
     "output_type": "stream",
     "text": [
      "원문 : central industrial security force personnel deployed airports sought replace bulletproof jackets ones withstand bullets fired ak rifles gunshots fired point blank range issue raised civil aviation ministry last month officials said airports high alert jackets important terror attacks officials added \n",
      "실제 요약 : cisf seeks bulletproof that ak bullets \n",
      "예측 요약 :  cisf to cisf security security for airports\n",
      "\n",
      "\n",
      "원문 : nasa experimental mini satellites nicknamed wall eve disney characters broadcast status insight mars lander use compressed gas found fire push space way wall film insight first mission study deep interior mars track landing planet monday \n",
      "실제 요약 : nasa satellites wall eve to track robotic mars landing \n",
      "예측 요약 :  nasa shares image of spacex mars landing\n",
      "\n",
      "\n",
      "원문 : big bang theory actress revealed thursday underwent surgery correct undisclosed medical issue five days wedding professional karl cook honeymoon shoulder surgery husband looks happy wrote post instagram got married karl california last week \n",
      "실제 요약 : shoulder surgery honeymoon on surgery post marriage \n",
      "예측 요약 :  what was the longest of the class of the big\n",
      "\n",
      "\n",
      "원문 : enforcement directorate seized assets worth crore first two months connection bank scam cases union minister shiv pratap shukla said friday added ed conducted searches cases relating bank scams period cases also included cases possessing disproportionate assets said \n",
      "실제 요약 : assets worth cr seized in bank fraud cases in jan feb \n",
      "예측 요약 :  ed attaches cr assets worth cr in pnb scam case\n",
      "\n",
      "\n",
      "원문 : ysr congress party sunday submitted memorandum andhra pradesh assembly speaker rao demanding immediate disqualification former mlas defected ruling tdp ysrcp said attend budget session demands met earlier party boycotted winter session issue \n",
      "실제 요약 : andhra mlas who to ruling tdp \n",
      "예측 요약 :  ysr congress mlas protest in andhra pradesh\n",
      "\n",
      "\n",
      "원문 : video us border patrol vehicle driving away running native american man near us mexico border arizona surfaced online people area alleged deal things constantly tolerate misconduct duty fully cooperate investigations us border patrol said \n",
      "실제 요약 : us border patrol vehicle runs over man drives away \n",
      "예측 요약 :  video us military flies drone to fight near us border\n",
      "\n",
      "\n",
      "원문 : north korea accused us central intelligence agency plotting south korea assassinate leader kim jong un use substances according reports cia south korea intelligence services bribed dprk citizen kim carry attack leader north korea ministry state security said \n",
      "실제 요약 : korea accuses cia of plot to kill kim jong un \n",
      "예측 요약 :  korea rejects us request to korea over korea probe\n",
      "\n",
      "\n",
      "원문 : indian army soldier martyred another critically injured following ceasefire violation pakistani troops along loc jammu kashmir monday martyred soldier lance naik sebastian km survived wife defence ministry said nation always remain indebted supreme sacrifice devotion duty \n",
      "실제 요약 : soldier martyred in ceasefire violation by pakistan in \n",
      "예측 요약 :  army jawan martyred in ceasefire violation by pak army\n",
      "\n",
      "\n",
      "원문 : authorities uk leicester city recovered body indian origin man named paresh patel day search involving large number people patel body recovered canal police divers friday authorities said death treated suspicious \n",
      "실제 요약 : indian origin man body found after day search in uk \n",
      "예측 요약 :  uk man jailed for years for killing in canada\n",
      "\n",
      "\n",
      "원문 : actor salman khan father salim khan actress rehman among residents demanded shifting public toilet constructed mumbai toilet built middle mess create nuisance said salim khan residents filed complaint regarding bmc \n",
      "실제 요약 : salman father demand of public toilet \n",
      "예측 요약 :  salman khan to be screened at school in jodhpur jail\n",
      "\n",
      "\n",
      "원문 : singer songwriter bob dylan receive nobel prize literature person stockholm weekend however give traditional nobel lecture person reportedly send taped version dylan deliver lecture june order receive crore part nobel prize \n",
      "실제 요약 : bob to receive his nobel prize in stockholm \n",
      "예측 요약 :  nobel prize was once rejected nobel prize prize\n",
      "\n",
      "\n",
      "원문 : divers discovered intact world war german submarine also known boat bodies inside north sea authorities said submarines lost sea killing sailors war located authorities claim discovery best preserved example \n",
      "실제 요약 : german submarine with bodies found in north sea \n",
      "예측 요약 :  wwii submarine found at sea of\n",
      "\n",
      "\n",
      "원문 : gurugram based home rental startup raised crore series round funding lightspeed india partners blume ventures ventures others earlier startup raised crore seed funding led lightspeed india partners founded november iit alumni pandey mukul bhati \n",
      "실제 요약 : home rental startup gets cr in series funding \n",
      "예측 요약 :  gurugram based startup raises crore\n",
      "\n",
      "\n",
      "원문 : year old elephant named mahadevan got blessed junior priest church kerala thursday church said correct word describe event would blessed instead mla pc george whose family owns elephant said animal get christian name post blessing \n",
      "실제 요약 : elephant gets blessed in kerala church \n",
      "예측 요약 :  year old dies after getting oath at lord\n",
      "\n",
      "\n",
      "원문 : new behind scenes video virat kohli basket classic one seen interacting puma team kohli calls childhood love cricket explain different design elements shoes mostly played surprise colours made way first \n",
      "실제 요약 : virat reveals secrets behind his one in video \n",
      "예측 요약 :  anushka sharma reveals he does not have started\n",
      "\n",
      "\n",
      "원문 : three weeks injected engineered tissue containing human stem cells rats found walk independently regain sensory perception according israel based study among implanted rats showed improved ability support weight hind limbs walk responded hind limbs tail researchers reported \n",
      "실제 요약 : rats walk again after receiving human cells \n",
      "예측 요약 :  human edited to study cancer\n",
      "\n",
      "\n",
      "원문 : russia made postal drone crashed wall city siberia monday making first parcel delivery drone cost make took crashed wall within seconds speculated wifi connections area could cause crash \n",
      "실제 요약 : postal drone runs into wall on its flight \n",
      "예측 요약 :  russia sends drone to shoot drone to look\n",
      "\n",
      "\n",
      "원문 : german coal mine set converted giant battery station store enough renewable energy power lakh homes mine produced fossil fuel almost half century function mw pumped storage reservoir mine elevation considered suitable generation power \n",
      "실제 요약 : german coal mine to be turned into energy battery \n",
      "예측 요약 :  world largest dinosaur found at solar power in germany\n",
      "\n",
      "\n",
      "원문 : google filed patent making footwear augmented virtual reality patent describes footwear sensors would allow users walk virtual environment remaining within defined physical space physical environment technology would bring users back return zone helping avoid collisions added \n",
      "실제 요약 : google patents for walking in vr ar \n",
      "예측 요약 :  google working on camera that can prevent user\n",
      "\n",
      "\n",
      "원문 : complaints domestic air carriers past months government data revealed complaints pertained flight delays related ticket fare refunds complaints regarding crew behaviour also registered airlines \n",
      "실제 요약 : complaints made against indian airlines in months \n",
      "예측 요약 :  air india delays flight salaries over complaints of\n",
      "\n",
      "\n",
      "원문 : slamming government delay justice daughter nirbhaya mother said vote anyone next year hopes left existing government ensured swift speedy trial introduced new act altogether rape survivors cases like kathua unnao would surfaced nirbhaya father added \n",
      "실제 요약 : have no hopes left will not vote next year nirbhaya mother \n",
      "예측 요약 :  mother of rajiv gandhi is not good ex husband\n",
      "\n",
      "\n",
      "원문 : customs officials chennai international airport saturday detained two south korean women allegedly smuggling kg gold worth crore gold bars weighing kg recovered official said duo reportedly walking near airport intercepted air intelligence unit officers \n",
      "실제 요약 : kg gold seized at chennai airport korean women held \n",
      "예측 요약 :  gold worth lakh seized in mumbai airport\n",
      "\n",
      "\n",
      "원문 : apparent jibe delhi cm arvind kejriwal apologising former punjab minister bikram singh majithia social activist anna hazare said one try anything forces one tender apology kejriwal apologised claiming majithia involved drug trade punjab minister filed defamation case \n",
      "실제 요약 : anna hazare takes jibe at kejriwal apology to ex minister \n"
     ]
    },
    {
     "name": "stdout",
     "output_type": "stream",
     "text": [
      "예측 요약 :  kejriwal remarks on kejriwal tweet on social media\n",
      "\n",
      "\n",
      "원문 : amitabh bachchan confirmed back host ninth season quiz show kaun banega crorepati bachchan personal blog wrote contest air august september year revealed contestants spending many hours hot seat would end becoming dearest friends \n",
      "실제 요약 : bachchan to return as host of kaun banega crorepati season \n",
      "예측 요약 :  amitabh bachchan launches his season season\n",
      "\n",
      "\n",
      "원문 : irctc tied startup self help group known supplying good quality mangoes deliver mangoes passengers seats move aimed promoting irctc catering services food track mangoes sold discounted price per dozen \n",
      "실제 요약 : irctc to get delivered to passengers seats \n",
      "예측 요약 :  startup to hire users to write gender neutral\n",
      "\n",
      "\n",
      "원문 : kolkata called calcutta country biggest city population lakh delhi seventh populous city population delhi grew partition overtook chennai third populous city census mumbai overtook kolkata populous city \n",
      "실제 요약 : how have indian cities grown in yrs from to \n",
      "예측 요약 :  arunachal has highest cities in yrs survey\n",
      "\n",
      "\n",
      "원문 : police registered case bihar mla anant singh popularly known bahubali conspiring murder gangster yadav yadav killed sunday patna wife claimed singh killed husband help three others singh also arrested june connection kidnapping murder case \n",
      "실제 요약 : bihar mla booked in murder case \n",
      "예측 요약 :  mla booked for killing ram rahim for killing\n",
      "\n",
      "\n",
      "원문 : highlighting need upgrade indian air force air chief marshal bs dhanoa wednesday said rafale air defence missile system deals like booster dose also defended rafale deal calling good package adding government took bold step bought rafale aircraft \n",
      "실제 요약 : rafale missiles are like iaf chief \n",
      "예측 요약 :  air india will not be ready for rafale jets iaf\n",
      "\n",
      "\n",
      "원문 : malaysia passed law offers stronger legal protections children sexual stops short criminalising child marriages responding proposal ban child marriages malaysian mp said girls young nine physically ready marriage civil law islamic law girls boys married \n",
      "실제 요약 : new malaysian law does not criminalise child marriages \n",
      "예측 요약 :  indonesian court bans law after child marriage\n",
      "\n",
      "\n",
      "원문 : congress leader anand sharma friday said parliament midnight session gst launch insult midnight session former pm jawaharlal nehru announced country independence cannot compare tax launch country independence important past midnight session called added \n",
      "실제 요약 : gst launch event insults midnight session congress \n",
      "예측 요약 :  gst is like gst on gst congress leader\n",
      "\n",
      "\n",
      "원문 : reserve bank india issued tender inviting software hardware solutions help visually challenged citizens identify banknotes per tender mechanism device take longer seconds identify currently printing based identification marks banknotes help visually challenged recognize currency \n",
      "실제 요약 : rbi seeks options to help visually challenged identify notes \n",
      "예측 요약 :  rbi asks states to check new notes\n",
      "\n",
      "\n",
      "원문 : national conference leader omar abdullah dared prove nc acting instructions across border remark bjp general secretary ram madhav tweeted deny external pressure take back comment probably nc pdp fresh instructions across border come together form government madhav said earlier \n",
      "실제 요약 : ram takes back order from pak remark after omar dare \n",
      "예측 요약 :  bjp leader slams bjp for remark on political party\n",
      "\n",
      "\n",
      "원문 : foreign minister sushma swaraj today dismissed us president donald trump charges india signed paris climate pact billions dollars saying completely true india signed pact greed committed environment commitment years old worship nature indian ethos swaraj added \n",
      "실제 요약 : india didn sign paris agreement for money sushma swaraj \n",
      "예측 요약 :  trump climate climate change us envoy\n",
      "\n",
      "\n",
      "원문 : man threw another man feet high bridge intervening argument girlfriend said police officers us connecticut incident occurred victim asked accused girlfriend okay accused charged attempted murder connection encounter left victim seriously injured \n",
      "실제 요약 : man intervenes in couple argument gets thrown from bridge \n",
      "예측 요약 :  man throws acid attack on train after refusing to escape\n",
      "\n",
      "\n",
      "원문 : police complaint filed several officials bengaluru based firm technologies ltd allegedly leaking aadhaar data android app app available google play store developed provide kyc documents customers app allegedly provided documents without permission unique identification authority india authorities concerned \n",
      "실제 요약 : bengaluru based firm leaks aadhaar data on android app \n",
      "예측 요약 :  noida based firm files complaint against aadhaar\n",
      "\n",
      "\n",
      "원문 : prime minister narendra modi today tweeted may give strength people kerala overcome facing past days added entire nation stands shoulder shoulder kerala happiness prosperity citizens kerala witnessing worst floods since \n",
      "실제 요약 : will give kerala strength to pm \n",
      "예측 요약 :  pm modi announces for diwali in flood hit areas\n",
      "\n",
      "\n",
      "원문 : election commission recommended disqualification aap lawmakers allegedly holding offices profit bjp spokesperson sambit patra friday said aap moved india corruption corruption accused mlas holding post parliamentary secretaries bjp congress demanded delhi cm arvind kejriwal resignation incident \n",
      "실제 요약 : aap moved from against corruption to corruption bjp \n",
      "예측 요약 :  aap mlas to be in delhi by aap\n",
      "\n",
      "\n",
      "원문 : nearly dozen uber drivers uk us recently asked opinion uber co founder travis kalanick resignation ceo california driver said want get paid job give damn meanwhile one uber los angeles based driver answered uber investors smart fire travis \n",
      "실제 요약 : do not give uber driver on ceo travis resignation \n",
      "예측 요약 :  uber drivers pay to uber ceo after exit exit report\n",
      "\n",
      "\n",
      "원문 : fast furious become biggest global box office opener ever raking estimated million weekend beat previous record holder star wars force opened million fast furious reportedly made million india since debut \n",
      "실제 요약 : fast and furious records biggest box office opening ever \n",
      "예측 요약 :  bradman earns crore in day after record\n",
      "\n",
      "\n",
      "원문 : uttar pradesh agreed give land proposed international airport local mla singh said according law consent least mandatory government proceed acquisition land projects total hectares land acquired airport \n",
      "실제 요약 : over owners ready to give their land for airport \n",
      "예측 요약 :  up to get liquor with land for\n",
      "\n",
      "\n",
      "원문 : income tax department reportedly unearthed undisclosed income amounting crore fiscal compared crore income detected verification cases non pan data foreign account tax compliance act common reporting standard data cases increased three times cases \n",
      "실제 요약 : dept detects cr undisclosed income during fy \n",
      "예측 요약 :  dept attaches crore crore from tax evasion\n",
      "\n",
      "\n",
      "원문 : shipping lanes north atlantic ocean since last week forcing vessels take hundreds kilometres average time year us coast guard commander said never seen anything like decade experience experts attributed strong counter winds \n",
      "실제 요약 : disrupt north atlantic \n",
      "예측 요약 :  three ship of ship found in days after years\n",
      "\n",
      "\n",
      "원문 : allegations sexual assault reported us troops past four years us department defence said report report details allegations made army reporting cases however officials said drop numbers sexual assault among force since \n",
      "실제 요약 : us troops reported sexual assault cases in last yrs \n",
      "예측 요약 :  sexual abuse of misconduct in us amid sexual harassment\n",
      "\n",
      "\n",
      "원문 : total pubs bars gurugram given clean chit metre liquor ban near state national highways include caf delhi heights hard rock caf punjabi nature vapour bar exchange meanwhile status pubs hotels remain scrutiny \n",
      "실제 요약 : pubs bars near highways escape alcohol ban in gurugram \n",
      "예측 요약 :  gurugram civic body to install liquor ban on highways\n",
      "\n",
      "\n",
      "원문 : following large scale violence ahead polls election commission monday postponed poll anantnag lok sabha seat month may earlier scheduled held april comes srinagar polls registered polling due violence killed civilians injured security personnel \n",
      "실제 요약 : ec postpones anantnag lok sabha by poll in to may \n",
      "예측 요약 :  ec suspends nagaland polls for election\n",
      "\n",
      "\n",
      "원문 : lawsuit claimed american audio equipment company bose spying users wireless headphones app tracks music listen bose violates users privacy rights selling audio information without permission added audio choices offer incredible amount insight customer personality behaviour religion lawsuit said \n",
      "실제 요약 : bose wireless headphones spying on customers claims lawsuit \n"
     ]
    },
    {
     "name": "stdout",
     "output_type": "stream",
     "text": [
      "예측 요약 :  facebook admits to let users control ads using\n",
      "\n",
      "\n",
      "원문 : said online travel agents liable deduct tax collected source gst classified commerce operators deduct tcs making payment suppliers also clarified benefit exemption gst businesses turnover lakh available commerce operators \n",
      "실제 요약 : online travel agents liable to tax at source \n",
      "예측 요약 :  tax returns to tax on under gst returns to\n",
      "\n",
      "\n",
      "원문 : talking interview vision uttar pradesh chief minister yogi adityanath said government wants make developed state india want generate employment youngsters migrate different states added said months government made policies different sectors \n",
      "실제 요약 : want to make up most developed state in india cm yogi \n",
      "예측 요약 :  adityanath has not need to make up cm adityanath\n",
      "\n",
      "\n",
      "원문 : growing evidence people eat fruits vegetables better mental health lower incidence depression anxiety greater happiness higher life satisfaction recommended intake fruits vegetables average intake india per day comprising fruits vegetables \n",
      "실제 요약 : low of fruits can make you feel low \n",
      "예측 요약 :  to be in the of\n",
      "\n",
      "\n",
      "원문 : talking career artiste alia bhatt mother soni razdan said think get success thought deserve wanted work hindi film industry much offered added soni said grain rice wheat field fault \n",
      "실제 요약 : did not get the success thought deserve alia mom soni \n",
      "예측 요약 :  alia is not to work with alia mother alia bhatt\n",
      "\n",
      "\n"
     ]
    }
   ],
   "source": [
    "for i in range(50, 100):\n",
    "    print(\"원문 :\", seq2text(encoder_input_test[i]))\n",
    "    print(\"실제 요약 :\", seq2summary(decoder_input_test[i]))\n",
    "    print(\"예측 요약 :\", decode_sequence(encoder_input_test[i].reshape(1, text_max_len)))\n",
    "    print(\"\\n\")"
   ]
  },
  {
   "cell_type": "markdown",
   "id": "weird-savannah",
   "metadata": {},
   "source": [
    "## 11.7 데이터 준비(추출적 요약)"
   ]
  },
  {
   "cell_type": "code",
   "execution_count": 46,
   "id": "divine-constant",
   "metadata": {},
   "outputs": [],
   "source": [
    "# 필요 모듈 import\n",
    "\n",
    "import requests\n",
    "from summa.summarizer import summarize"
   ]
  },
  {
   "cell_type": "code",
   "execution_count": 47,
   "id": "empirical-lemon",
   "metadata": {},
   "outputs": [
    {
     "data": {
      "text/html": [
       "<div>\n",
       "<style scoped>\n",
       "    .dataframe tbody tr th:only-of-type {\n",
       "        vertical-align: middle;\n",
       "    }\n",
       "\n",
       "    .dataframe tbody tr th {\n",
       "        vertical-align: top;\n",
       "    }\n",
       "\n",
       "    .dataframe thead th {\n",
       "        text-align: right;\n",
       "    }\n",
       "</style>\n",
       "<table border=\"1\" class=\"dataframe\">\n",
       "  <thead>\n",
       "    <tr style=\"text-align: right;\">\n",
       "      <th></th>\n",
       "      <th>headlines</th>\n",
       "      <th>text</th>\n",
       "    </tr>\n",
       "  </thead>\n",
       "  <tbody>\n",
       "    <tr>\n",
       "      <th>34816</th>\n",
       "      <td>Cuba gets its first non-Castro President in 60...</td>\n",
       "      <td>Cuba's National Assembly has appointed First V...</td>\n",
       "    </tr>\n",
       "    <tr>\n",
       "      <th>47125</th>\n",
       "      <td>US nervous about N Korea striking with nukes: ...</td>\n",
       "      <td>Admitting that the North Korean threat to stri...</td>\n",
       "    </tr>\n",
       "    <tr>\n",
       "      <th>84590</th>\n",
       "      <td>Delhi man takes wife to park for a surprise, s...</td>\n",
       "      <td>A 22-year-old woman was allegedly strangled to...</td>\n",
       "    </tr>\n",
       "    <tr>\n",
       "      <th>6678</th>\n",
       "      <td>Isha Ambani, Anand Piramal's wedding to cost $...</td>\n",
       "      <td>Asia's richest person Mukesh Ambani's daughter...</td>\n",
       "    </tr>\n",
       "    <tr>\n",
       "      <th>9301</th>\n",
       "      <td>Tesla accidentally gives user access to 1.5 mi...</td>\n",
       "      <td>Elon Musk-led Tesla accidentally gave a forum ...</td>\n",
       "    </tr>\n",
       "    <tr>\n",
       "      <th>48464</th>\n",
       "      <td>Banks to accept only online applications for e...</td>\n",
       "      <td>The government has directed the banks to only ...</td>\n",
       "    </tr>\n",
       "    <tr>\n",
       "      <th>22804</th>\n",
       "      <td>Illness, jail detention most cited reasons by ...</td>\n",
       "      <td>Illness, elections in their constituency and d...</td>\n",
       "    </tr>\n",
       "    <tr>\n",
       "      <th>3700</th>\n",
       "      <td>PM fled Parliament to lecture Lovely Universit...</td>\n",
       "      <td>After PM Narendra Modi's absence in Lok Sabha,...</td>\n",
       "    </tr>\n",
       "    <tr>\n",
       "      <th>82280</th>\n",
       "      <td>No regional peace without Pakistan's cooperati...</td>\n",
       "      <td>There could be \"no peace\" in Afghanistan or th...</td>\n",
       "    </tr>\n",
       "    <tr>\n",
       "      <th>38710</th>\n",
       "      <td>Cong denies it didn't invite ex-Prez Pranab to...</td>\n",
       "      <td>The Congress has denied reports that it did no...</td>\n",
       "    </tr>\n",
       "  </tbody>\n",
       "</table>\n",
       "</div>"
      ],
      "text/plain": [
       "                                               headlines  \\\n",
       "34816  Cuba gets its first non-Castro President in 60...   \n",
       "47125  US nervous about N Korea striking with nukes: ...   \n",
       "84590  Delhi man takes wife to park for a surprise, s...   \n",
       "6678   Isha Ambani, Anand Piramal's wedding to cost $...   \n",
       "9301   Tesla accidentally gives user access to 1.5 mi...   \n",
       "48464  Banks to accept only online applications for e...   \n",
       "22804  Illness, jail detention most cited reasons by ...   \n",
       "3700   PM fled Parliament to lecture Lovely Universit...   \n",
       "82280  No regional peace without Pakistan's cooperati...   \n",
       "38710  Cong denies it didn't invite ex-Prez Pranab to...   \n",
       "\n",
       "                                                    text  \n",
       "34816  Cuba's National Assembly has appointed First V...  \n",
       "47125  Admitting that the North Korean threat to stri...  \n",
       "84590  A 22-year-old woman was allegedly strangled to...  \n",
       "6678   Asia's richest person Mukesh Ambani's daughter...  \n",
       "9301   Elon Musk-led Tesla accidentally gave a forum ...  \n",
       "48464  The government has directed the banks to only ...  \n",
       "22804  Illness, elections in their constituency and d...  \n",
       "3700   After PM Narendra Modi's absence in Lok Sabha,...  \n",
       "82280  There could be \"no peace\" in Afghanistan or th...  \n",
       "38710  The Congress has denied reports that it did no...  "
      ]
     },
     "execution_count": 47,
     "metadata": {},
     "output_type": "execute_result"
    }
   ],
   "source": [
    "# 데이터 다운로드\n",
    "\n",
    "urllib.request.urlretrieve(\"https://raw.githubusercontent.com/sunnysai12345/News_Summary/master/news_summary_more.csv\", filename=\"news_summary_more.csv\")\n",
    "data = pd.read_csv('news_summary_more.csv', encoding='iso-8859-1')\n",
    "data.sample(10)"
   ]
  },
  {
   "cell_type": "code",
   "execution_count": 48,
   "id": "governmental-branch",
   "metadata": {},
   "outputs": [
    {
     "name": "stdout",
     "output_type": "stream",
     "text": [
      "0        Saurav Kant, an alumnus of upGrad and IIIT-B's...\n",
      "1        Kunal Shah's credit card bill payment platform...\n",
      "2        New Zealand defeated India by 8 wickets in the...\n",
      "3        With Aegon Life iTerm Insurance plan, customer...\n",
      "4        Speaking about the sexual harassment allegatio...\n",
      "                               ...                        \n",
      "98396    A CRPF jawan was on Tuesday axed to death with...\n",
      "98397    'Uff Yeh', the first song from the Sonakshi Si...\n",
      "98398    According to reports, a new version of the 199...\n",
      "98399    A new music video shows rapper Snoop Dogg aimi...\n",
      "98400    Madhesi Morcha, an alliance of seven political...\n",
      "Name: text, Length: 98401, dtype: object\n"
     ]
    }
   ],
   "source": [
    "text = data['text']\n",
    "print(text)"
   ]
  },
  {
   "cell_type": "code",
   "execution_count": 49,
   "id": "macro-limit",
   "metadata": {},
   "outputs": [
    {
     "name": "stdout",
     "output_type": "stream",
     "text": [
      "0        upGrad learner switches to career in ML & Al w...\n",
      "1        Delhi techie wins free food from Swiggy for on...\n",
      "2        New Zealand end Rohit Sharma-led India's 12-ma...\n",
      "3        Aegon life iTerm insurance plan helps customer...\n",
      "4        Have known Hirani for yrs, what if MeToo claim...\n",
      "                               ...                        \n",
      "98396    CRPF jawan axed to death by Maoists in Chhatti...\n",
      "98397    First song from Sonakshi Sinha's 'Noor' titled...\n",
      "98398           'The Matrix' film to get a reboot: Reports\n",
      "98399    Snoop Dogg aims gun at clown dressed as Trump ...\n",
      "98400    Madhesi Morcha withdraws support to Nepalese g...\n",
      "Name: headlines, Length: 98401, dtype: object\n"
     ]
    }
   ],
   "source": [
    "newshead = data['headlines']\n",
    "print(newshead)"
   ]
  },
  {
   "cell_type": "code",
   "execution_count": 50,
   "id": "lyric-watts",
   "metadata": {},
   "outputs": [
    {
     "name": "stdout",
     "output_type": "stream",
     "text": [
      "Summary:\n",
      "upGrad's Online Power Learning has powered 3 lakh+ careers.\n"
     ]
    }
   ],
   "source": [
    "#summarize 활용 문장 줄이기\n",
    "# 문장 퍼센티지로 요약\n",
    "print('Summary:')\n",
    "print(summarize(text[0], ratio=0.5))"
   ]
  },
  {
   "cell_type": "code",
   "execution_count": 51,
   "id": "worthy-carbon",
   "metadata": {},
   "outputs": [
    {
     "name": "stdout",
     "output_type": "stream",
     "text": [
      "Summary:\n",
      "[\"upGrad's Online Power Learning has powered 3 lakh+ careers.\"]\n"
     ]
    }
   ],
   "source": [
    "# 출려결과 리스트로 받기\n",
    "print('Summary:')\n",
    "print(summarize(text[0], ratio=0.5, split=True))"
   ]
  },
  {
   "cell_type": "code",
   "execution_count": 52,
   "id": "original-lighter",
   "metadata": {},
   "outputs": [
    {
     "name": "stdout",
     "output_type": "stream",
     "text": [
      "Summary:\n",
      "Saurav Kant, an alumnus of upGrad and IIIT-B's PG Program in Machine learning and Artificial Intelligence, was a Sr Systems Engineer at Infosys with almost 5 years of work experience.\n",
      "The program and upGrad's 360-degree career support helped him transition to a Data Scientist at Tech Mahindra with 90% salary hike.\n",
      "upGrad's Online Power Learning has powered 3 lakh+ careers.\n"
     ]
    }
   ],
   "source": [
    "# 단어 개수로 요약\n",
    "\n",
    "print('Summary:')\n",
    "print(summarize(text[0], words=50))"
   ]
  },
  {
   "cell_type": "code",
   "execution_count": 53,
   "id": "defined-injection",
   "metadata": {},
   "outputs": [
    {
     "name": "stdout",
     "output_type": "stream",
     "text": [
      "[\"upGrad's Online Power Learning has powered 3 lakh+ careers.\", 'Users get one CRED coin per rupee of bill paid, which can be used to avail rewards from brands like Ixigo, BookMyShow, UberEats, Cult.Fit and more.', 'The match witnessed India getting all out for 92, their seventh lowest total in ODI cricket history.', 'Also, customers have options to insure against Critical Illnesses, Disability and Accidental Death Benefit Rider with a life cover up to the age of 80 years.', 'Speaking about the sexual harassment allegations against Rajkumar Hirani, Sonam Kapoor said, \"I\\'ve known Hirani for many years...What if it\\'s not true, the [#MeToo] movement will get derailed.\" \"In the #MeToo movement, I always believe a woman.', 'Pakistani singer Rahat Fateh Ali Khan has denied receiving any notice from the Enforcement Directorate over allegedly smuggling foreign currency out of India.', \"India's previous lowest ODI total in New Zealand was 108.\", 'Weeks after ex-CBI Director Alok Verma told the Department of Personnel and Training to consider him retired, the Home Ministry asked him to join work on the last day of his fixed tenure as Director on Thursday.', 'Andhra Pradesh CM N Chandrababu Naidu has said, \"When I met then US President Bill Clinton, I addressed him as Mr Clinton, not as \\'sir\\'.', \"Congress candidate Shafia Zubair won the Ramgarh Assembly seat in Rajasthan, by defeating BJP's Sukhwant Singh with a margin of 12,228 votes in the bypoll.\"]\n"
     ]
    }
   ],
   "source": [
    "# 리스트에 요약문 담아내기\n",
    "# 문장길이의 0.5로 요약\n",
    "\n",
    "headlines = []\n",
    "for i in range(len(text)) :\n",
    "    headlines.append(summarize(text[i], ratio=0.5))\n",
    "\n",
    "print(headlines[:10])"
   ]
  },
  {
   "cell_type": "code",
   "execution_count": 54,
   "id": "competent-cooperative",
   "metadata": {},
   "outputs": [
    {
     "name": "stdout",
     "output_type": "stream",
     "text": [
      "원문 : Two minor cousins in Uttar Pradesh's Gorakhpur were allegedly repeatedly burnt with tongs and forced to eat human excreta by their family for being friends with two boys from the same school. The cousins revealed their ordeal to the police and Child Welfare Committee after being brought back to Gorakhpur from Nepal, where they had fled to escape the torture.\n",
      "실제 요약 : UP cousins fed human excreta for friendship with boys\n",
      "예측 요약 : Two minor cousins in Uttar Pradesh's Gorakhpur were allegedly repeatedly burnt with tongs and forced to eat human excreta by their family for being friends with two boys from the same school.\n",
      "\n",
      "\n",
      "원문 : Isha Ghosh, an 81-year-old member of Bharat Scouts and Guides (BSG), has been imparting physical and mental training to schoolchildren in Jharkhand for several decades. Chaibasa-based Ghosh reportedly walks seven kilometres daily and spends eight hours conducting physical training, apart from climbing and yoga sessions. She says, \"One should do something for society till one's last breath.\"\n",
      "실제 요약 : 81-yr-old woman conducts physical training in J'khand schools\n",
      "예측 요약 : Isha Ghosh, an 81-year-old member of Bharat Scouts and Guides (BSG), has been imparting physical and mental training to schoolchildren in Jharkhand for several decades.\n",
      "\n",
      "\n",
      "원문 : Urging saints and seers at the Kumbh Mela to quit smoking, Yoga guru Ramdev said, \"We follow Ram and Krishna who never smoked in their life then why should we?\" Making them take a pledge to quit tobacco, he collected chillum (clay pipe) from several sadhus. He said he will deposit the chillums for display at a museum he'll build.\n",
      "실제 요약 : Ram, Krishna didn't smoke, why should we: Ramdev to sadhus at Kumbh\n",
      "예측 요약 : Urging saints and seers at the Kumbh Mela to quit smoking, Yoga guru Ramdev said, \"We follow Ram and Krishna who never smoked in their life then why should we?\" Making them take a pledge to quit tobacco, he collected chillum (clay pipe) from several sadhus.\n",
      "\n",
      "\n",
      "원문 : Former stripper and regional sales director of a pharmaceutical company, Sunrise Lee, gave a doctor a lap dance in a nightclub to persuade him to prescribe an addictive fentanyl spray in 2012, the company's sales representative told a US court. She said she saw Lee \"sitting on [doctor's] lap, kind of bouncing around.\" Lee has been accused of bribing doctors.\n",
      "실제 요약 : Pharma exec gave doctor a lap dance to sell medicine in US: Witness\n",
      "예측 요약 : Former stripper and regional sales director of a pharmaceutical company, Sunrise Lee, gave a doctor a lap dance in a nightclub to persuade him to prescribe an addictive fentanyl spray in 2012, the company's sales representative told a US court.\n",
      "\n",
      "\n",
      "원문 : Reliance Industries' Chairman Mukesh Ambani's daughter Isha Ambani, who got married last month, said she only cried at her 'bidaai' because she felt peer pressure as everyone was crying, especially her parents. \"I was emotional too but everyone around me would cry all the time,\" she added. \"It was a very emotional affair for everyone in my family,\" said Isha.\n",
      "실제 요약 :  I only cried at my 'bidaai' as I felt peer pressure: Isha Ambani\n",
      "예측 요약 : \"It was a very emotional affair for everyone in my family,\" said Isha.\n",
      "\n",
      "\n",
      "원문 : Louis Vuitton owner LVMH, which makes high-end beverages like MoÃÂ«t & Chandon champagne and Hennessy cognac, said it's stockpiling four months' worth of wine and spirits in UK in preparation for Brexit. \"We're ready for worst case scenario if there are difficulties with deliveries,\" the French luxury giant said. The UK is scheduled to leave the EU on March 29.\n",
      "실제 요약 : Louis Vuitton owner to stockpile 4 months of wine, spirits in UK\n",
      "예측 요약 : Louis Vuitton owner LVMH, which makes high-end beverages like MoÃÂ«t & Chandon champagne and Hennessy cognac, said it's stockpiling four months' worth of wine and spirits in UK in preparation for Brexit.\n",
      "\n",
      "\n",
      "원문 : Filmmaker Karan Johar and actress Tabu turned showstoppers for Gaurav Gupta on the opening night of LakmÃÂ© Fashion Week Summer/ Resort 2019. While Johar wore a red sequinned jacket with black pants, Tabu walked the ramp in a grey embellished gown. The fashion show, which began on January 29, will continue till February 3.\n",
      "실제 요약 : Karan Johar, Tabu turn showstoppers on opening night of LFW\n",
      "예측 요약 : Filmmaker Karan Johar and actress Tabu turned showstoppers for Gaurav Gupta on the opening night of LakmÃÂ© Fashion Week Summer/ Resort 2019.\n",
      "\n",
      "\n",
      "원문 : In a jibe at Congress President Rahul Gandhi, PM Narendra Modi on Wednesday said those on \"bail will have to go to jail.\" PM Modi added, \"He is out on bail and his associates too are facing charges...I know they will be convicted one day.\" The PM claimed he'd waged a war on corruption because he's from a common household. \n",
      "실제 요약 : Those on bail will go to jail: PM Modi takes jibe at Rahul\n",
      "예측 요약 : \n",
      "\n",
      "\n",
      "원문 : Days after he threatened to step down from his post if Congress MLAs continue \"crossing the line,\" Karnataka Chief Minister HD Kumaraswamy accused them of taking potshots and asked, \"How many more days can I tolerate such stuff?\" Kumaraswamy, who made the statements after a Congress MLA demanded that Siddaramaiah be made CM again, said, \"Power is ephemeral.\"\n",
      "실제 요약 : How long can I tolerate Congress leaders' potshots: K'taka CM\n",
      "예측 요약 : \n",
      "\n",
      "\n",
      "원문 : Union Minister Dharmendra Pradhan on Wednesday claimed the illegal mining mafia in Odisha operates under the control of CM Naveen Patnaik and state Congress chief Niranjan Patnaik. He added, \"The time has come for the people of Odisha to put a full stop to their activities...The time has come for us to ask for an explanation from this corrupt government.\"\n",
      "실제 요약 : Odisha CM Patnaik controls mining mafia: Union Minister\n",
      "예측 요약 : Union Minister Dharmendra Pradhan on Wednesday claimed the illegal mining mafia in Odisha operates under the control of CM Naveen Patnaik and state Congress chief Niranjan Patnaik.\n",
      "\n",
      "\n",
      "원문 : Claiming there is a dearth of ideas among opposition parties, Prime Minister Narendra Modi on Wednesday said, \"The opposition talks only about Modi the whole day, I suspect they even dream about me.\" PM Modi, who was addressing the New India Youth Conclave inÃ¢ÂÂ Surat, added that the opposition parties have only one agenda which is \"Modi\". \n",
      "실제 요약 : I think the opposition even dreams about me: PM Modi\n",
      "예측 요약 : \n",
      "\n",
      "\n",
      "원문 : The Indian Space Research Organisation on Wednesday unveiled Human Space Flight Centre in Bengaluru for its Ã¢ÂÂ¹10,000-crore manned space mission 'Gaganyaan' scheduled for 2021. ISRO said the centre will be responsible for development of engineering systems for crew survival in space and crew selection and training. It'll also pursue activities for sustained human space flight missions, ISRO added.\n",
      "실제 요약 : ISRO unveils Bengaluru centre for manned space mission \n",
      "예측 요약 : It'll also pursue activities for sustained human space flight missions, ISRO added.\n",
      "\n",
      "\n",
      "원문 : At least 12 people have been killed and 170 others have been injured in Saudi Arabia this week due to flooding from heavy rain. The emergency services rescued 271 people from the flooded areas, more than half of them in Tabuk. Heavy rains hit mainly western and northwestern parts of Saudi Arabia, near its border with Jordan.\n",
      "실제 요약 : 12 killed, 170 injured in Saudi Arabia floods\n",
      "예측 요약 : At least 12 people have been killed and 170 others have been injured in Saudi Arabia this week due to flooding from heavy rain.\n",
      "\n",
      "\n",
      "원문 : Reliance Industries' Chairman Mukesh Ambani's daughter Isha Ambani has featured on the cover of the February edition of Vogue India. She's dressed in a white shirt dress and black ruffled skirt by Australian designer Toni Maticevski, while accessorising her look with a Misho ring. In the cover story on her, Isha has spoken about her work and life after marriage.\n",
      " \n",
      "실제 요약 : Isha Ambani features on February cover of Vogue magazine\n",
      "예측 요약 : Reliance Industries' Chairman Mukesh Ambani's daughter Isha Ambani has featured on the cover of the February edition of Vogue India.\n",
      "\n",
      "\n",
      "원문 : Indian Oil Corporation on Wednesday said it's looking for an annual deal to buy US crude as it seeks to broaden oil purchasing options. This comes amid uncertainties over Iran imports. The US had in November granted a six-month waiver to India from sanctions against Iran and restricted the country's monthly intake of Iranian oil to 3,00,000 barrels per day.\n",
      "\n",
      "\n",
      "실제 요약 : Indian Oil looking for annual deal to buy crude from US\n",
      "예측 요약 : The US had in November granted a six-month waiver to India from sanctions against Iran and restricted the country's monthly intake of Iranian oil to 3,00,000 barrels per day.\n",
      "\n",
      "\n",
      "원문 : Former Windies fast bowler Curtly Ambrose dismissed seven Australian batsmen within a span of 32 balls giving away just one run, in a Test match on January 30, 1993. Ambrose's spell helped his team bowl out Australia for 119 in the first innings, after being 85 for 2 at one point. Ambrose ended with first-innings figures of 18-9-25-7.\n",
      "실제 요약 : Pacer once took 7 wickets for just 1 run in 32 balls in a Test\n",
      "예측 요약 : Ambrose ended with first-innings figures of 18-9-25-7.\n",
      "\n",
      "\n",
      "원문 : A London zoo is offering people to name a cockroach after their exes on Valentine's Day for ÃÂ£1.50 (nearly Ã¢ÂÂ¹140). \"For those that don't quite require revenge, there's another way to make you feel better about getting back at your ex,\" the zoo said in a statement. The names will appear on zoo's 'roach board' on February 14. \n",
      "실제 요약 : UK zoo offers people to name cockroach after their ex on Valentine's\n",
      "예측 요약 : The names will appear on zoo's 'roach board' on February 14.\n",
      "\n",
      "\n",
      "원문 : Stand-in captain Rohit Sharma has become the 14th Indian cricketer to play 200 ODIs, achieving the feat after taking the field against New Zealand in fourth ODI at Hamilton on Thursday. The 31-year-old had made his ODI debut on June 23, 2007, against Ireland in Belfast. Rohit scored 7,799 runs in his first 199 ODIs at an average of 48.14.\n",
      "실제 요약 : Rohit Sharma becomes 14th Indian cricketer to play 200 ODIs\n",
      "예측 요약 : Rohit scored 7,799 runs in his first 199 ODIs at an average of 48.14.\n",
      "\n",
      "\n",
      "원문 : Batsman Shubman Gill has become the 227th cricketer to represent India in ODI cricket, achieving the feat against New Zealand in the fourth ODI at Hamilton on Thursday. The 19-year-old received his maiden ODI cap from former captain MS Dhoni. Notably, Shubman was named Player of the Under-19 World Cup in New Zealand last year.\n",
      "실제 요약 : 19-year-old Shubman Gill becomes India's 227th ODI cricketer\n",
      "예측 요약 : Notably, Shubman was named Player of the Under-19 World Cup in New Zealand last year.\n",
      "\n",
      "\n",
      "원문 : Investigators searching for a lost plane carrying Argentine forward Emiliano Sala found two seat cushions on French coast that \"likely\" belonged to the aircraft. The investigators said they'll now launch an underwater seabed search for aircraft wreckage. The Cardiff City footballer was travelling from France's Nantes to Wales' Cardiff when his plane disappeared over English Channel on January 21.\n",
      "실제 요약 : 2 seat cushions from 'missing plane carrying footballer' found\n",
      "예측 요약 : Investigators searching for a lost plane carrying Argentine forward Emiliano Sala found two seat cushions on French coast that \"likely\" belonged to the aircraft.\n",
      "\n",
      "\n",
      "원문 : Italian third division football side Lucchese's head coach Giancarlo Favarin has been banned for five months for headbutting Alessandria's assistant coach Gaetano Mancino during a brawl following the teams' 2-2 draw on Sunday. Mancino was caught off-balance and knocked to the ground after the headbutt. Earlier in the match, Favarin had told his own player to break an opponent's legs.\n",
      "실제 요약 : Italian coach knocks rival down with headbutt, banned for 5 months\n",
      "예측 요약 : Italian third division football side Lucchese's head coach Giancarlo Favarin has been banned for five months for headbutting Alessandria's assistant coach Gaetano Mancino during a brawl following the teams' 2-2 draw on Sunday.\n",
      "\n",
      "\n",
      "원문 : Cyclists taking part in National Track Cycling Championship in Jaipur opted to sleep on the floor inside the stadium instead of hotels over expensive cycles. The organisers had booked hotels but they didn't have the provision for cyclists to keep their bikes inside. A national gold medallist said their cycles cost between Ã¢ÂÂ¹5-9 lakh and once damaged, they become non-repairable. \n",
      "실제 요약 : Cyclists sleep on stadium floor instead of hotel over costly cycles\n",
      "예측 요약 : Cyclists taking part in National Track Cycling Championship in Jaipur opted to sleep on the floor inside the stadium instead of hotels over expensive cycles.\n",
      "\n",
      "\n",
      "원문 : Silvia Grecco, a 56-year-old Brazilian mother narrates her local football team Palmeiras' matches live to her 12-year-old blind and autistic son Nickollas from the stands. \"I describe details: this player is wearing short sleeves...colour of...football boots, hair colour...Everything I see and feel, I tell him, even when I need to curse the referee!\" Grecco said after a recent match.\n",
      "실제 요약 : Brazilian mother narrates football matches to blind son from stands\n",
      "예측 요약 : Silvia Grecco, a 56-year-old Brazilian mother narrates her local football team Palmeiras' matches live to her 12-year-old blind and autistic son Nickollas from the stands.\n",
      "\n",
      "\n",
      "원문 : A TechCrunch report has claimed that IndiaÃ¢ÂÂs largest bank SBI secured a passwordless server \"overnight\" on being alerted it allowed anyone to access phone numbers, bank balances, and transactions of millions of its customers. The Mumbai-based server was containing two months of data from SBI Quick, an SMS and call-based system used to request basic information about accounts, TechCrunch revealed.\n",
      "실제 요약 : SBI left account data of millions of users unprotected: Report\n",
      "예측 요약 : A TechCrunch report has claimed that IndiaÃ¢ÂÂs largest bank SBI secured a passwordless server \"overnight\" on being alerted it allowed anyone to access phone numbers, bank balances, and transactions of millions of its customers.\n",
      "\n",
      "\n",
      "원문 : Rahul Gandhi has replied to Goa CM Manohar Parrikar's letter, which accused the Congress President of using his \"visit to an ailing man for political gains\". \"He's under immense pressure from the PM after our meeting and needs to demonstrate his loyalty by attacking me,\" Gandhi wrote in his letter. Parrikar had clarified he didn't discuss Rafale deal with Rahul.\n",
      "실제 요약 : CM Parrikar under pressure from PM after our Goa meet: Rahul\n",
      "예측 요약 : Rahul Gandhi has replied to Goa CM Manohar Parrikar's letter, which accused the Congress President of using his \"visit to an ailing man for political gains\".\n",
      "\n",
      "\n",
      "원문 : Twenty-seven-year-old Mohammed Mahuwala was arrested in Indore on Wednesday for allegedly cheating e-commerce giant Amazon of nearly Ã¢ÂÂ¹30 lakh. Mahuwala was a member of a gang who ordered costly gadgets from Amazon. \"[They] used to get refund of the amount paid...by saying the parcel...was empty. In reality, these devices were taken out from parcel and sold...to local shopkeepers,\" said police.\n",
      "실제 요약 : Man arrested for cheating Amazon of Ã¢ÂÂ¹30 lakh by taking refunds\n",
      "예측 요약 : Twenty-seven-year-old Mohammed Mahuwala was arrested in Indore on Wednesday for allegedly cheating e-commerce giant Amazon of nearly Ã¢ÂÂ¹30 lakh.\n",
      "Mahuwala was a member of a gang who ordered costly gadgets from Amazon.\n",
      "\n",
      "\n",
      "원문 : AgustaWestland chopper scam co-accused Rajiv Saxena was extradited to India from UAE on Wednesday. He had been evading the Enforcement Directorate's summons claiming he was suffering from leukaemia but had moved an anti-money laundering court for anticipatory bail in December, stating he had never been summoned at his Dubai address. Saxena's lawyers alleged he had been \"illegally extradited\". \n",
      "실제 요약 : AgustaWestland scam accused Rajiv Saxena extradited to India\n",
      "예측 요약 : AgustaWestland chopper scam co-accused Rajiv Saxena was extradited to India from UAE on Wednesday.\n",
      "\n",
      "\n",
      "원문 : Afghan President Ashraf Ghani has said the \"keys to war\" are in Pakistan's Islamabad, Quetta and Rawalpindi, accusing the country of providing safe havens to militants, including those belonging to the Taliban. Ghani added the \"key to peace was in Afghanistan\". His comments came amid the talks between the US and the Taliban to end the 17-year war in Afghanistan.\n",
      "실제 요약 : Pakistan holds 'keys to war': Afghanistan\n",
      "예측 요약 : Afghan President Ashraf Ghani has said the \"keys to war\" are in Pakistan's Islamabad, Quetta and Rawalpindi, accusing the country of providing safe havens to militants, including those belonging to the Taliban.\n",
      "\n",
      "\n",
      "원문 : A Singapore-based insurance agent has been jailed for two years and five months for threatening to harm his clients unless they paid him in bitcoins. The 36-year-old set up an email account, and signed the messages as 'Lord Voldemort', a fictional character from the Harry Potter series. Ye Lin Myint targeted about 33 people, including those who cancelled insurance policies.\n",
      "실제 요약 : Insurance agent 'Lord Voldemort' jailed for threatening clients\n",
      "예측 요약 : A Singapore-based insurance agent has been jailed for two years and five months for threatening to harm his clients unless they paid him in bitcoins.\n",
      "\n",
      "\n",
      "원문 : Gabrielle Reilly, a 22-year-old US woman, created earrings for her Apple AirPods and put it up for sale online for $20 (about Ã¢ÂÂ¹1,500). \"I absolutely refuse to lose them (AirPods)...So I made earrings,\" she explained. The earrings, which took her over an hour to make, debuted in a video on Twitter that has since garnered over three million views.\n",
      "실제 요약 : Woman turns Apple AirPods into earrings to avoid losing them\n",
      "예측 요약 : \"I absolutely refuse to lose them (AirPods)...So I made earrings,\" she explained.\n",
      "\n",
      "\n",
      "원문 : Ex-ICICI Bank CEO Chanda Kochhar said she's \"utterly disappointed, hurt and shocked\" by the bank's decision to terminate her. Kochhar said she served ICICI for 34 years with utmost honesty and integrity and that ultimately truth will prevail. Adding that she hasn't been given a copy of the independent probe report, Kochhar said none of ICICI's credit decisions are unilateral\n",
      "실제 요약 : Shocked, hurt by ICICI's decision, truth will prevail: Kochhar\n",
      "예측 요약 : Adding that she hasn't been given a copy of the independent probe report, Kochhar said none of ICICI's credit decisions are unilateral\n",
      "\n",
      "\n",
      "원문 : Swedish multinational fast-fashion brand Hennes & Mauritz AB (H&M) has hired Christopher Wylie, the whistleblower who exposed Facebook's Cambridge Analytica data scandal. WylieÃ¢ÂÂs focus will be to help get better insights on customers, products and markets and support work on sustainable and ethical artificial intelligence, H&M spokesperson said. Wylie is a former employee of Cambridge Analytica.\n",
      "실제 요약 : Fashion brand H&M hires Facebook data scandal whistleblower\n",
      "예측 요약 : Swedish multinational fast-fashion brand Hennes & Mauritz AB (H&M) has hired Christopher Wylie, the whistleblower who exposed Facebook's Cambridge Analytica data scandal.\n",
      "\n",
      "\n",
      "원문 : Micro-blogging platform Twitter is testing a new feature on Android to put news on the top of a user's timeline. \"With this update, weÃ¢ÂÂre making it easier for people to see news and stories their followers have been discussing,\" Product Manager Walter Gurzynski said. The feature comes alongside a prompt saying, \"Catch up on what's happened while you were away.\"\n",
      "실제 요약 : Twitter testing news-first timeline feature on Android\n",
      "예측 요약 : Micro-blogging platform Twitter is testing a new feature on Android to put news on the top of a user's timeline.\n",
      "\n",
      "\n",
      "원문 : Samsung has started mass producing its one terabyte 'embedded Universal Flash Storage (eUFS) 2.1' technology for \"use in next-generation mobile applications\", which it claims is the industry's first such eUFS. The company added the new eUFS will let smartphones store 260 10-minute videos shot in 4K UHD format. It'll be sized the same as the previous 512GB version, Samsung said.\n",
      "실제 요약 : Samsung builds world's first 1TB storage chip for smartphones \n",
      "예측 요약 : Samsung has started mass producing its one terabyte 'embedded Universal Flash Storage (eUFS) 2.1' technology for \"use in next-generation mobile applications\", which it claims is the industry's first such eUFS.\n",
      "\n",
      "\n",
      "원문 : Prime Minister Narendra Modi on Wednesday said the people with 'negative mindset' are questioning him and his government for floating pro-poor schemes. He added negative mindset people are raising doubts about schemes such as building toilets and providing free gas connections to the poor. He further said that negative mentality laced with a vested interest still exists in the country.\n",
      "실제 요약 : People with 'negative mindset' quizzing pro-poor schemes: PM\n",
      "예측 요약 : Prime Minister Narendra Modi on Wednesday said the people with 'negative mindset' are questioning him and his government for floating pro-poor schemes.\n",
      "\n",
      "\n",
      "원문 : Union Minister Anantkumar Hegde took a dig at Congress President Rahul Gandhi by calling him a \"hybrid specimen\" who has no clue about religion. \"A father who's...Muslim, a mother who's...Christian and the son is supposed to be...Brahmin. How is that even possible?\" he said. He added such \"hybrid specimen\" cannot be found in any laboratory in the world.\n",
      "실제 요약 : Rahul is hybrid specimen, has no clue about religion: Hegde\n",
      "예측 요약 : Union Minister Anantkumar Hegde took a dig at Congress President Rahul Gandhi by calling him a \"hybrid specimen\" who has no clue about religion.\n",
      "He added such \"hybrid specimen\" cannot be found in any laboratory in the world.\n",
      "\n",
      "\n",
      "원문 : Several parts of the US are set to experience record low temperatures as the polar vortex hit the Upper Midwest, with more than 200 million people expected to experience below-freezing temperatures this week. Temperatures throughout the Upper Midwest are expected to be at least 20-40Ã¢ÂÂ below zero. Government offices and schools have been closed in several areas.\n",
      "실제 요약 : Extreme cold to affect 200 million people as polar vortex hits US\n",
      "예측 요약 : Several parts of the US are set to experience record low temperatures as the polar vortex hit the Upper Midwest, with more than 200 million people expected to experience below-freezing temperatures this week.\n",
      "\n",
      "\n",
      "원문 : The police on Wednesday registered cases against 13 persons, including a woman leader of Hindu Mahasabha, in Aligarh for firing at an effigy of Mahatma Gandhi with an air pistol. \"The incident took place in a house in Naurangabad locality of the city,\" Senior Superintendent of Police said. The video of the event went viral on social media, he added.\n",
      "실제 요약 : 13 booked for firing air shots at Mahatma Gandhi's effigy\n",
      "예측 요약 : The police on Wednesday registered cases against 13 persons, including a woman leader of Hindu Mahasabha, in Aligarh for firing at an effigy of Mahatma Gandhi with an air pistol.\n",
      "\n",
      "\n",
      "원문 : Railway police has rescued a woman travelling on a train in Chennai who got her leg stuck inside the commode of a toilet. After being caught inside the commode hole, she struggled to remove her leg and following failed attempts, she shouted for help, reports said. Railway police used a cutter to pry open the commode and freed her leg.\n",
      "실제 요약 : Railway police rescues woman with leg stuck in train toilet\n",
      "예측 요약 : Railway police has rescued a woman travelling on a train in Chennai who got her leg stuck inside the commode of a toilet.\n",
      "\n",
      "\n",
      "원문 : The US on Tuesday began returning asylum seekers to Mexico, sending back a migrant from a Central American nation and called the move a \"response to the illegal migration crisis\" faced by it. Under its Migrant Protection Protocols policy, the US will return certain migrants who cross into the country illegally back to Mexico while their asylum requests are processed.\n",
      "실제 요약 : US begins sending back asylum seekers to Mexico\n",
      "예측 요약 : The US on Tuesday began returning asylum seekers to Mexico, sending back a migrant from a Central American nation and called the move a \"response to the illegal migration crisis\" faced by it.\n",
      "\n",
      "\n"
     ]
    }
   ],
   "source": [
    "#원문과 비교해보기\n",
    "\n",
    "\n",
    "for i in range(10, 50):\n",
    "    print(\"원문 :\", text[i])\n",
    "    print(\"실제 요약 :\", newshead[i])\n",
    "    print(\"예측 요약 :\", headlines[i])\n",
    "    print(\"\\n\")"
   ]
  },
  {
   "cell_type": "markdown",
   "id": "great-cloud",
   "metadata": {},
   "source": [
    "적당히 나온것 같다"
   ]
  },
  {
   "cell_type": "markdown",
   "id": "reasonable-description",
   "metadata": {},
   "source": [
    "# 느낀점\n",
    "프로젝트 진행 자체는 비교적 원활하게 진행되었으나 전체 개념을 이해하는데 어려움을 겪었다.\n",
    "요약결과물이 잘 나온건지는 영어울렁증으로 인해 직접 비교해보지 못하여 그저 비슷한 단어가 있는것으로 보아 대충 어느정도 나왔구나 하고 있다.\n",
    "\n",
    "갈수록 프로젝트에서 제시하는 코드는 직관적이지만 거기에 적용되는 개념이 심화되어 학습에 어려움이 있다. 조금 더 개념이해에 투자하는 시간을 늘릴필요가 있어보인다."
   ]
  }
 ],
 "metadata": {
  "kernelspec": {
   "display_name": "aiffel",
   "language": "python",
   "name": "aiffel"
  },
  "language_info": {
   "codemirror_mode": {
    "name": "ipython",
    "version": 3
   },
   "file_extension": ".py",
   "mimetype": "text/x-python",
   "name": "python",
   "nbconvert_exporter": "python",
   "pygments_lexer": "ipython3",
   "version": "3.7.9"
  }
 },
 "nbformat": 4,
 "nbformat_minor": 5
}
